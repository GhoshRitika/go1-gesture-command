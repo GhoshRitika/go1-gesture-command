{
  "cells": [
    {
      "cell_type": "code",
      "execution_count": 112,
      "metadata": {
        "id": "igMyGnjE9hEp"
      },
      "outputs": [],
      "source": [
        "import csv\n",
        "\n",
        "import numpy as np\n",
        "import tensorflow as tf\n",
        "from sklearn.model_selection import train_test_split\n",
        "\n",
        "RANDOM_SEED = 42"
      ]
    },
    {
      "cell_type": "markdown",
      "metadata": {
        "id": "t2HDvhIu9hEr"
      },
      "source": [
        "# Specify each path"
      ]
    },
    {
      "cell_type": "code",
      "execution_count": 113,
      "metadata": {
        "id": "9NvZP2Zn9hEy"
      },
      "outputs": [],
      "source": [
        "dataset = 'model/keypoint_classifier/keypoint.csv'\n",
        "model_save_path = 'model/keypoint_classifier/keypoint_classifier.hdf5'\n",
        "tflite_save_path = 'model/keypoint_classifier/keypoint_classifier.tflite'"
      ]
    },
    {
      "cell_type": "markdown",
      "metadata": {
        "id": "s5oMH7x19hEz"
      },
      "source": [
        "# Set number of classes"
      ]
    },
    {
      "cell_type": "code",
      "execution_count": 114,
      "metadata": {
        "id": "du4kodXL9hEz"
      },
      "outputs": [],
      "source": [
        "NUM_CLASSES = 7"
      ]
    },
    {
      "cell_type": "markdown",
      "metadata": {
        "id": "XjnL0uso9hEz"
      },
      "source": [
        "# Dataset reading"
      ]
    },
    {
      "cell_type": "code",
      "execution_count": 115,
      "metadata": {
        "id": "QT5ZqtEz9hE0"
      },
      "outputs": [],
      "source": [
        "X_dataset = np.loadtxt(dataset, delimiter=',', dtype='float32', usecols=list(range(1, (21 * 2) + 1)))"
      ]
    },
    {
      "cell_type": "code",
      "execution_count": 116,
      "metadata": {
        "id": "QmoKFsp49hE0"
      },
      "outputs": [],
      "source": [
        "y_dataset = np.loadtxt(dataset, delimiter=',', dtype='int32', usecols=(0))"
      ]
    },
    {
      "cell_type": "code",
      "execution_count": 117,
      "metadata": {
        "id": "xQU7JTZ_9hE0"
      },
      "outputs": [],
      "source": [
        "X_train, X_test, y_train, y_test = train_test_split(X_dataset, y_dataset, train_size=0.75, random_state=RANDOM_SEED)"
      ]
    },
    {
      "cell_type": "markdown",
      "metadata": {
        "id": "mxK_lETT9hE0"
      },
      "source": [
        "# Model building"
      ]
    },
    {
      "cell_type": "code",
      "execution_count": 118,
      "metadata": {
        "id": "vHBmUf1t9hE1"
      },
      "outputs": [],
      "source": [
        "model = tf.keras.models.Sequential([\n",
        "    tf.keras.layers.Input((21 * 2, )),\n",
        "    tf.keras.layers.Dropout(0.2),\n",
        "    tf.keras.layers.Dense(20, activation='relu'),\n",
        "    tf.keras.layers.Dropout(0.4),\n",
        "    tf.keras.layers.Dense(10, activation='relu'),\n",
        "    tf.keras.layers.Dense(NUM_CLASSES, activation='softmax')\n",
        "])"
      ]
    },
    {
      "cell_type": "code",
      "execution_count": 119,
      "metadata": {
        "colab": {
          "base_uri": "https://localhost:8080/"
        },
        "id": "ypqky9tc9hE1",
        "outputId": "5db082bb-30e3-4110-bf63-a1ee777ecd46"
      },
      "outputs": [
        {
          "name": "stdout",
          "output_type": "stream",
          "text": [
            "Model: \"sequential_5\"\n",
            "_________________________________________________________________\n",
            " Layer (type)                Output Shape              Param #   \n",
            "=================================================================\n",
            " dropout_10 (Dropout)        (None, 42)                0         \n",
            "                                                                 \n",
            " dense_15 (Dense)            (None, 20)                860       \n",
            "                                                                 \n",
            " dropout_11 (Dropout)        (None, 20)                0         \n",
            "                                                                 \n",
            " dense_16 (Dense)            (None, 10)                210       \n",
            "                                                                 \n",
            " dense_17 (Dense)            (None, 7)                 77        \n",
            "                                                                 \n",
            "=================================================================\n",
            "Total params: 1,147\n",
            "Trainable params: 1,147\n",
            "Non-trainable params: 0\n",
            "_________________________________________________________________\n"
          ]
        }
      ],
      "source": [
        "model.summary()  # tf.keras.utils.plot_model(model, show_shapes=True)"
      ]
    },
    {
      "cell_type": "code",
      "execution_count": 120,
      "metadata": {
        "id": "MbMjOflQ9hE1"
      },
      "outputs": [],
      "source": [
        "# Model checkpoint callback\n",
        "cp_callback = tf.keras.callbacks.ModelCheckpoint(\n",
        "    model_save_path, verbose=1, save_weights_only=False)\n",
        "# Callback for early stopping\n",
        "es_callback = tf.keras.callbacks.EarlyStopping(patience=20, verbose=1)"
      ]
    },
    {
      "cell_type": "code",
      "execution_count": 121,
      "metadata": {
        "id": "c3Dac0M_9hE2"
      },
      "outputs": [],
      "source": [
        "# Model compilation\n",
        "model.compile(\n",
        "    optimizer='adam',\n",
        "    loss='sparse_categorical_crossentropy',\n",
        "    metrics=['accuracy']\n",
        ")"
      ]
    },
    {
      "cell_type": "markdown",
      "metadata": {
        "id": "7XI0j1Iu9hE2"
      },
      "source": [
        "# Model training"
      ]
    },
    {
      "cell_type": "code",
      "execution_count": 122,
      "metadata": {
        "colab": {
          "base_uri": "https://localhost:8080/"
        },
        "id": "WirBl-JE9hE3",
        "outputId": "71b30ca2-8294-4d9d-8aa2-800d90d399de",
        "scrolled": true
      },
      "outputs": [
        {
          "name": "stdout",
          "output_type": "stream",
          "text": [
            "Epoch 1/1000\n",
            " 1/40 [..............................] - ETA: 13s - loss: 2.0505 - accuracy: 0.0938\n",
            "Epoch 1: saving model to model/keypoint_classifier/keypoint_classifier.hdf5\n",
            "40/40 [==============================] - 0s 4ms/step - loss: 1.9635 - accuracy: 0.1637 - val_loss: 1.9046 - val_accuracy: 0.2642\n",
            "Epoch 2/1000\n",
            " 1/40 [..............................] - ETA: 0s - loss: 1.9150 - accuracy: 0.1641\n",
            "Epoch 2: saving model to model/keypoint_classifier/keypoint_classifier.hdf5\n",
            "40/40 [==============================] - 0s 2ms/step - loss: 1.8921 - accuracy: 0.2404 - val_loss: 1.8445 - val_accuracy: 0.2653\n",
            "Epoch 3/1000\n",
            " 1/40 [..............................] - ETA: 0s - loss: 1.9148 - accuracy: 0.2344\n",
            "Epoch 3: saving model to model/keypoint_classifier/keypoint_classifier.hdf5\n",
            "40/40 [==============================] - 0s 2ms/step - loss: 1.8460 - accuracy: 0.2612 - val_loss: 1.7932 - val_accuracy: 0.2724\n",
            "Epoch 4/1000\n",
            " 1/40 [..............................] - ETA: 0s - loss: 1.8742 - accuracy: 0.2344\n",
            "Epoch 4: saving model to model/keypoint_classifier/keypoint_classifier.hdf5\n",
            "40/40 [==============================] - 0s 2ms/step - loss: 1.7955 - accuracy: 0.2946 - val_loss: 1.7221 - val_accuracy: 0.3485\n",
            "Epoch 5/1000\n",
            " 1/40 [..............................] - ETA: 0s - loss: 1.7956 - accuracy: 0.3359\n",
            "Epoch 5: saving model to model/keypoint_classifier/keypoint_classifier.hdf5\n",
            "40/40 [==============================] - 0s 2ms/step - loss: 1.7420 - accuracy: 0.3178 - val_loss: 1.6299 - val_accuracy: 0.3874\n",
            "Epoch 6/1000\n",
            " 1/40 [..............................] - ETA: 0s - loss: 1.8114 - accuracy: 0.2891\n",
            "Epoch 6: saving model to model/keypoint_classifier/keypoint_classifier.hdf5\n",
            "40/40 [==============================] - 0s 2ms/step - loss: 1.6743 - accuracy: 0.3520 - val_loss: 1.5179 - val_accuracy: 0.4057\n",
            "Epoch 7/1000\n",
            " 1/40 [..............................] - ETA: 0s - loss: 1.6020 - accuracy: 0.3750\n",
            "Epoch 7: saving model to model/keypoint_classifier/keypoint_classifier.hdf5\n",
            "40/40 [==============================] - 0s 2ms/step - loss: 1.5982 - accuracy: 0.3760 - val_loss: 1.4077 - val_accuracy: 0.4469\n",
            "Epoch 8/1000\n",
            " 1/40 [..............................] - ETA: 0s - loss: 1.5934 - accuracy: 0.3203\n",
            "Epoch 8: saving model to model/keypoint_classifier/keypoint_classifier.hdf5\n",
            "40/40 [==============================] - 0s 2ms/step - loss: 1.5394 - accuracy: 0.3927 - val_loss: 1.3384 - val_accuracy: 0.4617\n",
            "Epoch 9/1000\n",
            " 1/40 [..............................] - ETA: 0s - loss: 1.4688 - accuracy: 0.3984\n",
            "Epoch 9: saving model to model/keypoint_classifier/keypoint_classifier.hdf5\n",
            "40/40 [==============================] - 0s 2ms/step - loss: 1.4882 - accuracy: 0.3980 - val_loss: 1.2673 - val_accuracy: 0.4971\n",
            "Epoch 10/1000\n",
            " 1/40 [..............................] - ETA: 0s - loss: 1.5672 - accuracy: 0.3516\n",
            "Epoch 10: saving model to model/keypoint_classifier/keypoint_classifier.hdf5\n",
            "40/40 [==============================] - 0s 2ms/step - loss: 1.4581 - accuracy: 0.4222 - val_loss: 1.2190 - val_accuracy: 0.5059\n",
            "Epoch 11/1000\n",
            " 1/40 [..............................] - ETA: 0s - loss: 1.4762 - accuracy: 0.3984\n",
            "Epoch 11: saving model to model/keypoint_classifier/keypoint_classifier.hdf5\n",
            "40/40 [==============================] - 0s 2ms/step - loss: 1.4394 - accuracy: 0.4235 - val_loss: 1.1832 - val_accuracy: 0.5619\n",
            "Epoch 12/1000\n",
            " 1/40 [..............................] - ETA: 0s - loss: 1.3536 - accuracy: 0.4688\n",
            "Epoch 12: saving model to model/keypoint_classifier/keypoint_classifier.hdf5\n",
            "40/40 [==============================] - 0s 2ms/step - loss: 1.3823 - accuracy: 0.4452 - val_loss: 1.1379 - val_accuracy: 0.5501\n",
            "Epoch 13/1000\n",
            " 1/40 [..............................] - ETA: 0s - loss: 1.4256 - accuracy: 0.3672\n",
            "Epoch 13: saving model to model/keypoint_classifier/keypoint_classifier.hdf5\n",
            "40/40 [==============================] - 0s 2ms/step - loss: 1.3620 - accuracy: 0.4469 - val_loss: 1.1078 - val_accuracy: 0.6085\n",
            "Epoch 14/1000\n",
            " 1/40 [..............................] - ETA: 0s - loss: 1.4112 - accuracy: 0.3672\n",
            "Epoch 14: saving model to model/keypoint_classifier/keypoint_classifier.hdf5\n",
            "40/40 [==============================] - 0s 2ms/step - loss: 1.3465 - accuracy: 0.4575 - val_loss: 1.0867 - val_accuracy: 0.6085\n",
            "Epoch 15/1000\n",
            " 1/40 [..............................] - ETA: 0s - loss: 1.2753 - accuracy: 0.5156\n",
            "Epoch 15: saving model to model/keypoint_classifier/keypoint_classifier.hdf5\n",
            "40/40 [==============================] - 0s 2ms/step - loss: 1.3192 - accuracy: 0.4593 - val_loss: 1.0584 - val_accuracy: 0.6138\n",
            "Epoch 16/1000\n",
            " 1/40 [..............................] - ETA: 0s - loss: 1.3756 - accuracy: 0.4375\n",
            "Epoch 16: saving model to model/keypoint_classifier/keypoint_classifier.hdf5\n",
            "40/40 [==============================] - 0s 2ms/step - loss: 1.2987 - accuracy: 0.4711 - val_loss: 1.0249 - val_accuracy: 0.6209\n",
            "Epoch 17/1000\n",
            " 1/40 [..............................] - ETA: 0s - loss: 1.1951 - accuracy: 0.5156\n",
            "Epoch 17: saving model to model/keypoint_classifier/keypoint_classifier.hdf5\n",
            "40/40 [==============================] - 0s 2ms/step - loss: 1.3045 - accuracy: 0.4768 - val_loss: 1.0349 - val_accuracy: 0.6362\n",
            "Epoch 18/1000\n",
            " 1/40 [..............................] - ETA: 0s - loss: 1.2521 - accuracy: 0.5078\n",
            "Epoch 18: saving model to model/keypoint_classifier/keypoint_classifier.hdf5\n",
            "40/40 [==============================] - 0s 2ms/step - loss: 1.2667 - accuracy: 0.4849 - val_loss: 0.9938 - val_accuracy: 0.6256\n",
            "Epoch 19/1000\n",
            " 1/40 [..............................] - ETA: 0s - loss: 1.3265 - accuracy: 0.4531\n",
            "Epoch 19: saving model to model/keypoint_classifier/keypoint_classifier.hdf5\n",
            "40/40 [==============================] - 0s 2ms/step - loss: 1.2670 - accuracy: 0.4796 - val_loss: 0.9865 - val_accuracy: 0.6397\n",
            "Epoch 20/1000\n",
            " 1/40 [..............................] - ETA: 0s - loss: 1.4562 - accuracy: 0.4219\n",
            "Epoch 20: saving model to model/keypoint_classifier/keypoint_classifier.hdf5\n",
            "40/40 [==============================] - 0s 2ms/step - loss: 1.2621 - accuracy: 0.4801 - val_loss: 0.9894 - val_accuracy: 0.6238\n",
            "Epoch 21/1000\n",
            " 1/40 [..............................] - ETA: 0s - loss: 1.0821 - accuracy: 0.5312\n",
            "Epoch 21: saving model to model/keypoint_classifier/keypoint_classifier.hdf5\n",
            "40/40 [==============================] - 0s 2ms/step - loss: 1.2375 - accuracy: 0.4984 - val_loss: 0.9645 - val_accuracy: 0.6545\n",
            "Epoch 22/1000\n",
            " 1/40 [..............................] - ETA: 0s - loss: 1.2104 - accuracy: 0.4844\n",
            "Epoch 22: saving model to model/keypoint_classifier/keypoint_classifier.hdf5\n",
            "40/40 [==============================] - 0s 2ms/step - loss: 1.2395 - accuracy: 0.4935 - val_loss: 0.9634 - val_accuracy: 0.6822\n",
            "Epoch 23/1000\n",
            " 1/40 [..............................] - ETA: 0s - loss: 1.1904 - accuracy: 0.5312\n",
            "Epoch 23: saving model to model/keypoint_classifier/keypoint_classifier.hdf5\n",
            "40/40 [==============================] - 0s 2ms/step - loss: 1.2153 - accuracy: 0.5081 - val_loss: 0.9315 - val_accuracy: 0.6904\n",
            "Epoch 24/1000\n",
            " 1/40 [..............................] - ETA: 0s - loss: 1.2503 - accuracy: 0.5312\n",
            "Epoch 24: saving model to model/keypoint_classifier/keypoint_classifier.hdf5\n",
            "40/40 [==============================] - 0s 2ms/step - loss: 1.2127 - accuracy: 0.5039 - val_loss: 0.9243 - val_accuracy: 0.7058\n",
            "Epoch 25/1000\n",
            " 1/40 [..............................] - ETA: 0s - loss: 1.1811 - accuracy: 0.4844\n",
            "Epoch 25: saving model to model/keypoint_classifier/keypoint_classifier.hdf5\n",
            "40/40 [==============================] - 0s 2ms/step - loss: 1.2011 - accuracy: 0.5142 - val_loss: 0.9095 - val_accuracy: 0.7087\n",
            "Epoch 26/1000\n",
            " 1/40 [..............................] - ETA: 0s - loss: 1.1701 - accuracy: 0.4922\n",
            "Epoch 26: saving model to model/keypoint_classifier/keypoint_classifier.hdf5\n",
            "40/40 [==============================] - 0s 2ms/step - loss: 1.1881 - accuracy: 0.5128 - val_loss: 0.8855 - val_accuracy: 0.7506\n",
            "Epoch 27/1000\n",
            " 1/40 [..............................] - ETA: 0s - loss: 1.3402 - accuracy: 0.4297\n",
            "Epoch 27: saving model to model/keypoint_classifier/keypoint_classifier.hdf5\n",
            "40/40 [==============================] - 0s 2ms/step - loss: 1.1734 - accuracy: 0.5293 - val_loss: 0.8692 - val_accuracy: 0.7577\n",
            "Epoch 28/1000\n",
            " 1/40 [..............................] - ETA: 0s - loss: 1.1210 - accuracy: 0.5078\n",
            "Epoch 28: saving model to model/keypoint_classifier/keypoint_classifier.hdf5\n",
            "40/40 [==============================] - 0s 2ms/step - loss: 1.1590 - accuracy: 0.5305 - val_loss: 0.8528 - val_accuracy: 0.7836\n",
            "Epoch 29/1000\n",
            " 1/40 [..............................] - ETA: 0s - loss: 1.0490 - accuracy: 0.5625\n",
            "Epoch 29: saving model to model/keypoint_classifier/keypoint_classifier.hdf5\n",
            "40/40 [==============================] - 0s 2ms/step - loss: 1.1407 - accuracy: 0.5421 - val_loss: 0.8288 - val_accuracy: 0.8190\n",
            "Epoch 30/1000\n",
            " 1/40 [..............................] - ETA: 0s - loss: 1.0606 - accuracy: 0.5625\n",
            "Epoch 30: saving model to model/keypoint_classifier/keypoint_classifier.hdf5\n",
            "40/40 [==============================] - 0s 2ms/step - loss: 1.1407 - accuracy: 0.5405 - val_loss: 0.8195 - val_accuracy: 0.8149\n",
            "Epoch 31/1000\n",
            " 1/40 [..............................] - ETA: 0s - loss: 1.0964 - accuracy: 0.5625\n",
            "Epoch 31: saving model to model/keypoint_classifier/keypoint_classifier.hdf5\n",
            "40/40 [==============================] - 0s 2ms/step - loss: 1.1341 - accuracy: 0.5462 - val_loss: 0.8192 - val_accuracy: 0.8219\n",
            "Epoch 32/1000\n",
            " 1/40 [..............................] - ETA: 0s - loss: 1.0951 - accuracy: 0.6016\n",
            "Epoch 32: saving model to model/keypoint_classifier/keypoint_classifier.hdf5\n",
            "40/40 [==============================] - 0s 2ms/step - loss: 1.1289 - accuracy: 0.5474 - val_loss: 0.8102 - val_accuracy: 0.8255\n",
            "Epoch 33/1000\n",
            " 1/40 [..............................] - ETA: 0s - loss: 1.0696 - accuracy: 0.6016\n",
            "Epoch 33: saving model to model/keypoint_classifier/keypoint_classifier.hdf5\n",
            "40/40 [==============================] - 0s 2ms/step - loss: 1.1123 - accuracy: 0.5446 - val_loss: 0.7907 - val_accuracy: 0.8119\n",
            "Epoch 34/1000\n",
            " 1/40 [..............................] - ETA: 0s - loss: 1.1582 - accuracy: 0.4453\n",
            "Epoch 34: saving model to model/keypoint_classifier/keypoint_classifier.hdf5\n",
            "40/40 [==============================] - 0s 2ms/step - loss: 1.0823 - accuracy: 0.5613 - val_loss: 0.7710 - val_accuracy: 0.8408\n",
            "Epoch 35/1000\n",
            " 1/40 [..............................] - ETA: 0s - loss: 1.1320 - accuracy: 0.5000\n",
            "Epoch 35: saving model to model/keypoint_classifier/keypoint_classifier.hdf5\n",
            "40/40 [==============================] - 0s 2ms/step - loss: 1.0875 - accuracy: 0.5621 - val_loss: 0.7848 - val_accuracy: 0.8255\n",
            "Epoch 36/1000\n",
            " 1/40 [..............................] - ETA: 0s - loss: 1.0473 - accuracy: 0.5469\n",
            "Epoch 36: saving model to model/keypoint_classifier/keypoint_classifier.hdf5\n",
            "40/40 [==============================] - 0s 2ms/step - loss: 1.0901 - accuracy: 0.5623 - val_loss: 0.7949 - val_accuracy: 0.8231\n",
            "Epoch 37/1000\n",
            " 1/40 [..............................] - ETA: 0s - loss: 1.0727 - accuracy: 0.6094\n",
            "Epoch 37: saving model to model/keypoint_classifier/keypoint_classifier.hdf5\n",
            "40/40 [==============================] - 0s 2ms/step - loss: 1.0736 - accuracy: 0.5656 - val_loss: 0.7640 - val_accuracy: 0.8096\n",
            "Epoch 38/1000\n",
            " 1/40 [..............................] - ETA: 0s - loss: 1.0687 - accuracy: 0.5469\n",
            "Epoch 38: saving model to model/keypoint_classifier/keypoint_classifier.hdf5\n",
            "40/40 [==============================] - 0s 2ms/step - loss: 1.0414 - accuracy: 0.5776 - val_loss: 0.7455 - val_accuracy: 0.8355\n",
            "Epoch 39/1000\n",
            " 1/40 [..............................] - ETA: 0s - loss: 1.0680 - accuracy: 0.5938\n",
            "Epoch 39: saving model to model/keypoint_classifier/keypoint_classifier.hdf5\n",
            "40/40 [==============================] - 0s 2ms/step - loss: 1.0428 - accuracy: 0.5869 - val_loss: 0.7428 - val_accuracy: 0.8243\n",
            "Epoch 40/1000\n",
            " 1/40 [..............................] - ETA: 0s - loss: 1.0103 - accuracy: 0.6328\n",
            "Epoch 40: saving model to model/keypoint_classifier/keypoint_classifier.hdf5\n",
            "40/40 [==============================] - 0s 2ms/step - loss: 1.0496 - accuracy: 0.5855 - val_loss: 0.7842 - val_accuracy: 0.8125\n",
            "Epoch 41/1000\n",
            " 1/40 [..............................] - ETA: 0s - loss: 1.0048 - accuracy: 0.5938\n",
            "Epoch 41: saving model to model/keypoint_classifier/keypoint_classifier.hdf5\n",
            "40/40 [==============================] - 0s 2ms/step - loss: 1.0283 - accuracy: 0.5902 - val_loss: 0.7477 - val_accuracy: 0.8225\n",
            "Epoch 42/1000\n",
            " 1/40 [..............................] - ETA: 0s - loss: 1.1477 - accuracy: 0.5938\n",
            "Epoch 42: saving model to model/keypoint_classifier/keypoint_classifier.hdf5\n",
            "40/40 [==============================] - 0s 2ms/step - loss: 1.0242 - accuracy: 0.5920 - val_loss: 0.7233 - val_accuracy: 0.8196\n",
            "Epoch 43/1000\n",
            " 1/40 [..............................] - ETA: 0s - loss: 1.0013 - accuracy: 0.6094\n",
            "Epoch 43: saving model to model/keypoint_classifier/keypoint_classifier.hdf5\n",
            "40/40 [==============================] - 0s 2ms/step - loss: 1.0123 - accuracy: 0.5941 - val_loss: 0.7363 - val_accuracy: 0.8084\n",
            "Epoch 44/1000\n",
            " 1/40 [..............................] - ETA: 0s - loss: 1.0676 - accuracy: 0.6406\n",
            "Epoch 44: saving model to model/keypoint_classifier/keypoint_classifier.hdf5\n",
            "40/40 [==============================] - 0s 2ms/step - loss: 1.0027 - accuracy: 0.5961 - val_loss: 0.7147 - val_accuracy: 0.8202\n",
            "Epoch 45/1000\n",
            " 1/40 [..............................] - ETA: 0s - loss: 1.1000 - accuracy: 0.5000\n",
            "Epoch 45: saving model to model/keypoint_classifier/keypoint_classifier.hdf5\n",
            "40/40 [==============================] - 0s 2ms/step - loss: 0.9946 - accuracy: 0.6016 - val_loss: 0.7162 - val_accuracy: 0.8196\n",
            "Epoch 46/1000\n",
            " 1/40 [..............................] - ETA: 0s - loss: 1.0973 - accuracy: 0.5078\n",
            "Epoch 46: saving model to model/keypoint_classifier/keypoint_classifier.hdf5\n",
            "40/40 [==============================] - 0s 2ms/step - loss: 0.9806 - accuracy: 0.6081 - val_loss: 0.7129 - val_accuracy: 0.8149\n",
            "Epoch 47/1000\n",
            " 1/40 [..............................] - ETA: 0s - loss: 1.0475 - accuracy: 0.5859\n",
            "Epoch 47: saving model to model/keypoint_classifier/keypoint_classifier.hdf5\n",
            "40/40 [==============================] - 0s 2ms/step - loss: 0.9796 - accuracy: 0.6112 - val_loss: 0.7208 - val_accuracy: 0.8172\n",
            "Epoch 48/1000\n",
            " 1/40 [..............................] - ETA: 0s - loss: 1.0780 - accuracy: 0.6172\n",
            "Epoch 48: saving model to model/keypoint_classifier/keypoint_classifier.hdf5\n",
            "40/40 [==============================] - 0s 2ms/step - loss: 0.9929 - accuracy: 0.6022 - val_loss: 0.7349 - val_accuracy: 0.8066\n",
            "Epoch 49/1000\n",
            " 1/40 [..............................] - ETA: 0s - loss: 0.9131 - accuracy: 0.6172\n",
            "Epoch 49: saving model to model/keypoint_classifier/keypoint_classifier.hdf5\n",
            "40/40 [==============================] - 0s 2ms/step - loss: 0.9754 - accuracy: 0.6173 - val_loss: 0.6920 - val_accuracy: 0.8225\n",
            "Epoch 50/1000\n",
            " 1/40 [..............................] - ETA: 0s - loss: 1.0019 - accuracy: 0.6328\n",
            "Epoch 50: saving model to model/keypoint_classifier/keypoint_classifier.hdf5\n",
            "40/40 [==============================] - 0s 2ms/step - loss: 0.9602 - accuracy: 0.6201 - val_loss: 0.6909 - val_accuracy: 0.8219\n",
            "Epoch 51/1000\n",
            " 1/40 [..............................] - ETA: 0s - loss: 1.0148 - accuracy: 0.5156\n",
            "Epoch 51: saving model to model/keypoint_classifier/keypoint_classifier.hdf5\n",
            "40/40 [==============================] - 0s 2ms/step - loss: 0.9502 - accuracy: 0.6136 - val_loss: 0.7110 - val_accuracy: 0.8072\n",
            "Epoch 52/1000\n",
            " 1/40 [..............................] - ETA: 0s - loss: 0.9192 - accuracy: 0.6719\n",
            "Epoch 52: saving model to model/keypoint_classifier/keypoint_classifier.hdf5\n",
            "40/40 [==============================] - 0s 2ms/step - loss: 0.9542 - accuracy: 0.6148 - val_loss: 0.7074 - val_accuracy: 0.8255\n",
            "Epoch 53/1000\n",
            " 1/40 [..............................] - ETA: 0s - loss: 0.9703 - accuracy: 0.5703\n",
            "Epoch 53: saving model to model/keypoint_classifier/keypoint_classifier.hdf5\n",
            "40/40 [==============================] - 0s 2ms/step - loss: 0.9350 - accuracy: 0.6297 - val_loss: 0.7013 - val_accuracy: 0.8084\n",
            "Epoch 54/1000\n",
            " 1/40 [..............................] - ETA: 0s - loss: 0.8654 - accuracy: 0.6641\n",
            "Epoch 54: saving model to model/keypoint_classifier/keypoint_classifier.hdf5\n",
            "40/40 [==============================] - 0s 2ms/step - loss: 0.9495 - accuracy: 0.6211 - val_loss: 0.7106 - val_accuracy: 0.8101\n",
            "Epoch 55/1000\n",
            " 1/40 [..............................] - ETA: 0s - loss: 0.8185 - accuracy: 0.7031\n",
            "Epoch 55: saving model to model/keypoint_classifier/keypoint_classifier.hdf5\n",
            "40/40 [==============================] - 0s 2ms/step - loss: 0.9285 - accuracy: 0.6305 - val_loss: 0.6816 - val_accuracy: 0.8101\n",
            "Epoch 56/1000\n",
            " 1/40 [..............................] - ETA: 0s - loss: 0.8012 - accuracy: 0.6406\n",
            "Epoch 56: saving model to model/keypoint_classifier/keypoint_classifier.hdf5\n",
            "40/40 [==============================] - 0s 2ms/step - loss: 0.9148 - accuracy: 0.6378 - val_loss: 0.6564 - val_accuracy: 0.8343\n",
            "Epoch 57/1000\n",
            " 1/40 [..............................] - ETA: 0s - loss: 0.8636 - accuracy: 0.6406\n",
            "Epoch 57: saving model to model/keypoint_classifier/keypoint_classifier.hdf5\n",
            "40/40 [==============================] - 0s 2ms/step - loss: 0.9035 - accuracy: 0.6384 - val_loss: 0.6811 - val_accuracy: 0.8113\n",
            "Epoch 58/1000\n",
            " 1/40 [..............................] - ETA: 0s - loss: 1.0062 - accuracy: 0.5781\n",
            "Epoch 58: saving model to model/keypoint_classifier/keypoint_classifier.hdf5\n",
            "40/40 [==============================] - 0s 2ms/step - loss: 0.9185 - accuracy: 0.6366 - val_loss: 0.6860 - val_accuracy: 0.8066\n",
            "Epoch 59/1000\n",
            " 1/40 [..............................] - ETA: 0s - loss: 0.9776 - accuracy: 0.6328\n",
            "Epoch 59: saving model to model/keypoint_classifier/keypoint_classifier.hdf5\n",
            "40/40 [==============================] - 0s 2ms/step - loss: 0.9051 - accuracy: 0.6502 - val_loss: 0.6631 - val_accuracy: 0.8196\n",
            "Epoch 60/1000\n",
            " 1/40 [..............................] - ETA: 0s - loss: 0.9380 - accuracy: 0.5781\n",
            "Epoch 60: saving model to model/keypoint_classifier/keypoint_classifier.hdf5\n",
            "40/40 [==============================] - 0s 2ms/step - loss: 0.9107 - accuracy: 0.6256 - val_loss: 0.6926 - val_accuracy: 0.8172\n",
            "Epoch 61/1000\n",
            " 1/40 [..............................] - ETA: 0s - loss: 0.9215 - accuracy: 0.6250\n",
            "Epoch 61: saving model to model/keypoint_classifier/keypoint_classifier.hdf5\n",
            "40/40 [==============================] - 0s 2ms/step - loss: 0.9068 - accuracy: 0.6325 - val_loss: 0.6876 - val_accuracy: 0.8178\n",
            "Epoch 62/1000\n",
            " 1/40 [..............................] - ETA: 0s - loss: 0.9080 - accuracy: 0.6406\n",
            "Epoch 62: saving model to model/keypoint_classifier/keypoint_classifier.hdf5\n",
            "40/40 [==============================] - 0s 2ms/step - loss: 0.8906 - accuracy: 0.6356 - val_loss: 0.6528 - val_accuracy: 0.8231\n",
            "Epoch 63/1000\n",
            " 1/40 [..............................] - ETA: 0s - loss: 0.9464 - accuracy: 0.6250\n",
            "Epoch 63: saving model to model/keypoint_classifier/keypoint_classifier.hdf5\n",
            "40/40 [==============================] - 0s 2ms/step - loss: 0.9002 - accuracy: 0.6429 - val_loss: 0.6553 - val_accuracy: 0.8290\n",
            "Epoch 64/1000\n",
            " 1/40 [..............................] - ETA: 0s - loss: 0.9176 - accuracy: 0.5938\n",
            "Epoch 64: saving model to model/keypoint_classifier/keypoint_classifier.hdf5\n",
            "40/40 [==============================] - 0s 2ms/step - loss: 0.8914 - accuracy: 0.6450 - val_loss: 0.7057 - val_accuracy: 0.7960\n",
            "Epoch 65/1000\n",
            " 1/40 [..............................] - ETA: 0s - loss: 0.8979 - accuracy: 0.6641\n",
            "Epoch 65: saving model to model/keypoint_classifier/keypoint_classifier.hdf5\n",
            "40/40 [==============================] - 0s 2ms/step - loss: 0.8855 - accuracy: 0.6433 - val_loss: 0.6850 - val_accuracy: 0.8125\n",
            "Epoch 66/1000\n",
            " 1/40 [..............................] - ETA: 0s - loss: 0.8616 - accuracy: 0.6797\n",
            "Epoch 66: saving model to model/keypoint_classifier/keypoint_classifier.hdf5\n",
            "40/40 [==============================] - 0s 2ms/step - loss: 0.8906 - accuracy: 0.6458 - val_loss: 0.6585 - val_accuracy: 0.8272\n",
            "Epoch 67/1000\n",
            " 1/40 [..............................] - ETA: 0s - loss: 0.9741 - accuracy: 0.5859\n",
            "Epoch 67: saving model to model/keypoint_classifier/keypoint_classifier.hdf5\n",
            "40/40 [==============================] - 0s 2ms/step - loss: 0.8876 - accuracy: 0.6492 - val_loss: 0.6592 - val_accuracy: 0.8414\n",
            "Epoch 68/1000\n",
            " 1/40 [..............................] - ETA: 0s - loss: 0.8385 - accuracy: 0.6562\n",
            "Epoch 68: saving model to model/keypoint_classifier/keypoint_classifier.hdf5\n",
            "40/40 [==============================] - 0s 2ms/step - loss: 0.8724 - accuracy: 0.6582 - val_loss: 0.6582 - val_accuracy: 0.8196\n",
            "Epoch 69/1000\n",
            " 1/40 [..............................] - ETA: 0s - loss: 0.9355 - accuracy: 0.6328\n",
            "Epoch 69: saving model to model/keypoint_classifier/keypoint_classifier.hdf5\n",
            "40/40 [==============================] - 0s 2ms/step - loss: 0.8780 - accuracy: 0.6619 - val_loss: 0.6851 - val_accuracy: 0.8019\n",
            "Epoch 70/1000\n",
            "24/40 [=================>............] - ETA: 0s - loss: 0.8660 - accuracy: 0.6624\n",
            "Epoch 70: saving model to model/keypoint_classifier/keypoint_classifier.hdf5\n",
            "40/40 [==============================] - 0s 3ms/step - loss: 0.8705 - accuracy: 0.6623 - val_loss: 0.6584 - val_accuracy: 0.8166\n",
            "Epoch 71/1000\n",
            " 1/40 [..............................] - ETA: 0s - loss: 0.9279 - accuracy: 0.6250\n",
            "Epoch 71: saving model to model/keypoint_classifier/keypoint_classifier.hdf5\n",
            "40/40 [==============================] - 0s 2ms/step - loss: 0.8735 - accuracy: 0.6594 - val_loss: 0.6692 - val_accuracy: 0.8149\n",
            "Epoch 72/1000\n",
            " 1/40 [..............................] - ETA: 0s - loss: 0.8548 - accuracy: 0.6719\n",
            "Epoch 72: saving model to model/keypoint_classifier/keypoint_classifier.hdf5\n",
            "40/40 [==============================] - 0s 2ms/step - loss: 0.8448 - accuracy: 0.6787 - val_loss: 0.6356 - val_accuracy: 0.8320\n",
            "Epoch 73/1000\n",
            " 1/40 [..............................] - ETA: 0s - loss: 0.8317 - accuracy: 0.6875\n",
            "Epoch 73: saving model to model/keypoint_classifier/keypoint_classifier.hdf5\n",
            "40/40 [==============================] - 0s 2ms/step - loss: 0.8691 - accuracy: 0.6559 - val_loss: 0.6713 - val_accuracy: 0.8308\n",
            "Epoch 74/1000\n",
            " 1/40 [..............................] - ETA: 0s - loss: 0.9764 - accuracy: 0.6406\n",
            "Epoch 74: saving model to model/keypoint_classifier/keypoint_classifier.hdf5\n",
            "40/40 [==============================] - 0s 2ms/step - loss: 0.8438 - accuracy: 0.6690 - val_loss: 0.6432 - val_accuracy: 0.8308\n",
            "Epoch 75/1000\n",
            " 1/40 [..............................] - ETA: 0s - loss: 0.7082 - accuracy: 0.7344\n",
            "Epoch 75: saving model to model/keypoint_classifier/keypoint_classifier.hdf5\n",
            "40/40 [==============================] - 0s 2ms/step - loss: 0.8488 - accuracy: 0.6673 - val_loss: 0.6709 - val_accuracy: 0.8237\n",
            "Epoch 76/1000\n",
            " 1/40 [..............................] - ETA: 0s - loss: 0.8437 - accuracy: 0.6953\n",
            "Epoch 76: saving model to model/keypoint_classifier/keypoint_classifier.hdf5\n",
            "40/40 [==============================] - 0s 2ms/step - loss: 0.8532 - accuracy: 0.6675 - val_loss: 0.6827 - val_accuracy: 0.7989\n",
            "Epoch 77/1000\n",
            " 1/40 [..............................] - ETA: 0s - loss: 0.8774 - accuracy: 0.6797\n",
            "Epoch 77: saving model to model/keypoint_classifier/keypoint_classifier.hdf5\n",
            "40/40 [==============================] - 0s 2ms/step - loss: 0.8440 - accuracy: 0.6714 - val_loss: 0.6493 - val_accuracy: 0.8237\n",
            "Epoch 78/1000\n",
            " 1/40 [..............................] - ETA: 0s - loss: 0.8016 - accuracy: 0.6953\n",
            "Epoch 78: saving model to model/keypoint_classifier/keypoint_classifier.hdf5\n",
            "40/40 [==============================] - 0s 2ms/step - loss: 0.8316 - accuracy: 0.6673 - val_loss: 0.6811 - val_accuracy: 0.8031\n",
            "Epoch 79/1000\n",
            " 1/40 [..............................] - ETA: 0s - loss: 0.8703 - accuracy: 0.6797\n",
            "Epoch 79: saving model to model/keypoint_classifier/keypoint_classifier.hdf5\n",
            "40/40 [==============================] - 0s 2ms/step - loss: 0.8270 - accuracy: 0.6822 - val_loss: 0.6563 - val_accuracy: 0.8196\n",
            "Epoch 80/1000\n",
            " 1/40 [..............................] - ETA: 0s - loss: 0.8460 - accuracy: 0.6641\n",
            "Epoch 80: saving model to model/keypoint_classifier/keypoint_classifier.hdf5\n",
            "40/40 [==============================] - 0s 2ms/step - loss: 0.8363 - accuracy: 0.6647 - val_loss: 0.6465 - val_accuracy: 0.8272\n",
            "Epoch 81/1000\n",
            " 1/40 [..............................] - ETA: 0s - loss: 0.8172 - accuracy: 0.7109\n",
            "Epoch 81: saving model to model/keypoint_classifier/keypoint_classifier.hdf5\n",
            "40/40 [==============================] - 0s 2ms/step - loss: 0.8106 - accuracy: 0.6885 - val_loss: 0.6367 - val_accuracy: 0.8225\n",
            "Epoch 82/1000\n",
            " 1/40 [..............................] - ETA: 0s - loss: 0.7003 - accuracy: 0.7578\n",
            "Epoch 82: saving model to model/keypoint_classifier/keypoint_classifier.hdf5\n",
            "40/40 [==============================] - 0s 2ms/step - loss: 0.8279 - accuracy: 0.6861 - val_loss: 0.6747 - val_accuracy: 0.7983\n",
            "Epoch 83/1000\n",
            " 1/40 [..............................] - ETA: 0s - loss: 0.7107 - accuracy: 0.7188\n",
            "Epoch 83: saving model to model/keypoint_classifier/keypoint_classifier.hdf5\n",
            "40/40 [==============================] - 0s 2ms/step - loss: 0.8249 - accuracy: 0.6785 - val_loss: 0.6821 - val_accuracy: 0.8113\n",
            "Epoch 84/1000\n",
            " 1/40 [..............................] - ETA: 0s - loss: 0.8615 - accuracy: 0.6562\n",
            "Epoch 84: saving model to model/keypoint_classifier/keypoint_classifier.hdf5\n",
            "40/40 [==============================] - 0s 2ms/step - loss: 0.8239 - accuracy: 0.6790 - val_loss: 0.6492 - val_accuracy: 0.8302\n",
            "Epoch 85/1000\n",
            " 1/40 [..............................] - ETA: 0s - loss: 0.7927 - accuracy: 0.6406\n",
            "Epoch 85: saving model to model/keypoint_classifier/keypoint_classifier.hdf5\n",
            "40/40 [==============================] - 0s 2ms/step - loss: 0.8033 - accuracy: 0.6824 - val_loss: 0.6864 - val_accuracy: 0.8113\n",
            "Epoch 86/1000\n",
            " 1/40 [..............................] - ETA: 0s - loss: 0.7866 - accuracy: 0.6875\n",
            "Epoch 86: saving model to model/keypoint_classifier/keypoint_classifier.hdf5\n",
            "40/40 [==============================] - 0s 2ms/step - loss: 0.8106 - accuracy: 0.6928 - val_loss: 0.6588 - val_accuracy: 0.8137\n",
            "Epoch 87/1000\n",
            " 1/40 [..............................] - ETA: 0s - loss: 0.8033 - accuracy: 0.7031\n",
            "Epoch 87: saving model to model/keypoint_classifier/keypoint_classifier.hdf5\n",
            "40/40 [==============================] - 0s 2ms/step - loss: 0.7945 - accuracy: 0.6942 - val_loss: 0.6297 - val_accuracy: 0.8290\n",
            "Epoch 88/1000\n",
            " 1/40 [..............................] - ETA: 0s - loss: 0.7521 - accuracy: 0.6875\n",
            "Epoch 88: saving model to model/keypoint_classifier/keypoint_classifier.hdf5\n",
            "40/40 [==============================] - 0s 2ms/step - loss: 0.8066 - accuracy: 0.6857 - val_loss: 0.6329 - val_accuracy: 0.8349\n",
            "Epoch 89/1000\n",
            " 1/40 [..............................] - ETA: 0s - loss: 0.7929 - accuracy: 0.7109\n",
            "Epoch 89: saving model to model/keypoint_classifier/keypoint_classifier.hdf5\n",
            "40/40 [==============================] - 0s 2ms/step - loss: 0.7872 - accuracy: 0.6952 - val_loss: 0.6541 - val_accuracy: 0.8290\n",
            "Epoch 90/1000\n",
            " 1/40 [..............................] - ETA: 0s - loss: 0.8711 - accuracy: 0.6719\n",
            "Epoch 90: saving model to model/keypoint_classifier/keypoint_classifier.hdf5\n",
            "40/40 [==============================] - 0s 2ms/step - loss: 0.7983 - accuracy: 0.6948 - val_loss: 0.6635 - val_accuracy: 0.8284\n",
            "Epoch 91/1000\n",
            " 1/40 [..............................] - ETA: 0s - loss: 0.8619 - accuracy: 0.6328\n",
            "Epoch 91: saving model to model/keypoint_classifier/keypoint_classifier.hdf5\n",
            "40/40 [==============================] - 0s 2ms/step - loss: 0.7701 - accuracy: 0.7087 - val_loss: 0.6438 - val_accuracy: 0.8314\n",
            "Epoch 92/1000\n",
            " 1/40 [..............................] - ETA: 0s - loss: 0.8879 - accuracy: 0.6797\n",
            "Epoch 92: saving model to model/keypoint_classifier/keypoint_classifier.hdf5\n",
            "40/40 [==============================] - 0s 2ms/step - loss: 0.7820 - accuracy: 0.6916 - val_loss: 0.7022 - val_accuracy: 0.7659\n",
            "Epoch 93/1000\n",
            " 1/40 [..............................] - ETA: 0s - loss: 0.7228 - accuracy: 0.7422\n",
            "Epoch 93: saving model to model/keypoint_classifier/keypoint_classifier.hdf5\n",
            "40/40 [==============================] - 0s 2ms/step - loss: 0.7989 - accuracy: 0.6940 - val_loss: 0.6637 - val_accuracy: 0.8172\n",
            "Epoch 94/1000\n",
            " 1/40 [..............................] - ETA: 0s - loss: 0.8851 - accuracy: 0.6719\n",
            "Epoch 94: saving model to model/keypoint_classifier/keypoint_classifier.hdf5\n",
            "40/40 [==============================] - 0s 2ms/step - loss: 0.7711 - accuracy: 0.7034 - val_loss: 0.5983 - val_accuracy: 0.8485\n",
            "Epoch 95/1000\n",
            " 1/40 [..............................] - ETA: 0s - loss: 0.8171 - accuracy: 0.6875\n",
            "Epoch 95: saving model to model/keypoint_classifier/keypoint_classifier.hdf5\n",
            "40/40 [==============================] - 0s 2ms/step - loss: 0.7904 - accuracy: 0.6950 - val_loss: 0.6379 - val_accuracy: 0.8255\n",
            "Epoch 96/1000\n",
            " 1/40 [..............................] - ETA: 0s - loss: 0.7208 - accuracy: 0.7422\n",
            "Epoch 96: saving model to model/keypoint_classifier/keypoint_classifier.hdf5\n",
            "40/40 [==============================] - 0s 2ms/step - loss: 0.7782 - accuracy: 0.7087 - val_loss: 0.6339 - val_accuracy: 0.8196\n",
            "Epoch 97/1000\n",
            " 1/40 [..............................] - ETA: 0s - loss: 0.7627 - accuracy: 0.7500\n",
            "Epoch 97: saving model to model/keypoint_classifier/keypoint_classifier.hdf5\n",
            "40/40 [==============================] - 0s 2ms/step - loss: 0.7539 - accuracy: 0.7105 - val_loss: 0.6861 - val_accuracy: 0.7966\n",
            "Epoch 98/1000\n",
            " 1/40 [..............................] - ETA: 0s - loss: 0.6422 - accuracy: 0.7422\n",
            "Epoch 98: saving model to model/keypoint_classifier/keypoint_classifier.hdf5\n",
            "40/40 [==============================] - 0s 2ms/step - loss: 0.7697 - accuracy: 0.7060 - val_loss: 0.6845 - val_accuracy: 0.7812\n",
            "Epoch 99/1000\n",
            " 1/40 [..............................] - ETA: 0s - loss: 0.8223 - accuracy: 0.7188\n",
            "Epoch 99: saving model to model/keypoint_classifier/keypoint_classifier.hdf5\n",
            "40/40 [==============================] - 0s 2ms/step - loss: 0.7544 - accuracy: 0.7091 - val_loss: 0.6709 - val_accuracy: 0.7836\n",
            "Epoch 100/1000\n",
            " 1/40 [..............................] - ETA: 0s - loss: 0.7361 - accuracy: 0.6797\n",
            "Epoch 100: saving model to model/keypoint_classifier/keypoint_classifier.hdf5\n",
            "40/40 [==============================] - 0s 2ms/step - loss: 0.7613 - accuracy: 0.7089 - val_loss: 0.5878 - val_accuracy: 0.8443\n",
            "Epoch 101/1000\n",
            " 1/40 [..............................] - ETA: 0s - loss: 0.8365 - accuracy: 0.6719\n",
            "Epoch 101: saving model to model/keypoint_classifier/keypoint_classifier.hdf5\n",
            "40/40 [==============================] - 0s 2ms/step - loss: 0.7679 - accuracy: 0.7038 - val_loss: 0.6664 - val_accuracy: 0.8048\n",
            "Epoch 102/1000\n",
            " 1/40 [..............................] - ETA: 0s - loss: 0.8509 - accuracy: 0.7109\n",
            "Epoch 102: saving model to model/keypoint_classifier/keypoint_classifier.hdf5\n",
            "40/40 [==============================] - 0s 2ms/step - loss: 0.7653 - accuracy: 0.7044 - val_loss: 0.6440 - val_accuracy: 0.8202\n",
            "Epoch 103/1000\n",
            " 1/40 [..............................] - ETA: 0s - loss: 0.6752 - accuracy: 0.7031\n",
            "Epoch 103: saving model to model/keypoint_classifier/keypoint_classifier.hdf5\n",
            "40/40 [==============================] - 0s 2ms/step - loss: 0.7502 - accuracy: 0.7089 - val_loss: 0.6710 - val_accuracy: 0.8048\n",
            "Epoch 104/1000\n",
            " 1/40 [..............................] - ETA: 0s - loss: 0.7011 - accuracy: 0.7422\n",
            "Epoch 104: saving model to model/keypoint_classifier/keypoint_classifier.hdf5\n",
            "40/40 [==============================] - 0s 2ms/step - loss: 0.7595 - accuracy: 0.7136 - val_loss: 0.6499 - val_accuracy: 0.8231\n",
            "Epoch 105/1000\n",
            " 1/40 [..............................] - ETA: 0s - loss: 0.7031 - accuracy: 0.6953\n",
            "Epoch 105: saving model to model/keypoint_classifier/keypoint_classifier.hdf5\n",
            "40/40 [==============================] - 0s 2ms/step - loss: 0.7364 - accuracy: 0.7209 - val_loss: 0.6556 - val_accuracy: 0.8137\n",
            "Epoch 106/1000\n",
            " 1/40 [..............................] - ETA: 0s - loss: 0.6844 - accuracy: 0.6953\n",
            "Epoch 106: saving model to model/keypoint_classifier/keypoint_classifier.hdf5\n",
            "40/40 [==============================] - 0s 2ms/step - loss: 0.7452 - accuracy: 0.7199 - val_loss: 0.6489 - val_accuracy: 0.8090\n",
            "Epoch 107/1000\n",
            " 1/40 [..............................] - ETA: 0s - loss: 0.7470 - accuracy: 0.7500\n",
            "Epoch 107: saving model to model/keypoint_classifier/keypoint_classifier.hdf5\n",
            "40/40 [==============================] - 0s 2ms/step - loss: 0.7295 - accuracy: 0.7235 - val_loss: 0.6248 - val_accuracy: 0.8107\n",
            "Epoch 108/1000\n",
            " 1/40 [..............................] - ETA: 0s - loss: 0.7039 - accuracy: 0.7266\n",
            "Epoch 108: saving model to model/keypoint_classifier/keypoint_classifier.hdf5\n",
            "40/40 [==============================] - 0s 2ms/step - loss: 0.7344 - accuracy: 0.7148 - val_loss: 0.6022 - val_accuracy: 0.8449\n",
            "Epoch 109/1000\n",
            " 1/40 [..............................] - ETA: 0s - loss: 0.6743 - accuracy: 0.7734\n",
            "Epoch 109: saving model to model/keypoint_classifier/keypoint_classifier.hdf5\n",
            "40/40 [==============================] - 0s 2ms/step - loss: 0.7358 - accuracy: 0.7278 - val_loss: 0.6704 - val_accuracy: 0.8090\n",
            "Epoch 110/1000\n",
            " 1/40 [..............................] - ETA: 0s - loss: 0.7130 - accuracy: 0.6875\n",
            "Epoch 110: saving model to model/keypoint_classifier/keypoint_classifier.hdf5\n",
            "40/40 [==============================] - 0s 2ms/step - loss: 0.7322 - accuracy: 0.7284 - val_loss: 0.6923 - val_accuracy: 0.7695\n",
            "Epoch 111/1000\n",
            "27/40 [===================>..........] - ETA: 0s - loss: 0.7351 - accuracy: 0.7156\n",
            "Epoch 111: saving model to model/keypoint_classifier/keypoint_classifier.hdf5\n",
            "40/40 [==============================] - 0s 2ms/step - loss: 0.7368 - accuracy: 0.7180 - val_loss: 0.6564 - val_accuracy: 0.8019\n",
            "Epoch 112/1000\n",
            " 1/40 [..............................] - ETA: 0s - loss: 0.8099 - accuracy: 0.6797\n",
            "Epoch 112: saving model to model/keypoint_classifier/keypoint_classifier.hdf5\n",
            "40/40 [==============================] - 0s 2ms/step - loss: 0.7305 - accuracy: 0.7207 - val_loss: 0.6984 - val_accuracy: 0.7812\n",
            "Epoch 113/1000\n",
            " 1/40 [..............................] - ETA: 0s - loss: 0.7020 - accuracy: 0.6719\n",
            "Epoch 113: saving model to model/keypoint_classifier/keypoint_classifier.hdf5\n",
            "40/40 [==============================] - 0s 2ms/step - loss: 0.7555 - accuracy: 0.7197 - val_loss: 0.6790 - val_accuracy: 0.8007\n",
            "Epoch 114/1000\n",
            " 1/40 [..............................] - ETA: 0s - loss: 0.7634 - accuracy: 0.7812\n",
            "Epoch 114: saving model to model/keypoint_classifier/keypoint_classifier.hdf5\n",
            "40/40 [==============================] - 0s 2ms/step - loss: 0.7392 - accuracy: 0.7268 - val_loss: 0.6774 - val_accuracy: 0.8149\n",
            "Epoch 115/1000\n",
            " 1/40 [..............................] - ETA: 0s - loss: 0.7597 - accuracy: 0.7188\n",
            "Epoch 115: saving model to model/keypoint_classifier/keypoint_classifier.hdf5\n",
            "40/40 [==============================] - 0s 2ms/step - loss: 0.7158 - accuracy: 0.7347 - val_loss: 0.6397 - val_accuracy: 0.8149\n",
            "Epoch 116/1000\n",
            " 1/40 [..............................] - ETA: 0s - loss: 0.7454 - accuracy: 0.6719\n",
            "Epoch 116: saving model to model/keypoint_classifier/keypoint_classifier.hdf5\n",
            "40/40 [==============================] - 0s 2ms/step - loss: 0.7242 - accuracy: 0.7292 - val_loss: 0.7082 - val_accuracy: 0.7830\n",
            "Epoch 117/1000\n",
            " 1/40 [..............................] - ETA: 0s - loss: 0.7715 - accuracy: 0.7578\n",
            "Epoch 117: saving model to model/keypoint_classifier/keypoint_classifier.hdf5\n",
            "40/40 [==============================] - 0s 2ms/step - loss: 0.7169 - accuracy: 0.7315 - val_loss: 0.7446 - val_accuracy: 0.7783\n",
            "Epoch 118/1000\n",
            " 1/40 [..............................] - ETA: 0s - loss: 0.7935 - accuracy: 0.7109\n",
            "Epoch 118: saving model to model/keypoint_classifier/keypoint_classifier.hdf5\n",
            "40/40 [==============================] - 0s 2ms/step - loss: 0.7166 - accuracy: 0.7319 - val_loss: 0.6807 - val_accuracy: 0.7966\n",
            "Epoch 119/1000\n",
            " 1/40 [..............................] - ETA: 0s - loss: 0.6504 - accuracy: 0.7422\n",
            "Epoch 119: saving model to model/keypoint_classifier/keypoint_classifier.hdf5\n",
            "40/40 [==============================] - 0s 2ms/step - loss: 0.7180 - accuracy: 0.7331 - val_loss: 0.6853 - val_accuracy: 0.7895\n",
            "Epoch 120/1000\n",
            " 1/40 [..............................] - ETA: 0s - loss: 0.6942 - accuracy: 0.7500\n",
            "Epoch 120: saving model to model/keypoint_classifier/keypoint_classifier.hdf5\n",
            "40/40 [==============================] - 0s 2ms/step - loss: 0.7145 - accuracy: 0.7274 - val_loss: 0.6823 - val_accuracy: 0.7925\n",
            "Epoch 120: early stopping\n"
          ]
        },
        {
          "data": {
            "text/plain": [
              "<keras.callbacks.History at 0x7f356e1cde10>"
            ]
          },
          "execution_count": 122,
          "metadata": {},
          "output_type": "execute_result"
        }
      ],
      "source": [
        "model.fit(\n",
        "    X_train,\n",
        "    y_train,\n",
        "    epochs=1000,\n",
        "    batch_size=128,\n",
        "    validation_data=(X_test, y_test),\n",
        "    callbacks=[cp_callback, es_callback]\n",
        ")"
      ]
    },
    {
      "cell_type": "code",
      "execution_count": 123,
      "metadata": {
        "colab": {
          "base_uri": "https://localhost:8080/"
        },
        "id": "pxvb2Y299hE3",
        "outputId": "59eb3185-2e37-4b9e-bc9d-ab1b8ac29b7f"
      },
      "outputs": [
        {
          "name": "stdout",
          "output_type": "stream",
          "text": [
            "14/14 [==============================] - 0s 726us/step - loss: 0.6823 - accuracy: 0.7925\n"
          ]
        }
      ],
      "source": [
        "# Model evaluation\n",
        "val_loss, val_acc = model.evaluate(X_test, y_test, batch_size=128)"
      ]
    },
    {
      "cell_type": "code",
      "execution_count": 124,
      "metadata": {
        "id": "RBkmDeUW9hE4"
      },
      "outputs": [],
      "source": [
        "# Loading the saved model\n",
        "model = tf.keras.models.load_model(model_save_path)"
      ]
    },
    {
      "cell_type": "code",
      "execution_count": 125,
      "metadata": {
        "colab": {
          "base_uri": "https://localhost:8080/"
        },
        "id": "tFz9Tb0I9hE4",
        "outputId": "1c3b3528-54ae-4ee2-ab04-77429211cbef"
      },
      "outputs": [
        {
          "name": "stdout",
          "output_type": "stream",
          "text": [
            "1/1 [==============================] - 0s 31ms/step\n",
            "[0.00754639 0.03111145 0.00385508 0.02503537 0.13759929 0.3895421\n",
            " 0.40531033]\n",
            "6\n"
          ]
        }
      ],
      "source": [
        "# Inference test\n",
        "predict_result = model.predict(np.array([X_test[0]]))\n",
        "print(np.squeeze(predict_result))\n",
        "print(np.argmax(np.squeeze(predict_result)))"
      ]
    },
    {
      "cell_type": "markdown",
      "metadata": {
        "id": "S3U4yNWx9hE4"
      },
      "source": [
        "# Confusion matrix"
      ]
    },
    {
      "cell_type": "code",
      "execution_count": 126,
      "metadata": {
        "colab": {
          "base_uri": "https://localhost:8080/",
          "height": 582
        },
        "id": "AP1V6SCk9hE5",
        "outputId": "08e41a80-7a4a-4619-8125-ecc371368d19"
      },
      "outputs": [
        {
          "name": "stdout",
          "output_type": "stream",
          "text": [
            "53/53 [==============================] - 0s 566us/step\n"
          ]
        },
        {
          "data": {
            "image/png": "[encoded data removed]",
            "text/plain": [
              "<Figure size 504x432 with 2 Axes>"
            ]
          },
          "metadata": {
            "needs_background": "light"
          },
          "output_type": "display_data"
        },
        {
          "name": "stdout",
          "output_type": "stream",
          "text": [
            "Classification Report\n",
            "              precision    recall  f1-score   support\n",
            "\n",
            "           0       1.00      0.65      0.79       450\n",
            "           1       1.00      0.88      0.94        99\n",
            "           2       0.98      0.98      0.98       334\n",
            "           3       0.76      0.90      0.83       291\n",
            "           4       0.59      0.84      0.69       238\n",
            "           5       0.47      0.50      0.48       165\n",
            "           6       0.75      0.76      0.76       119\n",
            "\n",
            "    accuracy                           0.79      1696\n",
            "   macro avg       0.79      0.79      0.78      1696\n",
            "weighted avg       0.83      0.79      0.80      1696\n",
            "\n"
          ]
        }
      ],
      "source": [
        "import pandas as pd\n",
        "import seaborn as sns\n",
        "import matplotlib.pyplot as plt\n",
        "from sklearn.metrics import confusion_matrix, classification_report\n",
        "\n",
        "def print_confusion_matrix(y_true, y_pred, report=True):\n",
        "    labels = sorted(list(set(y_true)))\n",
        "    cmx_data = confusion_matrix(y_true, y_pred, labels=labels)\n",
        "    \n",
        "    df_cmx = pd.DataFrame(cmx_data, index=labels, columns=labels)\n",
        " \n",
        "    fig, ax = plt.subplots(figsize=(7, 6))\n",
        "    sns.heatmap(df_cmx, annot=True, fmt='g' ,square=False)\n",
        "    ax.set_ylim(len(set(y_true)), 0)\n",
        "    plt.show()\n",
        "    \n",
        "    if report:\n",
        "        print('Classification Report')\n",
        "        print(classification_report(y_test, y_pred))\n",
        "\n",
        "Y_pred = model.predict(X_test)\n",
        "y_pred = np.argmax(Y_pred, axis=1)\n",
        "\n",
        "print_confusion_matrix(y_test, y_pred)"
      ]
    },
    {
      "cell_type": "markdown",
      "metadata": {
        "id": "FNP6aqzc9hE5"
      },
      "source": [
        "# Convert to model for Tensorflow-Lite"
      ]
    },
    {
      "cell_type": "code",
      "execution_count": 127,
      "metadata": {
        "id": "ODjnYyld9hE6"
      },
      "outputs": [],
      "source": [
        "# Save as a model dedicated to inference\n",
        "model.save(model_save_path, include_optimizer=False)"
      ]
    },
    {
      "cell_type": "code",
      "execution_count": 128,
      "metadata": {
        "colab": {
          "base_uri": "https://localhost:8080/"
        },
        "id": "zRfuK8Y59hE6",
        "outputId": "a4ca585c-b5d5-4244-8291-8674063209bb"
      },
      "outputs": [
        {
          "name": "stderr",
          "output_type": "stream",
          "text": [
            "WARNING:absl:Found untraced functions such as _update_step_xla while saving (showing 1 of 1). These functions will not be directly callable after loading.\n"
          ]
        },
        {
          "name": "stdout",
          "output_type": "stream",
          "text": [
            "INFO:tensorflow:Assets written to: /tmp/tmpfsa5ne3r/assets\n"
          ]
        },
        {
          "name": "stderr",
          "output_type": "stream",
          "text": [
            "INFO:tensorflow:Assets written to: /tmp/tmpfsa5ne3r/assets\n",
            "2023-03-12 22:39:10.629199: W tensorflow/compiler/mlir/lite/python/tf_tfl_flatbuffer_helpers.cc:362] Ignored output_format.\n",
            "2023-03-12 22:39:10.629219: W tensorflow/compiler/mlir/lite/python/tf_tfl_flatbuffer_helpers.cc:365] Ignored drop_control_dependency.\n",
            "2023-03-12 22:39:10.629331: I tensorflow/cc/saved_model/reader.cc:45] Reading SavedModel from: /tmp/tmpfsa5ne3r\n",
            "2023-03-12 22:39:10.630253: I tensorflow/cc/saved_model/reader.cc:89] Reading meta graph with tags { serve }\n",
            "2023-03-12 22:39:10.630268: I tensorflow/cc/saved_model/reader.cc:130] Reading SavedModel debug info (if present) from: /tmp/tmpfsa5ne3r\n",
            "2023-03-12 22:39:10.634028: I tensorflow/cc/saved_model/loader.cc:229] Restoring SavedModel bundle.\n",
            "2023-03-12 22:39:10.660305: I tensorflow/cc/saved_model/loader.cc:213] Running initialization op on SavedModel bundle at path: /tmp/tmpfsa5ne3r\n",
            "2023-03-12 22:39:10.666330: I tensorflow/cc/saved_model/loader.cc:305] SavedModel load for tags { serve }; Status: success: OK. Took 36997 microseconds.\n"
          ]
        },
        {
          "data": {
            "text/plain": [
              "6740"
            ]
          },
          "execution_count": 128,
          "metadata": {},
          "output_type": "execute_result"
        }
      ],
      "source": [
        "# Transform model (quantization)\n",
        "\n",
        "converter = tf.lite.TFLiteConverter.from_keras_model(model)\n",
        "converter.optimizations = [tf.lite.Optimize.DEFAULT]\n",
        "tflite_quantized_model = converter.convert()\n",
        "\n",
        "open(tflite_save_path, 'wb').write(tflite_quantized_model)"
      ]
    },
    {
      "cell_type": "markdown",
      "metadata": {
        "id": "CHBPBXdx9hE6"
      },
      "source": [
        "# Inference test"
      ]
    },
    {
      "cell_type": "code",
      "execution_count": 129,
      "metadata": {
        "id": "mGAzLocO9hE7"
      },
      "outputs": [],
      "source": [
        "interpreter = tf.lite.Interpreter(model_path=tflite_save_path)\n",
        "interpreter.allocate_tensors()"
      ]
    },
    {
      "cell_type": "code",
      "execution_count": 130,
      "metadata": {
        "id": "oQuDK8YS9hE7"
      },
      "outputs": [],
      "source": [
        "# Get I / O tensor\n",
        "input_details = interpreter.get_input_details()\n",
        "output_details = interpreter.get_output_details()"
      ]
    },
    {
      "cell_type": "code",
      "execution_count": 131,
      "metadata": {
        "id": "2_ixAf_l9hE7"
      },
      "outputs": [],
      "source": [
        "interpreter.set_tensor(input_details[0]['index'], np.array([X_test[0]]))"
      ]
    },
    {
      "cell_type": "code",
      "execution_count": 132,
      "metadata": {
        "colab": {
          "base_uri": "https://localhost:8080/"
        },
        "id": "s4FoAnuc9hE7",
        "outputId": "91f18257-8d8b-4ef3-c558-e9b5f94fabbf",
        "scrolled": true
      },
      "outputs": [
        {
          "name": "stdout",
          "output_type": "stream",
          "text": [
            "CPU times: user 55 µs, sys: 4 µs, total: 59 µs\n",
            "Wall time: 44.8 µs\n"
          ]
        }
      ],
      "source": [
        "%%time\n",
        "# Inference implementation\n",
        "interpreter.invoke()\n",
        "tflite_results = interpreter.get_tensor(output_details[0]['index'])"
      ]
    },
    {
      "cell_type": "code",
      "execution_count": 133,
      "metadata": {
        "colab": {
          "base_uri": "https://localhost:8080/"
        },
        "id": "vONjp19J9hE8",
        "outputId": "77205e24-fd00-42c4-f7b6-e06e527c2cba"
      },
      "outputs": [
        {
          "name": "stdout",
          "output_type": "stream",
          "text": [
            "[0.00754639 0.03111146 0.00385508 0.02503536 0.13759929 0.38954204\n",
            " 0.40531036]\n",
            "6\n"
          ]
        }
      ],
      "source": [
        "print(np.squeeze(tflite_results))\n",
        "print(np.argmax(np.squeeze(tflite_results)))"
      ]
    }
  ],
  "metadata": {
    "accelerator": "GPU",
    "colab": {
      "collapsed_sections": [],
      "name": "keypoint_classification_EN.ipynb",
      "provenance": [],
      "toc_visible": true
    },
    "kernelspec": {
      "display_name": "Python 3",
      "language": "python",
      "name": "python3"
    },
    "language_info": {
      "codemirror_mode": {
        "name": "ipython",
        "version": 3
      },
      "file_extension": ".py",
      "mimetype": "text/x-python",
      "name": "python",
      "nbconvert_exporter": "python",
      "pygments_lexer": "ipython3",
      "version": "3.10.6"
    },
    "vscode": {
      "interpreter": {
        "hash": "916dbcbb3f70747c44a77c7bcd40155683ae19c65e1c03b4aa3499c5328201f1"
      }
    }
  },
  "nbformat": 4,
  "nbformat_minor": 0
}
