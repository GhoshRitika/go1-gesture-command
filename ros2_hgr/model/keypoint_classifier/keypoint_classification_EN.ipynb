{
  "cells": [
    {
      "cell_type": "code",
      "execution_count": 45,
      "metadata": {
        "id": "igMyGnjE9hEp"
      },
      "outputs": [],
      "source": [
        "import csv\n",
        "\n",
        "import numpy as np\n",
        "import tensorflow as tf\n",
        "from sklearn.model_selection import train_test_split\n",
        "\n",
        "RANDOM_SEED = 42"
      ]
    },
    {
      "cell_type": "markdown",
      "metadata": {
        "id": "t2HDvhIu9hEr"
      },
      "source": [
        "# Specify each path"
      ]
    },
    {
      "cell_type": "code",
      "execution_count": 46,
      "metadata": {
        "id": "9NvZP2Zn9hEy"
      },
      "outputs": [],
      "source": [
        "path_prefix = '/home/avaz/courses/w23/winter-project/hgr_go1_ws/src/go1_hgr_ros2/ros2_hgr/'\n",
        "dataset = path_prefix+'model/keypoint_classifier/keypoint.csv'\n",
        "model_save_path = path_prefix+'model/keypoint_classifier/keypoint_classifier.hdf5'\n",
        "tflite_save_path = path_prefix+'model/keypoint_classifier/keypoint_classifier.tflite'"
      ]
    },
    {
      "cell_type": "markdown",
      "metadata": {
        "id": "s5oMH7x19hEz"
      },
      "source": [
        "# Set number of classes"
      ]
    },
    {
      "cell_type": "code",
      "execution_count": 47,
      "metadata": {
        "id": "du4kodXL9hEz"
      },
      "outputs": [],
      "source": [
        "NUM_CLASSES = 8"
      ]
    },
    {
      "cell_type": "markdown",
      "metadata": {
        "id": "XjnL0uso9hEz"
      },
      "source": [
        "# Dataset reading"
      ]
    },
    {
      "cell_type": "code",
      "execution_count": 48,
      "metadata": {
        "id": "QT5ZqtEz9hE0"
      },
      "outputs": [],
      "source": [
        "X_dataset = np.loadtxt(dataset, delimiter=',', dtype='float32', usecols=list(range(1, (21 * 2) + 1)))"
      ]
    },
    {
      "cell_type": "code",
      "execution_count": 49,
      "metadata": {
        "id": "QmoKFsp49hE0"
      },
      "outputs": [],
      "source": [
        "y_dataset = np.loadtxt(dataset, delimiter=',', dtype='int32', usecols=(0))"
      ]
    },
    {
      "cell_type": "code",
      "execution_count": 50,
      "metadata": {
        "id": "xQU7JTZ_9hE0"
      },
      "outputs": [],
      "source": [
        "X_train, X_test, y_train, y_test = train_test_split(X_dataset, y_dataset, train_size=0.75, random_state=RANDOM_SEED)"
      ]
    },
    {
      "cell_type": "markdown",
      "metadata": {
        "id": "mxK_lETT9hE0"
      },
      "source": [
        "# Model building"
      ]
    },
    {
      "cell_type": "code",
      "execution_count": 51,
      "metadata": {
        "id": "vHBmUf1t9hE1"
      },
      "outputs": [],
      "source": [
        "model = tf.keras.models.Sequential([\n",
        "    tf.keras.layers.Input((21 * 2, )),\n",
        "    tf.keras.layers.Dropout(0.2),\n",
        "    tf.keras.layers.Dense(20, activation='relu'),\n",
        "    tf.keras.layers.Dropout(0.4),\n",
        "    tf.keras.layers.Dense(10, activation='relu'),\n",
        "    tf.keras.layers.Dense(NUM_CLASSES, activation='softmax')\n",
        "])"
      ]
    },
    {
      "cell_type": "code",
      "execution_count": 52,
      "metadata": {
        "colab": {
          "base_uri": "https://localhost:8080/"
        },
        "id": "ypqky9tc9hE1",
        "outputId": "5db082bb-30e3-4110-bf63-a1ee777ecd46"
      },
      "outputs": [
        {
          "name": "stdout",
          "output_type": "stream",
          "text": [
            "Model: \"sequential_2\"\n",
            "_________________________________________________________________\n",
            " Layer (type)                Output Shape              Param #   \n",
            "=================================================================\n",
            " dropout_4 (Dropout)         (None, 42)                0         \n",
            "                                                                 \n",
            " dense_6 (Dense)             (None, 20)                860       \n",
            "                                                                 \n",
            " dropout_5 (Dropout)         (None, 20)                0         \n",
            "                                                                 \n",
            " dense_7 (Dense)             (None, 10)                210       \n",
            "                                                                 \n",
            " dense_8 (Dense)             (None, 8)                 88        \n",
            "                                                                 \n",
            "=================================================================\n",
            "Total params: 1,158\n",
            "Trainable params: 1,158\n",
            "Non-trainable params: 0\n",
            "_________________________________________________________________\n"
          ]
        }
      ],
      "source": [
        "model.summary()  # tf.keras.utils.plot_model(model, show_shapes=True)"
      ]
    },
    {
      "cell_type": "code",
      "execution_count": 53,
      "metadata": {
        "id": "MbMjOflQ9hE1"
      },
      "outputs": [],
      "source": [
        "# Model checkpoint callback\n",
        "cp_callback = tf.keras.callbacks.ModelCheckpoint(\n",
        "    model_save_path, verbose=1, save_weights_only=False)\n",
        "# Callback for early stopping\n",
        "es_callback = tf.keras.callbacks.EarlyStopping(patience=20, verbose=1)"
      ]
    },
    {
      "cell_type": "code",
      "execution_count": 54,
      "metadata": {
        "id": "c3Dac0M_9hE2"
      },
      "outputs": [],
      "source": [
        "# Model compilation\n",
        "model.compile(\n",
        "    optimizer='adam',\n",
        "    loss='sparse_categorical_crossentropy',\n",
        "    metrics=['accuracy']\n",
        ")"
      ]
    },
    {
      "cell_type": "markdown",
      "metadata": {
        "id": "7XI0j1Iu9hE2"
      },
      "source": [
        "# Model training"
      ]
    },
    {
      "cell_type": "code",
      "execution_count": 55,
      "metadata": {
        "colab": {
          "base_uri": "https://localhost:8080/"
        },
        "id": "WirBl-JE9hE3",
        "outputId": "71b30ca2-8294-4d9d-8aa2-800d90d399de",
        "scrolled": true
      },
      "outputs": [
        {
          "name": "stdout",
          "output_type": "stream",
          "text": [
            "Epoch 1/1000\n",
            " 1/45 [..............................] - ETA: 13s - loss: 2.0509 - accuracy: 0.1250\n",
            "Epoch 1: saving model to /home/avaz/courses/w23/winter-project/hgr_go1_ws/src/go1_hgr_ros2/ros2_hgr/model/keypoint_classifier/keypoint_classifier.hdf5\n",
            "45/45 [==============================] - 0s 3ms/step - loss: 2.0001 - accuracy: 0.1702 - val_loss: 1.8653 - val_accuracy: 0.1973\n",
            "Epoch 2/1000\n",
            " 1/45 [..............................] - ETA: 0s - loss: 1.9005 - accuracy: 0.2031\n",
            "Epoch 2: saving model to /home/avaz/courses/w23/winter-project/hgr_go1_ws/src/go1_hgr_ros2/ros2_hgr/model/keypoint_classifier/keypoint_classifier.hdf5\n",
            "45/45 [==============================] - 0s 2ms/step - loss: 1.8775 - accuracy: 0.2395 - val_loss: 1.7673 - val_accuracy: 0.2545\n",
            "Epoch 3/1000\n",
            " 1/45 [..............................] - ETA: 0s - loss: 1.8234 - accuracy: 0.3047\n",
            "Epoch 3: saving model to /home/avaz/courses/w23/winter-project/hgr_go1_ws/src/go1_hgr_ros2/ros2_hgr/model/keypoint_classifier/keypoint_classifier.hdf5\n",
            "45/45 [==============================] - 0s 2ms/step - loss: 1.7963 - accuracy: 0.2670 - val_loss: 1.7027 - val_accuracy: 0.3358\n",
            "Epoch 4/1000\n",
            " 1/45 [..............................] - ETA: 0s - loss: 1.8549 - accuracy: 0.2109\n",
            "Epoch 4: saving model to /home/avaz/courses/w23/winter-project/hgr_go1_ws/src/go1_hgr_ros2/ros2_hgr/model/keypoint_classifier/keypoint_classifier.hdf5\n",
            "45/45 [==============================] - 0s 2ms/step - loss: 1.7338 - accuracy: 0.3177 - val_loss: 1.6274 - val_accuracy: 0.3788\n",
            "Epoch 5/1000\n",
            " 1/45 [..............................] - ETA: 0s - loss: 1.6923 - accuracy: 0.3906\n",
            "Epoch 5: saving model to /home/avaz/courses/w23/winter-project/hgr_go1_ws/src/go1_hgr_ros2/ros2_hgr/model/keypoint_classifier/keypoint_classifier.hdf5\n",
            "45/45 [==============================] - 0s 2ms/step - loss: 1.6538 - accuracy: 0.3555 - val_loss: 1.5409 - val_accuracy: 0.4565\n",
            "Epoch 6/1000\n",
            " 1/45 [..............................] - ETA: 0s - loss: 1.7534 - accuracy: 0.3750\n",
            "Epoch 6: saving model to /home/avaz/courses/w23/winter-project/hgr_go1_ws/src/go1_hgr_ros2/ros2_hgr/model/keypoint_classifier/keypoint_classifier.hdf5\n",
            "45/45 [==============================] - 0s 2ms/step - loss: 1.5828 - accuracy: 0.4006 - val_loss: 1.4515 - val_accuracy: 0.4906\n",
            "Epoch 7/1000\n",
            " 1/45 [..............................] - ETA: 0s - loss: 1.5876 - accuracy: 0.3672\n",
            "Epoch 7: saving model to /home/avaz/courses/w23/winter-project/hgr_go1_ws/src/go1_hgr_ros2/ros2_hgr/model/keypoint_classifier/keypoint_classifier.hdf5\n",
            "45/45 [==============================] - 0s 2ms/step - loss: 1.5205 - accuracy: 0.4138 - val_loss: 1.3678 - val_accuracy: 0.5100\n",
            "Epoch 8/1000\n",
            " 1/45 [..............................] - ETA: 0s - loss: 1.4707 - accuracy: 0.4531\n",
            "Epoch 8: saving model to /home/avaz/courses/w23/winter-project/hgr_go1_ws/src/go1_hgr_ros2/ros2_hgr/model/keypoint_classifier/keypoint_classifier.hdf5\n",
            "45/45 [==============================] - 0s 2ms/step - loss: 1.4621 - accuracy: 0.4424 - val_loss: 1.3063 - val_accuracy: 0.5236\n",
            "Epoch 9/1000\n",
            " 1/45 [..............................] - ETA: 0s - loss: 1.4233 - accuracy: 0.5234\n",
            "Epoch 9: saving model to /home/avaz/courses/w23/winter-project/hgr_go1_ws/src/go1_hgr_ros2/ros2_hgr/model/keypoint_classifier/keypoint_classifier.hdf5\n",
            "45/45 [==============================] - 0s 2ms/step - loss: 1.4265 - accuracy: 0.4480 - val_loss: 1.2527 - val_accuracy: 0.5577\n",
            "Epoch 10/1000\n",
            " 1/45 [..............................] - ETA: 0s - loss: 1.2567 - accuracy: 0.5312\n",
            "Epoch 10: saving model to /home/avaz/courses/w23/winter-project/hgr_go1_ws/src/go1_hgr_ros2/ros2_hgr/model/keypoint_classifier/keypoint_classifier.hdf5\n",
            "45/45 [==============================] - 0s 2ms/step - loss: 1.3825 - accuracy: 0.4626 - val_loss: 1.2114 - val_accuracy: 0.5829\n",
            "Epoch 11/1000\n",
            " 1/45 [..............................] - ETA: 0s - loss: 1.4477 - accuracy: 0.4062\n",
            "Epoch 11: saving model to /home/avaz/courses/w23/winter-project/hgr_go1_ws/src/go1_hgr_ros2/ros2_hgr/model/keypoint_classifier/keypoint_classifier.hdf5\n",
            "45/45 [==============================] - 0s 2ms/step - loss: 1.3469 - accuracy: 0.4727 - val_loss: 1.1686 - val_accuracy: 0.5761\n",
            "Epoch 12/1000\n",
            " 1/45 [..............................] - ETA: 0s - loss: 1.4050 - accuracy: 0.4531\n",
            "Epoch 12: saving model to /home/avaz/courses/w23/winter-project/hgr_go1_ws/src/go1_hgr_ros2/ros2_hgr/model/keypoint_classifier/keypoint_classifier.hdf5\n",
            "45/45 [==============================] - 0s 2ms/step - loss: 1.3259 - accuracy: 0.4806 - val_loss: 1.1394 - val_accuracy: 0.5703\n",
            "Epoch 13/1000\n",
            " 1/45 [..............................] - ETA: 0s - loss: 1.1561 - accuracy: 0.5703\n",
            "Epoch 13: saving model to /home/avaz/courses/w23/winter-project/hgr_go1_ws/src/go1_hgr_ros2/ros2_hgr/model/keypoint_classifier/keypoint_classifier.hdf5\n",
            "45/45 [==============================] - 0s 2ms/step - loss: 1.3085 - accuracy: 0.4902 - val_loss: 1.1160 - val_accuracy: 0.5666\n",
            "Epoch 14/1000\n",
            " 1/45 [..............................] - ETA: 0s - loss: 1.2900 - accuracy: 0.4844\n",
            "Epoch 14: saving model to /home/avaz/courses/w23/winter-project/hgr_go1_ws/src/go1_hgr_ros2/ros2_hgr/model/keypoint_classifier/keypoint_classifier.hdf5\n",
            "45/45 [==============================] - 0s 2ms/step - loss: 1.2867 - accuracy: 0.4960 - val_loss: 1.0802 - val_accuracy: 0.5860\n",
            "Epoch 15/1000\n",
            " 1/45 [..............................] - ETA: 0s - loss: 1.3573 - accuracy: 0.3750\n",
            "Epoch 15: saving model to /home/avaz/courses/w23/winter-project/hgr_go1_ws/src/go1_hgr_ros2/ros2_hgr/model/keypoint_classifier/keypoint_classifier.hdf5\n",
            "45/45 [==============================] - 0s 2ms/step - loss: 1.2722 - accuracy: 0.4995 - val_loss: 1.0615 - val_accuracy: 0.5923\n",
            "Epoch 16/1000\n",
            " 1/45 [..............................] - ETA: 0s - loss: 1.3939 - accuracy: 0.5156\n",
            "Epoch 16: saving model to /home/avaz/courses/w23/winter-project/hgr_go1_ws/src/go1_hgr_ros2/ros2_hgr/model/keypoint_classifier/keypoint_classifier.hdf5\n",
            "45/45 [==============================] - 0s 2ms/step - loss: 1.2533 - accuracy: 0.5124 - val_loss: 1.0322 - val_accuracy: 0.6191\n",
            "Epoch 17/1000\n",
            " 1/45 [..............................] - ETA: 0s - loss: 1.2518 - accuracy: 0.5391\n",
            "Epoch 17: saving model to /home/avaz/courses/w23/winter-project/hgr_go1_ws/src/go1_hgr_ros2/ros2_hgr/model/keypoint_classifier/keypoint_classifier.hdf5\n",
            "45/45 [==============================] - 0s 2ms/step - loss: 1.2352 - accuracy: 0.5206 - val_loss: 0.9979 - val_accuracy: 0.6369\n",
            "Epoch 18/1000\n",
            " 1/45 [..............................] - ETA: 0s - loss: 1.2901 - accuracy: 0.4844\n",
            "Epoch 18: saving model to /home/avaz/courses/w23/winter-project/hgr_go1_ws/src/go1_hgr_ros2/ros2_hgr/model/keypoint_classifier/keypoint_classifier.hdf5\n",
            "45/45 [==============================] - 0s 2ms/step - loss: 1.2243 - accuracy: 0.5241 - val_loss: 0.9782 - val_accuracy: 0.6511\n",
            "Epoch 19/1000\n",
            " 1/45 [..............................] - ETA: 0s - loss: 1.1130 - accuracy: 0.5938\n",
            "Epoch 19: saving model to /home/avaz/courses/w23/winter-project/hgr_go1_ws/src/go1_hgr_ros2/ros2_hgr/model/keypoint_classifier/keypoint_classifier.hdf5\n",
            "45/45 [==============================] - 0s 2ms/step - loss: 1.2042 - accuracy: 0.5360 - val_loss: 0.9606 - val_accuracy: 0.6742\n",
            "Epoch 20/1000\n",
            " 1/45 [..............................] - ETA: 0s - loss: 1.1053 - accuracy: 0.5547\n",
            "Epoch 20: saving model to /home/avaz/courses/w23/winter-project/hgr_go1_ws/src/go1_hgr_ros2/ros2_hgr/model/keypoint_classifier/keypoint_classifier.hdf5\n",
            "45/45 [==============================] - 0s 2ms/step - loss: 1.1939 - accuracy: 0.5383 - val_loss: 0.9316 - val_accuracy: 0.7046\n",
            "Epoch 21/1000\n",
            " 1/45 [..............................] - ETA: 0s - loss: 1.0630 - accuracy: 0.5781\n",
            "Epoch 21: saving model to /home/avaz/courses/w23/winter-project/hgr_go1_ws/src/go1_hgr_ros2/ros2_hgr/model/keypoint_classifier/keypoint_classifier.hdf5\n",
            "45/45 [==============================] - 0s 2ms/step - loss: 1.1826 - accuracy: 0.5397 - val_loss: 0.9116 - val_accuracy: 0.7193\n",
            "Epoch 22/1000\n",
            " 1/45 [..............................] - ETA: 0s - loss: 1.2645 - accuracy: 0.4844\n",
            "Epoch 22: saving model to /home/avaz/courses/w23/winter-project/hgr_go1_ws/src/go1_hgr_ros2/ros2_hgr/model/keypoint_classifier/keypoint_classifier.hdf5\n",
            "45/45 [==============================] - 0s 2ms/step - loss: 1.1580 - accuracy: 0.5549 - val_loss: 0.8919 - val_accuracy: 0.7314\n",
            "Epoch 23/1000\n",
            " 1/45 [..............................] - ETA: 0s - loss: 1.1136 - accuracy: 0.5000\n",
            "Epoch 23: saving model to /home/avaz/courses/w23/winter-project/hgr_go1_ws/src/go1_hgr_ros2/ros2_hgr/model/keypoint_classifier/keypoint_classifier.hdf5\n",
            "45/45 [==============================] - 0s 2ms/step - loss: 1.1245 - accuracy: 0.5639 - val_loss: 0.8576 - val_accuracy: 0.7440\n",
            "Epoch 24/1000\n",
            " 1/45 [..............................] - ETA: 0s - loss: 1.0927 - accuracy: 0.5938\n",
            "Epoch 24: saving model to /home/avaz/courses/w23/winter-project/hgr_go1_ws/src/go1_hgr_ros2/ros2_hgr/model/keypoint_classifier/keypoint_classifier.hdf5\n",
            "45/45 [==============================] - 0s 2ms/step - loss: 1.1316 - accuracy: 0.5626 - val_loss: 0.8484 - val_accuracy: 0.7518\n",
            "Epoch 25/1000\n",
            " 1/45 [..............................] - ETA: 0s - loss: 1.2278 - accuracy: 0.5234\n",
            "Epoch 25: saving model to /home/avaz/courses/w23/winter-project/hgr_go1_ws/src/go1_hgr_ros2/ros2_hgr/model/keypoint_classifier/keypoint_classifier.hdf5\n",
            "45/45 [==============================] - 0s 2ms/step - loss: 1.1207 - accuracy: 0.5735 - val_loss: 0.8255 - val_accuracy: 0.7686\n",
            "Epoch 26/1000\n",
            " 1/45 [..............................] - ETA: 0s - loss: 1.0994 - accuracy: 0.5547\n",
            "Epoch 26: saving model to /home/avaz/courses/w23/winter-project/hgr_go1_ws/src/go1_hgr_ros2/ros2_hgr/model/keypoint_classifier/keypoint_classifier.hdf5\n",
            "45/45 [==============================] - 0s 2ms/step - loss: 1.1155 - accuracy: 0.5714 - val_loss: 0.8074 - val_accuracy: 0.7739\n",
            "Epoch 27/1000\n",
            " 1/45 [..............................] - ETA: 0s - loss: 1.0347 - accuracy: 0.5859\n",
            "Epoch 27: saving model to /home/avaz/courses/w23/winter-project/hgr_go1_ws/src/go1_hgr_ros2/ros2_hgr/model/keypoint_classifier/keypoint_classifier.hdf5\n",
            "45/45 [==============================] - 0s 2ms/step - loss: 1.0947 - accuracy: 0.5807 - val_loss: 0.7986 - val_accuracy: 0.7723\n",
            "Epoch 28/1000\n",
            " 1/45 [..............................] - ETA: 0s - loss: 1.0429 - accuracy: 0.5703\n",
            "Epoch 28: saving model to /home/avaz/courses/w23/winter-project/hgr_go1_ws/src/go1_hgr_ros2/ros2_hgr/model/keypoint_classifier/keypoint_classifier.hdf5\n",
            "45/45 [==============================] - 0s 2ms/step - loss: 1.0984 - accuracy: 0.5777 - val_loss: 0.7772 - val_accuracy: 0.7817\n",
            "Epoch 29/1000\n",
            " 1/45 [..............................] - ETA: 0s - loss: 0.9863 - accuracy: 0.6719\n",
            "Epoch 29: saving model to /home/avaz/courses/w23/winter-project/hgr_go1_ws/src/go1_hgr_ros2/ros2_hgr/model/keypoint_classifier/keypoint_classifier.hdf5\n",
            "45/45 [==============================] - 0s 2ms/step - loss: 1.0854 - accuracy: 0.5789 - val_loss: 0.7708 - val_accuracy: 0.7833\n",
            "Epoch 30/1000\n",
            " 1/45 [..............................] - ETA: 0s - loss: 1.0631 - accuracy: 0.6016\n",
            "Epoch 30: saving model to /home/avaz/courses/w23/winter-project/hgr_go1_ws/src/go1_hgr_ros2/ros2_hgr/model/keypoint_classifier/keypoint_classifier.hdf5\n",
            "45/45 [==============================] - 0s 2ms/step - loss: 1.0651 - accuracy: 0.5896 - val_loss: 0.7501 - val_accuracy: 0.8017\n",
            "Epoch 31/1000\n",
            " 1/45 [..............................] - ETA: 0s - loss: 1.0096 - accuracy: 0.6641\n",
            "Epoch 31: saving model to /home/avaz/courses/w23/winter-project/hgr_go1_ws/src/go1_hgr_ros2/ros2_hgr/model/keypoint_classifier/keypoint_classifier.hdf5\n",
            "45/45 [==============================] - 0s 2ms/step - loss: 1.0544 - accuracy: 0.6041 - val_loss: 0.7396 - val_accuracy: 0.8090\n",
            "Epoch 32/1000\n",
            " 1/45 [..............................] - ETA: 0s - loss: 0.9728 - accuracy: 0.6484\n",
            "Epoch 32: saving model to /home/avaz/courses/w23/winter-project/hgr_go1_ws/src/go1_hgr_ros2/ros2_hgr/model/keypoint_classifier/keypoint_classifier.hdf5\n",
            "45/45 [==============================] - 0s 2ms/step - loss: 1.0586 - accuracy: 0.5931 - val_loss: 0.7334 - val_accuracy: 0.8106\n",
            "Epoch 33/1000\n",
            " 1/45 [..............................] - ETA: 0s - loss: 1.2561 - accuracy: 0.5859\n",
            "Epoch 33: saving model to /home/avaz/courses/w23/winter-project/hgr_go1_ws/src/go1_hgr_ros2/ros2_hgr/model/keypoint_classifier/keypoint_classifier.hdf5\n",
            "45/45 [==============================] - 0s 2ms/step - loss: 1.0678 - accuracy: 0.5953 - val_loss: 0.7177 - val_accuracy: 0.8085\n",
            "Epoch 34/1000\n",
            " 1/45 [..............................] - ETA: 0s - loss: 1.0069 - accuracy: 0.6016\n",
            "Epoch 34: saving model to /home/avaz/courses/w23/winter-project/hgr_go1_ws/src/go1_hgr_ros2/ros2_hgr/model/keypoint_classifier/keypoint_classifier.hdf5\n",
            "45/45 [==============================] - 0s 2ms/step - loss: 1.0565 - accuracy: 0.6022 - val_loss: 0.7149 - val_accuracy: 0.8216\n",
            "Epoch 35/1000\n",
            " 1/45 [..............................] - ETA: 0s - loss: 1.0388 - accuracy: 0.6016\n",
            "Epoch 35: saving model to /home/avaz/courses/w23/winter-project/hgr_go1_ws/src/go1_hgr_ros2/ros2_hgr/model/keypoint_classifier/keypoint_classifier.hdf5\n",
            "45/45 [==============================] - 0s 2ms/step - loss: 1.0441 - accuracy: 0.6053 - val_loss: 0.7031 - val_accuracy: 0.8248\n",
            "Epoch 36/1000\n",
            " 1/45 [..............................] - ETA: 0s - loss: 0.9901 - accuracy: 0.5625\n",
            "Epoch 36: saving model to /home/avaz/courses/w23/winter-project/hgr_go1_ws/src/go1_hgr_ros2/ros2_hgr/model/keypoint_classifier/keypoint_classifier.hdf5\n",
            "45/45 [==============================] - 0s 2ms/step - loss: 1.0270 - accuracy: 0.6079 - val_loss: 0.6899 - val_accuracy: 0.8206\n",
            "Epoch 37/1000\n",
            " 1/45 [..............................] - ETA: 0s - loss: 1.0567 - accuracy: 0.6250\n",
            "Epoch 37: saving model to /home/avaz/courses/w23/winter-project/hgr_go1_ws/src/go1_hgr_ros2/ros2_hgr/model/keypoint_classifier/keypoint_classifier.hdf5\n",
            "45/45 [==============================] - 0s 2ms/step - loss: 1.0183 - accuracy: 0.6079 - val_loss: 0.6763 - val_accuracy: 0.8400\n",
            "Epoch 38/1000\n",
            " 1/45 [..............................] - ETA: 0s - loss: 1.0716 - accuracy: 0.6094\n",
            "Epoch 38: saving model to /home/avaz/courses/w23/winter-project/hgr_go1_ws/src/go1_hgr_ros2/ros2_hgr/model/keypoint_classifier/keypoint_classifier.hdf5\n",
            "45/45 [==============================] - 0s 2ms/step - loss: 1.0208 - accuracy: 0.6095 - val_loss: 0.6663 - val_accuracy: 0.8447\n",
            "Epoch 39/1000\n",
            "33/45 [=====================>........] - ETA: 0s - loss: 1.0186 - accuracy: 0.6103\n",
            "Epoch 39: saving model to /home/avaz/courses/w23/winter-project/hgr_go1_ws/src/go1_hgr_ros2/ros2_hgr/model/keypoint_classifier/keypoint_classifier.hdf5\n",
            "45/45 [==============================] - 0s 2ms/step - loss: 1.0265 - accuracy: 0.6078 - val_loss: 0.6687 - val_accuracy: 0.8499\n",
            "Epoch 40/1000\n",
            " 1/45 [..............................] - ETA: 0s - loss: 1.0551 - accuracy: 0.6016\n",
            "Epoch 40: saving model to /home/avaz/courses/w23/winter-project/hgr_go1_ws/src/go1_hgr_ros2/ros2_hgr/model/keypoint_classifier/keypoint_classifier.hdf5\n",
            "45/45 [==============================] - 0s 2ms/step - loss: 1.0198 - accuracy: 0.6176 - val_loss: 0.6576 - val_accuracy: 0.8636\n",
            "Epoch 41/1000\n",
            " 1/45 [..............................] - ETA: 0s - loss: 0.9491 - accuracy: 0.6328\n",
            "Epoch 41: saving model to /home/avaz/courses/w23/winter-project/hgr_go1_ws/src/go1_hgr_ros2/ros2_hgr/model/keypoint_classifier/keypoint_classifier.hdf5\n",
            "45/45 [==============================] - 0s 2ms/step - loss: 1.0065 - accuracy: 0.6254 - val_loss: 0.6484 - val_accuracy: 0.8578\n",
            "Epoch 42/1000\n",
            " 1/45 [..............................] - ETA: 0s - loss: 1.0916 - accuracy: 0.6016\n",
            "Epoch 42: saving model to /home/avaz/courses/w23/winter-project/hgr_go1_ws/src/go1_hgr_ros2/ros2_hgr/model/keypoint_classifier/keypoint_classifier.hdf5\n",
            "45/45 [==============================] - 0s 2ms/step - loss: 0.9847 - accuracy: 0.6240 - val_loss: 0.6432 - val_accuracy: 0.8652\n",
            "Epoch 43/1000\n",
            " 1/45 [..............................] - ETA: 0s - loss: 0.8604 - accuracy: 0.6719\n",
            "Epoch 43: saving model to /home/avaz/courses/w23/winter-project/hgr_go1_ws/src/go1_hgr_ros2/ros2_hgr/model/keypoint_classifier/keypoint_classifier.hdf5\n",
            "45/45 [==============================] - 0s 2ms/step - loss: 0.9846 - accuracy: 0.6307 - val_loss: 0.6292 - val_accuracy: 0.8636\n",
            "Epoch 44/1000\n",
            " 1/45 [..............................] - ETA: 0s - loss: 1.0592 - accuracy: 0.6016\n",
            "Epoch 44: saving model to /home/avaz/courses/w23/winter-project/hgr_go1_ws/src/go1_hgr_ros2/ros2_hgr/model/keypoint_classifier/keypoint_classifier.hdf5\n",
            "45/45 [==============================] - 0s 2ms/step - loss: 0.9955 - accuracy: 0.6265 - val_loss: 0.6299 - val_accuracy: 0.8631\n",
            "Epoch 45/1000\n",
            " 1/45 [..............................] - ETA: 0s - loss: 0.8763 - accuracy: 0.6797\n",
            "Epoch 45: saving model to /home/avaz/courses/w23/winter-project/hgr_go1_ws/src/go1_hgr_ros2/ros2_hgr/model/keypoint_classifier/keypoint_classifier.hdf5\n",
            "45/45 [==============================] - 0s 2ms/step - loss: 0.9681 - accuracy: 0.6344 - val_loss: 0.6157 - val_accuracy: 0.8720\n",
            "Epoch 46/1000\n",
            " 1/45 [..............................] - ETA: 0s - loss: 0.9639 - accuracy: 0.5938\n",
            "Epoch 46: saving model to /home/avaz/courses/w23/winter-project/hgr_go1_ws/src/go1_hgr_ros2/ros2_hgr/model/keypoint_classifier/keypoint_classifier.hdf5\n",
            "45/45 [==============================] - 0s 2ms/step - loss: 0.9818 - accuracy: 0.6323 - val_loss: 0.6131 - val_accuracy: 0.8804\n",
            "Epoch 47/1000\n",
            " 1/45 [..............................] - ETA: 0s - loss: 1.1529 - accuracy: 0.5625\n",
            "Epoch 47: saving model to /home/avaz/courses/w23/winter-project/hgr_go1_ws/src/go1_hgr_ros2/ros2_hgr/model/keypoint_classifier/keypoint_classifier.hdf5\n",
            "45/45 [==============================] - 0s 2ms/step - loss: 0.9709 - accuracy: 0.6393 - val_loss: 0.6059 - val_accuracy: 0.8778\n",
            "Epoch 48/1000\n",
            " 1/45 [..............................] - ETA: 0s - loss: 0.9287 - accuracy: 0.6250\n",
            "Epoch 48: saving model to /home/avaz/courses/w23/winter-project/hgr_go1_ws/src/go1_hgr_ros2/ros2_hgr/model/keypoint_classifier/keypoint_classifier.hdf5\n",
            "45/45 [==============================] - 0s 2ms/step - loss: 0.9623 - accuracy: 0.6463 - val_loss: 0.6007 - val_accuracy: 0.8804\n",
            "Epoch 49/1000\n",
            " 1/45 [..............................] - ETA: 0s - loss: 0.9841 - accuracy: 0.6172\n",
            "Epoch 49: saving model to /home/avaz/courses/w23/winter-project/hgr_go1_ws/src/go1_hgr_ros2/ros2_hgr/model/keypoint_classifier/keypoint_classifier.hdf5\n",
            "45/45 [==============================] - 0s 2ms/step - loss: 0.9804 - accuracy: 0.6396 - val_loss: 0.6055 - val_accuracy: 0.8783\n",
            "Epoch 50/1000\n",
            " 1/45 [..............................] - ETA: 0s - loss: 0.9130 - accuracy: 0.6953\n",
            "Epoch 50: saving model to /home/avaz/courses/w23/winter-project/hgr_go1_ws/src/go1_hgr_ros2/ros2_hgr/model/keypoint_classifier/keypoint_classifier.hdf5\n",
            "45/45 [==============================] - 0s 2ms/step - loss: 0.9655 - accuracy: 0.6443 - val_loss: 0.5969 - val_accuracy: 0.8841\n",
            "Epoch 51/1000\n",
            " 1/45 [..............................] - ETA: 0s - loss: 0.9035 - accuracy: 0.6328\n",
            "Epoch 51: saving model to /home/avaz/courses/w23/winter-project/hgr_go1_ws/src/go1_hgr_ros2/ros2_hgr/model/keypoint_classifier/keypoint_classifier.hdf5\n",
            "45/45 [==============================] - 0s 2ms/step - loss: 0.9324 - accuracy: 0.6485 - val_loss: 0.5861 - val_accuracy: 0.8846\n",
            "Epoch 52/1000\n",
            " 1/45 [..............................] - ETA: 0s - loss: 0.8485 - accuracy: 0.6953\n",
            "Epoch 52: saving model to /home/avaz/courses/w23/winter-project/hgr_go1_ws/src/go1_hgr_ros2/ros2_hgr/model/keypoint_classifier/keypoint_classifier.hdf5\n",
            "45/45 [==============================] - 0s 2ms/step - loss: 0.9668 - accuracy: 0.6478 - val_loss: 0.5863 - val_accuracy: 0.8861\n",
            "Epoch 53/1000\n",
            "36/45 [=======================>......] - ETA: 0s - loss: 0.9699 - accuracy: 0.6465\n",
            "Epoch 53: saving model to /home/avaz/courses/w23/winter-project/hgr_go1_ws/src/go1_hgr_ros2/ros2_hgr/model/keypoint_classifier/keypoint_classifier.hdf5\n",
            "45/45 [==============================] - 0s 2ms/step - loss: 0.9772 - accuracy: 0.6449 - val_loss: 0.5862 - val_accuracy: 0.8935\n",
            "Epoch 54/1000\n",
            " 1/45 [..............................] - ETA: 0s - loss: 0.9351 - accuracy: 0.6719\n",
            "Epoch 54: saving model to /home/avaz/courses/w23/winter-project/hgr_go1_ws/src/go1_hgr_ros2/ros2_hgr/model/keypoint_classifier/keypoint_classifier.hdf5\n",
            "45/45 [==============================] - 0s 2ms/step - loss: 0.9597 - accuracy: 0.6478 - val_loss: 0.5850 - val_accuracy: 0.8830\n",
            "Epoch 55/1000\n",
            " 1/45 [..............................] - ETA: 0s - loss: 0.8852 - accuracy: 0.6953\n",
            "Epoch 55: saving model to /home/avaz/courses/w23/winter-project/hgr_go1_ws/src/go1_hgr_ros2/ros2_hgr/model/keypoint_classifier/keypoint_classifier.hdf5\n",
            "45/45 [==============================] - 0s 2ms/step - loss: 0.9562 - accuracy: 0.6475 - val_loss: 0.5718 - val_accuracy: 0.8945\n",
            "Epoch 56/1000\n",
            " 1/45 [..............................] - ETA: 0s - loss: 0.9956 - accuracy: 0.6328\n",
            "Epoch 56: saving model to /home/avaz/courses/w23/winter-project/hgr_go1_ws/src/go1_hgr_ros2/ros2_hgr/model/keypoint_classifier/keypoint_classifier.hdf5\n",
            "45/45 [==============================] - 0s 2ms/step - loss: 0.9607 - accuracy: 0.6491 - val_loss: 0.5679 - val_accuracy: 0.8861\n",
            "Epoch 57/1000\n",
            " 1/45 [..............................] - ETA: 0s - loss: 1.0285 - accuracy: 0.6250\n",
            "Epoch 57: saving model to /home/avaz/courses/w23/winter-project/hgr_go1_ws/src/go1_hgr_ros2/ros2_hgr/model/keypoint_classifier/keypoint_classifier.hdf5\n",
            "45/45 [==============================] - 0s 2ms/step - loss: 0.9505 - accuracy: 0.6468 - val_loss: 0.5723 - val_accuracy: 0.8877\n",
            "Epoch 58/1000\n",
            " 1/45 [..............................] - ETA: 0s - loss: 0.8610 - accuracy: 0.6719\n",
            "Epoch 58: saving model to /home/avaz/courses/w23/winter-project/hgr_go1_ws/src/go1_hgr_ros2/ros2_hgr/model/keypoint_classifier/keypoint_classifier.hdf5\n",
            "45/45 [==============================] - 0s 2ms/step - loss: 0.9625 - accuracy: 0.6534 - val_loss: 0.5698 - val_accuracy: 0.8924\n",
            "Epoch 59/1000\n",
            " 1/45 [..............................] - ETA: 0s - loss: 1.0017 - accuracy: 0.6328\n",
            "Epoch 59: saving model to /home/avaz/courses/w23/winter-project/hgr_go1_ws/src/go1_hgr_ros2/ros2_hgr/model/keypoint_classifier/keypoint_classifier.hdf5\n",
            "45/45 [==============================] - 0s 2ms/step - loss: 0.9244 - accuracy: 0.6594 - val_loss: 0.5580 - val_accuracy: 0.8945\n",
            "Epoch 60/1000\n",
            " 1/45 [..............................] - ETA: 0s - loss: 0.9455 - accuracy: 0.6562\n",
            "Epoch 60: saving model to /home/avaz/courses/w23/winter-project/hgr_go1_ws/src/go1_hgr_ros2/ros2_hgr/model/keypoint_classifier/keypoint_classifier.hdf5\n",
            "45/45 [==============================] - 0s 2ms/step - loss: 0.9259 - accuracy: 0.6538 - val_loss: 0.5493 - val_accuracy: 0.8898\n",
            "Epoch 61/1000\n",
            " 1/45 [..............................] - ETA: 0s - loss: 0.7400 - accuracy: 0.7500\n",
            "Epoch 61: saving model to /home/avaz/courses/w23/winter-project/hgr_go1_ws/src/go1_hgr_ros2/ros2_hgr/model/keypoint_classifier/keypoint_classifier.hdf5\n",
            "45/45 [==============================] - 0s 2ms/step - loss: 0.9247 - accuracy: 0.6606 - val_loss: 0.5531 - val_accuracy: 0.8919\n",
            "Epoch 62/1000\n",
            " 1/45 [..............................] - ETA: 0s - loss: 0.8124 - accuracy: 0.7031\n",
            "Epoch 62: saving model to /home/avaz/courses/w23/winter-project/hgr_go1_ws/src/go1_hgr_ros2/ros2_hgr/model/keypoint_classifier/keypoint_classifier.hdf5\n",
            "45/45 [==============================] - 0s 2ms/step - loss: 0.9176 - accuracy: 0.6639 - val_loss: 0.5495 - val_accuracy: 0.8935\n",
            "Epoch 63/1000\n",
            " 1/45 [..............................] - ETA: 0s - loss: 0.8561 - accuracy: 0.6953\n",
            "Epoch 63: saving model to /home/avaz/courses/w23/winter-project/hgr_go1_ws/src/go1_hgr_ros2/ros2_hgr/model/keypoint_classifier/keypoint_classifier.hdf5\n",
            "45/45 [==============================] - 0s 2ms/step - loss: 0.9255 - accuracy: 0.6575 - val_loss: 0.5504 - val_accuracy: 0.8987\n",
            "Epoch 64/1000\n",
            " 1/45 [..............................] - ETA: 0s - loss: 1.0905 - accuracy: 0.5938\n",
            "Epoch 64: saving model to /home/avaz/courses/w23/winter-project/hgr_go1_ws/src/go1_hgr_ros2/ros2_hgr/model/keypoint_classifier/keypoint_classifier.hdf5\n",
            "45/45 [==============================] - 0s 2ms/step - loss: 0.9124 - accuracy: 0.6648 - val_loss: 0.5460 - val_accuracy: 0.8987\n",
            "Epoch 65/1000\n",
            " 1/45 [..............................] - ETA: 0s - loss: 0.9594 - accuracy: 0.6719\n",
            "Epoch 65: saving model to /home/avaz/courses/w23/winter-project/hgr_go1_ws/src/go1_hgr_ros2/ros2_hgr/model/keypoint_classifier/keypoint_classifier.hdf5\n",
            "45/45 [==============================] - 0s 2ms/step - loss: 0.9265 - accuracy: 0.6561 - val_loss: 0.5416 - val_accuracy: 0.8956\n",
            "Epoch 66/1000\n",
            " 1/45 [..............................] - ETA: 0s - loss: 0.8452 - accuracy: 0.7188\n",
            "Epoch 66: saving model to /home/avaz/courses/w23/winter-project/hgr_go1_ws/src/go1_hgr_ros2/ros2_hgr/model/keypoint_classifier/keypoint_classifier.hdf5\n",
            "45/45 [==============================] - 0s 2ms/step - loss: 0.9191 - accuracy: 0.6646 - val_loss: 0.5439 - val_accuracy: 0.8930\n",
            "Epoch 67/1000\n",
            " 1/45 [..............................] - ETA: 0s - loss: 0.8899 - accuracy: 0.7109\n",
            "Epoch 67: saving model to /home/avaz/courses/w23/winter-project/hgr_go1_ws/src/go1_hgr_ros2/ros2_hgr/model/keypoint_classifier/keypoint_classifier.hdf5\n",
            "45/45 [==============================] - 0s 2ms/step - loss: 0.9119 - accuracy: 0.6676 - val_loss: 0.5373 - val_accuracy: 0.9014\n",
            "Epoch 68/1000\n",
            " 1/45 [..............................] - ETA: 0s - loss: 0.8491 - accuracy: 0.7266\n",
            "Epoch 68: saving model to /home/avaz/courses/w23/winter-project/hgr_go1_ws/src/go1_hgr_ros2/ros2_hgr/model/keypoint_classifier/keypoint_classifier.hdf5\n",
            "45/45 [==============================] - 0s 2ms/step - loss: 0.9313 - accuracy: 0.6548 - val_loss: 0.5402 - val_accuracy: 0.8877\n",
            "Epoch 69/1000\n",
            "37/45 [=======================>......] - ETA: 0s - loss: 0.9246 - accuracy: 0.6609\n",
            "Epoch 69: saving model to /home/avaz/courses/w23/winter-project/hgr_go1_ws/src/go1_hgr_ros2/ros2_hgr/model/keypoint_classifier/keypoint_classifier.hdf5\n",
            "45/45 [==============================] - 0s 2ms/step - loss: 0.9235 - accuracy: 0.6603 - val_loss: 0.5408 - val_accuracy: 0.8903\n",
            "Epoch 70/1000\n",
            " 1/45 [..............................] - ETA: 0s - loss: 0.8574 - accuracy: 0.7031\n",
            "Epoch 70: saving model to /home/avaz/courses/w23/winter-project/hgr_go1_ws/src/go1_hgr_ros2/ros2_hgr/model/keypoint_classifier/keypoint_classifier.hdf5\n",
            "45/45 [==============================] - 0s 2ms/step - loss: 0.9076 - accuracy: 0.6755 - val_loss: 0.5292 - val_accuracy: 0.8993\n",
            "Epoch 71/1000\n",
            " 1/45 [..............................] - ETA: 0s - loss: 0.8608 - accuracy: 0.6953\n",
            "Epoch 71: saving model to /home/avaz/courses/w23/winter-project/hgr_go1_ws/src/go1_hgr_ros2/ros2_hgr/model/keypoint_classifier/keypoint_classifier.hdf5\n",
            "45/45 [==============================] - 0s 2ms/step - loss: 0.9107 - accuracy: 0.6653 - val_loss: 0.5258 - val_accuracy: 0.9045\n",
            "Epoch 72/1000\n",
            " 1/45 [..............................] - ETA: 0s - loss: 0.8957 - accuracy: 0.6562\n",
            "Epoch 72: saving model to /home/avaz/courses/w23/winter-project/hgr_go1_ws/src/go1_hgr_ros2/ros2_hgr/model/keypoint_classifier/keypoint_classifier.hdf5\n",
            "45/45 [==============================] - 0s 2ms/step - loss: 0.9018 - accuracy: 0.6629 - val_loss: 0.5304 - val_accuracy: 0.8977\n",
            "Epoch 73/1000\n",
            " 1/45 [..............................] - ETA: 0s - loss: 0.8018 - accuracy: 0.6875\n",
            "Epoch 73: saving model to /home/avaz/courses/w23/winter-project/hgr_go1_ws/src/go1_hgr_ros2/ros2_hgr/model/keypoint_classifier/keypoint_classifier.hdf5\n",
            "45/45 [==============================] - 0s 2ms/step - loss: 0.8993 - accuracy: 0.6608 - val_loss: 0.5250 - val_accuracy: 0.9029\n",
            "Epoch 74/1000\n",
            " 1/45 [..............................] - ETA: 0s - loss: 0.9206 - accuracy: 0.6250\n",
            "Epoch 74: saving model to /home/avaz/courses/w23/winter-project/hgr_go1_ws/src/go1_hgr_ros2/ros2_hgr/model/keypoint_classifier/keypoint_classifier.hdf5\n",
            "45/45 [==============================] - 0s 2ms/step - loss: 0.8922 - accuracy: 0.6735 - val_loss: 0.5178 - val_accuracy: 0.9008\n",
            "Epoch 75/1000\n",
            " 1/45 [..............................] - ETA: 0s - loss: 0.9965 - accuracy: 0.6094\n",
            "Epoch 75: saving model to /home/avaz/courses/w23/winter-project/hgr_go1_ws/src/go1_hgr_ros2/ros2_hgr/model/keypoint_classifier/keypoint_classifier.hdf5\n",
            "45/45 [==============================] - 0s 2ms/step - loss: 0.9092 - accuracy: 0.6655 - val_loss: 0.5220 - val_accuracy: 0.8924\n",
            "Epoch 76/1000\n",
            " 1/45 [..............................] - ETA: 0s - loss: 0.7900 - accuracy: 0.7422\n",
            "Epoch 76: saving model to /home/avaz/courses/w23/winter-project/hgr_go1_ws/src/go1_hgr_ros2/ros2_hgr/model/keypoint_classifier/keypoint_classifier.hdf5\n",
            "45/45 [==============================] - 0s 2ms/step - loss: 0.8960 - accuracy: 0.6720 - val_loss: 0.5195 - val_accuracy: 0.8982\n",
            "Epoch 77/1000\n",
            " 1/45 [..............................] - ETA: 0s - loss: 0.9085 - accuracy: 0.6797\n",
            "Epoch 77: saving model to /home/avaz/courses/w23/winter-project/hgr_go1_ws/src/go1_hgr_ros2/ros2_hgr/model/keypoint_classifier/keypoint_classifier.hdf5\n",
            "45/45 [==============================] - 0s 2ms/step - loss: 0.9292 - accuracy: 0.6613 - val_loss: 0.5210 - val_accuracy: 0.9029\n",
            "Epoch 78/1000\n",
            " 1/45 [..............................] - ETA: 0s - loss: 0.7794 - accuracy: 0.7109\n",
            "Epoch 78: saving model to /home/avaz/courses/w23/winter-project/hgr_go1_ws/src/go1_hgr_ros2/ros2_hgr/model/keypoint_classifier/keypoint_classifier.hdf5\n",
            "45/45 [==============================] - 0s 2ms/step - loss: 0.9046 - accuracy: 0.6683 - val_loss: 0.5206 - val_accuracy: 0.8966\n",
            "Epoch 79/1000\n",
            " 1/45 [..............................] - ETA: 0s - loss: 0.9995 - accuracy: 0.6562\n",
            "Epoch 79: saving model to /home/avaz/courses/w23/winter-project/hgr_go1_ws/src/go1_hgr_ros2/ros2_hgr/model/keypoint_classifier/keypoint_classifier.hdf5\n",
            "45/45 [==============================] - 0s 2ms/step - loss: 0.8871 - accuracy: 0.6720 - val_loss: 0.5062 - val_accuracy: 0.9014\n",
            "Epoch 80/1000\n",
            " 1/45 [..............................] - ETA: 0s - loss: 1.0425 - accuracy: 0.6406\n",
            "Epoch 80: saving model to /home/avaz/courses/w23/winter-project/hgr_go1_ws/src/go1_hgr_ros2/ros2_hgr/model/keypoint_classifier/keypoint_classifier.hdf5\n",
            "45/45 [==============================] - 0s 2ms/step - loss: 0.9036 - accuracy: 0.6604 - val_loss: 0.5103 - val_accuracy: 0.9045\n",
            "Epoch 81/1000\n",
            "37/45 [=======================>......] - ETA: 0s - loss: 0.9154 - accuracy: 0.6579\n",
            "Epoch 81: saving model to /home/avaz/courses/w23/winter-project/hgr_go1_ws/src/go1_hgr_ros2/ros2_hgr/model/keypoint_classifier/keypoint_classifier.hdf5\n",
            "45/45 [==============================] - 0s 2ms/step - loss: 0.9089 - accuracy: 0.6646 - val_loss: 0.5193 - val_accuracy: 0.9056\n",
            "Epoch 82/1000\n",
            " 1/45 [..............................] - ETA: 0s - loss: 0.8246 - accuracy: 0.7266\n",
            "Epoch 82: saving model to /home/avaz/courses/w23/winter-project/hgr_go1_ws/src/go1_hgr_ros2/ros2_hgr/model/keypoint_classifier/keypoint_classifier.hdf5\n",
            "45/45 [==============================] - 0s 2ms/step - loss: 0.9000 - accuracy: 0.6707 - val_loss: 0.5140 - val_accuracy: 0.9014\n",
            "Epoch 83/1000\n",
            " 1/45 [..............................] - ETA: 0s - loss: 0.8972 - accuracy: 0.7188\n",
            "Epoch 83: saving model to /home/avaz/courses/w23/winter-project/hgr_go1_ws/src/go1_hgr_ros2/ros2_hgr/model/keypoint_classifier/keypoint_classifier.hdf5\n",
            "45/45 [==============================] - 0s 2ms/step - loss: 0.9014 - accuracy: 0.6671 - val_loss: 0.5130 - val_accuracy: 0.8961\n",
            "Epoch 84/1000\n",
            " 1/45 [..............................] - ETA: 0s - loss: 0.9255 - accuracy: 0.6875\n",
            "Epoch 84: saving model to /home/avaz/courses/w23/winter-project/hgr_go1_ws/src/go1_hgr_ros2/ros2_hgr/model/keypoint_classifier/keypoint_classifier.hdf5\n",
            "45/45 [==============================] - 0s 2ms/step - loss: 0.8783 - accuracy: 0.6744 - val_loss: 0.5058 - val_accuracy: 0.9108\n",
            "Epoch 85/1000\n",
            " 1/45 [..............................] - ETA: 0s - loss: 0.6855 - accuracy: 0.7578\n",
            "Epoch 85: saving model to /home/avaz/courses/w23/winter-project/hgr_go1_ws/src/go1_hgr_ros2/ros2_hgr/model/keypoint_classifier/keypoint_classifier.hdf5\n",
            "45/45 [==============================] - 0s 2ms/step - loss: 0.9025 - accuracy: 0.6643 - val_loss: 0.5100 - val_accuracy: 0.9092\n",
            "Epoch 86/1000\n",
            " 1/45 [..............................] - ETA: 0s - loss: 0.7271 - accuracy: 0.7188\n",
            "Epoch 86: saving model to /home/avaz/courses/w23/winter-project/hgr_go1_ws/src/go1_hgr_ros2/ros2_hgr/model/keypoint_classifier/keypoint_classifier.hdf5\n",
            "45/45 [==============================] - 0s 2ms/step - loss: 0.8691 - accuracy: 0.6804 - val_loss: 0.4982 - val_accuracy: 0.9098\n",
            "Epoch 87/1000\n",
            " 1/45 [..............................] - ETA: 0s - loss: 0.8351 - accuracy: 0.7109\n",
            "Epoch 87: saving model to /home/avaz/courses/w23/winter-project/hgr_go1_ws/src/go1_hgr_ros2/ros2_hgr/model/keypoint_classifier/keypoint_classifier.hdf5\n",
            "45/45 [==============================] - 0s 2ms/step - loss: 0.8842 - accuracy: 0.6697 - val_loss: 0.5015 - val_accuracy: 0.9056\n",
            "Epoch 88/1000\n",
            " 1/45 [..............................] - ETA: 0s - loss: 0.7797 - accuracy: 0.7422\n",
            "Epoch 88: saving model to /home/avaz/courses/w23/winter-project/hgr_go1_ws/src/go1_hgr_ros2/ros2_hgr/model/keypoint_classifier/keypoint_classifier.hdf5\n",
            "45/45 [==============================] - 0s 2ms/step - loss: 0.8680 - accuracy: 0.6786 - val_loss: 0.5005 - val_accuracy: 0.9108\n",
            "Epoch 89/1000\n",
            " 1/45 [..............................] - ETA: 0s - loss: 0.8689 - accuracy: 0.6562\n",
            "Epoch 89: saving model to /home/avaz/courses/w23/winter-project/hgr_go1_ws/src/go1_hgr_ros2/ros2_hgr/model/keypoint_classifier/keypoint_classifier.hdf5\n",
            "45/45 [==============================] - 0s 2ms/step - loss: 0.8849 - accuracy: 0.6679 - val_loss: 0.4888 - val_accuracy: 0.9066\n",
            "Epoch 90/1000\n",
            " 1/45 [..............................] - ETA: 0s - loss: 0.9393 - accuracy: 0.6328\n",
            "Epoch 90: saving model to /home/avaz/courses/w23/winter-project/hgr_go1_ws/src/go1_hgr_ros2/ros2_hgr/model/keypoint_classifier/keypoint_classifier.hdf5\n",
            "45/45 [==============================] - 0s 2ms/step - loss: 0.8830 - accuracy: 0.6744 - val_loss: 0.4847 - val_accuracy: 0.9124\n",
            "Epoch 91/1000\n",
            " 1/45 [..............................] - ETA: 0s - loss: 0.8820 - accuracy: 0.7188\n",
            "Epoch 91: saving model to /home/avaz/courses/w23/winter-project/hgr_go1_ws/src/go1_hgr_ros2/ros2_hgr/model/keypoint_classifier/keypoint_classifier.hdf5\n",
            "45/45 [==============================] - 0s 2ms/step - loss: 0.8742 - accuracy: 0.6758 - val_loss: 0.4840 - val_accuracy: 0.9182\n",
            "Epoch 92/1000\n",
            " 1/45 [..............................] - ETA: 0s - loss: 0.9661 - accuracy: 0.6641\n",
            "Epoch 92: saving model to /home/avaz/courses/w23/winter-project/hgr_go1_ws/src/go1_hgr_ros2/ros2_hgr/model/keypoint_classifier/keypoint_classifier.hdf5\n",
            "45/45 [==============================] - 0s 2ms/step - loss: 0.8572 - accuracy: 0.6718 - val_loss: 0.4799 - val_accuracy: 0.9155\n",
            "Epoch 93/1000\n",
            "27/45 [=================>............] - ETA: 0s - loss: 0.8769 - accuracy: 0.6690\n",
            "Epoch 93: saving model to /home/avaz/courses/w23/winter-project/hgr_go1_ws/src/go1_hgr_ros2/ros2_hgr/model/keypoint_classifier/keypoint_classifier.hdf5\n",
            "45/45 [==============================] - 0s 2ms/step - loss: 0.8741 - accuracy: 0.6746 - val_loss: 0.4879 - val_accuracy: 0.9134\n",
            "Epoch 94/1000\n",
            " 1/45 [..............................] - ETA: 0s - loss: 0.6561 - accuracy: 0.7656\n",
            "Epoch 94: saving model to /home/avaz/courses/w23/winter-project/hgr_go1_ws/src/go1_hgr_ros2/ros2_hgr/model/keypoint_classifier/keypoint_classifier.hdf5\n",
            "45/45 [==============================] - 0s 2ms/step - loss: 0.8599 - accuracy: 0.6830 - val_loss: 0.4827 - val_accuracy: 0.9145\n",
            "Epoch 95/1000\n",
            " 1/45 [..............................] - ETA: 0s - loss: 0.8855 - accuracy: 0.6641\n",
            "Epoch 95: saving model to /home/avaz/courses/w23/winter-project/hgr_go1_ws/src/go1_hgr_ros2/ros2_hgr/model/keypoint_classifier/keypoint_classifier.hdf5\n",
            "45/45 [==============================] - 0s 2ms/step - loss: 0.8998 - accuracy: 0.6664 - val_loss: 0.4961 - val_accuracy: 0.9182\n",
            "Epoch 96/1000\n",
            " 1/45 [..............................] - ETA: 0s - loss: 0.8316 - accuracy: 0.7188\n",
            "Epoch 96: saving model to /home/avaz/courses/w23/winter-project/hgr_go1_ws/src/go1_hgr_ros2/ros2_hgr/model/keypoint_classifier/keypoint_classifier.hdf5\n",
            "45/45 [==============================] - 0s 2ms/step - loss: 0.8567 - accuracy: 0.6937 - val_loss: 0.4811 - val_accuracy: 0.9218\n",
            "Epoch 97/1000\n",
            "35/45 [======================>.......] - ETA: 0s - loss: 0.8768 - accuracy: 0.6761\n",
            "Epoch 97: saving model to /home/avaz/courses/w23/winter-project/hgr_go1_ws/src/go1_hgr_ros2/ros2_hgr/model/keypoint_classifier/keypoint_classifier.hdf5\n",
            "45/45 [==============================] - 0s 2ms/step - loss: 0.8816 - accuracy: 0.6727 - val_loss: 0.4813 - val_accuracy: 0.9187\n",
            "Epoch 98/1000\n",
            " 1/45 [..............................] - ETA: 0s - loss: 0.8624 - accuracy: 0.7188\n",
            "Epoch 98: saving model to /home/avaz/courses/w23/winter-project/hgr_go1_ws/src/go1_hgr_ros2/ros2_hgr/model/keypoint_classifier/keypoint_classifier.hdf5\n",
            "45/45 [==============================] - 0s 2ms/step - loss: 0.8884 - accuracy: 0.6711 - val_loss: 0.4902 - val_accuracy: 0.9150\n",
            "Epoch 99/1000\n",
            " 1/45 [..............................] - ETA: 0s - loss: 0.8389 - accuracy: 0.6953\n",
            "Epoch 99: saving model to /home/avaz/courses/w23/winter-project/hgr_go1_ws/src/go1_hgr_ros2/ros2_hgr/model/keypoint_classifier/keypoint_classifier.hdf5\n",
            "45/45 [==============================] - 0s 2ms/step - loss: 0.8676 - accuracy: 0.6805 - val_loss: 0.4937 - val_accuracy: 0.9124\n",
            "Epoch 100/1000\n",
            " 1/45 [..............................] - ETA: 0s - loss: 0.7900 - accuracy: 0.7266\n",
            "Epoch 100: saving model to /home/avaz/courses/w23/winter-project/hgr_go1_ws/src/go1_hgr_ros2/ros2_hgr/model/keypoint_classifier/keypoint_classifier.hdf5\n",
            "45/45 [==============================] - 0s 2ms/step - loss: 0.8699 - accuracy: 0.6769 - val_loss: 0.4927 - val_accuracy: 0.9145\n",
            "Epoch 101/1000\n",
            " 1/45 [..............................] - ETA: 0s - loss: 0.8198 - accuracy: 0.6875\n",
            "Epoch 101: saving model to /home/avaz/courses/w23/winter-project/hgr_go1_ws/src/go1_hgr_ros2/ros2_hgr/model/keypoint_classifier/keypoint_classifier.hdf5\n",
            "45/45 [==============================] - 0s 2ms/step - loss: 0.8539 - accuracy: 0.6861 - val_loss: 0.4861 - val_accuracy: 0.9161\n",
            "Epoch 102/1000\n",
            " 1/45 [..............................] - ETA: 0s - loss: 0.9376 - accuracy: 0.6641\n",
            "Epoch 102: saving model to /home/avaz/courses/w23/winter-project/hgr_go1_ws/src/go1_hgr_ros2/ros2_hgr/model/keypoint_classifier/keypoint_classifier.hdf5\n",
            "45/45 [==============================] - 0s 2ms/step - loss: 0.8700 - accuracy: 0.6839 - val_loss: 0.4760 - val_accuracy: 0.9265\n",
            "Epoch 103/1000\n",
            " 1/45 [..............................] - ETA: 0s - loss: 0.7467 - accuracy: 0.7500\n",
            "Epoch 103: saving model to /home/avaz/courses/w23/winter-project/hgr_go1_ws/src/go1_hgr_ros2/ros2_hgr/model/keypoint_classifier/keypoint_classifier.hdf5\n",
            "45/45 [==============================] - 0s 2ms/step - loss: 0.8574 - accuracy: 0.6842 - val_loss: 0.4787 - val_accuracy: 0.9239\n",
            "Epoch 104/1000\n",
            "17/45 [==========>...................] - ETA: 0s - loss: 0.8660 - accuracy: 0.6847\n",
            "Epoch 104: saving model to /home/avaz/courses/w23/winter-project/hgr_go1_ws/src/go1_hgr_ros2/ros2_hgr/model/keypoint_classifier/keypoint_classifier.hdf5\n",
            "45/45 [==============================] - 0s 3ms/step - loss: 0.8571 - accuracy: 0.6842 - val_loss: 0.4784 - val_accuracy: 0.9208\n",
            "Epoch 105/1000\n",
            " 1/45 [..............................] - ETA: 0s - loss: 0.8051 - accuracy: 0.6562\n",
            "Epoch 105: saving model to /home/avaz/courses/w23/winter-project/hgr_go1_ws/src/go1_hgr_ros2/ros2_hgr/model/keypoint_classifier/keypoint_classifier.hdf5\n",
            "45/45 [==============================] - 0s 2ms/step - loss: 0.8556 - accuracy: 0.6865 - val_loss: 0.4708 - val_accuracy: 0.9203\n",
            "Epoch 106/1000\n",
            " 1/45 [..............................] - ETA: 0s - loss: 0.9564 - accuracy: 0.6328\n",
            "Epoch 106: saving model to /home/avaz/courses/w23/winter-project/hgr_go1_ws/src/go1_hgr_ros2/ros2_hgr/model/keypoint_classifier/keypoint_classifier.hdf5\n",
            "45/45 [==============================] - 0s 2ms/step - loss: 0.8567 - accuracy: 0.6800 - val_loss: 0.4671 - val_accuracy: 0.9155\n",
            "Epoch 107/1000\n",
            " 1/45 [..............................] - ETA: 0s - loss: 0.8076 - accuracy: 0.6797\n",
            "Epoch 107: saving model to /home/avaz/courses/w23/winter-project/hgr_go1_ws/src/go1_hgr_ros2/ros2_hgr/model/keypoint_classifier/keypoint_classifier.hdf5\n",
            "45/45 [==============================] - 0s 2ms/step - loss: 0.8681 - accuracy: 0.6842 - val_loss: 0.4807 - val_accuracy: 0.9203\n",
            "Epoch 108/1000\n",
            " 1/45 [..............................] - ETA: 0s - loss: 0.9625 - accuracy: 0.7031\n",
            "Epoch 108: saving model to /home/avaz/courses/w23/winter-project/hgr_go1_ws/src/go1_hgr_ros2/ros2_hgr/model/keypoint_classifier/keypoint_classifier.hdf5\n",
            "45/45 [==============================] - 0s 2ms/step - loss: 0.8480 - accuracy: 0.6926 - val_loss: 0.4749 - val_accuracy: 0.9208\n",
            "Epoch 109/1000\n",
            " 1/45 [..............................] - ETA: 0s - loss: 0.7494 - accuracy: 0.6719\n",
            "Epoch 109: saving model to /home/avaz/courses/w23/winter-project/hgr_go1_ws/src/go1_hgr_ros2/ros2_hgr/model/keypoint_classifier/keypoint_classifier.hdf5\n",
            "45/45 [==============================] - 0s 2ms/step - loss: 0.8477 - accuracy: 0.6825 - val_loss: 0.4818 - val_accuracy: 0.9213\n",
            "Epoch 110/1000\n",
            " 1/45 [..............................] - ETA: 0s - loss: 0.8982 - accuracy: 0.6719\n",
            "Epoch 110: saving model to /home/avaz/courses/w23/winter-project/hgr_go1_ws/src/go1_hgr_ros2/ros2_hgr/model/keypoint_classifier/keypoint_classifier.hdf5\n",
            "45/45 [==============================] - 0s 2ms/step - loss: 0.8521 - accuracy: 0.6863 - val_loss: 0.4744 - val_accuracy: 0.9187\n",
            "Epoch 111/1000\n",
            " 1/45 [..............................] - ETA: 0s - loss: 0.9248 - accuracy: 0.6562\n",
            "Epoch 111: saving model to /home/avaz/courses/w23/winter-project/hgr_go1_ws/src/go1_hgr_ros2/ros2_hgr/model/keypoint_classifier/keypoint_classifier.hdf5\n",
            "45/45 [==============================] - 0s 2ms/step - loss: 0.8566 - accuracy: 0.6854 - val_loss: 0.4728 - val_accuracy: 0.9203\n",
            "Epoch 112/1000\n",
            " 1/45 [..............................] - ETA: 0s - loss: 0.9364 - accuracy: 0.7031\n",
            "Epoch 112: saving model to /home/avaz/courses/w23/winter-project/hgr_go1_ws/src/go1_hgr_ros2/ros2_hgr/model/keypoint_classifier/keypoint_classifier.hdf5\n",
            "45/45 [==============================] - 0s 2ms/step - loss: 0.8471 - accuracy: 0.6835 - val_loss: 0.4703 - val_accuracy: 0.9208\n",
            "Epoch 113/1000\n",
            " 1/45 [..............................] - ETA: 0s - loss: 0.8643 - accuracy: 0.7031\n",
            "Epoch 113: saving model to /home/avaz/courses/w23/winter-project/hgr_go1_ws/src/go1_hgr_ros2/ros2_hgr/model/keypoint_classifier/keypoint_classifier.hdf5\n",
            "45/45 [==============================] - 0s 2ms/step - loss: 0.8508 - accuracy: 0.6919 - val_loss: 0.4717 - val_accuracy: 0.9218\n",
            "Epoch 114/1000\n",
            " 1/45 [..............................] - ETA: 0s - loss: 0.7600 - accuracy: 0.7344\n",
            "Epoch 114: saving model to /home/avaz/courses/w23/winter-project/hgr_go1_ws/src/go1_hgr_ros2/ros2_hgr/model/keypoint_classifier/keypoint_classifier.hdf5\n",
            "45/45 [==============================] - 0s 2ms/step - loss: 0.8492 - accuracy: 0.6924 - val_loss: 0.4664 - val_accuracy: 0.9265\n",
            "Epoch 115/1000\n",
            " 1/45 [..............................] - ETA: 0s - loss: 0.8072 - accuracy: 0.7188\n",
            "Epoch 115: saving model to /home/avaz/courses/w23/winter-project/hgr_go1_ws/src/go1_hgr_ros2/ros2_hgr/model/keypoint_classifier/keypoint_classifier.hdf5\n",
            "45/45 [==============================] - 0s 2ms/step - loss: 0.8236 - accuracy: 0.6968 - val_loss: 0.4698 - val_accuracy: 0.9229\n",
            "Epoch 116/1000\n",
            " 1/45 [..............................] - ETA: 0s - loss: 0.7754 - accuracy: 0.7188\n",
            "Epoch 116: saving model to /home/avaz/courses/w23/winter-project/hgr_go1_ws/src/go1_hgr_ros2/ros2_hgr/model/keypoint_classifier/keypoint_classifier.hdf5\n",
            "45/45 [==============================] - 0s 2ms/step - loss: 0.8316 - accuracy: 0.6910 - val_loss: 0.4605 - val_accuracy: 0.9182\n",
            "Epoch 117/1000\n",
            " 1/45 [..............................] - ETA: 0s - loss: 0.9411 - accuracy: 0.6641\n",
            "Epoch 117: saving model to /home/avaz/courses/w23/winter-project/hgr_go1_ws/src/go1_hgr_ros2/ros2_hgr/model/keypoint_classifier/keypoint_classifier.hdf5\n",
            "45/45 [==============================] - 0s 2ms/step - loss: 0.8425 - accuracy: 0.6947 - val_loss: 0.4607 - val_accuracy: 0.9197\n",
            "Epoch 118/1000\n",
            " 1/45 [..............................] - ETA: 0s - loss: 0.9246 - accuracy: 0.6484\n",
            "Epoch 118: saving model to /home/avaz/courses/w23/winter-project/hgr_go1_ws/src/go1_hgr_ros2/ros2_hgr/model/keypoint_classifier/keypoint_classifier.hdf5\n",
            "45/45 [==============================] - 0s 2ms/step - loss: 0.8385 - accuracy: 0.6937 - val_loss: 0.4766 - val_accuracy: 0.9161\n",
            "Epoch 119/1000\n",
            " 1/45 [..............................] - ETA: 0s - loss: 0.8461 - accuracy: 0.6641\n",
            "Epoch 119: saving model to /home/avaz/courses/w23/winter-project/hgr_go1_ws/src/go1_hgr_ros2/ros2_hgr/model/keypoint_classifier/keypoint_classifier.hdf5\n",
            "45/45 [==============================] - 0s 2ms/step - loss: 0.8494 - accuracy: 0.6870 - val_loss: 0.4698 - val_accuracy: 0.9250\n",
            "Epoch 120/1000\n",
            " 1/45 [..............................] - ETA: 0s - loss: 0.7630 - accuracy: 0.7656\n",
            "Epoch 120: saving model to /home/avaz/courses/w23/winter-project/hgr_go1_ws/src/go1_hgr_ros2/ros2_hgr/model/keypoint_classifier/keypoint_classifier.hdf5\n",
            "45/45 [==============================] - 0s 2ms/step - loss: 0.8291 - accuracy: 0.6991 - val_loss: 0.4689 - val_accuracy: 0.9265\n",
            "Epoch 121/1000\n",
            " 1/45 [..............................] - ETA: 0s - loss: 0.7843 - accuracy: 0.7188\n",
            "Epoch 121: saving model to /home/avaz/courses/w23/winter-project/hgr_go1_ws/src/go1_hgr_ros2/ros2_hgr/model/keypoint_classifier/keypoint_classifier.hdf5\n",
            "45/45 [==============================] - 0s 2ms/step - loss: 0.8109 - accuracy: 0.7066 - val_loss: 0.4670 - val_accuracy: 0.9250\n",
            "Epoch 122/1000\n",
            " 1/45 [..............................] - ETA: 0s - loss: 0.6392 - accuracy: 0.7734\n",
            "Epoch 122: saving model to /home/avaz/courses/w23/winter-project/hgr_go1_ws/src/go1_hgr_ros2/ros2_hgr/model/keypoint_classifier/keypoint_classifier.hdf5\n",
            "45/45 [==============================] - 0s 2ms/step - loss: 0.8321 - accuracy: 0.6938 - val_loss: 0.4625 - val_accuracy: 0.9145\n",
            "Epoch 123/1000\n",
            " 1/45 [..............................] - ETA: 0s - loss: 0.8471 - accuracy: 0.6953\n",
            "Epoch 123: saving model to /home/avaz/courses/w23/winter-project/hgr_go1_ws/src/go1_hgr_ros2/ros2_hgr/model/keypoint_classifier/keypoint_classifier.hdf5\n",
            "45/45 [==============================] - 0s 2ms/step - loss: 0.8343 - accuracy: 0.6949 - val_loss: 0.4596 - val_accuracy: 0.9224\n",
            "Epoch 124/1000\n",
            " 1/45 [..............................] - ETA: 0s - loss: 0.7613 - accuracy: 0.7188\n",
            "Epoch 124: saving model to /home/avaz/courses/w23/winter-project/hgr_go1_ws/src/go1_hgr_ros2/ros2_hgr/model/keypoint_classifier/keypoint_classifier.hdf5\n",
            "45/45 [==============================] - 0s 2ms/step - loss: 0.8190 - accuracy: 0.6993 - val_loss: 0.4690 - val_accuracy: 0.9203\n",
            "Epoch 125/1000\n",
            " 1/45 [..............................] - ETA: 0s - loss: 0.8963 - accuracy: 0.6484\n",
            "Epoch 125: saving model to /home/avaz/courses/w23/winter-project/hgr_go1_ws/src/go1_hgr_ros2/ros2_hgr/model/keypoint_classifier/keypoint_classifier.hdf5\n",
            "45/45 [==============================] - 0s 2ms/step - loss: 0.8220 - accuracy: 0.7031 - val_loss: 0.4627 - val_accuracy: 0.9229\n",
            "Epoch 126/1000\n",
            " 1/45 [..............................] - ETA: 0s - loss: 0.7371 - accuracy: 0.6875\n",
            "Epoch 126: saving model to /home/avaz/courses/w23/winter-project/hgr_go1_ws/src/go1_hgr_ros2/ros2_hgr/model/keypoint_classifier/keypoint_classifier.hdf5\n",
            "45/45 [==============================] - 0s 2ms/step - loss: 0.8196 - accuracy: 0.6945 - val_loss: 0.4695 - val_accuracy: 0.9208\n",
            "Epoch 127/1000\n",
            " 1/45 [..............................] - ETA: 0s - loss: 0.8511 - accuracy: 0.6953\n",
            "Epoch 127: saving model to /home/avaz/courses/w23/winter-project/hgr_go1_ws/src/go1_hgr_ros2/ros2_hgr/model/keypoint_classifier/keypoint_classifier.hdf5\n",
            "45/45 [==============================] - 0s 2ms/step - loss: 0.8201 - accuracy: 0.6914 - val_loss: 0.4657 - val_accuracy: 0.9171\n",
            "Epoch 128/1000\n",
            " 1/45 [..............................] - ETA: 0s - loss: 0.9898 - accuracy: 0.7031\n",
            "Epoch 128: saving model to /home/avaz/courses/w23/winter-project/hgr_go1_ws/src/go1_hgr_ros2/ros2_hgr/model/keypoint_classifier/keypoint_classifier.hdf5\n",
            "45/45 [==============================] - 0s 2ms/step - loss: 0.8291 - accuracy: 0.6959 - val_loss: 0.4600 - val_accuracy: 0.9161\n",
            "Epoch 129/1000\n",
            " 1/45 [..............................] - ETA: 0s - loss: 0.6422 - accuracy: 0.7734\n",
            "Epoch 129: saving model to /home/avaz/courses/w23/winter-project/hgr_go1_ws/src/go1_hgr_ros2/ros2_hgr/model/keypoint_classifier/keypoint_classifier.hdf5\n",
            "45/45 [==============================] - 0s 2ms/step - loss: 0.8262 - accuracy: 0.6970 - val_loss: 0.4504 - val_accuracy: 0.9208\n",
            "Epoch 130/1000\n",
            " 1/45 [..............................] - ETA: 0s - loss: 0.7383 - accuracy: 0.7344\n",
            "Epoch 130: saving model to /home/avaz/courses/w23/winter-project/hgr_go1_ws/src/go1_hgr_ros2/ros2_hgr/model/keypoint_classifier/keypoint_classifier.hdf5\n",
            "45/45 [==============================] - 0s 2ms/step - loss: 0.8093 - accuracy: 0.7028 - val_loss: 0.4513 - val_accuracy: 0.9150\n",
            "Epoch 131/1000\n",
            " 1/45 [..............................] - ETA: 0s - loss: 0.7238 - accuracy: 0.7500\n",
            "Epoch 131: saving model to /home/avaz/courses/w23/winter-project/hgr_go1_ws/src/go1_hgr_ros2/ros2_hgr/model/keypoint_classifier/keypoint_classifier.hdf5\n",
            "45/45 [==============================] - 0s 2ms/step - loss: 0.8241 - accuracy: 0.6966 - val_loss: 0.4568 - val_accuracy: 0.9161\n",
            "Epoch 132/1000\n",
            " 1/45 [..............................] - ETA: 0s - loss: 0.8253 - accuracy: 0.6719\n",
            "Epoch 132: saving model to /home/avaz/courses/w23/winter-project/hgr_go1_ws/src/go1_hgr_ros2/ros2_hgr/model/keypoint_classifier/keypoint_classifier.hdf5\n",
            "45/45 [==============================] - 0s 2ms/step - loss: 0.8089 - accuracy: 0.7012 - val_loss: 0.4681 - val_accuracy: 0.9087\n",
            "Epoch 133/1000\n",
            " 1/45 [..............................] - ETA: 0s - loss: 0.7604 - accuracy: 0.6953\n",
            "Epoch 133: saving model to /home/avaz/courses/w23/winter-project/hgr_go1_ws/src/go1_hgr_ros2/ros2_hgr/model/keypoint_classifier/keypoint_classifier.hdf5\n",
            "45/45 [==============================] - 0s 2ms/step - loss: 0.8189 - accuracy: 0.6986 - val_loss: 0.4645 - val_accuracy: 0.9255\n",
            "Epoch 134/1000\n",
            "29/45 [==================>...........] - ETA: 0s - loss: 0.8240 - accuracy: 0.6967\n",
            "Epoch 134: saving model to /home/avaz/courses/w23/winter-project/hgr_go1_ws/src/go1_hgr_ros2/ros2_hgr/model/keypoint_classifier/keypoint_classifier.hdf5\n",
            "45/45 [==============================] - 0s 2ms/step - loss: 0.8172 - accuracy: 0.7010 - val_loss: 0.4740 - val_accuracy: 0.9224\n",
            "Epoch 135/1000\n",
            " 1/45 [..............................] - ETA: 0s - loss: 0.7837 - accuracy: 0.7188\n",
            "Epoch 135: saving model to /home/avaz/courses/w23/winter-project/hgr_go1_ws/src/go1_hgr_ros2/ros2_hgr/model/keypoint_classifier/keypoint_classifier.hdf5\n",
            "45/45 [==============================] - 0s 2ms/step - loss: 0.8052 - accuracy: 0.7010 - val_loss: 0.4566 - val_accuracy: 0.9234\n",
            "Epoch 136/1000\n",
            " 1/45 [..............................] - ETA: 0s - loss: 0.7790 - accuracy: 0.7188\n",
            "Epoch 136: saving model to /home/avaz/courses/w23/winter-project/hgr_go1_ws/src/go1_hgr_ros2/ros2_hgr/model/keypoint_classifier/keypoint_classifier.hdf5\n",
            "45/45 [==============================] - 0s 2ms/step - loss: 0.8031 - accuracy: 0.7089 - val_loss: 0.4547 - val_accuracy: 0.9244\n",
            "Epoch 137/1000\n",
            " 1/45 [..............................] - ETA: 0s - loss: 0.8241 - accuracy: 0.7109\n",
            "Epoch 137: saving model to /home/avaz/courses/w23/winter-project/hgr_go1_ws/src/go1_hgr_ros2/ros2_hgr/model/keypoint_classifier/keypoint_classifier.hdf5\n",
            "45/45 [==============================] - 0s 2ms/step - loss: 0.7985 - accuracy: 0.7057 - val_loss: 0.4656 - val_accuracy: 0.9208\n",
            "Epoch 138/1000\n",
            " 1/45 [..............................] - ETA: 0s - loss: 0.9184 - accuracy: 0.6172\n",
            "Epoch 138: saving model to /home/avaz/courses/w23/winter-project/hgr_go1_ws/src/go1_hgr_ros2/ros2_hgr/model/keypoint_classifier/keypoint_classifier.hdf5\n",
            "45/45 [==============================] - 0s 2ms/step - loss: 0.7934 - accuracy: 0.7094 - val_loss: 0.4504 - val_accuracy: 0.9244\n",
            "Epoch 139/1000\n",
            " 1/45 [..............................] - ETA: 0s - loss: 0.8326 - accuracy: 0.6797\n",
            "Epoch 139: saving model to /home/avaz/courses/w23/winter-project/hgr_go1_ws/src/go1_hgr_ros2/ros2_hgr/model/keypoint_classifier/keypoint_classifier.hdf5\n",
            "45/45 [==============================] - 0s 2ms/step - loss: 0.7940 - accuracy: 0.7084 - val_loss: 0.4553 - val_accuracy: 0.9229\n",
            "Epoch 140/1000\n",
            " 1/45 [..............................] - ETA: 0s - loss: 0.8684 - accuracy: 0.6953\n",
            "Epoch 140: saving model to /home/avaz/courses/w23/winter-project/hgr_go1_ws/src/go1_hgr_ros2/ros2_hgr/model/keypoint_classifier/keypoint_classifier.hdf5\n",
            "45/45 [==============================] - 0s 2ms/step - loss: 0.8019 - accuracy: 0.7136 - val_loss: 0.4453 - val_accuracy: 0.9255\n",
            "Epoch 141/1000\n",
            " 1/45 [..............................] - ETA: 0s - loss: 0.8697 - accuracy: 0.6953\n",
            "Epoch 141: saving model to /home/avaz/courses/w23/winter-project/hgr_go1_ws/src/go1_hgr_ros2/ros2_hgr/model/keypoint_classifier/keypoint_classifier.hdf5\n",
            "45/45 [==============================] - 0s 2ms/step - loss: 0.8014 - accuracy: 0.7071 - val_loss: 0.4690 - val_accuracy: 0.9129\n",
            "Epoch 142/1000\n",
            " 1/45 [..............................] - ETA: 0s - loss: 0.7789 - accuracy: 0.7109\n",
            "Epoch 142: saving model to /home/avaz/courses/w23/winter-project/hgr_go1_ws/src/go1_hgr_ros2/ros2_hgr/model/keypoint_classifier/keypoint_classifier.hdf5\n",
            "45/45 [==============================] - 0s 2ms/step - loss: 0.8147 - accuracy: 0.6987 - val_loss: 0.4514 - val_accuracy: 0.9234\n",
            "Epoch 143/1000\n",
            " 1/45 [..............................] - ETA: 0s - loss: 0.8771 - accuracy: 0.6406\n",
            "Epoch 143: saving model to /home/avaz/courses/w23/winter-project/hgr_go1_ws/src/go1_hgr_ros2/ros2_hgr/model/keypoint_classifier/keypoint_classifier.hdf5\n",
            "45/45 [==============================] - 0s 2ms/step - loss: 0.8047 - accuracy: 0.7033 - val_loss: 0.4548 - val_accuracy: 0.9234\n",
            "Epoch 144/1000\n",
            " 1/45 [..............................] - ETA: 0s - loss: 0.8124 - accuracy: 0.7266\n",
            "Epoch 144: saving model to /home/avaz/courses/w23/winter-project/hgr_go1_ws/src/go1_hgr_ros2/ros2_hgr/model/keypoint_classifier/keypoint_classifier.hdf5\n",
            "45/45 [==============================] - 0s 2ms/step - loss: 0.7945 - accuracy: 0.7070 - val_loss: 0.4497 - val_accuracy: 0.9297\n",
            "Epoch 145/1000\n",
            "35/45 [======================>.......] - ETA: 0s - loss: 0.7910 - accuracy: 0.7089\n",
            "Epoch 145: saving model to /home/avaz/courses/w23/winter-project/hgr_go1_ws/src/go1_hgr_ros2/ros2_hgr/model/keypoint_classifier/keypoint_classifier.hdf5\n",
            "45/45 [==============================] - 0s 2ms/step - loss: 0.7912 - accuracy: 0.7120 - val_loss: 0.4654 - val_accuracy: 0.9166\n",
            "Epoch 146/1000\n",
            " 1/45 [..............................] - ETA: 0s - loss: 0.8828 - accuracy: 0.7109\n",
            "Epoch 146: saving model to /home/avaz/courses/w23/winter-project/hgr_go1_ws/src/go1_hgr_ros2/ros2_hgr/model/keypoint_classifier/keypoint_classifier.hdf5\n",
            "45/45 [==============================] - 0s 2ms/step - loss: 0.8023 - accuracy: 0.7050 - val_loss: 0.4612 - val_accuracy: 0.9208\n",
            "Epoch 147/1000\n",
            " 1/45 [..............................] - ETA: 0s - loss: 0.7031 - accuracy: 0.7656\n",
            "Epoch 147: saving model to /home/avaz/courses/w23/winter-project/hgr_go1_ws/src/go1_hgr_ros2/ros2_hgr/model/keypoint_classifier/keypoint_classifier.hdf5\n",
            "45/45 [==============================] - 0s 2ms/step - loss: 0.7842 - accuracy: 0.7091 - val_loss: 0.4691 - val_accuracy: 0.9119\n",
            "Epoch 148/1000\n",
            " 1/45 [..............................] - ETA: 0s - loss: 0.7267 - accuracy: 0.6719\n",
            "Epoch 148: saving model to /home/avaz/courses/w23/winter-project/hgr_go1_ws/src/go1_hgr_ros2/ros2_hgr/model/keypoint_classifier/keypoint_classifier.hdf5\n",
            "45/45 [==============================] - 0s 2ms/step - loss: 0.7909 - accuracy: 0.7105 - val_loss: 0.4581 - val_accuracy: 0.9203\n",
            "Epoch 149/1000\n",
            " 1/45 [..............................] - ETA: 0s - loss: 0.7313 - accuracy: 0.7109\n",
            "Epoch 149: saving model to /home/avaz/courses/w23/winter-project/hgr_go1_ws/src/go1_hgr_ros2/ros2_hgr/model/keypoint_classifier/keypoint_classifier.hdf5\n",
            "45/45 [==============================] - 0s 2ms/step - loss: 0.7774 - accuracy: 0.7105 - val_loss: 0.4534 - val_accuracy: 0.9213\n",
            "Epoch 150/1000\n",
            " 1/45 [..............................] - ETA: 0s - loss: 0.7309 - accuracy: 0.7266\n",
            "Epoch 150: saving model to /home/avaz/courses/w23/winter-project/hgr_go1_ws/src/go1_hgr_ros2/ros2_hgr/model/keypoint_classifier/keypoint_classifier.hdf5\n",
            "45/45 [==============================] - 0s 2ms/step - loss: 0.8118 - accuracy: 0.6993 - val_loss: 0.4662 - val_accuracy: 0.9166\n",
            "Epoch 151/1000\n",
            " 1/45 [..............................] - ETA: 0s - loss: 0.9394 - accuracy: 0.5781\n",
            "Epoch 151: saving model to /home/avaz/courses/w23/winter-project/hgr_go1_ws/src/go1_hgr_ros2/ros2_hgr/model/keypoint_classifier/keypoint_classifier.hdf5\n",
            "45/45 [==============================] - 0s 2ms/step - loss: 0.7948 - accuracy: 0.7122 - val_loss: 0.4534 - val_accuracy: 0.9260\n",
            "Epoch 152/1000\n",
            " 1/45 [..............................] - ETA: 0s - loss: 0.7518 - accuracy: 0.7031\n",
            "Epoch 152: saving model to /home/avaz/courses/w23/winter-project/hgr_go1_ws/src/go1_hgr_ros2/ros2_hgr/model/keypoint_classifier/keypoint_classifier.hdf5\n",
            "45/45 [==============================] - 0s 2ms/step - loss: 0.7904 - accuracy: 0.7078 - val_loss: 0.4638 - val_accuracy: 0.9234\n",
            "Epoch 153/1000\n",
            " 1/45 [..............................] - ETA: 0s - loss: 0.7089 - accuracy: 0.7266\n",
            "Epoch 153: saving model to /home/avaz/courses/w23/winter-project/hgr_go1_ws/src/go1_hgr_ros2/ros2_hgr/model/keypoint_classifier/keypoint_classifier.hdf5\n",
            "45/45 [==============================] - 0s 2ms/step - loss: 0.7917 - accuracy: 0.7131 - val_loss: 0.4654 - val_accuracy: 0.9229\n",
            "Epoch 154/1000\n",
            " 1/45 [..............................] - ETA: 0s - loss: 0.6940 - accuracy: 0.7344\n",
            "Epoch 154: saving model to /home/avaz/courses/w23/winter-project/hgr_go1_ws/src/go1_hgr_ros2/ros2_hgr/model/keypoint_classifier/keypoint_classifier.hdf5\n",
            "45/45 [==============================] - 0s 2ms/step - loss: 0.8034 - accuracy: 0.7056 - val_loss: 0.4699 - val_accuracy: 0.9229\n",
            "Epoch 155/1000\n",
            " 1/45 [..............................] - ETA: 0s - loss: 0.8037 - accuracy: 0.6797\n",
            "Epoch 155: saving model to /home/avaz/courses/w23/winter-project/hgr_go1_ws/src/go1_hgr_ros2/ros2_hgr/model/keypoint_classifier/keypoint_classifier.hdf5\n",
            "45/45 [==============================] - 0s 2ms/step - loss: 0.7917 - accuracy: 0.7091 - val_loss: 0.4549 - val_accuracy: 0.9224\n",
            "Epoch 156/1000\n",
            " 1/45 [..............................] - ETA: 0s - loss: 0.7809 - accuracy: 0.7031\n",
            "Epoch 156: saving model to /home/avaz/courses/w23/winter-project/hgr_go1_ws/src/go1_hgr_ros2/ros2_hgr/model/keypoint_classifier/keypoint_classifier.hdf5\n",
            "45/45 [==============================] - 0s 2ms/step - loss: 0.7769 - accuracy: 0.7225 - val_loss: 0.4584 - val_accuracy: 0.9008\n",
            "Epoch 157/1000\n",
            " 1/45 [..............................] - ETA: 0s - loss: 0.8291 - accuracy: 0.6875\n",
            "Epoch 157: saving model to /home/avaz/courses/w23/winter-project/hgr_go1_ws/src/go1_hgr_ros2/ros2_hgr/model/keypoint_classifier/keypoint_classifier.hdf5\n",
            "45/45 [==============================] - 0s 2ms/step - loss: 0.7954 - accuracy: 0.6973 - val_loss: 0.4592 - val_accuracy: 0.9119\n",
            "Epoch 158/1000\n",
            "32/45 [====================>.........] - ETA: 0s - loss: 0.7951 - accuracy: 0.7070\n",
            "Epoch 158: saving model to /home/avaz/courses/w23/winter-project/hgr_go1_ws/src/go1_hgr_ros2/ros2_hgr/model/keypoint_classifier/keypoint_classifier.hdf5\n",
            "45/45 [==============================] - 0s 2ms/step - loss: 0.7893 - accuracy: 0.7068 - val_loss: 0.4584 - val_accuracy: 0.9171\n",
            "Epoch 159/1000\n",
            " 1/45 [..............................] - ETA: 0s - loss: 0.9718 - accuracy: 0.6094\n",
            "Epoch 159: saving model to /home/avaz/courses/w23/winter-project/hgr_go1_ws/src/go1_hgr_ros2/ros2_hgr/model/keypoint_classifier/keypoint_classifier.hdf5\n",
            "45/45 [==============================] - 0s 2ms/step - loss: 0.7976 - accuracy: 0.7075 - val_loss: 0.4781 - val_accuracy: 0.9161\n",
            "Epoch 160/1000\n",
            " 1/45 [..............................] - ETA: 0s - loss: 0.7045 - accuracy: 0.7656\n",
            "Epoch 160: saving model to /home/avaz/courses/w23/winter-project/hgr_go1_ws/src/go1_hgr_ros2/ros2_hgr/model/keypoint_classifier/keypoint_classifier.hdf5\n",
            "45/45 [==============================] - 0s 2ms/step - loss: 0.7925 - accuracy: 0.7138 - val_loss: 0.4490 - val_accuracy: 0.9182\n",
            "Epoch 160: early stopping\n"
          ]
        },
        {
          "data": {
            "text/plain": [
              "<keras.callbacks.History at 0x7f1034488760>"
            ]
          },
          "execution_count": 55,
          "metadata": {},
          "output_type": "execute_result"
        }
      ],
      "source": [
        "model.fit(\n",
        "    X_train,\n",
        "    y_train,\n",
        "    epochs=1000,\n",
        "    batch_size=128,\n",
        "    validation_data=(X_test, y_test),\n",
        "    callbacks=[cp_callback, es_callback]\n",
        ")"
      ]
    },
    {
      "cell_type": "code",
      "execution_count": 56,
      "metadata": {
        "colab": {
          "base_uri": "https://localhost:8080/"
        },
        "id": "pxvb2Y299hE3",
        "outputId": "59eb3185-2e37-4b9e-bc9d-ab1b8ac29b7f"
      },
      "outputs": [
        {
          "name": "stdout",
          "output_type": "stream",
          "text": [
            "15/15 [==============================] - 0s 796us/step - loss: 0.4490 - accuracy: 0.9182\n"
          ]
        }
      ],
      "source": [
        "# Model evaluation\n",
        "val_loss, val_acc = model.evaluate(X_test, y_test, batch_size=128)"
      ]
    },
    {
      "cell_type": "code",
      "execution_count": 57,
      "metadata": {
        "id": "RBkmDeUW9hE4"
      },
      "outputs": [],
      "source": [
        "# Loading the saved model\n",
        "model = tf.keras.models.load_model(model_save_path)"
      ]
    },
    {
      "cell_type": "code",
      "execution_count": 58,
      "metadata": {
        "colab": {
          "base_uri": "https://localhost:8080/"
        },
        "id": "tFz9Tb0I9hE4",
        "outputId": "1c3b3528-54ae-4ee2-ab04-77429211cbef"
      },
      "outputs": [
        {
          "name": "stdout",
          "output_type": "stream",
          "text": [
            "1/1 [==============================] - 0s 32ms/step\n",
            "[4.0956870e-01 1.9145916e-01 3.7056342e-01 8.1829837e-04 2.3483487e-03\n",
            " 2.5084829e-02 1.2884707e-04 2.8382225e-05]\n",
            "0\n"
          ]
        }
      ],
      "source": [
        "# Inference test\n",
        "predict_result = model.predict(np.array([X_test[0]]))\n",
        "print(np.squeeze(predict_result))\n",
        "print(np.argmax(np.squeeze(predict_result)))"
      ]
    },
    {
      "cell_type": "markdown",
      "metadata": {
        "id": "S3U4yNWx9hE4"
      },
      "source": [
        "# Confusion matrix"
      ]
    },
    {
      "cell_type": "code",
      "execution_count": 59,
      "metadata": {
        "colab": {
          "base_uri": "https://localhost:8080/",
          "height": 582
        },
        "id": "AP1V6SCk9hE5",
        "outputId": "08e41a80-7a4a-4619-8125-ecc371368d19"
      },
      "outputs": [
        {
          "name": "stdout",
          "output_type": "stream",
          "text": [
            "60/60 [==============================] - 0s 601us/step\n"
          ]
        },
        {
          "data": {
            "image/png": "[encoded data removed]",
            "text/plain": [
              "<Figure size 700x600 with 2 Axes>"
            ]
          },
          "metadata": {},
          "output_type": "display_data"
        },
        {
          "name": "stdout",
          "output_type": "stream",
          "text": [
            "Classification Report\n",
            "              precision    recall  f1-score   support\n",
            "\n",
            "           0       0.92      0.95      0.94       523\n",
            "           1       0.93      0.92      0.93       444\n",
            "           2       0.87      0.95      0.91       322\n",
            "           3       0.99      0.81      0.89       194\n",
            "           4       0.98      0.74      0.84       127\n",
            "           5       0.94      0.87      0.90        85\n",
            "           6       0.79      1.00      0.88        96\n",
            "           7       1.00      0.99      1.00       115\n",
            "\n",
            "    accuracy                           0.92      1906\n",
            "   macro avg       0.93      0.90      0.91      1906\n",
            "weighted avg       0.92      0.92      0.92      1906\n",
            "\n"
          ]
        }
      ],
      "source": [
        "import pandas as pd\n",
        "import seaborn as sns\n",
        "import matplotlib.pyplot as plt\n",
        "from sklearn.metrics import confusion_matrix, classification_report\n",
        "\n",
        "def print_confusion_matrix(y_true, y_pred, report=True):\n",
        "    labels = sorted(list(set(y_true)))\n",
        "    cmx_data = confusion_matrix(y_true, y_pred, labels=labels)\n",
        "    \n",
        "    df_cmx = pd.DataFrame(cmx_data, index=labels, columns=labels)\n",
        " \n",
        "    fig, ax = plt.subplots(figsize=(7, 6))\n",
        "    sns.heatmap(df_cmx, annot=True, fmt='g' ,square=False)\n",
        "    ax.set_ylim(len(set(y_true)), 0)\n",
        "    plt.show()\n",
        "    \n",
        "    if report:\n",
        "        print('Classification Report')\n",
        "        print(classification_report(y_test, y_pred))\n",
        "\n",
        "Y_pred = model.predict(X_test)\n",
        "y_pred = np.argmax(Y_pred, axis=1)\n",
        "\n",
        "print_confusion_matrix(y_test, y_pred)"
      ]
    },
    {
      "cell_type": "markdown",
      "metadata": {
        "id": "FNP6aqzc9hE5"
      },
      "source": [
        "# Convert to model for Tensorflow-Lite"
      ]
    },
    {
      "cell_type": "code",
      "execution_count": 60,
      "metadata": {
        "id": "ODjnYyld9hE6"
      },
      "outputs": [],
      "source": [
        "# Save as a model dedicated to inference\n",
        "model.save(model_save_path, include_optimizer=False)"
      ]
    },
    {
      "cell_type": "code",
      "execution_count": 61,
      "metadata": {
        "colab": {
          "base_uri": "https://localhost:8080/"
        },
        "id": "zRfuK8Y59hE6",
        "outputId": "a4ca585c-b5d5-4244-8291-8674063209bb"
      },
      "outputs": [
        {
          "name": "stderr",
          "output_type": "stream",
          "text": [
            "WARNING:absl:Found untraced functions such as _update_step_xla while saving (showing 1 of 1). These functions will not be directly callable after loading.\n"
          ]
        },
        {
          "name": "stdout",
          "output_type": "stream",
          "text": [
            "INFO:tensorflow:Assets written to: /tmp/tmpmwd711zj/assets\n"
          ]
        },
        {
          "name": "stderr",
          "output_type": "stream",
          "text": [
            "INFO:tensorflow:Assets written to: /tmp/tmpmwd711zj/assets\n",
            "2023-02-02 14:04:20.813421: W tensorflow/compiler/mlir/lite/python/tf_tfl_flatbuffer_helpers.cc:362] Ignored output_format.\n",
            "2023-02-02 14:04:20.813443: W tensorflow/compiler/mlir/lite/python/tf_tfl_flatbuffer_helpers.cc:365] Ignored drop_control_dependency.\n",
            "2023-02-02 14:04:20.813560: I tensorflow/cc/saved_model/reader.cc:45] Reading SavedModel from: /tmp/tmpmwd711zj\n",
            "2023-02-02 14:04:20.814506: I tensorflow/cc/saved_model/reader.cc:89] Reading meta graph with tags { serve }\n",
            "2023-02-02 14:04:20.814525: I tensorflow/cc/saved_model/reader.cc:130] Reading SavedModel debug info (if present) from: /tmp/tmpmwd711zj\n",
            "2023-02-02 14:04:20.817730: I tensorflow/cc/saved_model/loader.cc:229] Restoring SavedModel bundle.\n",
            "2023-02-02 14:04:20.844987: I tensorflow/cc/saved_model/loader.cc:213] Running initialization op on SavedModel bundle at path: /tmp/tmpmwd711zj\n",
            "2023-02-02 14:04:20.851768: I tensorflow/cc/saved_model/loader.cc:305] SavedModel load for tags { serve }; Status: success: OK. Took 38205 microseconds.\n"
          ]
        },
        {
          "data": {
            "text/plain": [
              "6748"
            ]
          },
          "execution_count": 61,
          "metadata": {},
          "output_type": "execute_result"
        }
      ],
      "source": [
        "# Transform model (quantization)\n",
        "\n",
        "converter = tf.lite.TFLiteConverter.from_keras_model(model)\n",
        "converter.optimizations = [tf.lite.Optimize.DEFAULT]\n",
        "tflite_quantized_model = converter.convert()\n",
        "\n",
        "open(tflite_save_path, 'wb').write(tflite_quantized_model)"
      ]
    },
    {
      "cell_type": "markdown",
      "metadata": {
        "id": "CHBPBXdx9hE6"
      },
      "source": [
        "# Inference test"
      ]
    },
    {
      "cell_type": "code",
      "execution_count": 62,
      "metadata": {
        "id": "mGAzLocO9hE7"
      },
      "outputs": [],
      "source": [
        "interpreter = tf.lite.Interpreter(model_path=tflite_save_path)\n",
        "interpreter.allocate_tensors()"
      ]
    },
    {
      "cell_type": "code",
      "execution_count": 63,
      "metadata": {
        "id": "oQuDK8YS9hE7"
      },
      "outputs": [],
      "source": [
        "# Get I / O tensor\n",
        "input_details = interpreter.get_input_details()\n",
        "output_details = interpreter.get_output_details()"
      ]
    },
    {
      "cell_type": "code",
      "execution_count": 64,
      "metadata": {
        "id": "2_ixAf_l9hE7"
      },
      "outputs": [],
      "source": [
        "interpreter.set_tensor(input_details[0]['index'], np.array([X_test[0]]))"
      ]
    },
    {
      "cell_type": "code",
      "execution_count": 65,
      "metadata": {
        "colab": {
          "base_uri": "https://localhost:8080/"
        },
        "id": "s4FoAnuc9hE7",
        "outputId": "91f18257-8d8b-4ef3-c558-e9b5f94fabbf",
        "scrolled": true
      },
      "outputs": [
        {
          "name": "stdout",
          "output_type": "stream",
          "text": [
            "CPU times: user 630 µs, sys: 37 µs, total: 667 µs\n",
            "Wall time: 558 µs\n"
          ]
        }
      ],
      "source": [
        "%%time\n",
        "# Inference implementation\n",
        "interpreter.invoke()\n",
        "tflite_results = interpreter.get_tensor(output_details[0]['index'])"
      ]
    },
    {
      "cell_type": "code",
      "execution_count": 66,
      "metadata": {
        "colab": {
          "base_uri": "https://localhost:8080/"
        },
        "id": "vONjp19J9hE8",
        "outputId": "77205e24-fd00-42c4-f7b6-e06e527c2cba"
      },
      "outputs": [
        {
          "name": "stdout",
          "output_type": "stream",
          "text": [
            "[4.0956876e-01 1.9145912e-01 3.7056339e-01 8.1829884e-04 2.3483494e-03\n",
            " 2.5084833e-02 1.2884710e-04 2.8382225e-05]\n",
            "0\n"
          ]
        }
      ],
      "source": [
        "print(np.squeeze(tflite_results))\n",
        "print(np.argmax(np.squeeze(tflite_results)))"
      ]
    }
  ],
  "metadata": {
    "accelerator": "GPU",
    "colab": {
      "collapsed_sections": [],
      "name": "keypoint_classification_EN.ipynb",
      "provenance": [],
      "toc_visible": true
    },
    "kernelspec": {
      "display_name": "Python 3",
      "language": "python",
      "name": "python3"
    },
    "language_info": {
      "codemirror_mode": {
        "name": "ipython",
        "version": 3
      },
      "file_extension": ".py",
      "mimetype": "text/x-python",
      "name": "python",
      "nbconvert_exporter": "python",
      "pygments_lexer": "ipython3",
      "version": "3.10.6"
    },
    "vscode": {
      "interpreter": {
        "hash": "916dbcbb3f70747c44a77c7bcd40155683ae19c65e1c03b4aa3499c5328201f1"
      }
    }
  },
  "nbformat": 4,
  "nbformat_minor": 0
}
