{
  "cells": [
    {
      "cell_type": "code",
      "execution_count": 23,
      "metadata": {
        "id": "igMyGnjE9hEp"
      },
      "outputs": [],
      "source": [
        "import csv\n",
        "\n",
        "import numpy as np\n",
        "import tensorflow as tf\n",
        "from sklearn.model_selection import train_test_split\n",
        "\n",
        "RANDOM_SEED = 42"
      ]
    },
    {
      "cell_type": "markdown",
      "metadata": {
        "id": "t2HDvhIu9hEr"
      },
      "source": [
        "# Specify each path"
      ]
    },
    {
      "cell_type": "code",
      "execution_count": 24,
      "metadata": {
        "id": "9NvZP2Zn9hEy"
      },
      "outputs": [],
      "source": [
        "dataset = 'model/keypoint_classifier/keypoint.csv'\n",
        "model_save_path = 'model/keypoint_classifier/keypoint_classifier.hdf5'\n",
        "tflite_save_path = 'model/keypoint_classifier/keypoint_classifier.tflite'"
      ]
    },
    {
      "cell_type": "markdown",
      "metadata": {
        "id": "s5oMH7x19hEz"
      },
      "source": [
        "# Set number of classes"
      ]
    },
    {
      "cell_type": "code",
      "execution_count": 25,
      "metadata": {
        "id": "du4kodXL9hEz"
      },
      "outputs": [],
      "source": [
        "NUM_CLASSES = 7"
      ]
    },
    {
      "cell_type": "markdown",
      "metadata": {
        "id": "XjnL0uso9hEz"
      },
      "source": [
        "# Dataset reading"
      ]
    },
    {
      "cell_type": "code",
      "execution_count": 26,
      "metadata": {
        "id": "QT5ZqtEz9hE0"
      },
      "outputs": [],
      "source": [
        "X_dataset = np.loadtxt(dataset, delimiter=',', dtype='float32', usecols=list(range(1, (21 * 2) + 1)))"
      ]
    },
    {
      "cell_type": "code",
      "execution_count": 27,
      "metadata": {
        "id": "QmoKFsp49hE0"
      },
      "outputs": [],
      "source": [
        "y_dataset = np.loadtxt(dataset, delimiter=',', dtype='int32', usecols=(0))"
      ]
    },
    {
      "cell_type": "code",
      "execution_count": 28,
      "metadata": {
        "id": "xQU7JTZ_9hE0"
      },
      "outputs": [],
      "source": [
        "X_train, X_test, y_train, y_test = train_test_split(X_dataset, y_dataset, train_size=0.75, random_state=RANDOM_SEED)"
      ]
    },
    {
      "cell_type": "markdown",
      "metadata": {
        "id": "mxK_lETT9hE0"
      },
      "source": [
        "# Model building"
      ]
    },
    {
      "cell_type": "code",
      "execution_count": 29,
      "metadata": {
        "id": "vHBmUf1t9hE1"
      },
      "outputs": [],
      "source": [
        "model = tf.keras.models.Sequential([\n",
        "    tf.keras.layers.Input((21 * 2, )),\n",
        "    tf.keras.layers.Dropout(0.2),\n",
        "    tf.keras.layers.Dense(20, activation='relu'),\n",
        "    tf.keras.layers.Dropout(0.4),\n",
        "    tf.keras.layers.Dense(10, activation='relu'),\n",
        "    tf.keras.layers.Dense(NUM_CLASSES, activation='softmax')\n",
        "])"
      ]
    },
    {
      "cell_type": "code",
      "execution_count": 30,
      "metadata": {
        "colab": {
          "base_uri": "https://localhost:8080/"
        },
        "id": "ypqky9tc9hE1",
        "outputId": "5db082bb-30e3-4110-bf63-a1ee777ecd46"
      },
      "outputs": [
        {
          "name": "stdout",
          "output_type": "stream",
          "text": [
            "Model: \"sequential_1\"\n",
            "_________________________________________________________________\n",
            " Layer (type)                Output Shape              Param #   \n",
            "=================================================================\n",
            " dropout_2 (Dropout)         (None, 42)                0         \n",
            "                                                                 \n",
            " dense_3 (Dense)             (None, 20)                860       \n",
            "                                                                 \n",
            " dropout_3 (Dropout)         (None, 20)                0         \n",
            "                                                                 \n",
            " dense_4 (Dense)             (None, 10)                210       \n",
            "                                                                 \n",
            " dense_5 (Dense)             (None, 7)                 77        \n",
            "                                                                 \n",
            "=================================================================\n",
            "Total params: 1,147\n",
            "Trainable params: 1,147\n",
            "Non-trainable params: 0\n",
            "_________________________________________________________________\n"
          ]
        }
      ],
      "source": [
        "model.summary()  # tf.keras.utils.plot_model(model, show_shapes=True)"
      ]
    },
    {
      "cell_type": "code",
      "execution_count": 31,
      "metadata": {
        "id": "MbMjOflQ9hE1"
      },
      "outputs": [],
      "source": [
        "# Model checkpoint callback\n",
        "cp_callback = tf.keras.callbacks.ModelCheckpoint(\n",
        "    model_save_path, verbose=1, save_weights_only=False)\n",
        "# Callback for early stopping\n",
        "es_callback = tf.keras.callbacks.EarlyStopping(patience=20, verbose=1)"
      ]
    },
    {
      "cell_type": "code",
      "execution_count": 32,
      "metadata": {
        "id": "c3Dac0M_9hE2"
      },
      "outputs": [],
      "source": [
        "# Model compilation\n",
        "model.compile(\n",
        "    optimizer='adam',\n",
        "    loss='sparse_categorical_crossentropy',\n",
        "    metrics=['accuracy']\n",
        ")"
      ]
    },
    {
      "cell_type": "markdown",
      "metadata": {
        "id": "7XI0j1Iu9hE2"
      },
      "source": [
        "# Model training"
      ]
    },
    {
      "cell_type": "code",
      "execution_count": 33,
      "metadata": {
        "colab": {
          "base_uri": "https://localhost:8080/"
        },
        "id": "WirBl-JE9hE3",
        "outputId": "71b30ca2-8294-4d9d-8aa2-800d90d399de",
        "scrolled": true
      },
      "outputs": [
        {
          "name": "stdout",
          "output_type": "stream",
          "text": [
            "Epoch 1/1000\n",
            " 1/45 [..............................] - ETA: 14s - loss: 2.0095 - accuracy: 0.1641\n",
            "Epoch 1: saving model to model/keypoint_classifier/keypoint_classifier.hdf5\n",
            "45/45 [==============================] - 0s 3ms/step - loss: 1.9493 - accuracy: 0.1752 - val_loss: 1.9029 - val_accuracy: 0.3381\n",
            "Epoch 2/1000\n",
            " 1/45 [..............................] - ETA: 0s - loss: 1.9141 - accuracy: 0.2266\n",
            "Epoch 2: saving model to model/keypoint_classifier/keypoint_classifier.hdf5\n",
            "45/45 [==============================] - 0s 2ms/step - loss: 1.8832 - accuracy: 0.2536 - val_loss: 1.8022 - val_accuracy: 0.3339\n",
            "Epoch 3/1000\n",
            " 1/45 [..............................] - ETA: 0s - loss: 1.8619 - accuracy: 0.2891\n",
            "Epoch 3: saving model to model/keypoint_classifier/keypoint_classifier.hdf5\n",
            "45/45 [==============================] - 0s 2ms/step - loss: 1.8051 - accuracy: 0.2887 - val_loss: 1.6914 - val_accuracy: 0.3445\n",
            "Epoch 4/1000\n",
            " 1/45 [..............................] - ETA: 0s - loss: 1.7827 - accuracy: 0.2500\n",
            "Epoch 4: saving model to model/keypoint_classifier/keypoint_classifier.hdf5\n",
            "45/45 [==============================] - 0s 2ms/step - loss: 1.7200 - accuracy: 0.3250 - val_loss: 1.5607 - val_accuracy: 0.5419\n",
            "Epoch 5/1000\n",
            " 1/45 [..............................] - ETA: 0s - loss: 1.7017 - accuracy: 0.3359\n",
            "Epoch 5: saving model to model/keypoint_classifier/keypoint_classifier.hdf5\n",
            "45/45 [==============================] - 0s 2ms/step - loss: 1.6426 - accuracy: 0.3584 - val_loss: 1.4575 - val_accuracy: 0.4395\n",
            "Epoch 6/1000\n",
            " 1/45 [..............................] - ETA: 0s - loss: 1.5626 - accuracy: 0.4219\n",
            "Epoch 6: saving model to model/keypoint_classifier/keypoint_classifier.hdf5\n",
            "45/45 [==============================] - 0s 2ms/step - loss: 1.5785 - accuracy: 0.3860 - val_loss: 1.3841 - val_accuracy: 0.4666\n",
            "Epoch 7/1000\n",
            " 1/45 [..............................] - ETA: 0s - loss: 1.4997 - accuracy: 0.4297\n",
            "Epoch 7: saving model to model/keypoint_classifier/keypoint_classifier.hdf5\n",
            "45/45 [==============================] - 0s 2ms/step - loss: 1.5351 - accuracy: 0.3917 - val_loss: 1.3066 - val_accuracy: 0.4628\n",
            "Epoch 8/1000\n",
            " 1/45 [..............................] - ETA: 0s - loss: 1.4127 - accuracy: 0.4922\n",
            "Epoch 8: saving model to model/keypoint_classifier/keypoint_classifier.hdf5\n",
            "45/45 [==============================] - 0s 2ms/step - loss: 1.4964 - accuracy: 0.4064 - val_loss: 1.2856 - val_accuracy: 0.5478\n",
            "Epoch 9/1000\n",
            " 1/45 [..............................] - ETA: 0s - loss: 1.4367 - accuracy: 0.4531\n",
            "Epoch 9: saving model to model/keypoint_classifier/keypoint_classifier.hdf5\n",
            "45/45 [==============================] - 0s 2ms/step - loss: 1.4872 - accuracy: 0.4019 - val_loss: 1.2262 - val_accuracy: 0.5584\n",
            "Epoch 10/1000\n",
            " 1/45 [..............................] - ETA: 0s - loss: 1.4429 - accuracy: 0.4375\n",
            "Epoch 10: saving model to model/keypoint_classifier/keypoint_classifier.hdf5\n",
            "45/45 [==============================] - 0s 2ms/step - loss: 1.4283 - accuracy: 0.4350 - val_loss: 1.1715 - val_accuracy: 0.6014\n",
            "Epoch 11/1000\n",
            " 1/45 [..............................] - ETA: 0s - loss: 1.2758 - accuracy: 0.5391\n",
            "Epoch 11: saving model to model/keypoint_classifier/keypoint_classifier.hdf5\n",
            "45/45 [==============================] - 0s 2ms/step - loss: 1.3845 - accuracy: 0.4556 - val_loss: 1.1114 - val_accuracy: 0.6157\n",
            "Epoch 12/1000\n",
            "27/45 [=================>............] - ETA: 0s - loss: 1.3719 - accuracy: 0.4476\n",
            "Epoch 12: saving model to model/keypoint_classifier/keypoint_classifier.hdf5\n",
            "45/45 [==============================] - 0s 2ms/step - loss: 1.3683 - accuracy: 0.4556 - val_loss: 1.0864 - val_accuracy: 0.6545\n",
            "Epoch 13/1000\n",
            " 1/45 [..............................] - ETA: 0s - loss: 1.4283 - accuracy: 0.3984\n",
            "Epoch 13: saving model to model/keypoint_classifier/keypoint_classifier.hdf5\n",
            "45/45 [==============================] - 0s 2ms/step - loss: 1.3297 - accuracy: 0.4600 - val_loss: 1.0311 - val_accuracy: 0.7277\n",
            "Epoch 14/1000\n",
            " 1/45 [..............................] - ETA: 0s - loss: 1.2606 - accuracy: 0.5078\n",
            "Epoch 14: saving model to model/keypoint_classifier/keypoint_classifier.hdf5\n",
            "45/45 [==============================] - 0s 2ms/step - loss: 1.3081 - accuracy: 0.4809 - val_loss: 0.9941 - val_accuracy: 0.7277\n",
            "Epoch 15/1000\n",
            " 1/45 [..............................] - ETA: 0s - loss: 1.2561 - accuracy: 0.4922\n",
            "Epoch 15: saving model to model/keypoint_classifier/keypoint_classifier.hdf5\n",
            "45/45 [==============================] - 0s 2ms/step - loss: 1.2845 - accuracy: 0.4890 - val_loss: 0.9743 - val_accuracy: 0.7734\n",
            "Epoch 16/1000\n",
            " 1/45 [..............................] - ETA: 0s - loss: 1.3410 - accuracy: 0.4141\n",
            "Epoch 16: saving model to model/keypoint_classifier/keypoint_classifier.hdf5\n",
            "45/45 [==============================] - 0s 2ms/step - loss: 1.2684 - accuracy: 0.4931 - val_loss: 0.9599 - val_accuracy: 0.8036\n",
            "Epoch 17/1000\n",
            " 1/45 [..............................] - ETA: 0s - loss: 1.2152 - accuracy: 0.5312\n",
            "Epoch 17: saving model to model/keypoint_classifier/keypoint_classifier.hdf5\n",
            "45/45 [==============================] - 0s 2ms/step - loss: 1.2402 - accuracy: 0.5142 - val_loss: 0.9315 - val_accuracy: 0.7972\n",
            "Epoch 18/1000\n",
            " 1/45 [..............................] - ETA: 0s - loss: 1.2407 - accuracy: 0.5625\n",
            "Epoch 18: saving model to model/keypoint_classifier/keypoint_classifier.hdf5\n",
            "45/45 [==============================] - 0s 2ms/step - loss: 1.2341 - accuracy: 0.5053 - val_loss: 0.9023 - val_accuracy: 0.8116\n",
            "Epoch 19/1000\n",
            " 1/45 [..............................] - ETA: 0s - loss: 1.2510 - accuracy: 0.4688\n",
            "Epoch 19: saving model to model/keypoint_classifier/keypoint_classifier.hdf5\n",
            "45/45 [==============================] - 0s 2ms/step - loss: 1.2020 - accuracy: 0.5250 - val_loss: 0.8711 - val_accuracy: 0.8355\n",
            "Epoch 20/1000\n",
            " 1/45 [..............................] - ETA: 0s - loss: 1.2367 - accuracy: 0.5000\n",
            "Epoch 20: saving model to model/keypoint_classifier/keypoint_classifier.hdf5\n",
            "45/45 [==============================] - 0s 2ms/step - loss: 1.2001 - accuracy: 0.5228 - val_loss: 0.8755 - val_accuracy: 0.7951\n",
            "Epoch 21/1000\n",
            " 1/45 [..............................] - ETA: 0s - loss: 1.1810 - accuracy: 0.5234\n",
            "Epoch 21: saving model to model/keypoint_classifier/keypoint_classifier.hdf5\n",
            "45/45 [==============================] - 0s 2ms/step - loss: 1.1720 - accuracy: 0.5414 - val_loss: 0.8696 - val_accuracy: 0.8254\n",
            "Epoch 22/1000\n",
            " 1/45 [..............................] - ETA: 0s - loss: 1.3052 - accuracy: 0.4766\n",
            "Epoch 22: saving model to model/keypoint_classifier/keypoint_classifier.hdf5\n",
            "45/45 [==============================] - 0s 2ms/step - loss: 1.1573 - accuracy: 0.5407 - val_loss: 0.8743 - val_accuracy: 0.7978\n",
            "Epoch 23/1000\n",
            " 1/45 [..............................] - ETA: 0s - loss: 1.1568 - accuracy: 0.5625\n",
            "Epoch 23: saving model to model/keypoint_classifier/keypoint_classifier.hdf5\n",
            "45/45 [==============================] - 0s 2ms/step - loss: 1.1530 - accuracy: 0.5432 - val_loss: 0.8573 - val_accuracy: 0.8057\n",
            "Epoch 24/1000\n",
            " 1/45 [..............................] - ETA: 0s - loss: 1.1336 - accuracy: 0.5547\n",
            "Epoch 24: saving model to model/keypoint_classifier/keypoint_classifier.hdf5\n",
            "45/45 [==============================] - 0s 2ms/step - loss: 1.1196 - accuracy: 0.5536 - val_loss: 0.8125 - val_accuracy: 0.8514\n",
            "Epoch 25/1000\n",
            " 1/45 [..............................] - ETA: 0s - loss: 1.1935 - accuracy: 0.5312\n",
            "Epoch 25: saving model to model/keypoint_classifier/keypoint_classifier.hdf5\n",
            "45/45 [==============================] - 0s 2ms/step - loss: 1.0952 - accuracy: 0.5708 - val_loss: 0.7963 - val_accuracy: 0.8631\n",
            "Epoch 26/1000\n",
            " 1/45 [..............................] - ETA: 0s - loss: 1.0415 - accuracy: 0.5938\n",
            "Epoch 26: saving model to model/keypoint_classifier/keypoint_classifier.hdf5\n",
            "45/45 [==============================] - 0s 2ms/step - loss: 1.0953 - accuracy: 0.5619 - val_loss: 0.8100 - val_accuracy: 0.8535\n",
            "Epoch 27/1000\n",
            " 1/45 [..............................] - ETA: 0s - loss: 0.9993 - accuracy: 0.6406\n",
            "Epoch 27: saving model to model/keypoint_classifier/keypoint_classifier.hdf5\n",
            "45/45 [==============================] - 0s 2ms/step - loss: 1.0873 - accuracy: 0.5715 - val_loss: 0.8115 - val_accuracy: 0.8673\n",
            "Epoch 28/1000\n",
            " 1/45 [..............................] - ETA: 0s - loss: 1.1415 - accuracy: 0.5078\n",
            "Epoch 28: saving model to model/keypoint_classifier/keypoint_classifier.hdf5\n",
            "45/45 [==============================] - 0s 2ms/step - loss: 1.0926 - accuracy: 0.5676 - val_loss: 0.8164 - val_accuracy: 0.8487\n",
            "Epoch 29/1000\n",
            "33/45 [=====================>........] - ETA: 0s - loss: 1.0433 - accuracy: 0.5914\n",
            "Epoch 29: saving model to model/keypoint_classifier/keypoint_classifier.hdf5\n",
            "45/45 [==============================] - 0s 2ms/step - loss: 1.0566 - accuracy: 0.5848 - val_loss: 0.7922 - val_accuracy: 0.8461\n",
            "Epoch 30/1000\n",
            " 1/45 [..............................] - ETA: 0s - loss: 1.1116 - accuracy: 0.5625\n",
            "Epoch 30: saving model to model/keypoint_classifier/keypoint_classifier.hdf5\n",
            "45/45 [==============================] - 0s 2ms/step - loss: 1.0591 - accuracy: 0.5823 - val_loss: 0.7924 - val_accuracy: 0.8636\n",
            "Epoch 31/1000\n",
            " 1/45 [..............................] - ETA: 0s - loss: 0.9783 - accuracy: 0.6094\n",
            "Epoch 31: saving model to model/keypoint_classifier/keypoint_classifier.hdf5\n",
            "45/45 [==============================] - 0s 2ms/step - loss: 1.0307 - accuracy: 0.5888 - val_loss: 0.7639 - val_accuracy: 0.8657\n",
            "Epoch 32/1000\n",
            " 1/45 [..............................] - ETA: 0s - loss: 1.0951 - accuracy: 0.5234\n",
            "Epoch 32: saving model to model/keypoint_classifier/keypoint_classifier.hdf5\n",
            "45/45 [==============================] - 0s 2ms/step - loss: 1.0483 - accuracy: 0.5956 - val_loss: 0.8048 - val_accuracy: 0.8413\n",
            "Epoch 33/1000\n",
            " 1/45 [..............................] - ETA: 0s - loss: 0.9872 - accuracy: 0.6562\n",
            "Epoch 33: saving model to model/keypoint_classifier/keypoint_classifier.hdf5\n",
            "45/45 [==============================] - 0s 2ms/step - loss: 1.0129 - accuracy: 0.6009 - val_loss: 0.7677 - val_accuracy: 0.8700\n",
            "Epoch 34/1000\n",
            " 1/45 [..............................] - ETA: 0s - loss: 1.2117 - accuracy: 0.5078\n",
            "Epoch 34: saving model to model/keypoint_classifier/keypoint_classifier.hdf5\n",
            "45/45 [==============================] - 0s 2ms/step - loss: 1.0001 - accuracy: 0.6175 - val_loss: 0.7701 - val_accuracy: 0.8445\n",
            "Epoch 35/1000\n",
            " 1/45 [..............................] - ETA: 0s - loss: 1.0294 - accuracy: 0.6172\n",
            "Epoch 35: saving model to model/keypoint_classifier/keypoint_classifier.hdf5\n",
            "45/45 [==============================] - 0s 2ms/step - loss: 0.9854 - accuracy: 0.6094 - val_loss: 0.7471 - val_accuracy: 0.8827\n",
            "Epoch 36/1000\n",
            " 1/45 [..............................] - ETA: 0s - loss: 0.9331 - accuracy: 0.6484\n",
            "Epoch 36: saving model to model/keypoint_classifier/keypoint_classifier.hdf5\n",
            "45/45 [==============================] - 0s 2ms/step - loss: 0.9836 - accuracy: 0.6223 - val_loss: 0.7458 - val_accuracy: 0.8710\n",
            "Epoch 37/1000\n",
            " 1/45 [..............................] - ETA: 0s - loss: 0.8753 - accuracy: 0.6641\n",
            "Epoch 37: saving model to model/keypoint_classifier/keypoint_classifier.hdf5\n",
            "45/45 [==============================] - 0s 2ms/step - loss: 0.9839 - accuracy: 0.6230 - val_loss: 0.7695 - val_accuracy: 0.8785\n",
            "Epoch 38/1000\n",
            " 1/45 [..............................] - ETA: 0s - loss: 0.9428 - accuracy: 0.6641\n",
            "Epoch 38: saving model to model/keypoint_classifier/keypoint_classifier.hdf5\n",
            "45/45 [==============================] - 0s 2ms/step - loss: 0.9501 - accuracy: 0.6345 - val_loss: 0.7494 - val_accuracy: 0.8700\n",
            "Epoch 39/1000\n",
            " 1/45 [..............................] - ETA: 0s - loss: 1.0516 - accuracy: 0.5703\n",
            "Epoch 39: saving model to model/keypoint_classifier/keypoint_classifier.hdf5\n",
            "45/45 [==============================] - 0s 2ms/step - loss: 0.9638 - accuracy: 0.6368 - val_loss: 0.7328 - val_accuracy: 0.8864\n",
            "Epoch 40/1000\n",
            " 1/45 [..............................] - ETA: 0s - loss: 0.8927 - accuracy: 0.6562\n",
            "Epoch 40: saving model to model/keypoint_classifier/keypoint_classifier.hdf5\n",
            "45/45 [==============================] - 0s 2ms/step - loss: 0.9474 - accuracy: 0.6458 - val_loss: 0.7374 - val_accuracy: 0.8790\n",
            "Epoch 41/1000\n",
            " 1/45 [..............................] - ETA: 0s - loss: 0.9202 - accuracy: 0.6562\n",
            "Epoch 41: saving model to model/keypoint_classifier/keypoint_classifier.hdf5\n",
            "45/45 [==============================] - 0s 2ms/step - loss: 0.9494 - accuracy: 0.6414 - val_loss: 0.7132 - val_accuracy: 0.8785\n",
            "Epoch 42/1000\n",
            " 1/45 [..............................] - ETA: 0s - loss: 0.9868 - accuracy: 0.6250\n",
            "Epoch 42: saving model to model/keypoint_classifier/keypoint_classifier.hdf5\n",
            "45/45 [==============================] - 0s 2ms/step - loss: 0.9418 - accuracy: 0.6481 - val_loss: 0.7340 - val_accuracy: 0.8827\n",
            "Epoch 43/1000\n",
            " 1/45 [..............................] - ETA: 0s - loss: 0.7925 - accuracy: 0.6875\n",
            "Epoch 43: saving model to model/keypoint_classifier/keypoint_classifier.hdf5\n",
            "45/45 [==============================] - 0s 2ms/step - loss: 0.9028 - accuracy: 0.6646 - val_loss: 0.7058 - val_accuracy: 0.8689\n",
            "Epoch 44/1000\n",
            " 1/45 [..............................] - ETA: 0s - loss: 0.9120 - accuracy: 0.6406\n",
            "Epoch 44: saving model to model/keypoint_classifier/keypoint_classifier.hdf5\n",
            "45/45 [==============================] - 0s 2ms/step - loss: 0.8923 - accuracy: 0.6667 - val_loss: 0.7347 - val_accuracy: 0.8673\n",
            "Epoch 45/1000\n",
            " 1/45 [..............................] - ETA: 0s - loss: 0.9843 - accuracy: 0.6406\n",
            "Epoch 45: saving model to model/keypoint_classifier/keypoint_classifier.hdf5\n",
            "45/45 [==============================] - 0s 2ms/step - loss: 0.9049 - accuracy: 0.6614 - val_loss: 0.7209 - val_accuracy: 0.8684\n",
            "Epoch 46/1000\n",
            " 1/45 [..............................] - ETA: 0s - loss: 0.8841 - accuracy: 0.6094\n",
            "Epoch 46: saving model to model/keypoint_classifier/keypoint_classifier.hdf5\n",
            "45/45 [==============================] - 0s 2ms/step - loss: 0.8926 - accuracy: 0.6713 - val_loss: 0.7240 - val_accuracy: 0.8254\n",
            "Epoch 47/1000\n",
            " 1/45 [..............................] - ETA: 0s - loss: 0.9824 - accuracy: 0.6406\n",
            "Epoch 47: saving model to model/keypoint_classifier/keypoint_classifier.hdf5\n",
            "45/45 [==============================] - 0s 2ms/step - loss: 0.9246 - accuracy: 0.6540 - val_loss: 0.7196 - val_accuracy: 0.8795\n",
            "Epoch 48/1000\n",
            " 1/45 [..............................] - ETA: 0s - loss: 0.9370 - accuracy: 0.6484\n",
            "Epoch 48: saving model to model/keypoint_classifier/keypoint_classifier.hdf5\n",
            "45/45 [==============================] - 0s 2ms/step - loss: 0.8824 - accuracy: 0.6772 - val_loss: 0.7058 - val_accuracy: 0.8758\n",
            "Epoch 49/1000\n",
            " 1/45 [..............................] - ETA: 0s - loss: 1.0780 - accuracy: 0.5625\n",
            "Epoch 49: saving model to model/keypoint_classifier/keypoint_classifier.hdf5\n",
            "45/45 [==============================] - 0s 2ms/step - loss: 0.8844 - accuracy: 0.6747 - val_loss: 0.7225 - val_accuracy: 0.8615\n",
            "Epoch 50/1000\n",
            " 1/45 [..............................] - ETA: 0s - loss: 0.9705 - accuracy: 0.6641\n",
            "Epoch 50: saving model to model/keypoint_classifier/keypoint_classifier.hdf5\n",
            "45/45 [==============================] - 0s 2ms/step - loss: 0.8779 - accuracy: 0.6798 - val_loss: 0.6950 - val_accuracy: 0.8737\n",
            "Epoch 51/1000\n",
            " 1/45 [..............................] - ETA: 0s - loss: 0.8630 - accuracy: 0.7109\n",
            "Epoch 51: saving model to model/keypoint_classifier/keypoint_classifier.hdf5\n",
            "45/45 [==============================] - 0s 2ms/step - loss: 0.9098 - accuracy: 0.6669 - val_loss: 0.7289 - val_accuracy: 0.8710\n",
            "Epoch 52/1000\n",
            " 1/45 [..............................] - ETA: 0s - loss: 0.8690 - accuracy: 0.6797\n",
            "Epoch 52: saving model to model/keypoint_classifier/keypoint_classifier.hdf5\n",
            "45/45 [==============================] - 0s 2ms/step - loss: 0.8911 - accuracy: 0.6786 - val_loss: 0.7289 - val_accuracy: 0.8482\n",
            "Epoch 53/1000\n",
            " 1/45 [..............................] - ETA: 0s - loss: 0.7248 - accuracy: 0.7578\n",
            "Epoch 53: saving model to model/keypoint_classifier/keypoint_classifier.hdf5\n",
            "45/45 [==============================] - 0s 2ms/step - loss: 0.8736 - accuracy: 0.6779 - val_loss: 0.7113 - val_accuracy: 0.8694\n",
            "Epoch 54/1000\n",
            " 1/45 [..............................] - ETA: 0s - loss: 0.7818 - accuracy: 0.7500\n",
            "Epoch 54: saving model to model/keypoint_classifier/keypoint_classifier.hdf5\n",
            "45/45 [==============================] - 0s 2ms/step - loss: 0.8719 - accuracy: 0.6807 - val_loss: 0.7772 - val_accuracy: 0.8238\n",
            "Epoch 55/1000\n",
            " 1/45 [..............................] - ETA: 0s - loss: 0.9885 - accuracy: 0.6172\n",
            "Epoch 55: saving model to model/keypoint_classifier/keypoint_classifier.hdf5\n",
            "45/45 [==============================] - 0s 2ms/step - loss: 0.8547 - accuracy: 0.6759 - val_loss: 0.6944 - val_accuracy: 0.8800\n",
            "Epoch 56/1000\n",
            " 1/45 [..............................] - ETA: 0s - loss: 0.9537 - accuracy: 0.6719\n",
            "Epoch 56: saving model to model/keypoint_classifier/keypoint_classifier.hdf5\n",
            "45/45 [==============================] - 0s 2ms/step - loss: 0.8483 - accuracy: 0.6881 - val_loss: 0.6868 - val_accuracy: 0.8609\n",
            "Epoch 57/1000\n",
            " 1/45 [..............................] - ETA: 0s - loss: 0.9098 - accuracy: 0.7109\n",
            "Epoch 57: saving model to model/keypoint_classifier/keypoint_classifier.hdf5\n",
            "45/45 [==============================] - 0s 2ms/step - loss: 0.8515 - accuracy: 0.6880 - val_loss: 0.7817 - val_accuracy: 0.8296\n",
            "Epoch 58/1000\n",
            "32/45 [====================>.........] - ETA: 0s - loss: 0.8413 - accuracy: 0.6877\n",
            "Epoch 58: saving model to model/keypoint_classifier/keypoint_classifier.hdf5\n",
            "45/45 [==============================] - 0s 2ms/step - loss: 0.8417 - accuracy: 0.6885 - val_loss: 0.7446 - val_accuracy: 0.8365\n",
            "Epoch 59/1000\n",
            " 1/45 [..............................] - ETA: 0s - loss: 0.7867 - accuracy: 0.6953\n",
            "Epoch 59: saving model to model/keypoint_classifier/keypoint_classifier.hdf5\n",
            "45/45 [==============================] - 0s 2ms/step - loss: 0.8434 - accuracy: 0.6906 - val_loss: 0.7509 - val_accuracy: 0.8185\n",
            "Epoch 60/1000\n",
            " 1/45 [..............................] - ETA: 0s - loss: 0.8420 - accuracy: 0.6875\n",
            "Epoch 60: saving model to model/keypoint_classifier/keypoint_classifier.hdf5\n",
            "45/45 [==============================] - 0s 2ms/step - loss: 0.8119 - accuracy: 0.7053 - val_loss: 0.7261 - val_accuracy: 0.8286\n",
            "Epoch 61/1000\n",
            " 1/45 [..............................] - ETA: 0s - loss: 0.8744 - accuracy: 0.6719\n",
            "Epoch 61: saving model to model/keypoint_classifier/keypoint_classifier.hdf5\n",
            "45/45 [==============================] - 0s 2ms/step - loss: 0.8234 - accuracy: 0.7041 - val_loss: 0.7156 - val_accuracy: 0.8577\n",
            "Epoch 62/1000\n",
            " 1/45 [..............................] - ETA: 0s - loss: 0.8847 - accuracy: 0.6250\n",
            "Epoch 62: saving model to model/keypoint_classifier/keypoint_classifier.hdf5\n",
            "45/45 [==============================] - 0s 2ms/step - loss: 0.8284 - accuracy: 0.6963 - val_loss: 0.7373 - val_accuracy: 0.8599\n",
            "Epoch 63/1000\n",
            " 1/45 [..............................] - ETA: 0s - loss: 0.7725 - accuracy: 0.7109\n",
            "Epoch 63: saving model to model/keypoint_classifier/keypoint_classifier.hdf5\n",
            "45/45 [==============================] - 0s 2ms/step - loss: 0.8143 - accuracy: 0.7067 - val_loss: 0.6529 - val_accuracy: 0.8785\n",
            "Epoch 64/1000\n",
            " 1/45 [..............................] - ETA: 0s - loss: 0.8181 - accuracy: 0.7031\n",
            "Epoch 64: saving model to model/keypoint_classifier/keypoint_classifier.hdf5\n",
            "45/45 [==============================] - 0s 2ms/step - loss: 0.8208 - accuracy: 0.7087 - val_loss: 0.7498 - val_accuracy: 0.8402\n",
            "Epoch 65/1000\n",
            " 1/45 [..............................] - ETA: 0s - loss: 0.8740 - accuracy: 0.6797\n",
            "Epoch 65: saving model to model/keypoint_classifier/keypoint_classifier.hdf5\n",
            "45/45 [==============================] - 0s 2ms/step - loss: 0.8253 - accuracy: 0.6950 - val_loss: 0.6922 - val_accuracy: 0.8774\n",
            "Epoch 66/1000\n",
            " 1/45 [..............................] - ETA: 0s - loss: 0.6074 - accuracy: 0.7891\n",
            "Epoch 66: saving model to model/keypoint_classifier/keypoint_classifier.hdf5\n",
            "45/45 [==============================] - 0s 2ms/step - loss: 0.8167 - accuracy: 0.7110 - val_loss: 0.6717 - val_accuracy: 0.8742\n",
            "Epoch 67/1000\n",
            " 1/45 [..............................] - ETA: 0s - loss: 0.7413 - accuracy: 0.7578\n",
            "Epoch 67: saving model to model/keypoint_classifier/keypoint_classifier.hdf5\n",
            "45/45 [==============================] - 0s 2ms/step - loss: 0.8016 - accuracy: 0.7131 - val_loss: 0.7200 - val_accuracy: 0.8662\n",
            "Epoch 68/1000\n",
            " 1/45 [..............................] - ETA: 0s - loss: 0.7385 - accuracy: 0.7344\n",
            "Epoch 68: saving model to model/keypoint_classifier/keypoint_classifier.hdf5\n",
            "45/45 [==============================] - 0s 2ms/step - loss: 0.8109 - accuracy: 0.7044 - val_loss: 0.6938 - val_accuracy: 0.8636\n",
            "Epoch 69/1000\n",
            " 1/45 [..............................] - ETA: 0s - loss: 0.6354 - accuracy: 0.7656\n",
            "Epoch 69: saving model to model/keypoint_classifier/keypoint_classifier.hdf5\n",
            "45/45 [==============================] - 0s 2ms/step - loss: 0.7883 - accuracy: 0.7113 - val_loss: 0.7156 - val_accuracy: 0.8286\n",
            "Epoch 70/1000\n",
            " 1/45 [..............................] - ETA: 0s - loss: 0.7777 - accuracy: 0.6875\n",
            "Epoch 70: saving model to model/keypoint_classifier/keypoint_classifier.hdf5\n",
            "45/45 [==============================] - 0s 2ms/step - loss: 0.7840 - accuracy: 0.7189 - val_loss: 0.7188 - val_accuracy: 0.8439\n",
            "Epoch 71/1000\n",
            " 1/45 [..............................] - ETA: 0s - loss: 0.8685 - accuracy: 0.6875\n",
            "Epoch 71: saving model to model/keypoint_classifier/keypoint_classifier.hdf5\n",
            "45/45 [==============================] - 0s 2ms/step - loss: 0.7890 - accuracy: 0.7175 - val_loss: 0.7289 - val_accuracy: 0.8514\n",
            "Epoch 72/1000\n",
            "27/45 [=================>............] - ETA: 0s - loss: 0.7915 - accuracy: 0.7112\n",
            "Epoch 72: saving model to model/keypoint_classifier/keypoint_classifier.hdf5\n",
            "45/45 [==============================] - 0s 2ms/step - loss: 0.7990 - accuracy: 0.7076 - val_loss: 0.7539 - val_accuracy: 0.8301\n",
            "Epoch 73/1000\n",
            " 1/45 [..............................] - ETA: 0s - loss: 0.8611 - accuracy: 0.6875\n",
            "Epoch 73: saving model to model/keypoint_classifier/keypoint_classifier.hdf5\n",
            "45/45 [==============================] - 0s 2ms/step - loss: 0.8006 - accuracy: 0.7051 - val_loss: 0.7865 - val_accuracy: 0.7877\n",
            "Epoch 74/1000\n",
            " 1/45 [..............................] - ETA: 0s - loss: 0.8156 - accuracy: 0.6719\n",
            "Epoch 74: saving model to model/keypoint_classifier/keypoint_classifier.hdf5\n",
            "45/45 [==============================] - 0s 2ms/step - loss: 0.7819 - accuracy: 0.7147 - val_loss: 0.7332 - val_accuracy: 0.8381\n",
            "Epoch 75/1000\n",
            " 1/45 [..............................] - ETA: 0s - loss: 0.6752 - accuracy: 0.7812\n",
            "Epoch 75: saving model to model/keypoint_classifier/keypoint_classifier.hdf5\n",
            "45/45 [==============================] - 0s 2ms/step - loss: 0.7706 - accuracy: 0.7248 - val_loss: 0.7534 - val_accuracy: 0.8328\n",
            "Epoch 76/1000\n",
            " 1/45 [..............................] - ETA: 0s - loss: 0.7649 - accuracy: 0.7188\n",
            "Epoch 76: saving model to model/keypoint_classifier/keypoint_classifier.hdf5\n",
            "45/45 [==============================] - 0s 2ms/step - loss: 0.7990 - accuracy: 0.7142 - val_loss: 0.8188 - val_accuracy: 0.7877\n",
            "Epoch 77/1000\n",
            " 1/45 [..............................] - ETA: 0s - loss: 0.8051 - accuracy: 0.7188\n",
            "Epoch 77: saving model to model/keypoint_classifier/keypoint_classifier.hdf5\n",
            "45/45 [==============================] - 0s 2ms/step - loss: 0.7719 - accuracy: 0.7181 - val_loss: 0.7914 - val_accuracy: 0.7919\n",
            "Epoch 78/1000\n",
            " 1/45 [..............................] - ETA: 0s - loss: 0.7468 - accuracy: 0.6797\n",
            "Epoch 78: saving model to model/keypoint_classifier/keypoint_classifier.hdf5\n",
            "45/45 [==============================] - 0s 2ms/step - loss: 0.7640 - accuracy: 0.7216 - val_loss: 0.7302 - val_accuracy: 0.8471\n",
            "Epoch 79/1000\n",
            " 1/45 [..............................] - ETA: 0s - loss: 0.7989 - accuracy: 0.7031\n",
            "Epoch 79: saving model to model/keypoint_classifier/keypoint_classifier.hdf5\n",
            "45/45 [==============================] - 0s 2ms/step - loss: 0.7888 - accuracy: 0.7149 - val_loss: 0.8734 - val_accuracy: 0.7304\n",
            "Epoch 80/1000\n",
            " 1/45 [..............................] - ETA: 0s - loss: 0.9559 - accuracy: 0.6562\n",
            "Epoch 80: saving model to model/keypoint_classifier/keypoint_classifier.hdf5\n",
            "45/45 [==============================] - 0s 2ms/step - loss: 0.7824 - accuracy: 0.7147 - val_loss: 0.7885 - val_accuracy: 0.7925\n",
            "Epoch 81/1000\n",
            " 1/45 [..............................] - ETA: 0s - loss: 0.8629 - accuracy: 0.7344\n",
            "Epoch 81: saving model to model/keypoint_classifier/keypoint_classifier.hdf5\n",
            "45/45 [==============================] - 0s 2ms/step - loss: 0.7843 - accuracy: 0.7182 - val_loss: 0.7255 - val_accuracy: 0.8163\n",
            "Epoch 82/1000\n",
            " 1/45 [..............................] - ETA: 0s - loss: 0.6381 - accuracy: 0.7656\n",
            "Epoch 82: saving model to model/keypoint_classifier/keypoint_classifier.hdf5\n",
            "45/45 [==============================] - 0s 2ms/step - loss: 0.7584 - accuracy: 0.7265 - val_loss: 0.7784 - val_accuracy: 0.8057\n",
            "Epoch 83/1000\n",
            " 1/45 [..............................] - ETA: 0s - loss: 0.6293 - accuracy: 0.7422\n",
            "Epoch 83: saving model to model/keypoint_classifier/keypoint_classifier.hdf5\n",
            "45/45 [==============================] - 0s 2ms/step - loss: 0.7679 - accuracy: 0.7315 - val_loss: 0.8099 - val_accuracy: 0.7511\n",
            "Epoch 83: early stopping\n"
          ]
        },
        {
          "data": {
            "text/plain": [
              "<keras.callbacks.History at 0x7f5f5bfd8b80>"
            ]
          },
          "execution_count": 33,
          "metadata": {},
          "output_type": "execute_result"
        }
      ],
      "source": [
        "model.fit(\n",
        "    X_train,\n",
        "    y_train,\n",
        "    epochs=1000,\n",
        "    batch_size=128,\n",
        "    validation_data=(X_test, y_test),\n",
        "    callbacks=[cp_callback, es_callback]\n",
        ")"
      ]
    },
    {
      "cell_type": "code",
      "execution_count": 34,
      "metadata": {
        "colab": {
          "base_uri": "https://localhost:8080/"
        },
        "id": "pxvb2Y299hE3",
        "outputId": "59eb3185-2e37-4b9e-bc9d-ab1b8ac29b7f"
      },
      "outputs": [
        {
          "name": "stdout",
          "output_type": "stream",
          "text": [
            "15/15 [==============================] - 0s 771us/step - loss: 0.8099 - accuracy: 0.7511\n"
          ]
        }
      ],
      "source": [
        "# Model evaluation\n",
        "val_loss, val_acc = model.evaluate(X_test, y_test, batch_size=128)"
      ]
    },
    {
      "cell_type": "code",
      "execution_count": 35,
      "metadata": {
        "id": "RBkmDeUW9hE4"
      },
      "outputs": [],
      "source": [
        "# Loading the saved model\n",
        "model = tf.keras.models.load_model(model_save_path)"
      ]
    },
    {
      "cell_type": "code",
      "execution_count": 36,
      "metadata": {
        "colab": {
          "base_uri": "https://localhost:8080/"
        },
        "id": "tFz9Tb0I9hE4",
        "outputId": "1c3b3528-54ae-4ee2-ab04-77429211cbef"
      },
      "outputs": [
        {
          "name": "stdout",
          "output_type": "stream",
          "text": [
            "1/1 [==============================] - 0s 36ms/step\n",
            "[1.53973065e-02 3.30272596e-03 9.07580435e-01 1.84929857e-04\n",
            " 3.09807211e-02 3.53844501e-02 7.16959266e-03]\n",
            "2\n"
          ]
        }
      ],
      "source": [
        "# Inference test\n",
        "predict_result = model.predict(np.array([X_test[0]]))\n",
        "print(np.squeeze(predict_result))\n",
        "print(np.argmax(np.squeeze(predict_result)))"
      ]
    },
    {
      "cell_type": "markdown",
      "metadata": {
        "id": "S3U4yNWx9hE4"
      },
      "source": [
        "# Confusion matrix"
      ]
    },
    {
      "cell_type": "code",
      "execution_count": 37,
      "metadata": {
        "colab": {
          "base_uri": "https://localhost:8080/",
          "height": 582
        },
        "id": "AP1V6SCk9hE5",
        "outputId": "08e41a80-7a4a-4619-8125-ecc371368d19"
      },
      "outputs": [
        {
          "name": "stdout",
          "output_type": "stream",
          "text": [
            "59/59 [==============================] - 0s 529us/step\n"
          ]
        },
        {
          "data": {
            "image/png": "[encoded data removed]",
            "text/plain": [
              "<Figure size 504x432 with 2 Axes>"
            ]
          },
          "metadata": {
            "needs_background": "light"
          },
          "output_type": "display_data"
        },
        {
          "name": "stdout",
          "output_type": "stream",
          "text": [
            "Classification Report\n",
            "              precision    recall  f1-score   support\n",
            "\n",
            "           0       0.99      0.49      0.66       463\n",
            "           1       1.00      0.91      0.95       125\n",
            "           2       0.91      0.98      0.94       395\n",
            "           3       0.66      0.87      0.75       303\n",
            "           4       0.96      0.54      0.69       265\n",
            "           5       0.38      0.75      0.51       209\n",
            "           6       0.77      0.98      0.87       124\n",
            "\n",
            "    accuracy                           0.75      1884\n",
            "   macro avg       0.81      0.79      0.77      1884\n",
            "weighted avg       0.83      0.75      0.75      1884\n",
            "\n"
          ]
        }
      ],
      "source": [
        "import pandas as pd\n",
        "import seaborn as sns\n",
        "import matplotlib.pyplot as plt\n",
        "from sklearn.metrics import confusion_matrix, classification_report\n",
        "\n",
        "def print_confusion_matrix(y_true, y_pred, report=True):\n",
        "    labels = sorted(list(set(y_true)))\n",
        "    cmx_data = confusion_matrix(y_true, y_pred, labels=labels)\n",
        "    \n",
        "    df_cmx = pd.DataFrame(cmx_data, index=labels, columns=labels)\n",
        " \n",
        "    fig, ax = plt.subplots(figsize=(7, 6))\n",
        "    sns.heatmap(df_cmx, annot=True, fmt='g' ,square=False)\n",
        "    ax.set_ylim(len(set(y_true)), 0)\n",
        "    plt.show()\n",
        "    \n",
        "    if report:\n",
        "        print('Classification Report')\n",
        "        print(classification_report(y_test, y_pred))\n",
        "\n",
        "Y_pred = model.predict(X_test)\n",
        "y_pred = np.argmax(Y_pred, axis=1)\n",
        "\n",
        "print_confusion_matrix(y_test, y_pred)"
      ]
    },
    {
      "cell_type": "markdown",
      "metadata": {
        "id": "FNP6aqzc9hE5"
      },
      "source": [
        "# Convert to model for Tensorflow-Lite"
      ]
    },
    {
      "cell_type": "code",
      "execution_count": 38,
      "metadata": {
        "id": "ODjnYyld9hE6"
      },
      "outputs": [],
      "source": [
        "# Save as a model dedicated to inference\n",
        "model.save(model_save_path, include_optimizer=False)"
      ]
    },
    {
      "cell_type": "code",
      "execution_count": 39,
      "metadata": {
        "colab": {
          "base_uri": "https://localhost:8080/"
        },
        "id": "zRfuK8Y59hE6",
        "outputId": "a4ca585c-b5d5-4244-8291-8674063209bb"
      },
      "outputs": [
        {
          "name": "stderr",
          "output_type": "stream",
          "text": [
            "WARNING:absl:Found untraced functions such as _update_step_xla while saving (showing 1 of 1). These functions will not be directly callable after loading.\n"
          ]
        },
        {
          "name": "stdout",
          "output_type": "stream",
          "text": [
            "INFO:tensorflow:Assets written to: /tmp/tmpyv3tlmmo/assets\n"
          ]
        },
        {
          "name": "stderr",
          "output_type": "stream",
          "text": [
            "INFO:tensorflow:Assets written to: /tmp/tmpyv3tlmmo/assets\n",
            "2023-03-13 21:44:29.431832: W tensorflow/compiler/mlir/lite/python/tf_tfl_flatbuffer_helpers.cc:362] Ignored output_format.\n",
            "2023-03-13 21:44:29.431854: W tensorflow/compiler/mlir/lite/python/tf_tfl_flatbuffer_helpers.cc:365] Ignored drop_control_dependency.\n",
            "2023-03-13 21:44:29.431986: I tensorflow/cc/saved_model/reader.cc:45] Reading SavedModel from: /tmp/tmpyv3tlmmo\n",
            "2023-03-13 21:44:29.433029: I tensorflow/cc/saved_model/reader.cc:89] Reading meta graph with tags { serve }\n",
            "2023-03-13 21:44:29.433045: I tensorflow/cc/saved_model/reader.cc:130] Reading SavedModel debug info (if present) from: /tmp/tmpyv3tlmmo\n",
            "2023-03-13 21:44:29.437021: I tensorflow/cc/saved_model/loader.cc:229] Restoring SavedModel bundle.\n",
            "2023-03-13 21:44:29.466347: I tensorflow/cc/saved_model/loader.cc:213] Running initialization op on SavedModel bundle at path: /tmp/tmpyv3tlmmo\n",
            "2023-03-13 21:44:29.473411: I tensorflow/cc/saved_model/loader.cc:305] SavedModel load for tags { serve }; Status: success: OK. Took 41425 microseconds.\n"
          ]
        },
        {
          "data": {
            "text/plain": [
              "6704"
            ]
          },
          "execution_count": 39,
          "metadata": {},
          "output_type": "execute_result"
        }
      ],
      "source": [
        "# Transform model (quantization)\n",
        "\n",
        "converter = tf.lite.TFLiteConverter.from_keras_model(model)\n",
        "converter.optimizations = [tf.lite.Optimize.DEFAULT]\n",
        "tflite_quantized_model = converter.convert()\n",
        "\n",
        "open(tflite_save_path, 'wb').write(tflite_quantized_model)"
      ]
    },
    {
      "cell_type": "markdown",
      "metadata": {
        "id": "CHBPBXdx9hE6"
      },
      "source": [
        "# Inference test"
      ]
    },
    {
      "cell_type": "code",
      "execution_count": 40,
      "metadata": {
        "id": "mGAzLocO9hE7"
      },
      "outputs": [],
      "source": [
        "interpreter = tf.lite.Interpreter(model_path=tflite_save_path)\n",
        "interpreter.allocate_tensors()"
      ]
    },
    {
      "cell_type": "code",
      "execution_count": 41,
      "metadata": {
        "id": "oQuDK8YS9hE7"
      },
      "outputs": [],
      "source": [
        "# Get I / O tensor\n",
        "input_details = interpreter.get_input_details()\n",
        "output_details = interpreter.get_output_details()"
      ]
    },
    {
      "cell_type": "code",
      "execution_count": 42,
      "metadata": {
        "id": "2_ixAf_l9hE7"
      },
      "outputs": [],
      "source": [
        "interpreter.set_tensor(input_details[0]['index'], np.array([X_test[0]]))"
      ]
    },
    {
      "cell_type": "code",
      "execution_count": 43,
      "metadata": {
        "colab": {
          "base_uri": "https://localhost:8080/"
        },
        "id": "s4FoAnuc9hE7",
        "outputId": "91f18257-8d8b-4ef3-c558-e9b5f94fabbf",
        "scrolled": true
      },
      "outputs": [
        {
          "name": "stdout",
          "output_type": "stream",
          "text": [
            "CPU times: user 877 µs, sys: 53 µs, total: 930 µs\n",
            "Wall time: 1.4 ms\n"
          ]
        }
      ],
      "source": [
        "%%time\n",
        "# Inference implementation\n",
        "interpreter.invoke()\n",
        "tflite_results = interpreter.get_tensor(output_details[0]['index'])"
      ]
    },
    {
      "cell_type": "code",
      "execution_count": 44,
      "metadata": {
        "colab": {
          "base_uri": "https://localhost:8080/"
        },
        "id": "vONjp19J9hE8",
        "outputId": "77205e24-fd00-42c4-f7b6-e06e527c2cba"
      },
      "outputs": [
        {
          "name": "stdout",
          "output_type": "stream",
          "text": [
            "[1.5397311e-02 3.3027285e-03 9.0758032e-01 1.8492999e-04 3.0980716e-02\n",
            " 3.5384454e-02 7.1695950e-03]\n",
            "2\n"
          ]
        }
      ],
      "source": [
        "print(np.squeeze(tflite_results))\n",
        "print(np.argmax(np.squeeze(tflite_results)))"
      ]
    }
  ],
  "metadata": {
    "accelerator": "GPU",
    "colab": {
      "collapsed_sections": [],
      "name": "keypoint_classification_EN.ipynb",
      "provenance": [],
      "toc_visible": true
    },
    "kernelspec": {
      "display_name": "Python 3",
      "language": "python",
      "name": "python3"
    },
    "language_info": {
      "codemirror_mode": {
        "name": "ipython",
        "version": 3
      },
      "file_extension": ".py",
      "mimetype": "text/x-python",
      "name": "python",
      "nbconvert_exporter": "python",
      "pygments_lexer": "ipython3",
      "version": "3.10.6"
    },
    "vscode": {
      "interpreter": {
        "hash": "916dbcbb3f70747c44a77c7bcd40155683ae19c65e1c03b4aa3499c5328201f1"
      }
    }
  },
  "nbformat": 4,
  "nbformat_minor": 0
}
