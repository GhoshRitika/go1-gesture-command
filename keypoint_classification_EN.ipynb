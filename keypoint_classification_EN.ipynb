{
  "cells": [
    {
      "cell_type": "code",
      "execution_count": 1,
      "metadata": {
        "id": "igMyGnjE9hEp"
      },
      "outputs": [
        {
          "name": "stderr",
          "output_type": "stream",
          "text": [
            "2023-01-31 15:57:22.206839: I tensorflow/core/platform/cpu_feature_guard.cc:193] This TensorFlow binary is optimized with oneAPI Deep Neural Network Library (oneDNN) to use the following CPU instructions in performance-critical operations:  AVX2 AVX512F AVX512_VNNI FMA\n",
            "To enable them in other operations, rebuild TensorFlow with the appropriate compiler flags.\n",
            "2023-01-31 15:57:22.333084: I tensorflow/core/util/port.cc:104] oneDNN custom operations are on. You may see slightly different numerical results due to floating-point round-off errors from different computation orders. To turn them off, set the environment variable `TF_ENABLE_ONEDNN_OPTS=0`.\n",
            "2023-01-31 15:57:22.335938: W tensorflow/compiler/xla/stream_executor/platform/default/dso_loader.cc:64] Could not load dynamic library 'libcudart.so.11.0'; dlerror: libcudart.so.11.0: cannot open shared object file: No such file or directory; LD_LIBRARY_PATH: /home/avaz/nuws/install/lib:/opt/ros/humble/opt/rviz_ogre_vendor/lib:/opt/ros/humble/lib/x86_64-linux-gnu:/opt/ros/humble/lib\n",
            "2023-01-31 15:57:22.335948: I tensorflow/compiler/xla/stream_executor/cuda/cudart_stub.cc:29] Ignore above cudart dlerror if you do not have a GPU set up on your machine.\n",
            "2023-01-31 15:57:22.834538: W tensorflow/compiler/xla/stream_executor/platform/default/dso_loader.cc:64] Could not load dynamic library 'libnvinfer.so.7'; dlerror: libnvinfer.so.7: cannot open shared object file: No such file or directory; LD_LIBRARY_PATH: /home/avaz/nuws/install/lib:/opt/ros/humble/opt/rviz_ogre_vendor/lib:/opt/ros/humble/lib/x86_64-linux-gnu:/opt/ros/humble/lib\n",
            "2023-01-31 15:57:22.834588: W tensorflow/compiler/xla/stream_executor/platform/default/dso_loader.cc:64] Could not load dynamic library 'libnvinfer_plugin.so.7'; dlerror: libnvinfer_plugin.so.7: cannot open shared object file: No such file or directory; LD_LIBRARY_PATH: /home/avaz/nuws/install/lib:/opt/ros/humble/opt/rviz_ogre_vendor/lib:/opt/ros/humble/lib/x86_64-linux-gnu:/opt/ros/humble/lib\n",
            "2023-01-31 15:57:22.834592: W tensorflow/compiler/tf2tensorrt/utils/py_utils.cc:38] TF-TRT Warning: Cannot dlopen some TensorRT libraries. If you would like to use Nvidia GPU with TensorRT, please make sure the missing libraries mentioned above are installed properly.\n"
          ]
        }
      ],
      "source": [
        "import csv\n",
        "\n",
        "import numpy as np\n",
        "import tensorflow as tf\n",
        "from sklearn.model_selection import train_test_split\n",
        "\n",
        "RANDOM_SEED = 42"
      ]
    },
    {
      "cell_type": "markdown",
      "metadata": {
        "id": "t2HDvhIu9hEr"
      },
      "source": [
        "# Specify each path"
      ]
    },
    {
      "cell_type": "code",
      "execution_count": 2,
      "metadata": {
        "id": "9NvZP2Zn9hEy"
      },
      "outputs": [],
      "source": [
        "path_prefix = '/home/avaz/courses/w23/winter-project/other/ros2_hgr_ws/src/ros2_hgr/'\n",
        "dataset = path_prefix+'model/keypoint_classifier/keypoint.csv'\n",
        "model_save_path = path_prefix+'model/keypoint_classifier/keypoint_classifier.hdf5'\n",
        "tflite_save_path = path_prefix+'model/keypoint_classifier/keypoint_classifier.tflite'"
      ]
    },
    {
      "cell_type": "markdown",
      "metadata": {
        "id": "s5oMH7x19hEz"
      },
      "source": [
        "# Set number of classes"
      ]
    },
    {
      "cell_type": "code",
      "execution_count": 3,
      "metadata": {
        "id": "du4kodXL9hEz"
      },
      "outputs": [],
      "source": [
        "NUM_CLASSES = 8"
      ]
    },
    {
      "cell_type": "markdown",
      "metadata": {
        "id": "XjnL0uso9hEz"
      },
      "source": [
        "# Dataset reading"
      ]
    },
    {
      "cell_type": "code",
      "execution_count": 4,
      "metadata": {
        "id": "QT5ZqtEz9hE0"
      },
      "outputs": [],
      "source": [
        "X_dataset = np.loadtxt(dataset, delimiter=',', dtype='float32', usecols=list(range(1, (21 * 2) + 1)))"
      ]
    },
    {
      "cell_type": "code",
      "execution_count": 5,
      "metadata": {
        "id": "QmoKFsp49hE0"
      },
      "outputs": [],
      "source": [
        "y_dataset = np.loadtxt(dataset, delimiter=',', dtype='int32', usecols=(0))"
      ]
    },
    {
      "cell_type": "code",
      "execution_count": 6,
      "metadata": {
        "id": "xQU7JTZ_9hE0"
      },
      "outputs": [],
      "source": [
        "X_train, X_test, y_train, y_test = train_test_split(X_dataset, y_dataset, train_size=0.75, random_state=RANDOM_SEED)"
      ]
    },
    {
      "cell_type": "markdown",
      "metadata": {
        "id": "mxK_lETT9hE0"
      },
      "source": [
        "# Model building"
      ]
    },
    {
      "cell_type": "code",
      "execution_count": 7,
      "metadata": {
        "id": "vHBmUf1t9hE1"
      },
      "outputs": [
        {
          "name": "stderr",
          "output_type": "stream",
          "text": [
            "2023-01-31 15:57:24.248307: W tensorflow/compiler/xla/stream_executor/platform/default/dso_loader.cc:64] Could not load dynamic library 'libcuda.so.1'; dlerror: libcuda.so.1: cannot open shared object file: No such file or directory; LD_LIBRARY_PATH: /home/avaz/nuws/install/lib:/opt/ros/humble/opt/rviz_ogre_vendor/lib:/opt/ros/humble/lib/x86_64-linux-gnu:/opt/ros/humble/lib\n",
            "2023-01-31 15:57:24.248471: W tensorflow/compiler/xla/stream_executor/cuda/cuda_driver.cc:265] failed call to cuInit: UNKNOWN ERROR (303)\n",
            "2023-01-31 15:57:24.248490: I tensorflow/compiler/xla/stream_executor/cuda/cuda_diagnostics.cc:156] kernel driver does not appear to be running on this host (husky): /proc/driver/nvidia/version does not exist\n",
            "2023-01-31 15:57:24.249051: I tensorflow/core/platform/cpu_feature_guard.cc:193] This TensorFlow binary is optimized with oneAPI Deep Neural Network Library (oneDNN) to use the following CPU instructions in performance-critical operations:  AVX2 AVX512F AVX512_VNNI FMA\n",
            "To enable them in other operations, rebuild TensorFlow with the appropriate compiler flags.\n"
          ]
        }
      ],
      "source": [
        "model = tf.keras.models.Sequential([\n",
        "    tf.keras.layers.Input((21 * 2, )),\n",
        "    tf.keras.layers.Dropout(0.2),\n",
        "    tf.keras.layers.Dense(20, activation='relu'),\n",
        "    tf.keras.layers.Dropout(0.4),\n",
        "    tf.keras.layers.Dense(10, activation='relu'),\n",
        "    tf.keras.layers.Dense(NUM_CLASSES, activation='softmax')\n",
        "])"
      ]
    },
    {
      "cell_type": "code",
      "execution_count": 8,
      "metadata": {
        "colab": {
          "base_uri": "https://localhost:8080/"
        },
        "id": "ypqky9tc9hE1",
        "outputId": "5db082bb-30e3-4110-bf63-a1ee777ecd46"
      },
      "outputs": [
        {
          "name": "stdout",
          "output_type": "stream",
          "text": [
            "Model: \"sequential\"\n",
            "_________________________________________________________________\n",
            " Layer (type)                Output Shape              Param #   \n",
            "=================================================================\n",
            " dropout (Dropout)           (None, 42)                0         \n",
            "                                                                 \n",
            " dense (Dense)               (None, 20)                860       \n",
            "                                                                 \n",
            " dropout_1 (Dropout)         (None, 20)                0         \n",
            "                                                                 \n",
            " dense_1 (Dense)             (None, 10)                210       \n",
            "                                                                 \n",
            " dense_2 (Dense)             (None, 8)                 88        \n",
            "                                                                 \n",
            "=================================================================\n",
            "Total params: 1,158\n",
            "Trainable params: 1,158\n",
            "Non-trainable params: 0\n",
            "_________________________________________________________________\n"
          ]
        }
      ],
      "source": [
        "model.summary()  # tf.keras.utils.plot_model(model, show_shapes=True)"
      ]
    },
    {
      "cell_type": "code",
      "execution_count": 9,
      "metadata": {
        "id": "MbMjOflQ9hE1"
      },
      "outputs": [],
      "source": [
        "# Model checkpoint callback\n",
        "cp_callback = tf.keras.callbacks.ModelCheckpoint(\n",
        "    model_save_path, verbose=1, save_weights_only=False)\n",
        "# Callback for early stopping\n",
        "es_callback = tf.keras.callbacks.EarlyStopping(patience=20, verbose=1)"
      ]
    },
    {
      "cell_type": "code",
      "execution_count": 10,
      "metadata": {
        "id": "c3Dac0M_9hE2"
      },
      "outputs": [],
      "source": [
        "# Model compilation\n",
        "model.compile(\n",
        "    optimizer='adam',\n",
        "    loss='sparse_categorical_crossentropy',\n",
        "    metrics=['accuracy']\n",
        ")"
      ]
    },
    {
      "cell_type": "markdown",
      "metadata": {
        "id": "7XI0j1Iu9hE2"
      },
      "source": [
        "# Model training"
      ]
    },
    {
      "cell_type": "code",
      "execution_count": 11,
      "metadata": {
        "colab": {
          "base_uri": "https://localhost:8080/"
        },
        "id": "WirBl-JE9hE3",
        "outputId": "71b30ca2-8294-4d9d-8aa2-800d90d399de",
        "scrolled": true
      },
      "outputs": [
        {
          "name": "stdout",
          "output_type": "stream",
          "text": [
            "Epoch 1/1000\n",
            "41/43 [===========================>..] - ETA: 0s - loss: 2.1314 - accuracy: 0.1570 \n",
            "Epoch 1: saving model to /home/avaz/courses/w23/winter-project/other/ros2_hgr_ws/src/ros2_hgr/model/keypoint_classifier/keypoint_classifier.hdf5\n",
            "43/43 [==============================] - 1s 6ms/step - loss: 2.1269 - accuracy: 0.1569 - val_loss: 1.9677 - val_accuracy: 0.2411\n",
            "Epoch 2/1000\n",
            "24/43 [===============>..............] - ETA: 0s - loss: 1.9820 - accuracy: 0.2178\n",
            "Epoch 2: saving model to /home/avaz/courses/w23/winter-project/other/ros2_hgr_ws/src/ros2_hgr/model/keypoint_classifier/keypoint_classifier.hdf5\n",
            "43/43 [==============================] - 0s 3ms/step - loss: 1.9519 - accuracy: 0.2320 - val_loss: 1.8500 - val_accuracy: 0.3364\n",
            "Epoch 3/1000\n",
            "39/43 [==========================>...] - ETA: 0s - loss: 1.8533 - accuracy: 0.2718\n",
            "Epoch 3: saving model to /home/avaz/courses/w23/winter-project/other/ros2_hgr_ws/src/ros2_hgr/model/keypoint_classifier/keypoint_classifier.hdf5\n",
            "43/43 [==============================] - 0s 2ms/step - loss: 1.8484 - accuracy: 0.2731 - val_loss: 1.7202 - val_accuracy: 0.3923\n",
            "Epoch 4/1000\n",
            " 1/43 [..............................] - ETA: 0s - loss: 1.8370 - accuracy: 0.2344\n",
            "Epoch 4: saving model to /home/avaz/courses/w23/winter-project/other/ros2_hgr_ws/src/ros2_hgr/model/keypoint_classifier/keypoint_classifier.hdf5\n",
            "43/43 [==============================] - 0s 2ms/step - loss: 1.7552 - accuracy: 0.3120 - val_loss: 1.6085 - val_accuracy: 0.4395\n",
            "Epoch 5/1000\n",
            "43/43 [==============================] - ETA: 0s - loss: 1.6759 - accuracy: 0.3460\n",
            "Epoch 5: saving model to /home/avaz/courses/w23/winter-project/other/ros2_hgr_ws/src/ros2_hgr/model/keypoint_classifier/keypoint_classifier.hdf5\n",
            "43/43 [==============================] - 0s 2ms/step - loss: 1.6759 - accuracy: 0.3460 - val_loss: 1.5054 - val_accuracy: 0.4784\n",
            "Epoch 6/1000\n",
            "31/43 [====================>.........] - ETA: 0s - loss: 1.6230 - accuracy: 0.3730\n",
            "Epoch 6: saving model to /home/avaz/courses/w23/winter-project/other/ros2_hgr_ws/src/ros2_hgr/model/keypoint_classifier/keypoint_classifier.hdf5\n",
            "43/43 [==============================] - 0s 3ms/step - loss: 1.6046 - accuracy: 0.3813 - val_loss: 1.4124 - val_accuracy: 0.5019\n",
            "Epoch 7/1000\n",
            "33/43 [======================>.......] - ETA: 0s - loss: 1.5418 - accuracy: 0.3984\n",
            "Epoch 7: saving model to /home/avaz/courses/w23/winter-project/other/ros2_hgr_ws/src/ros2_hgr/model/keypoint_classifier/keypoint_classifier.hdf5\n",
            "43/43 [==============================] - 0s 3ms/step - loss: 1.5351 - accuracy: 0.4037 - val_loss: 1.3125 - val_accuracy: 0.5556\n",
            "Epoch 8/1000\n",
            " 1/43 [..............................] - ETA: 0s - loss: 1.4716 - accuracy: 0.4453\n",
            "Epoch 8: saving model to /home/avaz/courses/w23/winter-project/other/ros2_hgr_ws/src/ros2_hgr/model/keypoint_classifier/keypoint_classifier.hdf5\n",
            "43/43 [==============================] - 0s 2ms/step - loss: 1.4708 - accuracy: 0.4286 - val_loss: 1.2353 - val_accuracy: 0.6077\n",
            "Epoch 9/1000\n",
            " 1/43 [..............................] - ETA: 0s - loss: 1.4855 - accuracy: 0.4219\n",
            "Epoch 9: saving model to /home/avaz/courses/w23/winter-project/other/ros2_hgr_ws/src/ros2_hgr/model/keypoint_classifier/keypoint_classifier.hdf5\n",
            "43/43 [==============================] - 0s 2ms/step - loss: 1.4290 - accuracy: 0.4585 - val_loss: 1.1700 - val_accuracy: 0.6252\n",
            "Epoch 10/1000\n",
            " 1/43 [..............................] - ETA: 0s - loss: 1.3777 - accuracy: 0.4531\n",
            "Epoch 10: saving model to /home/avaz/courses/w23/winter-project/other/ros2_hgr_ws/src/ros2_hgr/model/keypoint_classifier/keypoint_classifier.hdf5\n",
            "43/43 [==============================] - 0s 2ms/step - loss: 1.3940 - accuracy: 0.4569 - val_loss: 1.1194 - val_accuracy: 0.6362\n",
            "Epoch 11/1000\n",
            " 1/43 [..............................] - ETA: 0s - loss: 1.4568 - accuracy: 0.4141\n",
            "Epoch 11: saving model to /home/avaz/courses/w23/winter-project/other/ros2_hgr_ws/src/ros2_hgr/model/keypoint_classifier/keypoint_classifier.hdf5\n",
            "43/43 [==============================] - 0s 2ms/step - loss: 1.3564 - accuracy: 0.4711 - val_loss: 1.0704 - val_accuracy: 0.6756\n",
            "Epoch 12/1000\n",
            " 1/43 [..............................] - ETA: 0s - loss: 1.4242 - accuracy: 0.3906\n",
            "Epoch 12: saving model to /home/avaz/courses/w23/winter-project/other/ros2_hgr_ws/src/ros2_hgr/model/keypoint_classifier/keypoint_classifier.hdf5\n",
            "43/43 [==============================] - 0s 2ms/step - loss: 1.3060 - accuracy: 0.5020 - val_loss: 1.0239 - val_accuracy: 0.6899\n",
            "Epoch 13/1000\n",
            " 1/43 [..............................] - ETA: 0s - loss: 1.4325 - accuracy: 0.3516\n",
            "Epoch 13: saving model to /home/avaz/courses/w23/winter-project/other/ros2_hgr_ws/src/ros2_hgr/model/keypoint_classifier/keypoint_classifier.hdf5\n",
            "43/43 [==============================] - 0s 2ms/step - loss: 1.3004 - accuracy: 0.4931 - val_loss: 0.9860 - val_accuracy: 0.7008\n",
            "Epoch 14/1000\n",
            "43/43 [==============================] - ETA: 0s - loss: 1.2635 - accuracy: 0.5113\n",
            "Epoch 14: saving model to /home/avaz/courses/w23/winter-project/other/ros2_hgr_ws/src/ros2_hgr/model/keypoint_classifier/keypoint_classifier.hdf5\n",
            "43/43 [==============================] - 0s 2ms/step - loss: 1.2635 - accuracy: 0.5113 - val_loss: 0.9559 - val_accuracy: 0.7123\n",
            "Epoch 15/1000\n",
            " 1/43 [..............................] - ETA: 0s - loss: 1.1920 - accuracy: 0.5469\n",
            "Epoch 15: saving model to /home/avaz/courses/w23/winter-project/other/ros2_hgr_ws/src/ros2_hgr/model/keypoint_classifier/keypoint_classifier.hdf5\n",
            "43/43 [==============================] - 0s 2ms/step - loss: 1.2418 - accuracy: 0.5230 - val_loss: 0.9306 - val_accuracy: 0.7304\n",
            "Epoch 16/1000\n",
            " 1/43 [..............................] - ETA: 0s - loss: 1.1988 - accuracy: 0.5469\n",
            "Epoch 16: saving model to /home/avaz/courses/w23/winter-project/other/ros2_hgr_ws/src/ros2_hgr/model/keypoint_classifier/keypoint_classifier.hdf5\n",
            "43/43 [==============================] - 0s 3ms/step - loss: 1.2280 - accuracy: 0.5311 - val_loss: 0.8994 - val_accuracy: 0.7496\n",
            "Epoch 17/1000\n",
            "34/43 [======================>.......] - ETA: 0s - loss: 1.2036 - accuracy: 0.5381\n",
            "Epoch 17: saving model to /home/avaz/courses/w23/winter-project/other/ros2_hgr_ws/src/ros2_hgr/model/keypoint_classifier/keypoint_classifier.hdf5\n",
            "43/43 [==============================] - 0s 3ms/step - loss: 1.2073 - accuracy: 0.5395 - val_loss: 0.8754 - val_accuracy: 0.7463\n",
            "Epoch 18/1000\n",
            " 1/43 [..............................] - ETA: 0s - loss: 1.2239 - accuracy: 0.5234\n",
            "Epoch 18: saving model to /home/avaz/courses/w23/winter-project/other/ros2_hgr_ws/src/ros2_hgr/model/keypoint_classifier/keypoint_classifier.hdf5\n",
            "43/43 [==============================] - 0s 2ms/step - loss: 1.1893 - accuracy: 0.5459 - val_loss: 0.8532 - val_accuracy: 0.7649\n",
            "Epoch 19/1000\n",
            " 1/43 [..............................] - ETA: 0s - loss: 1.2905 - accuracy: 0.5312\n",
            "Epoch 19: saving model to /home/avaz/courses/w23/winter-project/other/ros2_hgr_ws/src/ros2_hgr/model/keypoint_classifier/keypoint_classifier.hdf5\n",
            "43/43 [==============================] - 0s 2ms/step - loss: 1.1663 - accuracy: 0.5539 - val_loss: 0.8314 - val_accuracy: 0.7742\n",
            "Epoch 20/1000\n",
            " 1/43 [..............................] - ETA: 0s - loss: 1.1632 - accuracy: 0.5547\n",
            "Epoch 20: saving model to /home/avaz/courses/w23/winter-project/other/ros2_hgr_ws/src/ros2_hgr/model/keypoint_classifier/keypoint_classifier.hdf5\n",
            "43/43 [==============================] - 0s 2ms/step - loss: 1.1489 - accuracy: 0.5619 - val_loss: 0.8076 - val_accuracy: 0.7956\n",
            "Epoch 21/1000\n",
            " 1/43 [..............................] - ETA: 0s - loss: 1.1455 - accuracy: 0.5469\n",
            "Epoch 21: saving model to /home/avaz/courses/w23/winter-project/other/ros2_hgr_ws/src/ros2_hgr/model/keypoint_classifier/keypoint_classifier.hdf5\n",
            "43/43 [==============================] - 0s 2ms/step - loss: 1.1328 - accuracy: 0.5680 - val_loss: 0.7843 - val_accuracy: 0.8044\n",
            "Epoch 22/1000\n",
            "32/43 [=====================>........] - ETA: 0s - loss: 1.1152 - accuracy: 0.5784\n",
            "Epoch 22: saving model to /home/avaz/courses/w23/winter-project/other/ros2_hgr_ws/src/ros2_hgr/model/keypoint_classifier/keypoint_classifier.hdf5\n",
            "43/43 [==============================] - 0s 3ms/step - loss: 1.1226 - accuracy: 0.5764 - val_loss: 0.7634 - val_accuracy: 0.8071\n",
            "Epoch 23/1000\n",
            " 1/43 [..............................] - ETA: 0s - loss: 1.2621 - accuracy: 0.5469\n",
            "Epoch 23: saving model to /home/avaz/courses/w23/winter-project/other/ros2_hgr_ws/src/ros2_hgr/model/keypoint_classifier/keypoint_classifier.hdf5\n",
            "43/43 [==============================] - 0s 2ms/step - loss: 1.1157 - accuracy: 0.5760 - val_loss: 0.7528 - val_accuracy: 0.8285\n",
            "Epoch 24/1000\n",
            " 1/43 [..............................] - ETA: 0s - loss: 1.0877 - accuracy: 0.5938\n",
            "Epoch 24: saving model to /home/avaz/courses/w23/winter-project/other/ros2_hgr_ws/src/ros2_hgr/model/keypoint_classifier/keypoint_classifier.hdf5\n",
            "43/43 [==============================] - 0s 2ms/step - loss: 1.1006 - accuracy: 0.5870 - val_loss: 0.7284 - val_accuracy: 0.8340\n",
            "Epoch 25/1000\n",
            "32/43 [=====================>........] - ETA: 0s - loss: 1.0975 - accuracy: 0.5876\n",
            "Epoch 25: saving model to /home/avaz/courses/w23/winter-project/other/ros2_hgr_ws/src/ros2_hgr/model/keypoint_classifier/keypoint_classifier.hdf5\n",
            "43/43 [==============================] - 0s 3ms/step - loss: 1.0941 - accuracy: 0.5913 - val_loss: 0.7185 - val_accuracy: 0.8559\n",
            "Epoch 26/1000\n",
            " 1/43 [..............................] - ETA: 0s - loss: 1.0256 - accuracy: 0.6172\n",
            "Epoch 26: saving model to /home/avaz/courses/w23/winter-project/other/ros2_hgr_ws/src/ros2_hgr/model/keypoint_classifier/keypoint_classifier.hdf5\n",
            "43/43 [==============================] - 0s 2ms/step - loss: 1.0757 - accuracy: 0.5910 - val_loss: 0.6958 - val_accuracy: 0.8592\n",
            "Epoch 27/1000\n",
            " 1/43 [..............................] - ETA: 0s - loss: 1.0796 - accuracy: 0.6250\n",
            "Epoch 27: saving model to /home/avaz/courses/w23/winter-project/other/ros2_hgr_ws/src/ros2_hgr/model/keypoint_classifier/keypoint_classifier.hdf5\n",
            "43/43 [==============================] - 0s 2ms/step - loss: 1.0799 - accuracy: 0.5935 - val_loss: 0.6887 - val_accuracy: 0.8696\n",
            "Epoch 28/1000\n",
            "27/43 [=================>............] - ETA: 0s - loss: 1.0718 - accuracy: 0.6027\n",
            "Epoch 28: saving model to /home/avaz/courses/w23/winter-project/other/ros2_hgr_ws/src/ros2_hgr/model/keypoint_classifier/keypoint_classifier.hdf5\n",
            "43/43 [==============================] - 0s 3ms/step - loss: 1.0635 - accuracy: 0.6045 - val_loss: 0.6772 - val_accuracy: 0.8614\n",
            "Epoch 29/1000\n",
            " 1/43 [..............................] - ETA: 0s - loss: 1.0856 - accuracy: 0.6172\n",
            "Epoch 29: saving model to /home/avaz/courses/w23/winter-project/other/ros2_hgr_ws/src/ros2_hgr/model/keypoint_classifier/keypoint_classifier.hdf5\n",
            "43/43 [==============================] - 0s 2ms/step - loss: 1.0590 - accuracy: 0.6083 - val_loss: 0.6650 - val_accuracy: 0.8679\n",
            "Epoch 30/1000\n",
            " 1/43 [..............................] - ETA: 0s - loss: 1.0024 - accuracy: 0.6484\n",
            "Epoch 30: saving model to /home/avaz/courses/w23/winter-project/other/ros2_hgr_ws/src/ros2_hgr/model/keypoint_classifier/keypoint_classifier.hdf5\n",
            "43/43 [==============================] - 0s 2ms/step - loss: 1.0528 - accuracy: 0.6122 - val_loss: 0.6531 - val_accuracy: 0.8762\n",
            "Epoch 31/1000\n",
            " 1/43 [..............................] - ETA: 0s - loss: 1.1375 - accuracy: 0.6172\n",
            "Epoch 31: saving model to /home/avaz/courses/w23/winter-project/other/ros2_hgr_ws/src/ros2_hgr/model/keypoint_classifier/keypoint_classifier.hdf5\n",
            "43/43 [==============================] - 0s 2ms/step - loss: 1.0433 - accuracy: 0.6071 - val_loss: 0.6422 - val_accuracy: 0.8805\n",
            "Epoch 32/1000\n",
            " 1/43 [..............................] - ETA: 0s - loss: 1.0504 - accuracy: 0.6172\n",
            "Epoch 32: saving model to /home/avaz/courses/w23/winter-project/other/ros2_hgr_ws/src/ros2_hgr/model/keypoint_classifier/keypoint_classifier.hdf5\n",
            "43/43 [==============================] - 0s 2ms/step - loss: 1.0333 - accuracy: 0.6169 - val_loss: 0.6267 - val_accuracy: 0.8762\n",
            "Epoch 33/1000\n",
            " 1/43 [..............................] - ETA: 0s - loss: 1.1633 - accuracy: 0.6172\n",
            "Epoch 33: saving model to /home/avaz/courses/w23/winter-project/other/ros2_hgr_ws/src/ros2_hgr/model/keypoint_classifier/keypoint_classifier.hdf5\n",
            "43/43 [==============================] - 0s 2ms/step - loss: 1.0139 - accuracy: 0.6206 - val_loss: 0.6163 - val_accuracy: 0.8833\n",
            "Epoch 34/1000\n",
            " 1/43 [..............................] - ETA: 0s - loss: 0.9455 - accuracy: 0.6562\n",
            "Epoch 34: saving model to /home/avaz/courses/w23/winter-project/other/ros2_hgr_ws/src/ros2_hgr/model/keypoint_classifier/keypoint_classifier.hdf5\n",
            "43/43 [==============================] - 0s 2ms/step - loss: 1.0322 - accuracy: 0.6100 - val_loss: 0.6019 - val_accuracy: 0.8899\n",
            "Epoch 35/1000\n",
            " 1/43 [..............................] - ETA: 0s - loss: 1.0813 - accuracy: 0.5859\n",
            "Epoch 35: saving model to /home/avaz/courses/w23/winter-project/other/ros2_hgr_ws/src/ros2_hgr/model/keypoint_classifier/keypoint_classifier.hdf5\n",
            "43/43 [==============================] - 0s 2ms/step - loss: 0.9936 - accuracy: 0.6323 - val_loss: 0.5987 - val_accuracy: 0.8975\n",
            "Epoch 36/1000\n",
            " 1/43 [..............................] - ETA: 0s - loss: 1.0154 - accuracy: 0.6562\n",
            "Epoch 36: saving model to /home/avaz/courses/w23/winter-project/other/ros2_hgr_ws/src/ros2_hgr/model/keypoint_classifier/keypoint_classifier.hdf5\n",
            "43/43 [==============================] - 0s 2ms/step - loss: 1.0087 - accuracy: 0.6240 - val_loss: 0.5910 - val_accuracy: 0.8910\n",
            "Epoch 37/1000\n",
            " 1/43 [..............................] - ETA: 0s - loss: 0.9589 - accuracy: 0.6875\n",
            "Epoch 37: saving model to /home/avaz/courses/w23/winter-project/other/ros2_hgr_ws/src/ros2_hgr/model/keypoint_classifier/keypoint_classifier.hdf5\n",
            "43/43 [==============================] - 0s 2ms/step - loss: 1.0245 - accuracy: 0.6239 - val_loss: 0.5830 - val_accuracy: 0.8942\n",
            "Epoch 38/1000\n",
            " 1/43 [..............................] - ETA: 0s - loss: 0.9923 - accuracy: 0.6953\n",
            "Epoch 38: saving model to /home/avaz/courses/w23/winter-project/other/ros2_hgr_ws/src/ros2_hgr/model/keypoint_classifier/keypoint_classifier.hdf5\n",
            "43/43 [==============================] - 0s 2ms/step - loss: 1.0000 - accuracy: 0.6279 - val_loss: 0.5822 - val_accuracy: 0.8855\n",
            "Epoch 39/1000\n",
            " 1/43 [..............................] - ETA: 0s - loss: 0.9857 - accuracy: 0.6250\n",
            "Epoch 39: saving model to /home/avaz/courses/w23/winter-project/other/ros2_hgr_ws/src/ros2_hgr/model/keypoint_classifier/keypoint_classifier.hdf5\n",
            "43/43 [==============================] - 0s 2ms/step - loss: 1.0099 - accuracy: 0.6255 - val_loss: 0.5773 - val_accuracy: 0.9019\n",
            "Epoch 40/1000\n",
            " 1/43 [..............................] - ETA: 0s - loss: 1.0758 - accuracy: 0.5938\n",
            "Epoch 40: saving model to /home/avaz/courses/w23/winter-project/other/ros2_hgr_ws/src/ros2_hgr/model/keypoint_classifier/keypoint_classifier.hdf5\n",
            "43/43 [==============================] - 0s 2ms/step - loss: 0.9895 - accuracy: 0.6348 - val_loss: 0.5603 - val_accuracy: 0.9036\n",
            "Epoch 41/1000\n",
            " 1/43 [..............................] - ETA: 0s - loss: 1.1086 - accuracy: 0.5781\n",
            "Epoch 41: saving model to /home/avaz/courses/w23/winter-project/other/ros2_hgr_ws/src/ros2_hgr/model/keypoint_classifier/keypoint_classifier.hdf5\n",
            "43/43 [==============================] - 0s 2ms/step - loss: 0.9871 - accuracy: 0.6394 - val_loss: 0.5560 - val_accuracy: 0.9052\n",
            "Epoch 42/1000\n",
            " 1/43 [..............................] - ETA: 0s - loss: 0.9499 - accuracy: 0.6719\n",
            "Epoch 42: saving model to /home/avaz/courses/w23/winter-project/other/ros2_hgr_ws/src/ros2_hgr/model/keypoint_classifier/keypoint_classifier.hdf5\n",
            "43/43 [==============================] - 0s 2ms/step - loss: 0.9670 - accuracy: 0.6498 - val_loss: 0.5430 - val_accuracy: 0.8992\n",
            "Epoch 43/1000\n",
            " 1/43 [..............................] - ETA: 0s - loss: 0.8907 - accuracy: 0.6484\n",
            "Epoch 43: saving model to /home/avaz/courses/w23/winter-project/other/ros2_hgr_ws/src/ros2_hgr/model/keypoint_classifier/keypoint_classifier.hdf5\n",
            "43/43 [==============================] - 0s 2ms/step - loss: 0.9801 - accuracy: 0.6434 - val_loss: 0.5346 - val_accuracy: 0.9107\n",
            "Epoch 44/1000\n",
            " 1/43 [..............................] - ETA: 0s - loss: 0.9266 - accuracy: 0.6328\n",
            "Epoch 44: saving model to /home/avaz/courses/w23/winter-project/other/ros2_hgr_ws/src/ros2_hgr/model/keypoint_classifier/keypoint_classifier.hdf5\n",
            "43/43 [==============================] - 0s 2ms/step - loss: 0.9728 - accuracy: 0.6377 - val_loss: 0.5402 - val_accuracy: 0.9074\n",
            "Epoch 45/1000\n",
            "30/43 [===================>..........] - ETA: 0s - loss: 0.9881 - accuracy: 0.6435\n",
            "Epoch 45: saving model to /home/avaz/courses/w23/winter-project/other/ros2_hgr_ws/src/ros2_hgr/model/keypoint_classifier/keypoint_classifier.hdf5\n",
            "43/43 [==============================] - 0s 2ms/step - loss: 0.9743 - accuracy: 0.6483 - val_loss: 0.5360 - val_accuracy: 0.9052\n",
            "Epoch 46/1000\n",
            " 1/43 [..............................] - ETA: 0s - loss: 0.9990 - accuracy: 0.6719\n",
            "Epoch 46: saving model to /home/avaz/courses/w23/winter-project/other/ros2_hgr_ws/src/ros2_hgr/model/keypoint_classifier/keypoint_classifier.hdf5\n",
            "43/43 [==============================] - 0s 2ms/step - loss: 0.9807 - accuracy: 0.6387 - val_loss: 0.5245 - val_accuracy: 0.9090\n",
            "Epoch 47/1000\n",
            " 1/43 [..............................] - ETA: 0s - loss: 0.8983 - accuracy: 0.6406\n",
            "Epoch 47: saving model to /home/avaz/courses/w23/winter-project/other/ros2_hgr_ws/src/ros2_hgr/model/keypoint_classifier/keypoint_classifier.hdf5\n",
            "43/43 [==============================] - 0s 2ms/step - loss: 0.9661 - accuracy: 0.6416 - val_loss: 0.5205 - val_accuracy: 0.9107\n",
            "Epoch 48/1000\n",
            " 1/43 [..............................] - ETA: 0s - loss: 1.0117 - accuracy: 0.6797\n",
            "Epoch 48: saving model to /home/avaz/courses/w23/winter-project/other/ros2_hgr_ws/src/ros2_hgr/model/keypoint_classifier/keypoint_classifier.hdf5\n",
            "43/43 [==============================] - 0s 2ms/step - loss: 0.9719 - accuracy: 0.6440 - val_loss: 0.5223 - val_accuracy: 0.9068\n",
            "Epoch 49/1000\n",
            " 1/43 [..............................] - ETA: 0s - loss: 0.9884 - accuracy: 0.6172\n",
            "Epoch 49: saving model to /home/avaz/courses/w23/winter-project/other/ros2_hgr_ws/src/ros2_hgr/model/keypoint_classifier/keypoint_classifier.hdf5\n",
            "43/43 [==============================] - 0s 2ms/step - loss: 0.9658 - accuracy: 0.6494 - val_loss: 0.5136 - val_accuracy: 0.9145\n",
            "Epoch 50/1000\n",
            " 1/43 [..............................] - ETA: 0s - loss: 0.8949 - accuracy: 0.7031\n",
            "Epoch 50: saving model to /home/avaz/courses/w23/winter-project/other/ros2_hgr_ws/src/ros2_hgr/model/keypoint_classifier/keypoint_classifier.hdf5\n",
            "43/43 [==============================] - 0s 2ms/step - loss: 0.9863 - accuracy: 0.6447 - val_loss: 0.5342 - val_accuracy: 0.9030\n",
            "Epoch 51/1000\n",
            " 1/43 [..............................] - ETA: 0s - loss: 0.9475 - accuracy: 0.6250\n",
            "Epoch 51: saving model to /home/avaz/courses/w23/winter-project/other/ros2_hgr_ws/src/ros2_hgr/model/keypoint_classifier/keypoint_classifier.hdf5\n",
            "43/43 [==============================] - 0s 2ms/step - loss: 0.9568 - accuracy: 0.6454 - val_loss: 0.5187 - val_accuracy: 0.9140\n",
            "Epoch 52/1000\n",
            " 1/43 [..............................] - ETA: 0s - loss: 0.8069 - accuracy: 0.6953\n",
            "Epoch 52: saving model to /home/avaz/courses/w23/winter-project/other/ros2_hgr_ws/src/ros2_hgr/model/keypoint_classifier/keypoint_classifier.hdf5\n",
            "43/43 [==============================] - 0s 2ms/step - loss: 0.9595 - accuracy: 0.6489 - val_loss: 0.5083 - val_accuracy: 0.9184\n",
            "Epoch 53/1000\n",
            " 1/43 [..............................] - ETA: 0s - loss: 0.8950 - accuracy: 0.6406\n",
            "Epoch 53: saving model to /home/avaz/courses/w23/winter-project/other/ros2_hgr_ws/src/ros2_hgr/model/keypoint_classifier/keypoint_classifier.hdf5\n",
            "43/43 [==============================] - 0s 2ms/step - loss: 0.9578 - accuracy: 0.6502 - val_loss: 0.5030 - val_accuracy: 0.9200\n",
            "Epoch 54/1000\n",
            " 1/43 [..............................] - ETA: 0s - loss: 1.0024 - accuracy: 0.6719\n",
            "Epoch 54: saving model to /home/avaz/courses/w23/winter-project/other/ros2_hgr_ws/src/ros2_hgr/model/keypoint_classifier/keypoint_classifier.hdf5\n",
            "43/43 [==============================] - 0s 2ms/step - loss: 0.9482 - accuracy: 0.6513 - val_loss: 0.4943 - val_accuracy: 0.9200\n",
            "Epoch 55/1000\n",
            " 1/43 [..............................] - ETA: 0s - loss: 0.8633 - accuracy: 0.6562\n",
            "Epoch 55: saving model to /home/avaz/courses/w23/winter-project/other/ros2_hgr_ws/src/ros2_hgr/model/keypoint_classifier/keypoint_classifier.hdf5\n",
            "43/43 [==============================] - 0s 2ms/step - loss: 0.9326 - accuracy: 0.6558 - val_loss: 0.4928 - val_accuracy: 0.9200\n",
            "Epoch 56/1000\n",
            " 1/43 [..............................] - ETA: 0s - loss: 0.9460 - accuracy: 0.6797\n",
            "Epoch 56: saving model to /home/avaz/courses/w23/winter-project/other/ros2_hgr_ws/src/ros2_hgr/model/keypoint_classifier/keypoint_classifier.hdf5\n",
            "43/43 [==============================] - 0s 2ms/step - loss: 0.9517 - accuracy: 0.6483 - val_loss: 0.4910 - val_accuracy: 0.9227\n",
            "Epoch 57/1000\n",
            " 1/43 [..............................] - ETA: 0s - loss: 0.9386 - accuracy: 0.6719\n",
            "Epoch 57: saving model to /home/avaz/courses/w23/winter-project/other/ros2_hgr_ws/src/ros2_hgr/model/keypoint_classifier/keypoint_classifier.hdf5\n",
            "43/43 [==============================] - 0s 2ms/step - loss: 0.9416 - accuracy: 0.6672 - val_loss: 0.4900 - val_accuracy: 0.9216\n",
            "Epoch 58/1000\n",
            " 1/43 [..............................] - ETA: 0s - loss: 0.8159 - accuracy: 0.7109\n",
            "Epoch 58: saving model to /home/avaz/courses/w23/winter-project/other/ros2_hgr_ws/src/ros2_hgr/model/keypoint_classifier/keypoint_classifier.hdf5\n",
            "43/43 [==============================] - 0s 2ms/step - loss: 0.9349 - accuracy: 0.6549 - val_loss: 0.4788 - val_accuracy: 0.9260\n",
            "Epoch 59/1000\n",
            " 1/43 [..............................] - ETA: 0s - loss: 0.9758 - accuracy: 0.6406\n",
            "Epoch 59: saving model to /home/avaz/courses/w23/winter-project/other/ros2_hgr_ws/src/ros2_hgr/model/keypoint_classifier/keypoint_classifier.hdf5\n",
            "43/43 [==============================] - 0s 2ms/step - loss: 0.9438 - accuracy: 0.6514 - val_loss: 0.4877 - val_accuracy: 0.9244\n",
            "Epoch 60/1000\n",
            " 1/43 [..............................] - ETA: 0s - loss: 0.9586 - accuracy: 0.6406\n",
            "Epoch 60: saving model to /home/avaz/courses/w23/winter-project/other/ros2_hgr_ws/src/ros2_hgr/model/keypoint_classifier/keypoint_classifier.hdf5\n",
            "43/43 [==============================] - 0s 2ms/step - loss: 0.9477 - accuracy: 0.6538 - val_loss: 0.4785 - val_accuracy: 0.9211\n",
            "Epoch 61/1000\n",
            " 1/43 [..............................] - ETA: 0s - loss: 0.7498 - accuracy: 0.7422\n",
            "Epoch 61: saving model to /home/avaz/courses/w23/winter-project/other/ros2_hgr_ws/src/ros2_hgr/model/keypoint_classifier/keypoint_classifier.hdf5\n",
            "43/43 [==============================] - 0s 2ms/step - loss: 0.9284 - accuracy: 0.6556 - val_loss: 0.4736 - val_accuracy: 0.9266\n",
            "Epoch 62/1000\n",
            " 1/43 [..............................] - ETA: 0s - loss: 0.8674 - accuracy: 0.7109\n",
            "Epoch 62: saving model to /home/avaz/courses/w23/winter-project/other/ros2_hgr_ws/src/ros2_hgr/model/keypoint_classifier/keypoint_classifier.hdf5\n",
            "43/43 [==============================] - 0s 2ms/step - loss: 0.9348 - accuracy: 0.6619 - val_loss: 0.4794 - val_accuracy: 0.9211\n",
            "Epoch 63/1000\n",
            " 1/43 [..............................] - ETA: 0s - loss: 0.9693 - accuracy: 0.6250\n",
            "Epoch 63: saving model to /home/avaz/courses/w23/winter-project/other/ros2_hgr_ws/src/ros2_hgr/model/keypoint_classifier/keypoint_classifier.hdf5\n",
            "43/43 [==============================] - 0s 2ms/step - loss: 0.9188 - accuracy: 0.6600 - val_loss: 0.4735 - val_accuracy: 0.9184\n",
            "Epoch 64/1000\n",
            " 1/43 [..............................] - ETA: 0s - loss: 0.9904 - accuracy: 0.6406\n",
            "Epoch 64: saving model to /home/avaz/courses/w23/winter-project/other/ros2_hgr_ws/src/ros2_hgr/model/keypoint_classifier/keypoint_classifier.hdf5\n",
            "43/43 [==============================] - 0s 2ms/step - loss: 0.9289 - accuracy: 0.6633 - val_loss: 0.4715 - val_accuracy: 0.9293\n",
            "Epoch 65/1000\n",
            " 1/43 [..............................] - ETA: 0s - loss: 0.9111 - accuracy: 0.6719\n",
            "Epoch 65: saving model to /home/avaz/courses/w23/winter-project/other/ros2_hgr_ws/src/ros2_hgr/model/keypoint_classifier/keypoint_classifier.hdf5\n",
            "43/43 [==============================] - 0s 2ms/step - loss: 0.9346 - accuracy: 0.6597 - val_loss: 0.4718 - val_accuracy: 0.9222\n",
            "Epoch 66/1000\n",
            " 1/43 [..............................] - ETA: 0s - loss: 0.8677 - accuracy: 0.6797\n",
            "Epoch 66: saving model to /home/avaz/courses/w23/winter-project/other/ros2_hgr_ws/src/ros2_hgr/model/keypoint_classifier/keypoint_classifier.hdf5\n",
            "43/43 [==============================] - 0s 2ms/step - loss: 0.9117 - accuracy: 0.6697 - val_loss: 0.4664 - val_accuracy: 0.9315\n",
            "Epoch 67/1000\n",
            " 1/43 [..............................] - ETA: 0s - loss: 0.9868 - accuracy: 0.6797\n",
            "Epoch 67: saving model to /home/avaz/courses/w23/winter-project/other/ros2_hgr_ws/src/ros2_hgr/model/keypoint_classifier/keypoint_classifier.hdf5\n",
            "43/43 [==============================] - 0s 2ms/step - loss: 0.9372 - accuracy: 0.6613 - val_loss: 0.4660 - val_accuracy: 0.9266\n",
            "Epoch 68/1000\n",
            " 1/43 [..............................] - ETA: 0s - loss: 1.0211 - accuracy: 0.6406\n",
            "Epoch 68: saving model to /home/avaz/courses/w23/winter-project/other/ros2_hgr_ws/src/ros2_hgr/model/keypoint_classifier/keypoint_classifier.hdf5\n",
            "43/43 [==============================] - 0s 2ms/step - loss: 0.9156 - accuracy: 0.6710 - val_loss: 0.4566 - val_accuracy: 0.9282\n",
            "Epoch 69/1000\n",
            " 1/43 [..............................] - ETA: 0s - loss: 1.0308 - accuracy: 0.6641\n",
            "Epoch 69: saving model to /home/avaz/courses/w23/winter-project/other/ros2_hgr_ws/src/ros2_hgr/model/keypoint_classifier/keypoint_classifier.hdf5\n",
            "43/43 [==============================] - 0s 2ms/step - loss: 0.9103 - accuracy: 0.6666 - val_loss: 0.4521 - val_accuracy: 0.9326\n",
            "Epoch 70/1000\n",
            " 1/43 [..............................] - ETA: 0s - loss: 0.6822 - accuracy: 0.7734\n",
            "Epoch 70: saving model to /home/avaz/courses/w23/winter-project/other/ros2_hgr_ws/src/ros2_hgr/model/keypoint_classifier/keypoint_classifier.hdf5\n",
            "43/43 [==============================] - 0s 2ms/step - loss: 0.9273 - accuracy: 0.6567 - val_loss: 0.4547 - val_accuracy: 0.9337\n",
            "Epoch 71/1000\n",
            " 1/43 [..............................] - ETA: 0s - loss: 0.9701 - accuracy: 0.6406\n",
            "Epoch 71: saving model to /home/avaz/courses/w23/winter-project/other/ros2_hgr_ws/src/ros2_hgr/model/keypoint_classifier/keypoint_classifier.hdf5\n",
            "43/43 [==============================] - 0s 2ms/step - loss: 0.8937 - accuracy: 0.6714 - val_loss: 0.4486 - val_accuracy: 0.9299\n",
            "Epoch 72/1000\n",
            " 1/43 [..............................] - ETA: 0s - loss: 1.0727 - accuracy: 0.6250\n",
            "Epoch 72: saving model to /home/avaz/courses/w23/winter-project/other/ros2_hgr_ws/src/ros2_hgr/model/keypoint_classifier/keypoint_classifier.hdf5\n",
            "43/43 [==============================] - 0s 2ms/step - loss: 0.8964 - accuracy: 0.6726 - val_loss: 0.4379 - val_accuracy: 0.9332\n",
            "Epoch 73/1000\n",
            " 1/43 [..............................] - ETA: 0s - loss: 0.9028 - accuracy: 0.6328\n",
            "Epoch 73: saving model to /home/avaz/courses/w23/winter-project/other/ros2_hgr_ws/src/ros2_hgr/model/keypoint_classifier/keypoint_classifier.hdf5\n",
            "43/43 [==============================] - 0s 2ms/step - loss: 0.8969 - accuracy: 0.6717 - val_loss: 0.4498 - val_accuracy: 0.9288\n",
            "Epoch 74/1000\n",
            " 1/43 [..............................] - ETA: 0s - loss: 0.9410 - accuracy: 0.6641\n",
            "Epoch 74: saving model to /home/avaz/courses/w23/winter-project/other/ros2_hgr_ws/src/ros2_hgr/model/keypoint_classifier/keypoint_classifier.hdf5\n",
            "43/43 [==============================] - 0s 2ms/step - loss: 0.9097 - accuracy: 0.6646 - val_loss: 0.4518 - val_accuracy: 0.9337\n",
            "Epoch 75/1000\n",
            " 1/43 [..............................] - ETA: 0s - loss: 0.9143 - accuracy: 0.6797\n",
            "Epoch 75: saving model to /home/avaz/courses/w23/winter-project/other/ros2_hgr_ws/src/ros2_hgr/model/keypoint_classifier/keypoint_classifier.hdf5\n",
            "43/43 [==============================] - 0s 2ms/step - loss: 0.8902 - accuracy: 0.6728 - val_loss: 0.4405 - val_accuracy: 0.9359\n",
            "Epoch 76/1000\n",
            "31/43 [====================>.........] - ETA: 0s - loss: 0.8856 - accuracy: 0.6807\n",
            "Epoch 76: saving model to /home/avaz/courses/w23/winter-project/other/ros2_hgr_ws/src/ros2_hgr/model/keypoint_classifier/keypoint_classifier.hdf5\n",
            "43/43 [==============================] - 0s 2ms/step - loss: 0.8792 - accuracy: 0.6843 - val_loss: 0.4356 - val_accuracy: 0.9364\n",
            "Epoch 77/1000\n",
            " 1/43 [..............................] - ETA: 0s - loss: 0.8762 - accuracy: 0.6250\n",
            "Epoch 77: saving model to /home/avaz/courses/w23/winter-project/other/ros2_hgr_ws/src/ros2_hgr/model/keypoint_classifier/keypoint_classifier.hdf5\n",
            "43/43 [==============================] - 0s 2ms/step - loss: 0.8883 - accuracy: 0.6692 - val_loss: 0.4372 - val_accuracy: 0.9381\n",
            "Epoch 78/1000\n",
            " 1/43 [..............................] - ETA: 0s - loss: 0.9768 - accuracy: 0.6719\n",
            "Epoch 78: saving model to /home/avaz/courses/w23/winter-project/other/ros2_hgr_ws/src/ros2_hgr/model/keypoint_classifier/keypoint_classifier.hdf5\n",
            "43/43 [==============================] - 0s 2ms/step - loss: 0.8995 - accuracy: 0.6763 - val_loss: 0.4369 - val_accuracy: 0.9348\n",
            "Epoch 79/1000\n",
            " 1/43 [..............................] - ETA: 0s - loss: 0.9159 - accuracy: 0.6719\n",
            "Epoch 79: saving model to /home/avaz/courses/w23/winter-project/other/ros2_hgr_ws/src/ros2_hgr/model/keypoint_classifier/keypoint_classifier.hdf5\n",
            "43/43 [==============================] - 0s 2ms/step - loss: 0.8877 - accuracy: 0.6858 - val_loss: 0.4309 - val_accuracy: 0.9370\n",
            "Epoch 80/1000\n",
            " 1/43 [..............................] - ETA: 0s - loss: 0.9608 - accuracy: 0.6328\n",
            "Epoch 80: saving model to /home/avaz/courses/w23/winter-project/other/ros2_hgr_ws/src/ros2_hgr/model/keypoint_classifier/keypoint_classifier.hdf5\n",
            "43/43 [==============================] - 0s 2ms/step - loss: 0.9074 - accuracy: 0.6670 - val_loss: 0.4392 - val_accuracy: 0.9326\n",
            "Epoch 81/1000\n",
            " 1/43 [..............................] - ETA: 0s - loss: 0.9554 - accuracy: 0.6719\n",
            "Epoch 81: saving model to /home/avaz/courses/w23/winter-project/other/ros2_hgr_ws/src/ros2_hgr/model/keypoint_classifier/keypoint_classifier.hdf5\n",
            "43/43 [==============================] - 0s 2ms/step - loss: 0.8876 - accuracy: 0.6754 - val_loss: 0.4387 - val_accuracy: 0.9326\n",
            "Epoch 82/1000\n",
            " 1/43 [..............................] - ETA: 0s - loss: 0.7867 - accuracy: 0.7969\n",
            "Epoch 82: saving model to /home/avaz/courses/w23/winter-project/other/ros2_hgr_ws/src/ros2_hgr/model/keypoint_classifier/keypoint_classifier.hdf5\n",
            "43/43 [==============================] - 0s 2ms/step - loss: 0.8853 - accuracy: 0.6832 - val_loss: 0.4402 - val_accuracy: 0.9342\n",
            "Epoch 83/1000\n",
            " 1/43 [..............................] - ETA: 0s - loss: 0.8362 - accuracy: 0.7188\n",
            "Epoch 83: saving model to /home/avaz/courses/w23/winter-project/other/ros2_hgr_ws/src/ros2_hgr/model/keypoint_classifier/keypoint_classifier.hdf5\n",
            "43/43 [==============================] - 0s 2ms/step - loss: 0.8908 - accuracy: 0.6717 - val_loss: 0.4362 - val_accuracy: 0.9353\n",
            "Epoch 84/1000\n",
            " 1/43 [..............................] - ETA: 0s - loss: 0.9724 - accuracy: 0.6328\n",
            "Epoch 84: saving model to /home/avaz/courses/w23/winter-project/other/ros2_hgr_ws/src/ros2_hgr/model/keypoint_classifier/keypoint_classifier.hdf5\n",
            "43/43 [==============================] - 0s 2ms/step - loss: 0.8848 - accuracy: 0.6752 - val_loss: 0.4342 - val_accuracy: 0.9342\n",
            "Epoch 85/1000\n",
            " 1/43 [..............................] - ETA: 0s - loss: 0.9098 - accuracy: 0.6641\n",
            "Epoch 85: saving model to /home/avaz/courses/w23/winter-project/other/ros2_hgr_ws/src/ros2_hgr/model/keypoint_classifier/keypoint_classifier.hdf5\n",
            "43/43 [==============================] - 0s 2ms/step - loss: 0.8905 - accuracy: 0.6770 - val_loss: 0.4357 - val_accuracy: 0.9337\n",
            "Epoch 86/1000\n",
            " 1/43 [..............................] - ETA: 0s - loss: 0.9108 - accuracy: 0.6406\n",
            "Epoch 86: saving model to /home/avaz/courses/w23/winter-project/other/ros2_hgr_ws/src/ros2_hgr/model/keypoint_classifier/keypoint_classifier.hdf5\n",
            "43/43 [==============================] - 0s 2ms/step - loss: 0.8890 - accuracy: 0.6776 - val_loss: 0.4372 - val_accuracy: 0.9326\n",
            "Epoch 87/1000\n",
            " 1/43 [..............................] - ETA: 0s - loss: 0.7564 - accuracy: 0.7578\n",
            "Epoch 87: saving model to /home/avaz/courses/w23/winter-project/other/ros2_hgr_ws/src/ros2_hgr/model/keypoint_classifier/keypoint_classifier.hdf5\n",
            "43/43 [==============================] - 0s 2ms/step - loss: 0.8749 - accuracy: 0.6902 - val_loss: 0.4213 - val_accuracy: 0.9370\n",
            "Epoch 88/1000\n",
            " 1/43 [..............................] - ETA: 0s - loss: 0.9838 - accuracy: 0.5938\n",
            "Epoch 88: saving model to /home/avaz/courses/w23/winter-project/other/ros2_hgr_ws/src/ros2_hgr/model/keypoint_classifier/keypoint_classifier.hdf5\n",
            "43/43 [==============================] - 0s 2ms/step - loss: 0.8761 - accuracy: 0.6796 - val_loss: 0.4267 - val_accuracy: 0.9364\n",
            "Epoch 89/1000\n",
            " 1/43 [..............................] - ETA: 0s - loss: 0.8580 - accuracy: 0.6797\n",
            "Epoch 89: saving model to /home/avaz/courses/w23/winter-project/other/ros2_hgr_ws/src/ros2_hgr/model/keypoint_classifier/keypoint_classifier.hdf5\n",
            "43/43 [==============================] - 0s 2ms/step - loss: 0.9099 - accuracy: 0.6642 - val_loss: 0.4245 - val_accuracy: 0.9381\n",
            "Epoch 90/1000\n",
            " 1/43 [..............................] - ETA: 0s - loss: 0.8810 - accuracy: 0.6797\n",
            "Epoch 90: saving model to /home/avaz/courses/w23/winter-project/other/ros2_hgr_ws/src/ros2_hgr/model/keypoint_classifier/keypoint_classifier.hdf5\n",
            "43/43 [==============================] - 0s 2ms/step - loss: 0.8727 - accuracy: 0.6823 - val_loss: 0.4230 - val_accuracy: 0.9348\n",
            "Epoch 91/1000\n",
            " 1/43 [..............................] - ETA: 0s - loss: 0.9058 - accuracy: 0.6016\n",
            "Epoch 91: saving model to /home/avaz/courses/w23/winter-project/other/ros2_hgr_ws/src/ros2_hgr/model/keypoint_classifier/keypoint_classifier.hdf5\n",
            "43/43 [==============================] - 0s 2ms/step - loss: 0.8830 - accuracy: 0.6745 - val_loss: 0.4242 - val_accuracy: 0.9397\n",
            "Epoch 92/1000\n",
            " 1/43 [..............................] - ETA: 0s - loss: 0.8333 - accuracy: 0.6328\n",
            "Epoch 92: saving model to /home/avaz/courses/w23/winter-project/other/ros2_hgr_ws/src/ros2_hgr/model/keypoint_classifier/keypoint_classifier.hdf5\n",
            "43/43 [==============================] - 0s 2ms/step - loss: 0.8722 - accuracy: 0.6869 - val_loss: 0.4226 - val_accuracy: 0.9348\n",
            "Epoch 93/1000\n",
            " 1/43 [..............................] - ETA: 0s - loss: 0.8283 - accuracy: 0.7266\n",
            "Epoch 93: saving model to /home/avaz/courses/w23/winter-project/other/ros2_hgr_ws/src/ros2_hgr/model/keypoint_classifier/keypoint_classifier.hdf5\n",
            "43/43 [==============================] - 0s 2ms/step - loss: 0.8712 - accuracy: 0.6787 - val_loss: 0.4287 - val_accuracy: 0.9353\n",
            "Epoch 94/1000\n",
            " 1/43 [..............................] - ETA: 0s - loss: 0.8663 - accuracy: 0.6484\n",
            "Epoch 94: saving model to /home/avaz/courses/w23/winter-project/other/ros2_hgr_ws/src/ros2_hgr/model/keypoint_classifier/keypoint_classifier.hdf5\n",
            "43/43 [==============================] - 0s 2ms/step - loss: 0.8397 - accuracy: 0.6898 - val_loss: 0.4083 - val_accuracy: 0.9392\n",
            "Epoch 95/1000\n",
            " 1/43 [..............................] - ETA: 0s - loss: 0.8981 - accuracy: 0.7344\n",
            "Epoch 95: saving model to /home/avaz/courses/w23/winter-project/other/ros2_hgr_ws/src/ros2_hgr/model/keypoint_classifier/keypoint_classifier.hdf5\n",
            "43/43 [==============================] - 0s 2ms/step - loss: 0.8680 - accuracy: 0.6874 - val_loss: 0.4186 - val_accuracy: 0.9364\n",
            "Epoch 96/1000\n",
            " 1/43 [..............................] - ETA: 0s - loss: 0.8627 - accuracy: 0.6562\n",
            "Epoch 96: saving model to /home/avaz/courses/w23/winter-project/other/ros2_hgr_ws/src/ros2_hgr/model/keypoint_classifier/keypoint_classifier.hdf5\n",
            "43/43 [==============================] - 0s 2ms/step - loss: 0.8677 - accuracy: 0.6860 - val_loss: 0.4155 - val_accuracy: 0.9321\n",
            "Epoch 97/1000\n",
            " 1/43 [..............................] - ETA: 0s - loss: 0.7290 - accuracy: 0.7500\n",
            "Epoch 97: saving model to /home/avaz/courses/w23/winter-project/other/ros2_hgr_ws/src/ros2_hgr/model/keypoint_classifier/keypoint_classifier.hdf5\n",
            "43/43 [==============================] - 0s 2ms/step - loss: 0.8663 - accuracy: 0.6876 - val_loss: 0.4120 - val_accuracy: 0.9359\n",
            "Epoch 98/1000\n",
            " 1/43 [..............................] - ETA: 0s - loss: 0.9318 - accuracy: 0.7344\n",
            "Epoch 98: saving model to /home/avaz/courses/w23/winter-project/other/ros2_hgr_ws/src/ros2_hgr/model/keypoint_classifier/keypoint_classifier.hdf5\n",
            "43/43 [==============================] - 0s 2ms/step - loss: 0.8824 - accuracy: 0.6781 - val_loss: 0.4091 - val_accuracy: 0.9414\n",
            "Epoch 99/1000\n",
            " 1/43 [..............................] - ETA: 0s - loss: 0.7559 - accuracy: 0.7422\n",
            "Epoch 99: saving model to /home/avaz/courses/w23/winter-project/other/ros2_hgr_ws/src/ros2_hgr/model/keypoint_classifier/keypoint_classifier.hdf5\n",
            "43/43 [==============================] - 0s 2ms/step - loss: 0.8717 - accuracy: 0.6874 - val_loss: 0.4159 - val_accuracy: 0.9403\n",
            "Epoch 100/1000\n",
            " 1/43 [..............................] - ETA: 0s - loss: 0.8368 - accuracy: 0.6719\n",
            "Epoch 100: saving model to /home/avaz/courses/w23/winter-project/other/ros2_hgr_ws/src/ros2_hgr/model/keypoint_classifier/keypoint_classifier.hdf5\n",
            "43/43 [==============================] - 0s 2ms/step - loss: 0.8671 - accuracy: 0.6880 - val_loss: 0.4255 - val_accuracy: 0.9326\n",
            "Epoch 101/1000\n",
            " 1/43 [..............................] - ETA: 0s - loss: 0.9597 - accuracy: 0.6406\n",
            "Epoch 101: saving model to /home/avaz/courses/w23/winter-project/other/ros2_hgr_ws/src/ros2_hgr/model/keypoint_classifier/keypoint_classifier.hdf5\n",
            "43/43 [==============================] - 0s 2ms/step - loss: 0.8786 - accuracy: 0.6836 - val_loss: 0.4213 - val_accuracy: 0.9348\n",
            "Epoch 102/1000\n",
            " 1/43 [..............................] - ETA: 0s - loss: 0.8209 - accuracy: 0.7266\n",
            "Epoch 102: saving model to /home/avaz/courses/w23/winter-project/other/ros2_hgr_ws/src/ros2_hgr/model/keypoint_classifier/keypoint_classifier.hdf5\n",
            "43/43 [==============================] - 0s 2ms/step - loss: 0.8556 - accuracy: 0.6935 - val_loss: 0.4148 - val_accuracy: 0.9359\n",
            "Epoch 103/1000\n",
            " 1/43 [..............................] - ETA: 0s - loss: 0.8963 - accuracy: 0.6250\n",
            "Epoch 103: saving model to /home/avaz/courses/w23/winter-project/other/ros2_hgr_ws/src/ros2_hgr/model/keypoint_classifier/keypoint_classifier.hdf5\n",
            "43/43 [==============================] - 0s 2ms/step - loss: 0.8539 - accuracy: 0.6916 - val_loss: 0.4017 - val_accuracy: 0.9408\n",
            "Epoch 104/1000\n",
            "35/43 [=======================>......] - ETA: 0s - loss: 0.8813 - accuracy: 0.6812\n",
            "Epoch 104: saving model to /home/avaz/courses/w23/winter-project/other/ros2_hgr_ws/src/ros2_hgr/model/keypoint_classifier/keypoint_classifier.hdf5\n",
            "43/43 [==============================] - 0s 2ms/step - loss: 0.8741 - accuracy: 0.6854 - val_loss: 0.4068 - val_accuracy: 0.9430\n",
            "Epoch 105/1000\n",
            " 1/43 [..............................] - ETA: 0s - loss: 0.7979 - accuracy: 0.6562\n",
            "Epoch 105: saving model to /home/avaz/courses/w23/winter-project/other/ros2_hgr_ws/src/ros2_hgr/model/keypoint_classifier/keypoint_classifier.hdf5\n",
            "43/43 [==============================] - 0s 2ms/step - loss: 0.8502 - accuracy: 0.6876 - val_loss: 0.4063 - val_accuracy: 0.9364\n",
            "Epoch 106/1000\n",
            " 1/43 [..............................] - ETA: 0s - loss: 0.8631 - accuracy: 0.6406\n",
            "Epoch 106: saving model to /home/avaz/courses/w23/winter-project/other/ros2_hgr_ws/src/ros2_hgr/model/keypoint_classifier/keypoint_classifier.hdf5\n",
            "43/43 [==============================] - 0s 2ms/step - loss: 0.8600 - accuracy: 0.6931 - val_loss: 0.4158 - val_accuracy: 0.9348\n",
            "Epoch 107/1000\n",
            " 1/43 [..............................] - ETA: 0s - loss: 0.7130 - accuracy: 0.7500\n",
            "Epoch 107: saving model to /home/avaz/courses/w23/winter-project/other/ros2_hgr_ws/src/ros2_hgr/model/keypoint_classifier/keypoint_classifier.hdf5\n",
            "43/43 [==============================] - 0s 2ms/step - loss: 0.8623 - accuracy: 0.6915 - val_loss: 0.4170 - val_accuracy: 0.9310\n",
            "Epoch 108/1000\n",
            " 1/43 [..............................] - ETA: 0s - loss: 0.8391 - accuracy: 0.7422\n",
            "Epoch 108: saving model to /home/avaz/courses/w23/winter-project/other/ros2_hgr_ws/src/ros2_hgr/model/keypoint_classifier/keypoint_classifier.hdf5\n",
            "43/43 [==============================] - 0s 2ms/step - loss: 0.8474 - accuracy: 0.6966 - val_loss: 0.4133 - val_accuracy: 0.9342\n",
            "Epoch 109/1000\n",
            " 1/43 [..............................] - ETA: 0s - loss: 0.8040 - accuracy: 0.6797\n",
            "Epoch 109: saving model to /home/avaz/courses/w23/winter-project/other/ros2_hgr_ws/src/ros2_hgr/model/keypoint_classifier/keypoint_classifier.hdf5\n",
            "43/43 [==============================] - 0s 2ms/step - loss: 0.8505 - accuracy: 0.6938 - val_loss: 0.4149 - val_accuracy: 0.9304\n",
            "Epoch 110/1000\n",
            " 1/43 [..............................] - ETA: 0s - loss: 0.8946 - accuracy: 0.6641\n",
            "Epoch 110: saving model to /home/avaz/courses/w23/winter-project/other/ros2_hgr_ws/src/ros2_hgr/model/keypoint_classifier/keypoint_classifier.hdf5\n",
            "43/43 [==============================] - 0s 2ms/step - loss: 0.8561 - accuracy: 0.6904 - val_loss: 0.4129 - val_accuracy: 0.9353\n",
            "Epoch 111/1000\n",
            " 1/43 [..............................] - ETA: 0s - loss: 0.8401 - accuracy: 0.6797\n",
            "Epoch 111: saving model to /home/avaz/courses/w23/winter-project/other/ros2_hgr_ws/src/ros2_hgr/model/keypoint_classifier/keypoint_classifier.hdf5\n",
            "43/43 [==============================] - 0s 2ms/step - loss: 0.8433 - accuracy: 0.6900 - val_loss: 0.4083 - val_accuracy: 0.9353\n",
            "Epoch 112/1000\n",
            " 1/43 [..............................] - ETA: 0s - loss: 0.8357 - accuracy: 0.6797\n",
            "Epoch 112: saving model to /home/avaz/courses/w23/winter-project/other/ros2_hgr_ws/src/ros2_hgr/model/keypoint_classifier/keypoint_classifier.hdf5\n",
            "43/43 [==============================] - 0s 2ms/step - loss: 0.8598 - accuracy: 0.6940 - val_loss: 0.4066 - val_accuracy: 0.9370\n",
            "Epoch 113/1000\n",
            " 1/43 [..............................] - ETA: 0s - loss: 0.7744 - accuracy: 0.7500\n",
            "Epoch 113: saving model to /home/avaz/courses/w23/winter-project/other/ros2_hgr_ws/src/ros2_hgr/model/keypoint_classifier/keypoint_classifier.hdf5\n",
            "43/43 [==============================] - 0s 2ms/step - loss: 0.8604 - accuracy: 0.6946 - val_loss: 0.4093 - val_accuracy: 0.9359\n",
            "Epoch 114/1000\n",
            " 1/43 [..............................] - ETA: 0s - loss: 0.8775 - accuracy: 0.7109\n",
            "Epoch 114: saving model to /home/avaz/courses/w23/winter-project/other/ros2_hgr_ws/src/ros2_hgr/model/keypoint_classifier/keypoint_classifier.hdf5\n",
            "43/43 [==============================] - 0s 2ms/step - loss: 0.8431 - accuracy: 0.6944 - val_loss: 0.4091 - val_accuracy: 0.9337\n",
            "Epoch 115/1000\n",
            " 1/43 [..............................] - ETA: 0s - loss: 0.7833 - accuracy: 0.7031\n",
            "Epoch 115: saving model to /home/avaz/courses/w23/winter-project/other/ros2_hgr_ws/src/ros2_hgr/model/keypoint_classifier/keypoint_classifier.hdf5\n",
            "43/43 [==============================] - 0s 2ms/step - loss: 0.8332 - accuracy: 0.6986 - val_loss: 0.3977 - val_accuracy: 0.9375\n",
            "Epoch 116/1000\n",
            " 1/43 [..............................] - ETA: 0s - loss: 0.7656 - accuracy: 0.6953\n",
            "Epoch 116: saving model to /home/avaz/courses/w23/winter-project/other/ros2_hgr_ws/src/ros2_hgr/model/keypoint_classifier/keypoint_classifier.hdf5\n",
            "43/43 [==============================] - 0s 2ms/step - loss: 0.8459 - accuracy: 0.6977 - val_loss: 0.3994 - val_accuracy: 0.9332\n",
            "Epoch 117/1000\n",
            " 1/43 [..............................] - ETA: 0s - loss: 0.9577 - accuracy: 0.6953\n",
            "Epoch 117: saving model to /home/avaz/courses/w23/winter-project/other/ros2_hgr_ws/src/ros2_hgr/model/keypoint_classifier/keypoint_classifier.hdf5\n",
            "43/43 [==============================] - 0s 2ms/step - loss: 0.8498 - accuracy: 0.6938 - val_loss: 0.4090 - val_accuracy: 0.9348\n",
            "Epoch 118/1000\n",
            " 1/43 [..............................] - ETA: 0s - loss: 0.8606 - accuracy: 0.7344\n",
            "Epoch 118: saving model to /home/avaz/courses/w23/winter-project/other/ros2_hgr_ws/src/ros2_hgr/model/keypoint_classifier/keypoint_classifier.hdf5\n",
            "43/43 [==============================] - 0s 2ms/step - loss: 0.8301 - accuracy: 0.7052 - val_loss: 0.4043 - val_accuracy: 0.9392\n",
            "Epoch 119/1000\n",
            " 1/43 [..............................] - ETA: 0s - loss: 0.8809 - accuracy: 0.6250\n",
            "Epoch 119: saving model to /home/avaz/courses/w23/winter-project/other/ros2_hgr_ws/src/ros2_hgr/model/keypoint_classifier/keypoint_classifier.hdf5\n",
            "43/43 [==============================] - 0s 2ms/step - loss: 0.8508 - accuracy: 0.6896 - val_loss: 0.4086 - val_accuracy: 0.9364\n",
            "Epoch 120/1000\n",
            " 1/43 [..............................] - ETA: 0s - loss: 0.7561 - accuracy: 0.7422\n",
            "Epoch 120: saving model to /home/avaz/courses/w23/winter-project/other/ros2_hgr_ws/src/ros2_hgr/model/keypoint_classifier/keypoint_classifier.hdf5\n",
            "43/43 [==============================] - 0s 2ms/step - loss: 0.8635 - accuracy: 0.6891 - val_loss: 0.4013 - val_accuracy: 0.9381\n",
            "Epoch 121/1000\n",
            "29/43 [===================>..........] - ETA: 0s - loss: 0.8257 - accuracy: 0.6972\n",
            "Epoch 121: saving model to /home/avaz/courses/w23/winter-project/other/ros2_hgr_ws/src/ros2_hgr/model/keypoint_classifier/keypoint_classifier.hdf5\n",
            "43/43 [==============================] - 0s 2ms/step - loss: 0.8352 - accuracy: 0.6942 - val_loss: 0.3995 - val_accuracy: 0.9392\n",
            "Epoch 122/1000\n",
            " 1/43 [..............................] - ETA: 0s - loss: 0.8410 - accuracy: 0.6094\n",
            "Epoch 122: saving model to /home/avaz/courses/w23/winter-project/other/ros2_hgr_ws/src/ros2_hgr/model/keypoint_classifier/keypoint_classifier.hdf5\n",
            "43/43 [==============================] - 0s 2ms/step - loss: 0.8363 - accuracy: 0.6982 - val_loss: 0.4002 - val_accuracy: 0.9370\n",
            "Epoch 123/1000\n",
            " 1/43 [..............................] - ETA: 0s - loss: 0.7867 - accuracy: 0.7188\n",
            "Epoch 123: saving model to /home/avaz/courses/w23/winter-project/other/ros2_hgr_ws/src/ros2_hgr/model/keypoint_classifier/keypoint_classifier.hdf5\n",
            "43/43 [==============================] - 0s 2ms/step - loss: 0.8257 - accuracy: 0.7024 - val_loss: 0.3960 - val_accuracy: 0.9332\n",
            "Epoch 124/1000\n",
            " 1/43 [..............................] - ETA: 0s - loss: 0.8440 - accuracy: 0.6406\n",
            "Epoch 124: saving model to /home/avaz/courses/w23/winter-project/other/ros2_hgr_ws/src/ros2_hgr/model/keypoint_classifier/keypoint_classifier.hdf5\n",
            "43/43 [==============================] - 0s 2ms/step - loss: 0.8444 - accuracy: 0.6925 - val_loss: 0.3962 - val_accuracy: 0.9381\n",
            "Epoch 125/1000\n",
            " 1/43 [..............................] - ETA: 0s - loss: 0.8034 - accuracy: 0.7031\n",
            "Epoch 125: saving model to /home/avaz/courses/w23/winter-project/other/ros2_hgr_ws/src/ros2_hgr/model/keypoint_classifier/keypoint_classifier.hdf5\n",
            "43/43 [==============================] - 0s 2ms/step - loss: 0.8076 - accuracy: 0.7090 - val_loss: 0.3919 - val_accuracy: 0.9342\n",
            "Epoch 126/1000\n",
            " 1/43 [..............................] - ETA: 0s - loss: 0.8036 - accuracy: 0.6562\n",
            "Epoch 126: saving model to /home/avaz/courses/w23/winter-project/other/ros2_hgr_ws/src/ros2_hgr/model/keypoint_classifier/keypoint_classifier.hdf5\n",
            "43/43 [==============================] - 0s 2ms/step - loss: 0.8396 - accuracy: 0.6957 - val_loss: 0.3918 - val_accuracy: 0.9392\n",
            "Epoch 127/1000\n",
            " 1/43 [..............................] - ETA: 0s - loss: 0.9571 - accuracy: 0.6797\n",
            "Epoch 127: saving model to /home/avaz/courses/w23/winter-project/other/ros2_hgr_ws/src/ros2_hgr/model/keypoint_classifier/keypoint_classifier.hdf5\n",
            "43/43 [==============================] - 0s 2ms/step - loss: 0.8421 - accuracy: 0.7046 - val_loss: 0.3998 - val_accuracy: 0.9408\n",
            "Epoch 128/1000\n",
            " 1/43 [..............................] - ETA: 0s - loss: 0.7937 - accuracy: 0.6797\n",
            "Epoch 128: saving model to /home/avaz/courses/w23/winter-project/other/ros2_hgr_ws/src/ros2_hgr/model/keypoint_classifier/keypoint_classifier.hdf5\n",
            "43/43 [==============================] - 0s 2ms/step - loss: 0.8292 - accuracy: 0.7026 - val_loss: 0.4013 - val_accuracy: 0.9408\n",
            "Epoch 129/1000\n",
            " 1/43 [..............................] - ETA: 0s - loss: 0.8898 - accuracy: 0.6484\n",
            "Epoch 129: saving model to /home/avaz/courses/w23/winter-project/other/ros2_hgr_ws/src/ros2_hgr/model/keypoint_classifier/keypoint_classifier.hdf5\n",
            "43/43 [==============================] - 0s 2ms/step - loss: 0.8314 - accuracy: 0.7026 - val_loss: 0.4004 - val_accuracy: 0.9348\n",
            "Epoch 130/1000\n",
            " 1/43 [..............................] - ETA: 0s - loss: 0.8242 - accuracy: 0.7422\n",
            "Epoch 130: saving model to /home/avaz/courses/w23/winter-project/other/ros2_hgr_ws/src/ros2_hgr/model/keypoint_classifier/keypoint_classifier.hdf5\n",
            "43/43 [==============================] - 0s 2ms/step - loss: 0.8365 - accuracy: 0.6920 - val_loss: 0.3981 - val_accuracy: 0.9419\n",
            "Epoch 131/1000\n",
            " 1/43 [..............................] - ETA: 0s - loss: 0.7107 - accuracy: 0.7578\n",
            "Epoch 131: saving model to /home/avaz/courses/w23/winter-project/other/ros2_hgr_ws/src/ros2_hgr/model/keypoint_classifier/keypoint_classifier.hdf5\n",
            "43/43 [==============================] - 0s 2ms/step - loss: 0.8320 - accuracy: 0.7011 - val_loss: 0.3959 - val_accuracy: 0.9403\n",
            "Epoch 132/1000\n",
            " 1/43 [..............................] - ETA: 0s - loss: 0.8018 - accuracy: 0.7188\n",
            "Epoch 132: saving model to /home/avaz/courses/w23/winter-project/other/ros2_hgr_ws/src/ros2_hgr/model/keypoint_classifier/keypoint_classifier.hdf5\n",
            "43/43 [==============================] - 0s 2ms/step - loss: 0.8186 - accuracy: 0.7044 - val_loss: 0.4026 - val_accuracy: 0.9266\n",
            "Epoch 133/1000\n",
            " 1/43 [..............................] - ETA: 0s - loss: 0.7801 - accuracy: 0.7344\n",
            "Epoch 133: saving model to /home/avaz/courses/w23/winter-project/other/ros2_hgr_ws/src/ros2_hgr/model/keypoint_classifier/keypoint_classifier.hdf5\n",
            "43/43 [==============================] - 0s 2ms/step - loss: 0.8289 - accuracy: 0.7008 - val_loss: 0.3973 - val_accuracy: 0.9419\n",
            "Epoch 134/1000\n",
            " 1/43 [..............................] - ETA: 0s - loss: 0.8775 - accuracy: 0.6719\n",
            "Epoch 134: saving model to /home/avaz/courses/w23/winter-project/other/ros2_hgr_ws/src/ros2_hgr/model/keypoint_classifier/keypoint_classifier.hdf5\n",
            "43/43 [==============================] - 0s 2ms/step - loss: 0.8377 - accuracy: 0.6958 - val_loss: 0.3879 - val_accuracy: 0.9353\n",
            "Epoch 135/1000\n",
            " 1/43 [..............................] - ETA: 0s - loss: 0.8067 - accuracy: 0.7812\n",
            "Epoch 135: saving model to /home/avaz/courses/w23/winter-project/other/ros2_hgr_ws/src/ros2_hgr/model/keypoint_classifier/keypoint_classifier.hdf5\n",
            "43/43 [==============================] - 0s 2ms/step - loss: 0.8254 - accuracy: 0.7068 - val_loss: 0.3947 - val_accuracy: 0.9364\n",
            "Epoch 136/1000\n",
            " 1/43 [..............................] - ETA: 0s - loss: 0.7258 - accuracy: 0.7344\n",
            "Epoch 136: saving model to /home/avaz/courses/w23/winter-project/other/ros2_hgr_ws/src/ros2_hgr/model/keypoint_classifier/keypoint_classifier.hdf5\n",
            "43/43 [==============================] - 0s 2ms/step - loss: 0.8140 - accuracy: 0.6986 - val_loss: 0.3891 - val_accuracy: 0.9397\n",
            "Epoch 137/1000\n",
            " 1/43 [..............................] - ETA: 0s - loss: 0.7607 - accuracy: 0.7266\n",
            "Epoch 137: saving model to /home/avaz/courses/w23/winter-project/other/ros2_hgr_ws/src/ros2_hgr/model/keypoint_classifier/keypoint_classifier.hdf5\n",
            "43/43 [==============================] - 0s 2ms/step - loss: 0.8270 - accuracy: 0.7048 - val_loss: 0.3910 - val_accuracy: 0.9288\n",
            "Epoch 138/1000\n",
            " 1/43 [..............................] - ETA: 0s - loss: 0.7140 - accuracy: 0.7500\n",
            "Epoch 138: saving model to /home/avaz/courses/w23/winter-project/other/ros2_hgr_ws/src/ros2_hgr/model/keypoint_classifier/keypoint_classifier.hdf5\n",
            "43/43 [==============================] - 0s 2ms/step - loss: 0.8263 - accuracy: 0.7030 - val_loss: 0.3979 - val_accuracy: 0.9386\n",
            "Epoch 139/1000\n",
            " 1/43 [..............................] - ETA: 0s - loss: 0.9011 - accuracy: 0.6875\n",
            "Epoch 139: saving model to /home/avaz/courses/w23/winter-project/other/ros2_hgr_ws/src/ros2_hgr/model/keypoint_classifier/keypoint_classifier.hdf5\n",
            "43/43 [==============================] - 0s 2ms/step - loss: 0.8269 - accuracy: 0.7017 - val_loss: 0.3913 - val_accuracy: 0.9370\n",
            "Epoch 140/1000\n",
            " 1/43 [..............................] - ETA: 0s - loss: 0.8612 - accuracy: 0.6406\n",
            "Epoch 140: saving model to /home/avaz/courses/w23/winter-project/other/ros2_hgr_ws/src/ros2_hgr/model/keypoint_classifier/keypoint_classifier.hdf5\n",
            "43/43 [==============================] - 0s 2ms/step - loss: 0.8363 - accuracy: 0.6942 - val_loss: 0.3973 - val_accuracy: 0.9359\n",
            "Epoch 141/1000\n",
            " 1/43 [..............................] - ETA: 0s - loss: 0.7772 - accuracy: 0.7031\n",
            "Epoch 141: saving model to /home/avaz/courses/w23/winter-project/other/ros2_hgr_ws/src/ros2_hgr/model/keypoint_classifier/keypoint_classifier.hdf5\n",
            "43/43 [==============================] - 0s 2ms/step - loss: 0.8136 - accuracy: 0.7132 - val_loss: 0.3867 - val_accuracy: 0.9408\n",
            "Epoch 142/1000\n",
            " 1/43 [..............................] - ETA: 0s - loss: 0.9883 - accuracy: 0.6328\n",
            "Epoch 142: saving model to /home/avaz/courses/w23/winter-project/other/ros2_hgr_ws/src/ros2_hgr/model/keypoint_classifier/keypoint_classifier.hdf5\n",
            "43/43 [==============================] - 0s 2ms/step - loss: 0.8069 - accuracy: 0.7168 - val_loss: 0.3820 - val_accuracy: 0.9408\n",
            "Epoch 143/1000\n",
            " 1/43 [..............................] - ETA: 0s - loss: 0.9357 - accuracy: 0.6562\n",
            "Epoch 143: saving model to /home/avaz/courses/w23/winter-project/other/ros2_hgr_ws/src/ros2_hgr/model/keypoint_classifier/keypoint_classifier.hdf5\n",
            "43/43 [==============================] - 0s 2ms/step - loss: 0.8277 - accuracy: 0.7020 - val_loss: 0.3881 - val_accuracy: 0.9381\n",
            "Epoch 144/1000\n",
            " 1/43 [..............................] - ETA: 0s - loss: 0.9029 - accuracy: 0.6641\n",
            "Epoch 144: saving model to /home/avaz/courses/w23/winter-project/other/ros2_hgr_ws/src/ros2_hgr/model/keypoint_classifier/keypoint_classifier.hdf5\n",
            "43/43 [==============================] - 0s 2ms/step - loss: 0.8216 - accuracy: 0.7015 - val_loss: 0.3903 - val_accuracy: 0.9348\n",
            "Epoch 145/1000\n",
            " 1/43 [..............................] - ETA: 0s - loss: 0.9434 - accuracy: 0.7188\n",
            "Epoch 145: saving model to /home/avaz/courses/w23/winter-project/other/ros2_hgr_ws/src/ros2_hgr/model/keypoint_classifier/keypoint_classifier.hdf5\n",
            "43/43 [==============================] - 0s 2ms/step - loss: 0.8227 - accuracy: 0.7035 - val_loss: 0.3927 - val_accuracy: 0.9425\n",
            "Epoch 146/1000\n",
            " 1/43 [..............................] - ETA: 0s - loss: 0.8134 - accuracy: 0.7344\n",
            "Epoch 146: saving model to /home/avaz/courses/w23/winter-project/other/ros2_hgr_ws/src/ros2_hgr/model/keypoint_classifier/keypoint_classifier.hdf5\n",
            "43/43 [==============================] - 0s 2ms/step - loss: 0.8193 - accuracy: 0.7095 - val_loss: 0.3875 - val_accuracy: 0.9353\n",
            "Epoch 147/1000\n",
            "31/43 [====================>.........] - ETA: 0s - loss: 0.7919 - accuracy: 0.7127\n",
            "Epoch 147: saving model to /home/avaz/courses/w23/winter-project/other/ros2_hgr_ws/src/ros2_hgr/model/keypoint_classifier/keypoint_classifier.hdf5\n",
            "43/43 [==============================] - 0s 2ms/step - loss: 0.8065 - accuracy: 0.7081 - val_loss: 0.3814 - val_accuracy: 0.9375\n",
            "Epoch 148/1000\n",
            " 1/43 [..............................] - ETA: 0s - loss: 0.7560 - accuracy: 0.7109\n",
            "Epoch 148: saving model to /home/avaz/courses/w23/winter-project/other/ros2_hgr_ws/src/ros2_hgr/model/keypoint_classifier/keypoint_classifier.hdf5\n",
            "43/43 [==============================] - 0s 2ms/step - loss: 0.8002 - accuracy: 0.7095 - val_loss: 0.3883 - val_accuracy: 0.9403\n",
            "Epoch 149/1000\n",
            " 1/43 [..............................] - ETA: 0s - loss: 0.7739 - accuracy: 0.6953\n",
            "Epoch 149: saving model to /home/avaz/courses/w23/winter-project/other/ros2_hgr_ws/src/ros2_hgr/model/keypoint_classifier/keypoint_classifier.hdf5\n",
            "43/43 [==============================] - 0s 2ms/step - loss: 0.7808 - accuracy: 0.7192 - val_loss: 0.3835 - val_accuracy: 0.9386\n",
            "Epoch 150/1000\n",
            " 1/43 [..............................] - ETA: 0s - loss: 0.8345 - accuracy: 0.6641\n",
            "Epoch 150: saving model to /home/avaz/courses/w23/winter-project/other/ros2_hgr_ws/src/ros2_hgr/model/keypoint_classifier/keypoint_classifier.hdf5\n",
            "43/43 [==============================] - 0s 2ms/step - loss: 0.8019 - accuracy: 0.7090 - val_loss: 0.3879 - val_accuracy: 0.9348\n",
            "Epoch 151/1000\n",
            " 1/43 [..............................] - ETA: 0s - loss: 0.9228 - accuracy: 0.6953\n",
            "Epoch 151: saving model to /home/avaz/courses/w23/winter-project/other/ros2_hgr_ws/src/ros2_hgr/model/keypoint_classifier/keypoint_classifier.hdf5\n",
            "43/43 [==============================] - 0s 2ms/step - loss: 0.8300 - accuracy: 0.7011 - val_loss: 0.3887 - val_accuracy: 0.9293\n",
            "Epoch 152/1000\n",
            " 1/43 [..............................] - ETA: 0s - loss: 0.7728 - accuracy: 0.7578\n",
            "Epoch 152: saving model to /home/avaz/courses/w23/winter-project/other/ros2_hgr_ws/src/ros2_hgr/model/keypoint_classifier/keypoint_classifier.hdf5\n",
            "43/43 [==============================] - 0s 2ms/step - loss: 0.8107 - accuracy: 0.7075 - val_loss: 0.3876 - val_accuracy: 0.9397\n",
            "Epoch 153/1000\n",
            " 1/43 [..............................] - ETA: 0s - loss: 0.8405 - accuracy: 0.7031\n",
            "Epoch 153: saving model to /home/avaz/courses/w23/winter-project/other/ros2_hgr_ws/src/ros2_hgr/model/keypoint_classifier/keypoint_classifier.hdf5\n",
            "43/43 [==============================] - 0s 2ms/step - loss: 0.7899 - accuracy: 0.7167 - val_loss: 0.3880 - val_accuracy: 0.9353\n",
            "Epoch 154/1000\n",
            " 1/43 [..............................] - ETA: 0s - loss: 0.8053 - accuracy: 0.6641\n",
            "Epoch 154: saving model to /home/avaz/courses/w23/winter-project/other/ros2_hgr_ws/src/ros2_hgr/model/keypoint_classifier/keypoint_classifier.hdf5\n",
            "43/43 [==============================] - 0s 2ms/step - loss: 0.8180 - accuracy: 0.6999 - val_loss: 0.3940 - val_accuracy: 0.9397\n",
            "Epoch 155/1000\n",
            " 1/43 [..............................] - ETA: 0s - loss: 0.6404 - accuracy: 0.7891\n",
            "Epoch 155: saving model to /home/avaz/courses/w23/winter-project/other/ros2_hgr_ws/src/ros2_hgr/model/keypoint_classifier/keypoint_classifier.hdf5\n",
            "43/43 [==============================] - 0s 2ms/step - loss: 0.8074 - accuracy: 0.7079 - val_loss: 0.3957 - val_accuracy: 0.9419\n",
            "Epoch 156/1000\n",
            " 1/43 [..............................] - ETA: 0s - loss: 0.7569 - accuracy: 0.7500\n",
            "Epoch 156: saving model to /home/avaz/courses/w23/winter-project/other/ros2_hgr_ws/src/ros2_hgr/model/keypoint_classifier/keypoint_classifier.hdf5\n",
            "43/43 [==============================] - 0s 2ms/step - loss: 0.8024 - accuracy: 0.7097 - val_loss: 0.3889 - val_accuracy: 0.9403\n",
            "Epoch 157/1000\n",
            "34/43 [======================>.......] - ETA: 0s - loss: 0.7919 - accuracy: 0.7158\n",
            "Epoch 157: saving model to /home/avaz/courses/w23/winter-project/other/ros2_hgr_ws/src/ros2_hgr/model/keypoint_classifier/keypoint_classifier.hdf5\n",
            "43/43 [==============================] - 0s 2ms/step - loss: 0.7984 - accuracy: 0.7114 - val_loss: 0.3666 - val_accuracy: 0.9381\n",
            "Epoch 158/1000\n",
            " 1/43 [..............................] - ETA: 0s - loss: 0.6726 - accuracy: 0.7656\n",
            "Epoch 158: saving model to /home/avaz/courses/w23/winter-project/other/ros2_hgr_ws/src/ros2_hgr/model/keypoint_classifier/keypoint_classifier.hdf5\n",
            "43/43 [==============================] - 0s 2ms/step - loss: 0.8133 - accuracy: 0.7035 - val_loss: 0.3878 - val_accuracy: 0.9332\n",
            "Epoch 159/1000\n",
            " 1/43 [..............................] - ETA: 0s - loss: 0.8954 - accuracy: 0.6484\n",
            "Epoch 159: saving model to /home/avaz/courses/w23/winter-project/other/ros2_hgr_ws/src/ros2_hgr/model/keypoint_classifier/keypoint_classifier.hdf5\n",
            "43/43 [==============================] - 0s 2ms/step - loss: 0.7917 - accuracy: 0.7126 - val_loss: 0.3808 - val_accuracy: 0.9342\n",
            "Epoch 160/1000\n",
            " 1/43 [..............................] - ETA: 0s - loss: 0.8716 - accuracy: 0.7266\n",
            "Epoch 160: saving model to /home/avaz/courses/w23/winter-project/other/ros2_hgr_ws/src/ros2_hgr/model/keypoint_classifier/keypoint_classifier.hdf5\n",
            "43/43 [==============================] - 0s 2ms/step - loss: 0.8216 - accuracy: 0.7073 - val_loss: 0.3826 - val_accuracy: 0.9386\n",
            "Epoch 161/1000\n",
            " 1/43 [..............................] - ETA: 0s - loss: 0.7140 - accuracy: 0.7891\n",
            "Epoch 161: saving model to /home/avaz/courses/w23/winter-project/other/ros2_hgr_ws/src/ros2_hgr/model/keypoint_classifier/keypoint_classifier.hdf5\n",
            "43/43 [==============================] - 0s 2ms/step - loss: 0.7940 - accuracy: 0.7136 - val_loss: 0.3801 - val_accuracy: 0.9370\n",
            "Epoch 162/1000\n",
            " 1/43 [..............................] - ETA: 0s - loss: 0.7124 - accuracy: 0.7734\n",
            "Epoch 162: saving model to /home/avaz/courses/w23/winter-project/other/ros2_hgr_ws/src/ros2_hgr/model/keypoint_classifier/keypoint_classifier.hdf5\n",
            "43/43 [==============================] - 0s 2ms/step - loss: 0.7933 - accuracy: 0.7136 - val_loss: 0.3734 - val_accuracy: 0.9419\n",
            "Epoch 163/1000\n",
            " 1/43 [..............................] - ETA: 0s - loss: 0.7483 - accuracy: 0.7188\n",
            "Epoch 163: saving model to /home/avaz/courses/w23/winter-project/other/ros2_hgr_ws/src/ros2_hgr/model/keypoint_classifier/keypoint_classifier.hdf5\n",
            "43/43 [==============================] - 0s 2ms/step - loss: 0.8017 - accuracy: 0.7141 - val_loss: 0.3813 - val_accuracy: 0.9436\n",
            "Epoch 164/1000\n",
            " 1/43 [..............................] - ETA: 0s - loss: 0.6987 - accuracy: 0.7422\n",
            "Epoch 164: saving model to /home/avaz/courses/w23/winter-project/other/ros2_hgr_ws/src/ros2_hgr/model/keypoint_classifier/keypoint_classifier.hdf5\n",
            "43/43 [==============================] - 0s 2ms/step - loss: 0.7979 - accuracy: 0.7123 - val_loss: 0.3856 - val_accuracy: 0.9425\n",
            "Epoch 165/1000\n",
            " 1/43 [..............................] - ETA: 0s - loss: 0.7544 - accuracy: 0.7734\n",
            "Epoch 165: saving model to /home/avaz/courses/w23/winter-project/other/ros2_hgr_ws/src/ros2_hgr/model/keypoint_classifier/keypoint_classifier.hdf5\n",
            "43/43 [==============================] - 0s 2ms/step - loss: 0.8152 - accuracy: 0.7103 - val_loss: 0.3997 - val_accuracy: 0.9386\n",
            "Epoch 166/1000\n",
            "34/43 [======================>.......] - ETA: 0s - loss: 0.8245 - accuracy: 0.7006\n",
            "Epoch 166: saving model to /home/avaz/courses/w23/winter-project/other/ros2_hgr_ws/src/ros2_hgr/model/keypoint_classifier/keypoint_classifier.hdf5\n",
            "43/43 [==============================] - 0s 2ms/step - loss: 0.8189 - accuracy: 0.7031 - val_loss: 0.3926 - val_accuracy: 0.9414\n",
            "Epoch 167/1000\n",
            " 1/43 [..............................] - ETA: 0s - loss: 0.8782 - accuracy: 0.6719\n",
            "Epoch 167: saving model to /home/avaz/courses/w23/winter-project/other/ros2_hgr_ws/src/ros2_hgr/model/keypoint_classifier/keypoint_classifier.hdf5\n",
            "43/43 [==============================] - 0s 2ms/step - loss: 0.8157 - accuracy: 0.7041 - val_loss: 0.3965 - val_accuracy: 0.9375\n",
            "Epoch 168/1000\n",
            " 1/43 [..............................] - ETA: 0s - loss: 0.9371 - accuracy: 0.6562\n",
            "Epoch 168: saving model to /home/avaz/courses/w23/winter-project/other/ros2_hgr_ws/src/ros2_hgr/model/keypoint_classifier/keypoint_classifier.hdf5\n",
            "43/43 [==============================] - 0s 2ms/step - loss: 0.8172 - accuracy: 0.7112 - val_loss: 0.4065 - val_accuracy: 0.9337\n",
            "Epoch 169/1000\n",
            " 1/43 [..............................] - ETA: 0s - loss: 0.8417 - accuracy: 0.7031\n",
            "Epoch 169: saving model to /home/avaz/courses/w23/winter-project/other/ros2_hgr_ws/src/ros2_hgr/model/keypoint_classifier/keypoint_classifier.hdf5\n",
            "43/43 [==============================] - 0s 2ms/step - loss: 0.7928 - accuracy: 0.7147 - val_loss: 0.3876 - val_accuracy: 0.9375\n",
            "Epoch 170/1000\n",
            " 1/43 [..............................] - ETA: 0s - loss: 0.6824 - accuracy: 0.7266\n",
            "Epoch 170: saving model to /home/avaz/courses/w23/winter-project/other/ros2_hgr_ws/src/ros2_hgr/model/keypoint_classifier/keypoint_classifier.hdf5\n",
            "43/43 [==============================] - 0s 2ms/step - loss: 0.8173 - accuracy: 0.7079 - val_loss: 0.4052 - val_accuracy: 0.9364\n",
            "Epoch 171/1000\n",
            " 1/43 [..............................] - ETA: 0s - loss: 0.7317 - accuracy: 0.7734\n",
            "Epoch 171: saving model to /home/avaz/courses/w23/winter-project/other/ros2_hgr_ws/src/ros2_hgr/model/keypoint_classifier/keypoint_classifier.hdf5\n",
            "43/43 [==============================] - 0s 2ms/step - loss: 0.7922 - accuracy: 0.7123 - val_loss: 0.3830 - val_accuracy: 0.9370\n",
            "Epoch 172/1000\n",
            " 1/43 [..............................] - ETA: 0s - loss: 0.7663 - accuracy: 0.7422\n",
            "Epoch 172: saving model to /home/avaz/courses/w23/winter-project/other/ros2_hgr_ws/src/ros2_hgr/model/keypoint_classifier/keypoint_classifier.hdf5\n",
            "43/43 [==============================] - 0s 2ms/step - loss: 0.8169 - accuracy: 0.7068 - val_loss: 0.3976 - val_accuracy: 0.9370\n",
            "Epoch 173/1000\n",
            " 1/43 [..............................] - ETA: 0s - loss: 0.7492 - accuracy: 0.7109\n",
            "Epoch 173: saving model to /home/avaz/courses/w23/winter-project/other/ros2_hgr_ws/src/ros2_hgr/model/keypoint_classifier/keypoint_classifier.hdf5\n",
            "43/43 [==============================] - 0s 2ms/step - loss: 0.7900 - accuracy: 0.7086 - val_loss: 0.3908 - val_accuracy: 0.9364\n",
            "Epoch 174/1000\n",
            " 1/43 [..............................] - ETA: 0s - loss: 0.6813 - accuracy: 0.7969\n",
            "Epoch 174: saving model to /home/avaz/courses/w23/winter-project/other/ros2_hgr_ws/src/ros2_hgr/model/keypoint_classifier/keypoint_classifier.hdf5\n",
            "43/43 [==============================] - 0s 2ms/step - loss: 0.7806 - accuracy: 0.7199 - val_loss: 0.3884 - val_accuracy: 0.9370\n",
            "Epoch 175/1000\n",
            " 1/43 [..............................] - ETA: 0s - loss: 0.7368 - accuracy: 0.7656\n",
            "Epoch 175: saving model to /home/avaz/courses/w23/winter-project/other/ros2_hgr_ws/src/ros2_hgr/model/keypoint_classifier/keypoint_classifier.hdf5\n",
            "43/43 [==============================] - 0s 2ms/step - loss: 0.7775 - accuracy: 0.7245 - val_loss: 0.3801 - val_accuracy: 0.9353\n",
            "Epoch 176/1000\n",
            " 1/43 [..............................] - ETA: 0s - loss: 0.7244 - accuracy: 0.7344\n",
            "Epoch 176: saving model to /home/avaz/courses/w23/winter-project/other/ros2_hgr_ws/src/ros2_hgr/model/keypoint_classifier/keypoint_classifier.hdf5\n",
            "43/43 [==============================] - 0s 2ms/step - loss: 0.8111 - accuracy: 0.7068 - val_loss: 0.4038 - val_accuracy: 0.9364\n",
            "Epoch 177/1000\n",
            " 1/43 [..............................] - ETA: 0s - loss: 0.7150 - accuracy: 0.7344\n",
            "Epoch 177: saving model to /home/avaz/courses/w23/winter-project/other/ros2_hgr_ws/src/ros2_hgr/model/keypoint_classifier/keypoint_classifier.hdf5\n",
            "43/43 [==============================] - 0s 2ms/step - loss: 0.8043 - accuracy: 0.7048 - val_loss: 0.3897 - val_accuracy: 0.9381\n",
            "Epoch 177: early stopping\n"
          ]
        },
        {
          "data": {
            "text/plain": [
              "<keras.callbacks.History at 0x7f307eb92080>"
            ]
          },
          "execution_count": 11,
          "metadata": {},
          "output_type": "execute_result"
        }
      ],
      "source": [
        "model.fit(\n",
        "    X_train,\n",
        "    y_train,\n",
        "    epochs=1000,\n",
        "    batch_size=128,\n",
        "    validation_data=(X_test, y_test),\n",
        "    callbacks=[cp_callback, es_callback]\n",
        ")"
      ]
    },
    {
      "cell_type": "code",
      "execution_count": 12,
      "metadata": {
        "colab": {
          "base_uri": "https://localhost:8080/"
        },
        "id": "pxvb2Y299hE3",
        "outputId": "59eb3185-2e37-4b9e-bc9d-ab1b8ac29b7f"
      },
      "outputs": [
        {
          "name": "stdout",
          "output_type": "stream",
          "text": [
            "15/15 [==============================] - 0s 730us/step - loss: 0.3897 - accuracy: 0.9381\n"
          ]
        }
      ],
      "source": [
        "# Model evaluation\n",
        "val_loss, val_acc = model.evaluate(X_test, y_test, batch_size=128)"
      ]
    },
    {
      "cell_type": "code",
      "execution_count": 13,
      "metadata": {
        "id": "RBkmDeUW9hE4"
      },
      "outputs": [],
      "source": [
        "# Loading the saved model\n",
        "model = tf.keras.models.load_model(model_save_path)"
      ]
    },
    {
      "cell_type": "code",
      "execution_count": 14,
      "metadata": {
        "colab": {
          "base_uri": "https://localhost:8080/"
        },
        "id": "tFz9Tb0I9hE4",
        "outputId": "1c3b3528-54ae-4ee2-ab04-77429211cbef"
      },
      "outputs": [
        {
          "name": "stdout",
          "output_type": "stream",
          "text": [
            "1/1 [==============================] - 0s 49ms/step\n",
            "[1.3379078e-01 2.0780057e-01 2.7872708e-01 4.6267337e-03 7.9521693e-02\n",
            " 1.4132760e-03 8.4009182e-05 2.9403588e-01]\n",
            "7\n"
          ]
        }
      ],
      "source": [
        "# Inference test\n",
        "predict_result = model.predict(np.array([X_test[0]]))\n",
        "print(np.squeeze(predict_result))\n",
        "print(np.argmax(np.squeeze(predict_result)))"
      ]
    },
    {
      "cell_type": "markdown",
      "metadata": {
        "id": "S3U4yNWx9hE4"
      },
      "source": [
        "# Confusion matrix"
      ]
    },
    {
      "cell_type": "code",
      "execution_count": 15,
      "metadata": {
        "colab": {
          "base_uri": "https://localhost:8080/",
          "height": 582
        },
        "id": "AP1V6SCk9hE5",
        "outputId": "08e41a80-7a4a-4619-8125-ecc371368d19"
      },
      "outputs": [
        {
          "name": "stdout",
          "output_type": "stream",
          "text": [
            "58/58 [==============================] - 0s 592us/step\n"
          ]
        },
        {
          "data": {
            "image/png": "[encoded data removed]",
            "text/plain": [
              "<Figure size 700x600 with 2 Axes>"
            ]
          },
          "metadata": {},
          "output_type": "display_data"
        },
        {
          "name": "stdout",
          "output_type": "stream",
          "text": [
            "Classification Report\n",
            "              precision    recall  f1-score   support\n",
            "\n",
            "           0       0.96      0.98      0.97       465\n",
            "           1       0.95      0.91      0.93       438\n",
            "           2       0.86      0.98      0.92       328\n",
            "           3       0.99      0.95      0.97       186\n",
            "           4       1.00      0.76      0.86       137\n",
            "           5       0.92      0.84      0.88        85\n",
            "           6       0.87      0.99      0.92        98\n",
            "           7       0.99      1.00      0.99        88\n",
            "\n",
            "    accuracy                           0.94      1825\n",
            "   macro avg       0.94      0.93      0.93      1825\n",
            "weighted avg       0.94      0.94      0.94      1825\n",
            "\n"
          ]
        }
      ],
      "source": [
        "import pandas as pd\n",
        "import seaborn as sns\n",
        "import matplotlib.pyplot as plt\n",
        "from sklearn.metrics import confusion_matrix, classification_report\n",
        "\n",
        "def print_confusion_matrix(y_true, y_pred, report=True):\n",
        "    labels = sorted(list(set(y_true)))\n",
        "    cmx_data = confusion_matrix(y_true, y_pred, labels=labels)\n",
        "    \n",
        "    df_cmx = pd.DataFrame(cmx_data, index=labels, columns=labels)\n",
        " \n",
        "    fig, ax = plt.subplots(figsize=(7, 6))\n",
        "    sns.heatmap(df_cmx, annot=True, fmt='g' ,square=False)\n",
        "    ax.set_ylim(len(set(y_true)), 0)\n",
        "    plt.show()\n",
        "    \n",
        "    if report:\n",
        "        print('Classification Report')\n",
        "        print(classification_report(y_test, y_pred))\n",
        "\n",
        "Y_pred = model.predict(X_test)\n",
        "y_pred = np.argmax(Y_pred, axis=1)\n",
        "\n",
        "print_confusion_matrix(y_test, y_pred)"
      ]
    },
    {
      "cell_type": "markdown",
      "metadata": {
        "id": "FNP6aqzc9hE5"
      },
      "source": [
        "# Convert to model for Tensorflow-Lite"
      ]
    },
    {
      "cell_type": "code",
      "execution_count": 16,
      "metadata": {
        "id": "ODjnYyld9hE6"
      },
      "outputs": [],
      "source": [
        "# Save as a model dedicated to inference\n",
        "model.save(model_save_path, include_optimizer=False)"
      ]
    },
    {
      "cell_type": "code",
      "execution_count": 17,
      "metadata": {
        "colab": {
          "base_uri": "https://localhost:8080/"
        },
        "id": "zRfuK8Y59hE6",
        "outputId": "a4ca585c-b5d5-4244-8291-8674063209bb"
      },
      "outputs": [
        {
          "name": "stderr",
          "output_type": "stream",
          "text": [
            "WARNING:absl:Found untraced functions such as _update_step_xla while saving (showing 1 of 1). These functions will not be directly callable after loading.\n"
          ]
        },
        {
          "name": "stdout",
          "output_type": "stream",
          "text": [
            "INFO:tensorflow:Assets written to: /tmp/tmpdnagikb9/assets\n"
          ]
        },
        {
          "name": "stderr",
          "output_type": "stream",
          "text": [
            "INFO:tensorflow:Assets written to: /tmp/tmpdnagikb9/assets\n",
            "2023-01-31 15:57:41.389301: W tensorflow/compiler/mlir/lite/python/tf_tfl_flatbuffer_helpers.cc:362] Ignored output_format.\n",
            "2023-01-31 15:57:41.389322: W tensorflow/compiler/mlir/lite/python/tf_tfl_flatbuffer_helpers.cc:365] Ignored drop_control_dependency.\n",
            "2023-01-31 15:57:41.389952: I tensorflow/cc/saved_model/reader.cc:45] Reading SavedModel from: /tmp/tmpdnagikb9\n",
            "2023-01-31 15:57:41.390909: I tensorflow/cc/saved_model/reader.cc:89] Reading meta graph with tags { serve }\n",
            "2023-01-31 15:57:41.390923: I tensorflow/cc/saved_model/reader.cc:130] Reading SavedModel debug info (if present) from: /tmp/tmpdnagikb9\n",
            "2023-01-31 15:57:41.394338: I tensorflow/compiler/mlir/mlir_graph_optimization_pass.cc:357] MLIR V1 optimization pass is not enabled\n",
            "2023-01-31 15:57:41.395252: I tensorflow/cc/saved_model/loader.cc:229] Restoring SavedModel bundle.\n",
            "2023-01-31 15:57:41.425113: I tensorflow/cc/saved_model/loader.cc:213] Running initialization op on SavedModel bundle at path: /tmp/tmpdnagikb9\n",
            "2023-01-31 15:57:41.431831: I tensorflow/cc/saved_model/loader.cc:305] SavedModel load for tags { serve }; Status: success: OK. Took 42063 microseconds.\n",
            "2023-01-31 15:57:41.449685: I tensorflow/compiler/mlir/tensorflow/utils/dump_mlir_util.cc:268] disabling MLIR crash reproducer, set env var `MLIR_CRASH_REPRODUCER_DIRECTORY` to enable.\n"
          ]
        },
        {
          "data": {
            "text/plain": [
              "6720"
            ]
          },
          "execution_count": 17,
          "metadata": {},
          "output_type": "execute_result"
        }
      ],
      "source": [
        "# Transform model (quantization)\n",
        "\n",
        "converter = tf.lite.TFLiteConverter.from_keras_model(model)\n",
        "converter.optimizations = [tf.lite.Optimize.DEFAULT]\n",
        "tflite_quantized_model = converter.convert()\n",
        "\n",
        "open(tflite_save_path, 'wb').write(tflite_quantized_model)"
      ]
    },
    {
      "cell_type": "markdown",
      "metadata": {
        "id": "CHBPBXdx9hE6"
      },
      "source": [
        "# Inference test"
      ]
    },
    {
      "cell_type": "code",
      "execution_count": 18,
      "metadata": {
        "id": "mGAzLocO9hE7"
      },
      "outputs": [
        {
          "name": "stderr",
          "output_type": "stream",
          "text": [
            "INFO: Created TensorFlow Lite XNNPACK delegate for CPU.\n"
          ]
        }
      ],
      "source": [
        "interpreter = tf.lite.Interpreter(model_path=tflite_save_path)\n",
        "interpreter.allocate_tensors()"
      ]
    },
    {
      "cell_type": "code",
      "execution_count": 19,
      "metadata": {
        "id": "oQuDK8YS9hE7"
      },
      "outputs": [],
      "source": [
        "# Get I / O tensor\n",
        "input_details = interpreter.get_input_details()\n",
        "output_details = interpreter.get_output_details()"
      ]
    },
    {
      "cell_type": "code",
      "execution_count": 20,
      "metadata": {
        "id": "2_ixAf_l9hE7"
      },
      "outputs": [],
      "source": [
        "interpreter.set_tensor(input_details[0]['index'], np.array([X_test[0]]))"
      ]
    },
    {
      "cell_type": "code",
      "execution_count": 21,
      "metadata": {
        "colab": {
          "base_uri": "https://localhost:8080/"
        },
        "id": "s4FoAnuc9hE7",
        "outputId": "91f18257-8d8b-4ef3-c558-e9b5f94fabbf",
        "scrolled": true
      },
      "outputs": [
        {
          "name": "stdout",
          "output_type": "stream",
          "text": [
            "CPU times: user 44 µs, sys: 3 µs, total: 47 µs\n",
            "Wall time: 50.5 µs\n"
          ]
        }
      ],
      "source": [
        "%%time\n",
        "# Inference implementation\n",
        "interpreter.invoke()\n",
        "tflite_results = interpreter.get_tensor(output_details[0]['index'])"
      ]
    },
    {
      "cell_type": "code",
      "execution_count": 22,
      "metadata": {
        "colab": {
          "base_uri": "https://localhost:8080/"
        },
        "id": "vONjp19J9hE8",
        "outputId": "77205e24-fd00-42c4-f7b6-e06e527c2cba"
      },
      "outputs": [
        {
          "name": "stdout",
          "output_type": "stream",
          "text": [
            "[1.3379084e-01 2.0780072e-01 2.7872714e-01 4.6267305e-03 7.9521678e-02\n",
            " 1.4132749e-03 8.4009189e-05 2.9403567e-01]\n",
            "7\n"
          ]
        }
      ],
      "source": [
        "print(np.squeeze(tflite_results))\n",
        "print(np.argmax(np.squeeze(tflite_results)))"
      ]
    }
  ],
  "metadata": {
    "accelerator": "GPU",
    "colab": {
      "collapsed_sections": [],
      "name": "keypoint_classification_EN.ipynb",
      "provenance": [],
      "toc_visible": true
    },
    "kernelspec": {
      "display_name": "Python 3",
      "language": "python",
      "name": "python3"
    },
    "language_info": {
      "codemirror_mode": {
        "name": "ipython",
        "version": 3
      },
      "file_extension": ".py",
      "mimetype": "text/x-python",
      "name": "python",
      "nbconvert_exporter": "python",
      "pygments_lexer": "ipython3",
      "version": "3.10.6"
    },
    "vscode": {
      "interpreter": {
        "hash": "916dbcbb3f70747c44a77c7bcd40155683ae19c65e1c03b4aa3499c5328201f1"
      }
    }
  },
  "nbformat": 4,
  "nbformat_minor": 0
}
