{
  "cells": [
    {
      "cell_type": "code",
      "execution_count": 45,
      "metadata": {
        "id": "igMyGnjE9hEp"
      },
      "outputs": [],
      "source": [
        "import csv\n",
        "\n",
        "import numpy as np\n",
        "import tensorflow as tf\n",
        "from sklearn.model_selection import train_test_split\n",
        "\n",
        "RANDOM_SEED = 42"
      ]
    },
    {
      "cell_type": "markdown",
      "metadata": {
        "id": "t2HDvhIu9hEr"
      },
      "source": [
        "# Specify each path"
      ]
    },
    {
      "cell_type": "code",
      "execution_count": 46,
      "metadata": {
        "id": "9NvZP2Zn9hEy"
      },
      "outputs": [],
      "source": [
        "dataset = 'model/keypoint_classifier/keypoint.csv'\n",
        "model_save_path = 'model/keypoint_classifier/keypoint_classifier.hdf5'\n",
        "tflite_save_path = 'model/keypoint_classifier/keypoint_classifier.tflite'"
      ]
    },
    {
      "cell_type": "markdown",
      "metadata": {
        "id": "s5oMH7x19hEz"
      },
      "source": [
        "# Set number of classes"
      ]
    },
    {
      "cell_type": "code",
      "execution_count": 47,
      "metadata": {
        "id": "du4kodXL9hEz"
      },
      "outputs": [],
      "source": [
        "NUM_CLASSES = 8"
      ]
    },
    {
      "cell_type": "markdown",
      "metadata": {
        "id": "XjnL0uso9hEz"
      },
      "source": [
        "# Dataset reading"
      ]
    },
    {
      "cell_type": "code",
      "execution_count": 48,
      "metadata": {
        "id": "QT5ZqtEz9hE0"
      },
      "outputs": [],
      "source": [
        "X_dataset = np.loadtxt(dataset, delimiter=',', dtype='float32', usecols=list(range(1, (21 * 2) + 1)))"
      ]
    },
    {
      "cell_type": "code",
      "execution_count": 49,
      "metadata": {
        "id": "QmoKFsp49hE0"
      },
      "outputs": [],
      "source": [
        "y_dataset = np.loadtxt(dataset, delimiter=',', dtype='int32', usecols=(0))"
      ]
    },
    {
      "cell_type": "code",
      "execution_count": 50,
      "metadata": {
        "id": "xQU7JTZ_9hE0"
      },
      "outputs": [],
      "source": [
        "X_train, X_test, y_train, y_test = train_test_split(X_dataset, y_dataset, train_size=0.75, random_state=RANDOM_SEED)"
      ]
    },
    {
      "cell_type": "markdown",
      "metadata": {
        "id": "mxK_lETT9hE0"
      },
      "source": [
        "# Model building"
      ]
    },
    {
      "cell_type": "code",
      "execution_count": 51,
      "metadata": {
        "id": "vHBmUf1t9hE1"
      },
      "outputs": [],
      "source": [
        "model = tf.keras.models.Sequential([\n",
        "    tf.keras.layers.Input((21 * 2, )),\n",
        "    tf.keras.layers.Dropout(0.2),\n",
        "    tf.keras.layers.Dense(20, activation='relu'),\n",
        "    tf.keras.layers.Dropout(0.4),\n",
        "    tf.keras.layers.Dense(10, activation='relu'),\n",
        "    tf.keras.layers.Dense(NUM_CLASSES, activation='softmax')\n",
        "])"
      ]
    },
    {
      "cell_type": "code",
      "execution_count": 52,
      "metadata": {
        "colab": {
          "base_uri": "https://localhost:8080/"
        },
        "id": "ypqky9tc9hE1",
        "outputId": "5db082bb-30e3-4110-bf63-a1ee777ecd46"
      },
      "outputs": [
        {
          "name": "stdout",
          "output_type": "stream",
          "text": [
            "Model: \"sequential_2\"\n",
            "_________________________________________________________________\n",
            " Layer (type)                Output Shape              Param #   \n",
            "=================================================================\n",
            " dropout_4 (Dropout)         (None, 42)                0         \n",
            "                                                                 \n",
            " dense_6 (Dense)             (None, 20)                860       \n",
            "                                                                 \n",
            " dropout_5 (Dropout)         (None, 20)                0         \n",
            "                                                                 \n",
            " dense_7 (Dense)             (None, 10)                210       \n",
            "                                                                 \n",
            " dense_8 (Dense)             (None, 8)                 88        \n",
            "                                                                 \n",
            "=================================================================\n",
            "Total params: 1,158\n",
            "Trainable params: 1,158\n",
            "Non-trainable params: 0\n",
            "_________________________________________________________________\n"
          ]
        }
      ],
      "source": [
        "model.summary()  # tf.keras.utils.plot_model(model, show_shapes=True)"
      ]
    },
    {
      "cell_type": "code",
      "execution_count": 53,
      "metadata": {
        "id": "MbMjOflQ9hE1"
      },
      "outputs": [],
      "source": [
        "# Model checkpoint callback\n",
        "cp_callback = tf.keras.callbacks.ModelCheckpoint(\n",
        "    model_save_path, verbose=1, save_weights_only=False)\n",
        "# Callback for early stopping\n",
        "es_callback = tf.keras.callbacks.EarlyStopping(patience=20, verbose=1)"
      ]
    },
    {
      "cell_type": "code",
      "execution_count": 54,
      "metadata": {
        "id": "c3Dac0M_9hE2"
      },
      "outputs": [],
      "source": [
        "# Model compilation\n",
        "model.compile(\n",
        "    optimizer='adam',\n",
        "    loss='sparse_categorical_crossentropy',\n",
        "    metrics=['accuracy']\n",
        ")"
      ]
    },
    {
      "cell_type": "markdown",
      "metadata": {
        "id": "7XI0j1Iu9hE2"
      },
      "source": [
        "# Model training"
      ]
    },
    {
      "cell_type": "code",
      "execution_count": 55,
      "metadata": {
        "colab": {
          "base_uri": "https://localhost:8080/"
        },
        "id": "WirBl-JE9hE3",
        "outputId": "71b30ca2-8294-4d9d-8aa2-800d90d399de",
        "scrolled": true
      },
      "outputs": [
        {
          "name": "stdout",
          "output_type": "stream",
          "text": [
            "Epoch 1/1000\n",
            " 1/43 [..............................] - ETA: 14s - loss: 2.2800 - accuracy: 0.1250\n",
            "Epoch 1: saving model to model/keypoint_classifier/keypoint_classifier.hdf5\n",
            "43/43 [==============================] - 0s 3ms/step - loss: 2.0630 - accuracy: 0.2065 - val_loss: 1.8874 - val_accuracy: 0.3272\n",
            "Epoch 2/1000\n",
            " 1/43 [..............................] - ETA: 0s - loss: 1.9200 - accuracy: 0.2734\n",
            "Epoch 2: saving model to model/keypoint_classifier/keypoint_classifier.hdf5\n",
            "43/43 [==============================] - 0s 1ms/step - loss: 1.8980 - accuracy: 0.2757 - val_loss: 1.7667 - val_accuracy: 0.4040\n",
            "Epoch 3/1000\n",
            " 1/43 [..............................] - ETA: 0s - loss: 1.8408 - accuracy: 0.2656\n",
            "Epoch 3: saving model to model/keypoint_classifier/keypoint_classifier.hdf5\n",
            "43/43 [==============================] - 0s 1ms/step - loss: 1.8318 - accuracy: 0.3037 - val_loss: 1.6738 - val_accuracy: 0.4825\n",
            "Epoch 4/1000\n",
            " 1/43 [..............................] - ETA: 0s - loss: 1.8135 - accuracy: 0.2734\n",
            "Epoch 4: saving model to model/keypoint_classifier/keypoint_classifier.hdf5\n",
            "43/43 [==============================] - 0s 1ms/step - loss: 1.7575 - accuracy: 0.3391 - val_loss: 1.5738 - val_accuracy: 0.5019\n",
            "Epoch 5/1000\n",
            " 1/43 [..............................] - ETA: 0s - loss: 1.6961 - accuracy: 0.3828\n",
            "Epoch 5: saving model to model/keypoint_classifier/keypoint_classifier.hdf5\n",
            "43/43 [==============================] - 0s 2ms/step - loss: 1.6845 - accuracy: 0.3635 - val_loss: 1.4728 - val_accuracy: 0.5131\n",
            "Epoch 6/1000\n",
            " 1/43 [..............................] - ETA: 0s - loss: 1.6767 - accuracy: 0.3672\n",
            "Epoch 6: saving model to model/keypoint_classifier/keypoint_classifier.hdf5\n",
            "43/43 [==============================] - 0s 1ms/step - loss: 1.6115 - accuracy: 0.3850 - val_loss: 1.3829 - val_accuracy: 0.5342\n",
            "Epoch 7/1000\n",
            " 1/43 [..............................] - ETA: 0s - loss: 1.5315 - accuracy: 0.4375\n",
            "Epoch 7: saving model to model/keypoint_classifier/keypoint_classifier.hdf5\n",
            "43/43 [==============================] - 0s 1ms/step - loss: 1.5508 - accuracy: 0.4041 - val_loss: 1.3021 - val_accuracy: 0.5743\n",
            "Epoch 8/1000\n",
            " 1/43 [..............................] - ETA: 0s - loss: 1.5268 - accuracy: 0.4141\n",
            "Epoch 8: saving model to model/keypoint_classifier/keypoint_classifier.hdf5\n",
            "43/43 [==============================] - 0s 1ms/step - loss: 1.4825 - accuracy: 0.4404 - val_loss: 1.2330 - val_accuracy: 0.5682\n",
            "Epoch 9/1000\n",
            " 1/43 [..............................] - ETA: 0s - loss: 1.5441 - accuracy: 0.4141\n",
            "Epoch 9: saving model to model/keypoint_classifier/keypoint_classifier.hdf5\n",
            "43/43 [==============================] - 0s 1ms/step - loss: 1.4497 - accuracy: 0.4434 - val_loss: 1.1753 - val_accuracy: 0.5860\n",
            "Epoch 10/1000\n",
            " 1/43 [..............................] - ETA: 0s - loss: 1.4635 - accuracy: 0.4141\n",
            "Epoch 10: saving model to model/keypoint_classifier/keypoint_classifier.hdf5\n",
            "43/43 [==============================] - 0s 1ms/step - loss: 1.4233 - accuracy: 0.4560 - val_loss: 1.1358 - val_accuracy: 0.5771\n",
            "Epoch 11/1000\n",
            " 1/43 [..............................] - ETA: 0s - loss: 1.3465 - accuracy: 0.4844\n",
            "Epoch 11: saving model to model/keypoint_classifier/keypoint_classifier.hdf5\n",
            "43/43 [==============================] - 0s 1ms/step - loss: 1.3626 - accuracy: 0.4731 - val_loss: 1.0896 - val_accuracy: 0.6255\n",
            "Epoch 12/1000\n",
            " 1/43 [..............................] - ETA: 0s - loss: 1.5530 - accuracy: 0.3750\n",
            "Epoch 12: saving model to model/keypoint_classifier/keypoint_classifier.hdf5\n",
            "43/43 [==============================] - 0s 1ms/step - loss: 1.3554 - accuracy: 0.4750 - val_loss: 1.0569 - val_accuracy: 0.5988\n",
            "Epoch 13/1000\n",
            " 1/43 [..............................] - ETA: 0s - loss: 1.2718 - accuracy: 0.5000\n",
            "Epoch 13: saving model to model/keypoint_classifier/keypoint_classifier.hdf5\n",
            "43/43 [==============================] - 0s 1ms/step - loss: 1.3212 - accuracy: 0.4894 - val_loss: 1.0207 - val_accuracy: 0.6238\n",
            "Epoch 14/1000\n",
            " 1/43 [..............................] - ETA: 0s - loss: 1.3135 - accuracy: 0.4922\n",
            "Epoch 14: saving model to model/keypoint_classifier/keypoint_classifier.hdf5\n",
            "43/43 [==============================] - 0s 1ms/step - loss: 1.3017 - accuracy: 0.4944 - val_loss: 0.9937 - val_accuracy: 0.7067\n",
            "Epoch 15/1000\n",
            " 1/43 [..............................] - ETA: 0s - loss: 1.2346 - accuracy: 0.5156\n",
            "Epoch 15: saving model to model/keypoint_classifier/keypoint_classifier.hdf5\n",
            "43/43 [==============================] - 0s 1ms/step - loss: 1.2928 - accuracy: 0.4991 - val_loss: 0.9720 - val_accuracy: 0.6656\n",
            "Epoch 16/1000\n",
            " 1/43 [..............................] - ETA: 0s - loss: 1.3245 - accuracy: 0.4766\n",
            "Epoch 16: saving model to model/keypoint_classifier/keypoint_classifier.hdf5\n",
            "43/43 [==============================] - 0s 1ms/step - loss: 1.2781 - accuracy: 0.4963 - val_loss: 0.9437 - val_accuracy: 0.7329\n",
            "Epoch 17/1000\n",
            " 1/43 [..............................] - ETA: 0s - loss: 1.2036 - accuracy: 0.5078\n",
            "Epoch 17: saving model to model/keypoint_classifier/keypoint_classifier.hdf5\n",
            "43/43 [==============================] - 0s 2ms/step - loss: 1.2415 - accuracy: 0.5260 - val_loss: 0.9162 - val_accuracy: 0.7451\n",
            "Epoch 18/1000\n",
            " 1/43 [..............................] - ETA: 0s - loss: 1.1289 - accuracy: 0.6094\n",
            "Epoch 18: saving model to model/keypoint_classifier/keypoint_classifier.hdf5\n",
            "43/43 [==============================] - 0s 2ms/step - loss: 1.2255 - accuracy: 0.5299 - val_loss: 0.8910 - val_accuracy: 0.7496\n",
            "Epoch 19/1000\n",
            " 1/43 [..............................] - ETA: 0s - loss: 1.3785 - accuracy: 0.3984\n",
            "Epoch 19: saving model to model/keypoint_classifier/keypoint_classifier.hdf5\n",
            "43/43 [==============================] - 0s 1ms/step - loss: 1.2216 - accuracy: 0.5341 - val_loss: 0.8702 - val_accuracy: 0.7524\n",
            "Epoch 20/1000\n",
            " 1/43 [..............................] - ETA: 0s - loss: 1.1462 - accuracy: 0.5781\n",
            "Epoch 20: saving model to model/keypoint_classifier/keypoint_classifier.hdf5\n",
            "43/43 [==============================] - 0s 1ms/step - loss: 1.2114 - accuracy: 0.5421 - val_loss: 0.8504 - val_accuracy: 0.7407\n",
            "Epoch 21/1000\n",
            " 1/43 [..............................] - ETA: 0s - loss: 1.1933 - accuracy: 0.5703\n",
            "Epoch 21: saving model to model/keypoint_classifier/keypoint_classifier.hdf5\n",
            "43/43 [==============================] - 0s 1ms/step - loss: 1.1798 - accuracy: 0.5553 - val_loss: 0.8384 - val_accuracy: 0.7501\n",
            "Epoch 22/1000\n",
            " 1/43 [..............................] - ETA: 0s - loss: 1.0485 - accuracy: 0.6875\n",
            "Epoch 22: saving model to model/keypoint_classifier/keypoint_classifier.hdf5\n",
            "43/43 [==============================] - 0s 1ms/step - loss: 1.1838 - accuracy: 0.5596 - val_loss: 0.8134 - val_accuracy: 0.7780\n",
            "Epoch 23/1000\n",
            " 1/43 [..............................] - ETA: 0s - loss: 1.2647 - accuracy: 0.5156\n",
            "Epoch 23: saving model to model/keypoint_classifier/keypoint_classifier.hdf5\n",
            "43/43 [==============================] - 0s 1ms/step - loss: 1.1623 - accuracy: 0.5636 - val_loss: 0.7974 - val_accuracy: 0.7757\n",
            "Epoch 24/1000\n",
            " 1/43 [..............................] - ETA: 0s - loss: 1.1970 - accuracy: 0.5391\n",
            "Epoch 24: saving model to model/keypoint_classifier/keypoint_classifier.hdf5\n",
            "43/43 [==============================] - 0s 2ms/step - loss: 1.1504 - accuracy: 0.5662 - val_loss: 0.7767 - val_accuracy: 0.7941\n",
            "Epoch 25/1000\n",
            " 1/43 [..............................] - ETA: 0s - loss: 1.2678 - accuracy: 0.5312\n",
            "Epoch 25: saving model to model/keypoint_classifier/keypoint_classifier.hdf5\n",
            "43/43 [==============================] - 0s 1ms/step - loss: 1.1362 - accuracy: 0.5714 - val_loss: 0.7687 - val_accuracy: 0.8069\n",
            "Epoch 26/1000\n",
            " 1/43 [..............................] - ETA: 0s - loss: 1.2198 - accuracy: 0.5547\n",
            "Epoch 26: saving model to model/keypoint_classifier/keypoint_classifier.hdf5\n",
            "43/43 [==============================] - 0s 1ms/step - loss: 1.1366 - accuracy: 0.5720 - val_loss: 0.7548 - val_accuracy: 0.8125\n",
            "Epoch 27/1000\n",
            " 1/43 [..............................] - ETA: 0s - loss: 1.1160 - accuracy: 0.6172\n",
            "Epoch 27: saving model to model/keypoint_classifier/keypoint_classifier.hdf5\n",
            "43/43 [==============================] - 0s 2ms/step - loss: 1.1145 - accuracy: 0.5857 - val_loss: 0.7395 - val_accuracy: 0.8331\n",
            "Epoch 28/1000\n",
            " 1/43 [..............................] - ETA: 0s - loss: 1.2976 - accuracy: 0.6016\n",
            "Epoch 28: saving model to model/keypoint_classifier/keypoint_classifier.hdf5\n",
            "43/43 [==============================] - 0s 1ms/step - loss: 1.1293 - accuracy: 0.5774 - val_loss: 0.7332 - val_accuracy: 0.8336\n",
            "Epoch 29/1000\n",
            " 1/43 [..............................] - ETA: 0s - loss: 1.1482 - accuracy: 0.5703\n",
            "Epoch 29: saving model to model/keypoint_classifier/keypoint_classifier.hdf5\n",
            "43/43 [==============================] - 0s 1ms/step - loss: 1.1026 - accuracy: 0.5885 - val_loss: 0.7163 - val_accuracy: 0.8431\n",
            "Epoch 30/1000\n",
            " 1/43 [..............................] - ETA: 0s - loss: 1.1547 - accuracy: 0.5859\n",
            "Epoch 30: saving model to model/keypoint_classifier/keypoint_classifier.hdf5\n",
            "43/43 [==============================] - 0s 1ms/step - loss: 1.1041 - accuracy: 0.5939 - val_loss: 0.7068 - val_accuracy: 0.8486\n",
            "Epoch 31/1000\n",
            " 1/43 [..............................] - ETA: 0s - loss: 0.9450 - accuracy: 0.6797\n",
            "Epoch 31: saving model to model/keypoint_classifier/keypoint_classifier.hdf5\n",
            "43/43 [==============================] - 0s 1ms/step - loss: 1.0911 - accuracy: 0.5935 - val_loss: 0.6964 - val_accuracy: 0.8575\n",
            "Epoch 32/1000\n",
            " 1/43 [..............................] - ETA: 0s - loss: 1.0252 - accuracy: 0.6172\n",
            "Epoch 32: saving model to model/keypoint_classifier/keypoint_classifier.hdf5\n",
            "43/43 [==============================] - 0s 1ms/step - loss: 1.0632 - accuracy: 0.6065 - val_loss: 0.6808 - val_accuracy: 0.8603\n",
            "Epoch 33/1000\n",
            " 1/43 [..............................] - ETA: 0s - loss: 1.1326 - accuracy: 0.5469\n",
            "Epoch 33: saving model to model/keypoint_classifier/keypoint_classifier.hdf5\n",
            "43/43 [==============================] - 0s 1ms/step - loss: 1.0748 - accuracy: 0.5996 - val_loss: 0.6727 - val_accuracy: 0.8681\n",
            "Epoch 34/1000\n",
            " 1/43 [..............................] - ETA: 0s - loss: 1.0771 - accuracy: 0.6406\n",
            "Epoch 34: saving model to model/keypoint_classifier/keypoint_classifier.hdf5\n",
            "43/43 [==============================] - 0s 1ms/step - loss: 1.0488 - accuracy: 0.6041 - val_loss: 0.6622 - val_accuracy: 0.8653\n",
            "Epoch 35/1000\n",
            "41/43 [===========================>..] - ETA: 0s - loss: 1.0363 - accuracy: 0.6086\n",
            "Epoch 35: saving model to model/keypoint_classifier/keypoint_classifier.hdf5\n",
            "43/43 [==============================] - 0s 2ms/step - loss: 1.0370 - accuracy: 0.6083 - val_loss: 0.6609 - val_accuracy: 0.8742\n",
            "Epoch 36/1000\n",
            " 1/43 [..............................] - ETA: 0s - loss: 0.9780 - accuracy: 0.6719\n",
            "Epoch 36: saving model to model/keypoint_classifier/keypoint_classifier.hdf5\n",
            "43/43 [==============================] - 0s 1ms/step - loss: 1.0441 - accuracy: 0.6178 - val_loss: 0.6391 - val_accuracy: 0.8787\n",
            "Epoch 37/1000\n",
            " 1/43 [..............................] - ETA: 0s - loss: 0.9453 - accuracy: 0.6406\n",
            "Epoch 37: saving model to model/keypoint_classifier/keypoint_classifier.hdf5\n",
            "43/43 [==============================] - 0s 1ms/step - loss: 1.0442 - accuracy: 0.6145 - val_loss: 0.6351 - val_accuracy: 0.8726\n",
            "Epoch 38/1000\n",
            " 1/43 [..............................] - ETA: 0s - loss: 0.9278 - accuracy: 0.7031\n",
            "Epoch 38: saving model to model/keypoint_classifier/keypoint_classifier.hdf5\n",
            "43/43 [==============================] - 0s 1ms/step - loss: 1.0430 - accuracy: 0.6137 - val_loss: 0.6270 - val_accuracy: 0.8781\n",
            "Epoch 39/1000\n",
            " 1/43 [..............................] - ETA: 0s - loss: 0.9137 - accuracy: 0.6641\n",
            "Epoch 39: saving model to model/keypoint_classifier/keypoint_classifier.hdf5\n",
            "43/43 [==============================] - 0s 1ms/step - loss: 1.0377 - accuracy: 0.6126 - val_loss: 0.6215 - val_accuracy: 0.8831\n",
            "Epoch 40/1000\n",
            " 1/43 [..............................] - ETA: 0s - loss: 1.0557 - accuracy: 0.6484\n",
            "Epoch 40: saving model to model/keypoint_classifier/keypoint_classifier.hdf5\n",
            "43/43 [==============================] - 0s 1ms/step - loss: 1.0287 - accuracy: 0.6180 - val_loss: 0.6207 - val_accuracy: 0.8809\n",
            "Epoch 41/1000\n",
            " 1/43 [..............................] - ETA: 0s - loss: 0.9519 - accuracy: 0.6484\n",
            "Epoch 41: saving model to model/keypoint_classifier/keypoint_classifier.hdf5\n",
            "43/43 [==============================] - 0s 2ms/step - loss: 1.0189 - accuracy: 0.6302 - val_loss: 0.6065 - val_accuracy: 0.8848\n",
            "Epoch 42/1000\n",
            " 1/43 [..............................] - ETA: 0s - loss: 0.9857 - accuracy: 0.6484\n",
            "Epoch 42: saving model to model/keypoint_classifier/keypoint_classifier.hdf5\n",
            "43/43 [==============================] - 0s 2ms/step - loss: 1.0065 - accuracy: 0.6286 - val_loss: 0.5970 - val_accuracy: 0.8909\n",
            "Epoch 43/1000\n",
            " 1/43 [..............................] - ETA: 0s - loss: 1.1111 - accuracy: 0.5625\n",
            "Epoch 43: saving model to model/keypoint_classifier/keypoint_classifier.hdf5\n",
            "43/43 [==============================] - 0s 1ms/step - loss: 1.0059 - accuracy: 0.6334 - val_loss: 0.5946 - val_accuracy: 0.8820\n",
            "Epoch 44/1000\n",
            " 1/43 [..............................] - ETA: 0s - loss: 0.9192 - accuracy: 0.6797\n",
            "Epoch 44: saving model to model/keypoint_classifier/keypoint_classifier.hdf5\n",
            "43/43 [==============================] - 0s 1ms/step - loss: 1.0045 - accuracy: 0.6301 - val_loss: 0.5915 - val_accuracy: 0.8881\n",
            "Epoch 45/1000\n",
            " 1/43 [..............................] - ETA: 0s - loss: 0.8903 - accuracy: 0.7344\n",
            "Epoch 45: saving model to model/keypoint_classifier/keypoint_classifier.hdf5\n",
            "43/43 [==============================] - 0s 1ms/step - loss: 1.0140 - accuracy: 0.6338 - val_loss: 0.5860 - val_accuracy: 0.8859\n",
            "Epoch 46/1000\n",
            " 1/43 [..............................] - ETA: 0s - loss: 1.0192 - accuracy: 0.6250\n",
            "Epoch 46: saving model to model/keypoint_classifier/keypoint_classifier.hdf5\n",
            "43/43 [==============================] - 0s 1ms/step - loss: 0.9963 - accuracy: 0.6328 - val_loss: 0.5771 - val_accuracy: 0.8898\n",
            "Epoch 47/1000\n",
            " 1/43 [..............................] - ETA: 0s - loss: 0.9125 - accuracy: 0.6719\n",
            "Epoch 47: saving model to model/keypoint_classifier/keypoint_classifier.hdf5\n",
            "43/43 [==============================] - 0s 1ms/step - loss: 0.9928 - accuracy: 0.6380 - val_loss: 0.5732 - val_accuracy: 0.8898\n",
            "Epoch 48/1000\n",
            " 1/43 [..............................] - ETA: 0s - loss: 1.1011 - accuracy: 0.5391\n",
            "Epoch 48: saving model to model/keypoint_classifier/keypoint_classifier.hdf5\n",
            "43/43 [==============================] - 0s 1ms/step - loss: 0.9771 - accuracy: 0.6469 - val_loss: 0.5688 - val_accuracy: 0.8898\n",
            "Epoch 49/1000\n",
            " 1/43 [..............................] - ETA: 0s - loss: 0.9206 - accuracy: 0.6797\n",
            "Epoch 49: saving model to model/keypoint_classifier/keypoint_classifier.hdf5\n",
            "43/43 [==============================] - 0s 2ms/step - loss: 0.9702 - accuracy: 0.6386 - val_loss: 0.5609 - val_accuracy: 0.8920\n",
            "Epoch 50/1000\n",
            "33/43 [======================>.......] - ETA: 0s - loss: 0.9661 - accuracy: 0.6496\n",
            "Epoch 50: saving model to model/keypoint_classifier/keypoint_classifier.hdf5\n",
            "43/43 [==============================] - 0s 2ms/step - loss: 0.9668 - accuracy: 0.6506 - val_loss: 0.5519 - val_accuracy: 0.8948\n",
            "Epoch 51/1000\n",
            " 1/43 [..............................] - ETA: 0s - loss: 0.9247 - accuracy: 0.6875\n",
            "Epoch 51: saving model to model/keypoint_classifier/keypoint_classifier.hdf5\n",
            "43/43 [==============================] - 0s 2ms/step - loss: 0.9473 - accuracy: 0.6592 - val_loss: 0.5382 - val_accuracy: 0.8987\n",
            "Epoch 52/1000\n",
            " 1/43 [..............................] - ETA: 0s - loss: 0.9183 - accuracy: 0.6797\n",
            "Epoch 52: saving model to model/keypoint_classifier/keypoint_classifier.hdf5\n",
            "43/43 [==============================] - 0s 2ms/step - loss: 0.9794 - accuracy: 0.6365 - val_loss: 0.5432 - val_accuracy: 0.8959\n",
            "Epoch 53/1000\n",
            " 1/43 [..............................] - ETA: 0s - loss: 1.0178 - accuracy: 0.6094\n",
            "Epoch 53: saving model to model/keypoint_classifier/keypoint_classifier.hdf5\n",
            "43/43 [==============================] - 0s 1ms/step - loss: 0.9669 - accuracy: 0.6453 - val_loss: 0.5377 - val_accuracy: 0.8948\n",
            "Epoch 54/1000\n",
            " 1/43 [..............................] - ETA: 0s - loss: 0.9383 - accuracy: 0.6953\n",
            "Epoch 54: saving model to model/keypoint_classifier/keypoint_classifier.hdf5\n",
            "43/43 [==============================] - 0s 2ms/step - loss: 0.9579 - accuracy: 0.6531 - val_loss: 0.5318 - val_accuracy: 0.9009\n",
            "Epoch 55/1000\n",
            " 1/43 [..............................] - ETA: 0s - loss: 0.9349 - accuracy: 0.6328\n",
            "Epoch 55: saving model to model/keypoint_classifier/keypoint_classifier.hdf5\n",
            "43/43 [==============================] - 0s 2ms/step - loss: 0.9687 - accuracy: 0.6479 - val_loss: 0.5331 - val_accuracy: 0.8993\n",
            "Epoch 56/1000\n",
            "43/43 [==============================] - ETA: 0s - loss: 0.9463 - accuracy: 0.6519\n",
            "Epoch 56: saving model to model/keypoint_classifier/keypoint_classifier.hdf5\n",
            "43/43 [==============================] - 0s 3ms/step - loss: 0.9463 - accuracy: 0.6519 - val_loss: 0.5161 - val_accuracy: 0.9060\n",
            "Epoch 57/1000\n",
            " 1/43 [..............................] - ETA: 0s - loss: 0.8818 - accuracy: 0.6953\n",
            "Epoch 57: saving model to model/keypoint_classifier/keypoint_classifier.hdf5\n",
            "43/43 [==============================] - 0s 2ms/step - loss: 0.9505 - accuracy: 0.6540 - val_loss: 0.5252 - val_accuracy: 0.9026\n",
            "Epoch 58/1000\n",
            " 1/43 [..............................] - ETA: 0s - loss: 1.0662 - accuracy: 0.6016\n",
            "Epoch 58: saving model to model/keypoint_classifier/keypoint_classifier.hdf5\n",
            "43/43 [==============================] - 0s 3ms/step - loss: 0.9588 - accuracy: 0.6594 - val_loss: 0.5222 - val_accuracy: 0.9009\n",
            "Epoch 59/1000\n",
            "41/43 [===========================>..] - ETA: 0s - loss: 0.9397 - accuracy: 0.6622\n",
            "Epoch 59: saving model to model/keypoint_classifier/keypoint_classifier.hdf5\n",
            "43/43 [==============================] - 0s 2ms/step - loss: 0.9416 - accuracy: 0.6597 - val_loss: 0.5147 - val_accuracy: 0.9026\n",
            "Epoch 60/1000\n",
            " 1/43 [..............................] - ETA: 0s - loss: 0.9249 - accuracy: 0.7031\n",
            "Epoch 60: saving model to model/keypoint_classifier/keypoint_classifier.hdf5\n",
            "43/43 [==============================] - 0s 2ms/step - loss: 0.9461 - accuracy: 0.6531 - val_loss: 0.5169 - val_accuracy: 0.9054\n",
            "Epoch 61/1000\n",
            " 1/43 [..............................] - ETA: 0s - loss: 0.9048 - accuracy: 0.6484\n",
            "Epoch 61: saving model to model/keypoint_classifier/keypoint_classifier.hdf5\n",
            "43/43 [==============================] - 0s 2ms/step - loss: 0.9388 - accuracy: 0.6583 - val_loss: 0.5029 - val_accuracy: 0.9087\n",
            "Epoch 62/1000\n",
            " 1/43 [..............................] - ETA: 0s - loss: 0.9405 - accuracy: 0.6719\n",
            "Epoch 62: saving model to model/keypoint_classifier/keypoint_classifier.hdf5\n",
            "43/43 [==============================] - 0s 2ms/step - loss: 0.9336 - accuracy: 0.6635 - val_loss: 0.5047 - val_accuracy: 0.9054\n",
            "Epoch 63/1000\n",
            " 1/43 [..............................] - ETA: 0s - loss: 0.9027 - accuracy: 0.6172\n",
            "Epoch 63: saving model to model/keypoint_classifier/keypoint_classifier.hdf5\n",
            "43/43 [==============================] - 0s 2ms/step - loss: 0.9229 - accuracy: 0.6688 - val_loss: 0.5042 - val_accuracy: 0.9048\n",
            "Epoch 64/1000\n",
            " 1/43 [..............................] - ETA: 0s - loss: 1.0248 - accuracy: 0.6250\n",
            "Epoch 64: saving model to model/keypoint_classifier/keypoint_classifier.hdf5\n",
            "43/43 [==============================] - 0s 2ms/step - loss: 0.9380 - accuracy: 0.6636 - val_loss: 0.4926 - val_accuracy: 0.9076\n",
            "Epoch 65/1000\n",
            " 1/43 [..............................] - ETA: 0s - loss: 0.9118 - accuracy: 0.6953\n",
            "Epoch 65: saving model to model/keypoint_classifier/keypoint_classifier.hdf5\n",
            "43/43 [==============================] - 0s 2ms/step - loss: 0.9270 - accuracy: 0.6622 - val_loss: 0.4984 - val_accuracy: 0.9132\n",
            "Epoch 66/1000\n",
            "29/43 [===================>..........] - ETA: 0s - loss: 0.9238 - accuracy: 0.6624\n",
            "Epoch 66: saving model to model/keypoint_classifier/keypoint_classifier.hdf5\n",
            "43/43 [==============================] - 0s 2ms/step - loss: 0.9270 - accuracy: 0.6649 - val_loss: 0.4972 - val_accuracy: 0.8998\n",
            "Epoch 67/1000\n",
            " 1/43 [..............................] - ETA: 0s - loss: 0.7547 - accuracy: 0.7422\n",
            "Epoch 67: saving model to model/keypoint_classifier/keypoint_classifier.hdf5\n",
            "43/43 [==============================] - 0s 2ms/step - loss: 0.9417 - accuracy: 0.6612 - val_loss: 0.4919 - val_accuracy: 0.9071\n",
            "Epoch 68/1000\n",
            " 1/43 [..............................] - ETA: 0s - loss: 1.0438 - accuracy: 0.6562\n",
            "Epoch 68: saving model to model/keypoint_classifier/keypoint_classifier.hdf5\n",
            "43/43 [==============================] - 0s 2ms/step - loss: 0.9446 - accuracy: 0.6594 - val_loss: 0.5009 - val_accuracy: 0.9071\n",
            "Epoch 69/1000\n",
            " 1/43 [..............................] - ETA: 0s - loss: 1.0742 - accuracy: 0.6484\n",
            "Epoch 69: saving model to model/keypoint_classifier/keypoint_classifier.hdf5\n",
            "43/43 [==============================] - 0s 2ms/step - loss: 0.9066 - accuracy: 0.6779 - val_loss: 0.4823 - val_accuracy: 0.9110\n",
            "Epoch 70/1000\n",
            " 1/43 [..............................] - ETA: 0s - loss: 0.9252 - accuracy: 0.6484\n",
            "Epoch 70: saving model to model/keypoint_classifier/keypoint_classifier.hdf5\n",
            "43/43 [==============================] - 0s 2ms/step - loss: 0.9142 - accuracy: 0.6718 - val_loss: 0.4777 - val_accuracy: 0.9115\n",
            "Epoch 71/1000\n",
            " 1/43 [..............................] - ETA: 0s - loss: 0.9182 - accuracy: 0.6172\n",
            "Epoch 71: saving model to model/keypoint_classifier/keypoint_classifier.hdf5\n",
            "43/43 [==============================] - 0s 1ms/step - loss: 0.9039 - accuracy: 0.6709 - val_loss: 0.4827 - val_accuracy: 0.9098\n",
            "Epoch 72/1000\n",
            " 1/43 [..............................] - ETA: 0s - loss: 0.8880 - accuracy: 0.6875\n",
            "Epoch 72: saving model to model/keypoint_classifier/keypoint_classifier.hdf5\n",
            "43/43 [==============================] - 0s 1ms/step - loss: 0.9249 - accuracy: 0.6577 - val_loss: 0.4693 - val_accuracy: 0.9126\n",
            "Epoch 73/1000\n",
            " 1/43 [..............................] - ETA: 0s - loss: 0.8550 - accuracy: 0.6875\n",
            "Epoch 73: saving model to model/keypoint_classifier/keypoint_classifier.hdf5\n",
            "43/43 [==============================] - 0s 2ms/step - loss: 0.8984 - accuracy: 0.6738 - val_loss: 0.4674 - val_accuracy: 0.9160\n",
            "Epoch 74/1000\n",
            " 1/43 [..............................] - ETA: 0s - loss: 1.0696 - accuracy: 0.6016\n",
            "Epoch 74: saving model to model/keypoint_classifier/keypoint_classifier.hdf5\n",
            "43/43 [==============================] - 0s 2ms/step - loss: 0.9265 - accuracy: 0.6672 - val_loss: 0.4770 - val_accuracy: 0.9132\n",
            "Epoch 75/1000\n",
            " 1/43 [..............................] - ETA: 0s - loss: 0.8575 - accuracy: 0.6719\n",
            "Epoch 75: saving model to model/keypoint_classifier/keypoint_classifier.hdf5\n",
            "43/43 [==============================] - 0s 2ms/step - loss: 0.9173 - accuracy: 0.6696 - val_loss: 0.4743 - val_accuracy: 0.9115\n",
            "Epoch 76/1000\n",
            "31/43 [====================>.........] - ETA: 0s - loss: 0.8993 - accuracy: 0.6804\n",
            "Epoch 76: saving model to model/keypoint_classifier/keypoint_classifier.hdf5\n",
            "43/43 [==============================] - 0s 2ms/step - loss: 0.9033 - accuracy: 0.6768 - val_loss: 0.4725 - val_accuracy: 0.9176\n",
            "Epoch 77/1000\n",
            " 1/43 [..............................] - ETA: 0s - loss: 1.0984 - accuracy: 0.6016\n",
            "Epoch 77: saving model to model/keypoint_classifier/keypoint_classifier.hdf5\n",
            "43/43 [==============================] - 0s 2ms/step - loss: 0.8938 - accuracy: 0.6833 - val_loss: 0.4727 - val_accuracy: 0.9149\n",
            "Epoch 78/1000\n",
            " 1/43 [..............................] - ETA: 0s - loss: 0.8885 - accuracy: 0.6875\n",
            "Epoch 78: saving model to model/keypoint_classifier/keypoint_classifier.hdf5\n",
            "43/43 [==============================] - 0s 2ms/step - loss: 0.8948 - accuracy: 0.6803 - val_loss: 0.4677 - val_accuracy: 0.9115\n",
            "Epoch 79/1000\n",
            " 1/43 [..............................] - ETA: 0s - loss: 0.8454 - accuracy: 0.7266\n",
            "Epoch 79: saving model to model/keypoint_classifier/keypoint_classifier.hdf5\n",
            "43/43 [==============================] - 0s 2ms/step - loss: 0.9029 - accuracy: 0.6763 - val_loss: 0.4694 - val_accuracy: 0.9121\n",
            "Epoch 80/1000\n",
            " 1/43 [..............................] - ETA: 0s - loss: 0.9019 - accuracy: 0.6875\n",
            "Epoch 80: saving model to model/keypoint_classifier/keypoint_classifier.hdf5\n",
            "43/43 [==============================] - 0s 2ms/step - loss: 0.8931 - accuracy: 0.6813 - val_loss: 0.4580 - val_accuracy: 0.9154\n",
            "Epoch 81/1000\n",
            " 1/43 [..............................] - ETA: 0s - loss: 0.9232 - accuracy: 0.6875\n",
            "Epoch 81: saving model to model/keypoint_classifier/keypoint_classifier.hdf5\n",
            "43/43 [==============================] - 0s 2ms/step - loss: 0.9065 - accuracy: 0.6761 - val_loss: 0.4619 - val_accuracy: 0.9154\n",
            "Epoch 82/1000\n",
            " 1/43 [..............................] - ETA: 0s - loss: 1.0322 - accuracy: 0.6484\n",
            "Epoch 82: saving model to model/keypoint_classifier/keypoint_classifier.hdf5\n",
            "43/43 [==============================] - 0s 2ms/step - loss: 0.9062 - accuracy: 0.6748 - val_loss: 0.4700 - val_accuracy: 0.9076\n",
            "Epoch 83/1000\n",
            " 1/43 [..............................] - ETA: 0s - loss: 1.0359 - accuracy: 0.6875\n",
            "Epoch 83: saving model to model/keypoint_classifier/keypoint_classifier.hdf5\n",
            "43/43 [==============================] - 0s 2ms/step - loss: 0.8969 - accuracy: 0.6814 - val_loss: 0.4588 - val_accuracy: 0.9154\n",
            "Epoch 84/1000\n",
            " 1/43 [..............................] - ETA: 0s - loss: 0.8573 - accuracy: 0.7109\n",
            "Epoch 84: saving model to model/keypoint_classifier/keypoint_classifier.hdf5\n",
            "43/43 [==============================] - 0s 2ms/step - loss: 0.8968 - accuracy: 0.6794 - val_loss: 0.4633 - val_accuracy: 0.9132\n",
            "Epoch 85/1000\n",
            " 1/43 [..............................] - ETA: 0s - loss: 0.8999 - accuracy: 0.6797\n",
            "Epoch 85: saving model to model/keypoint_classifier/keypoint_classifier.hdf5\n",
            "43/43 [==============================] - 0s 1ms/step - loss: 0.8711 - accuracy: 0.6889 - val_loss: 0.4494 - val_accuracy: 0.9110\n",
            "Epoch 86/1000\n",
            " 1/43 [..............................] - ETA: 0s - loss: 0.8261 - accuracy: 0.7656\n",
            "Epoch 86: saving model to model/keypoint_classifier/keypoint_classifier.hdf5\n",
            "43/43 [==============================] - 0s 2ms/step - loss: 0.8959 - accuracy: 0.6805 - val_loss: 0.4506 - val_accuracy: 0.9160\n",
            "Epoch 87/1000\n",
            "43/43 [==============================] - ETA: 0s - loss: 0.9033 - accuracy: 0.6729\n",
            "Epoch 87: saving model to model/keypoint_classifier/keypoint_classifier.hdf5\n",
            "43/43 [==============================] - 0s 2ms/step - loss: 0.9033 - accuracy: 0.6729 - val_loss: 0.4573 - val_accuracy: 0.9160\n",
            "Epoch 88/1000\n",
            " 1/43 [..............................] - ETA: 0s - loss: 0.9621 - accuracy: 0.6328\n",
            "Epoch 88: saving model to model/keypoint_classifier/keypoint_classifier.hdf5\n",
            "43/43 [==============================] - 0s 1ms/step - loss: 0.9029 - accuracy: 0.6727 - val_loss: 0.4464 - val_accuracy: 0.9165\n",
            "Epoch 89/1000\n",
            " 1/43 [..............................] - ETA: 0s - loss: 0.8187 - accuracy: 0.6953\n",
            "Epoch 89: saving model to model/keypoint_classifier/keypoint_classifier.hdf5\n",
            "43/43 [==============================] - 0s 1ms/step - loss: 0.8619 - accuracy: 0.6848 - val_loss: 0.4474 - val_accuracy: 0.9143\n",
            "Epoch 90/1000\n",
            " 1/43 [..............................] - ETA: 0s - loss: 0.9203 - accuracy: 0.7109\n",
            "Epoch 90: saving model to model/keypoint_classifier/keypoint_classifier.hdf5\n",
            "43/43 [==============================] - 0s 1ms/step - loss: 0.8792 - accuracy: 0.6785 - val_loss: 0.4417 - val_accuracy: 0.9154\n",
            "Epoch 91/1000\n",
            " 1/43 [..............................] - ETA: 0s - loss: 0.8300 - accuracy: 0.7266\n",
            "Epoch 91: saving model to model/keypoint_classifier/keypoint_classifier.hdf5\n",
            "43/43 [==============================] - 0s 2ms/step - loss: 0.8666 - accuracy: 0.6863 - val_loss: 0.4460 - val_accuracy: 0.9171\n",
            "Epoch 92/1000\n",
            " 1/43 [..............................] - ETA: 0s - loss: 1.0354 - accuracy: 0.6641\n",
            "Epoch 92: saving model to model/keypoint_classifier/keypoint_classifier.hdf5\n",
            "43/43 [==============================] - 0s 1ms/step - loss: 0.8833 - accuracy: 0.6852 - val_loss: 0.4454 - val_accuracy: 0.9149\n",
            "Epoch 93/1000\n",
            " 1/43 [..............................] - ETA: 0s - loss: 0.8825 - accuracy: 0.6719\n",
            "Epoch 93: saving model to model/keypoint_classifier/keypoint_classifier.hdf5\n",
            "43/43 [==============================] - 0s 1ms/step - loss: 0.8679 - accuracy: 0.6922 - val_loss: 0.4417 - val_accuracy: 0.9165\n",
            "Epoch 94/1000\n",
            " 1/43 [..............................] - ETA: 0s - loss: 0.9356 - accuracy: 0.6953\n",
            "Epoch 94: saving model to model/keypoint_classifier/keypoint_classifier.hdf5\n",
            "43/43 [==============================] - 0s 1ms/step - loss: 0.8829 - accuracy: 0.6822 - val_loss: 0.4446 - val_accuracy: 0.9149\n",
            "Epoch 95/1000\n",
            " 1/43 [..............................] - ETA: 0s - loss: 0.8902 - accuracy: 0.6953\n",
            "Epoch 95: saving model to model/keypoint_classifier/keypoint_classifier.hdf5\n",
            "43/43 [==============================] - 0s 2ms/step - loss: 0.8700 - accuracy: 0.6852 - val_loss: 0.4474 - val_accuracy: 0.9176\n",
            "Epoch 96/1000\n",
            " 1/43 [..............................] - ETA: 0s - loss: 0.8423 - accuracy: 0.6953\n",
            "Epoch 96: saving model to model/keypoint_classifier/keypoint_classifier.hdf5\n",
            "43/43 [==============================] - 0s 1ms/step - loss: 0.8663 - accuracy: 0.6889 - val_loss: 0.4393 - val_accuracy: 0.9182\n",
            "Epoch 97/1000\n",
            " 1/43 [..............................] - ETA: 0s - loss: 0.8261 - accuracy: 0.6406\n",
            "Epoch 97: saving model to model/keypoint_classifier/keypoint_classifier.hdf5\n",
            "43/43 [==============================] - 0s 1ms/step - loss: 0.8807 - accuracy: 0.6755 - val_loss: 0.4426 - val_accuracy: 0.9154\n",
            "Epoch 98/1000\n",
            " 1/43 [..............................] - ETA: 0s - loss: 0.8541 - accuracy: 0.6875\n",
            "Epoch 98: saving model to model/keypoint_classifier/keypoint_classifier.hdf5\n",
            "43/43 [==============================] - 0s 1ms/step - loss: 0.8797 - accuracy: 0.6842 - val_loss: 0.4413 - val_accuracy: 0.9176\n",
            "Epoch 99/1000\n",
            " 1/43 [..............................] - ETA: 0s - loss: 1.0589 - accuracy: 0.6406\n",
            "Epoch 99: saving model to model/keypoint_classifier/keypoint_classifier.hdf5\n",
            "43/43 [==============================] - 0s 1ms/step - loss: 0.8807 - accuracy: 0.6833 - val_loss: 0.4468 - val_accuracy: 0.9176\n",
            "Epoch 100/1000\n",
            " 1/43 [..............................] - ETA: 0s - loss: 0.7753 - accuracy: 0.7500\n",
            "Epoch 100: saving model to model/keypoint_classifier/keypoint_classifier.hdf5\n",
            "43/43 [==============================] - 0s 2ms/step - loss: 0.8638 - accuracy: 0.6926 - val_loss: 0.4337 - val_accuracy: 0.9226\n",
            "Epoch 101/1000\n",
            " 1/43 [..............................] - ETA: 0s - loss: 0.8603 - accuracy: 0.7109\n",
            "Epoch 101: saving model to model/keypoint_classifier/keypoint_classifier.hdf5\n",
            "43/43 [==============================] - 0s 1ms/step - loss: 0.8559 - accuracy: 0.6965 - val_loss: 0.4199 - val_accuracy: 0.9221\n",
            "Epoch 102/1000\n",
            " 1/43 [..............................] - ETA: 0s - loss: 0.8003 - accuracy: 0.7188\n",
            "Epoch 102: saving model to model/keypoint_classifier/keypoint_classifier.hdf5\n",
            "43/43 [==============================] - 0s 2ms/step - loss: 0.8650 - accuracy: 0.6866 - val_loss: 0.4342 - val_accuracy: 0.9154\n",
            "Epoch 103/1000\n",
            " 1/43 [..............................] - ETA: 0s - loss: 0.9622 - accuracy: 0.6562\n",
            "Epoch 103: saving model to model/keypoint_classifier/keypoint_classifier.hdf5\n",
            "43/43 [==============================] - 0s 1ms/step - loss: 0.8716 - accuracy: 0.6920 - val_loss: 0.4260 - val_accuracy: 0.9215\n",
            "Epoch 104/1000\n",
            " 1/43 [..............................] - ETA: 0s - loss: 0.9012 - accuracy: 0.6562\n",
            "Epoch 104: saving model to model/keypoint_classifier/keypoint_classifier.hdf5\n",
            "43/43 [==============================] - 0s 1ms/step - loss: 0.8571 - accuracy: 0.6929 - val_loss: 0.4284 - val_accuracy: 0.9232\n",
            "Epoch 105/1000\n",
            " 1/43 [..............................] - ETA: 0s - loss: 0.9989 - accuracy: 0.6250\n",
            "Epoch 105: saving model to model/keypoint_classifier/keypoint_classifier.hdf5\n",
            "43/43 [==============================] - 0s 2ms/step - loss: 0.8649 - accuracy: 0.6868 - val_loss: 0.4281 - val_accuracy: 0.9282\n",
            "Epoch 106/1000\n",
            " 1/43 [..............................] - ETA: 0s - loss: 0.9186 - accuracy: 0.7266\n",
            "Epoch 106: saving model to model/keypoint_classifier/keypoint_classifier.hdf5\n",
            "43/43 [==============================] - 0s 2ms/step - loss: 0.8696 - accuracy: 0.6892 - val_loss: 0.4312 - val_accuracy: 0.9176\n",
            "Epoch 107/1000\n",
            " 1/43 [..............................] - ETA: 0s - loss: 0.9185 - accuracy: 0.6172\n",
            "Epoch 107: saving model to model/keypoint_classifier/keypoint_classifier.hdf5\n",
            "43/43 [==============================] - 0s 2ms/step - loss: 0.8562 - accuracy: 0.6840 - val_loss: 0.4258 - val_accuracy: 0.9193\n",
            "Epoch 108/1000\n",
            " 1/43 [..............................] - ETA: 0s - loss: 0.6941 - accuracy: 0.7266\n",
            "Epoch 108: saving model to model/keypoint_classifier/keypoint_classifier.hdf5\n",
            "43/43 [==============================] - 0s 2ms/step - loss: 0.8484 - accuracy: 0.6922 - val_loss: 0.4132 - val_accuracy: 0.9215\n",
            "Epoch 109/1000\n",
            " 1/43 [..............................] - ETA: 0s - loss: 0.8331 - accuracy: 0.6719\n",
            "Epoch 109: saving model to model/keypoint_classifier/keypoint_classifier.hdf5\n",
            "43/43 [==============================] - 0s 2ms/step - loss: 0.8563 - accuracy: 0.6926 - val_loss: 0.4188 - val_accuracy: 0.9204\n",
            "Epoch 110/1000\n",
            " 1/43 [..............................] - ETA: 0s - loss: 0.7908 - accuracy: 0.7188\n",
            "Epoch 110: saving model to model/keypoint_classifier/keypoint_classifier.hdf5\n",
            "43/43 [==============================] - 0s 1ms/step - loss: 0.8590 - accuracy: 0.6900 - val_loss: 0.4237 - val_accuracy: 0.9238\n",
            "Epoch 111/1000\n",
            " 1/43 [..............................] - ETA: 0s - loss: 0.9398 - accuracy: 0.7109\n",
            "Epoch 111: saving model to model/keypoint_classifier/keypoint_classifier.hdf5\n",
            "43/43 [==============================] - 0s 2ms/step - loss: 0.8705 - accuracy: 0.6892 - val_loss: 0.4231 - val_accuracy: 0.9282\n",
            "Epoch 112/1000\n",
            " 1/43 [..............................] - ETA: 0s - loss: 0.7772 - accuracy: 0.7031\n",
            "Epoch 112: saving model to model/keypoint_classifier/keypoint_classifier.hdf5\n",
            "43/43 [==============================] - 0s 2ms/step - loss: 0.8614 - accuracy: 0.6944 - val_loss: 0.4222 - val_accuracy: 0.9332\n",
            "Epoch 113/1000\n",
            " 1/43 [..............................] - ETA: 0s - loss: 0.9128 - accuracy: 0.7266\n",
            "Epoch 113: saving model to model/keypoint_classifier/keypoint_classifier.hdf5\n",
            "43/43 [==============================] - 0s 2ms/step - loss: 0.8675 - accuracy: 0.6829 - val_loss: 0.4193 - val_accuracy: 0.9265\n",
            "Epoch 114/1000\n",
            " 1/43 [..............................] - ETA: 0s - loss: 0.9493 - accuracy: 0.6562\n",
            "Epoch 114: saving model to model/keypoint_classifier/keypoint_classifier.hdf5\n",
            "43/43 [==============================] - 0s 2ms/step - loss: 0.8538 - accuracy: 0.6922 - val_loss: 0.4207 - val_accuracy: 0.9277\n",
            "Epoch 115/1000\n",
            " 1/43 [..............................] - ETA: 0s - loss: 0.9610 - accuracy: 0.6016\n",
            "Epoch 115: saving model to model/keypoint_classifier/keypoint_classifier.hdf5\n",
            "43/43 [==============================] - 0s 2ms/step - loss: 0.8421 - accuracy: 0.6980 - val_loss: 0.4165 - val_accuracy: 0.9254\n",
            "Epoch 116/1000\n",
            " 1/43 [..............................] - ETA: 0s - loss: 0.8256 - accuracy: 0.6719\n",
            "Epoch 116: saving model to model/keypoint_classifier/keypoint_classifier.hdf5\n",
            "43/43 [==============================] - 0s 2ms/step - loss: 0.8621 - accuracy: 0.6876 - val_loss: 0.4219 - val_accuracy: 0.9238\n",
            "Epoch 117/1000\n",
            " 1/43 [..............................] - ETA: 0s - loss: 0.9621 - accuracy: 0.6484\n",
            "Epoch 117: saving model to model/keypoint_classifier/keypoint_classifier.hdf5\n",
            "43/43 [==============================] - 0s 2ms/step - loss: 0.8528 - accuracy: 0.6948 - val_loss: 0.4152 - val_accuracy: 0.9265\n",
            "Epoch 118/1000\n",
            " 1/43 [..............................] - ETA: 0s - loss: 1.1164 - accuracy: 0.6484\n",
            "Epoch 118: saving model to model/keypoint_classifier/keypoint_classifier.hdf5\n",
            "43/43 [==============================] - 0s 1ms/step - loss: 0.8720 - accuracy: 0.6848 - val_loss: 0.4295 - val_accuracy: 0.9249\n",
            "Epoch 119/1000\n",
            " 1/43 [..............................] - ETA: 0s - loss: 0.7663 - accuracy: 0.6641\n",
            "Epoch 119: saving model to model/keypoint_classifier/keypoint_classifier.hdf5\n",
            "43/43 [==============================] - 0s 2ms/step - loss: 0.8516 - accuracy: 0.6881 - val_loss: 0.4289 - val_accuracy: 0.9204\n",
            "Epoch 120/1000\n",
            " 1/43 [..............................] - ETA: 0s - loss: 0.9231 - accuracy: 0.6406\n",
            "Epoch 120: saving model to model/keypoint_classifier/keypoint_classifier.hdf5\n",
            "43/43 [==============================] - 0s 2ms/step - loss: 0.8491 - accuracy: 0.6998 - val_loss: 0.4226 - val_accuracy: 0.9226\n",
            "Epoch 121/1000\n",
            " 1/43 [..............................] - ETA: 0s - loss: 0.9403 - accuracy: 0.6406\n",
            "Epoch 121: saving model to model/keypoint_classifier/keypoint_classifier.hdf5\n",
            "43/43 [==============================] - 0s 2ms/step - loss: 0.8419 - accuracy: 0.6972 - val_loss: 0.4115 - val_accuracy: 0.9249\n",
            "Epoch 122/1000\n",
            "37/43 [========================>.....] - ETA: 0s - loss: 0.8526 - accuracy: 0.6955\n",
            "Epoch 122: saving model to model/keypoint_classifier/keypoint_classifier.hdf5\n",
            "43/43 [==============================] - 0s 2ms/step - loss: 0.8491 - accuracy: 0.6978 - val_loss: 0.4169 - val_accuracy: 0.9271\n",
            "Epoch 123/1000\n",
            " 1/43 [..............................] - ETA: 0s - loss: 0.8405 - accuracy: 0.6719\n",
            "Epoch 123: saving model to model/keypoint_classifier/keypoint_classifier.hdf5\n",
            "43/43 [==============================] - 0s 2ms/step - loss: 0.8504 - accuracy: 0.6963 - val_loss: 0.4174 - val_accuracy: 0.9243\n",
            "Epoch 124/1000\n",
            " 1/43 [..............................] - ETA: 0s - loss: 0.8651 - accuracy: 0.6953\n",
            "Epoch 124: saving model to model/keypoint_classifier/keypoint_classifier.hdf5\n",
            "43/43 [==============================] - 0s 2ms/step - loss: 0.8534 - accuracy: 0.6978 - val_loss: 0.4194 - val_accuracy: 0.9210\n",
            "Epoch 125/1000\n",
            " 1/43 [..............................] - ETA: 0s - loss: 0.8349 - accuracy: 0.7031\n",
            "Epoch 125: saving model to model/keypoint_classifier/keypoint_classifier.hdf5\n",
            "43/43 [==============================] - 0s 1ms/step - loss: 0.8366 - accuracy: 0.7048 - val_loss: 0.4177 - val_accuracy: 0.9277\n",
            "Epoch 126/1000\n",
            " 1/43 [..............................] - ETA: 0s - loss: 0.7783 - accuracy: 0.7109\n",
            "Epoch 126: saving model to model/keypoint_classifier/keypoint_classifier.hdf5\n",
            "43/43 [==============================] - 0s 2ms/step - loss: 0.8340 - accuracy: 0.7048 - val_loss: 0.4113 - val_accuracy: 0.9288\n",
            "Epoch 127/1000\n",
            " 1/43 [..............................] - ETA: 0s - loss: 0.8756 - accuracy: 0.6719\n",
            "Epoch 127: saving model to model/keypoint_classifier/keypoint_classifier.hdf5\n",
            "43/43 [==============================] - 0s 2ms/step - loss: 0.8585 - accuracy: 0.6950 - val_loss: 0.4114 - val_accuracy: 0.9282\n",
            "Epoch 128/1000\n",
            " 1/43 [..............................] - ETA: 0s - loss: 0.8437 - accuracy: 0.7031\n",
            "Epoch 128: saving model to model/keypoint_classifier/keypoint_classifier.hdf5\n",
            "43/43 [==============================] - 0s 1ms/step - loss: 0.8493 - accuracy: 0.6935 - val_loss: 0.4068 - val_accuracy: 0.9288\n",
            "Epoch 129/1000\n",
            " 1/43 [..............................] - ETA: 0s - loss: 0.8169 - accuracy: 0.6641\n",
            "Epoch 129: saving model to model/keypoint_classifier/keypoint_classifier.hdf5\n",
            "43/43 [==============================] - 0s 1ms/step - loss: 0.8524 - accuracy: 0.6942 - val_loss: 0.4172 - val_accuracy: 0.9271\n",
            "Epoch 130/1000\n",
            " 1/43 [..............................] - ETA: 0s - loss: 0.8945 - accuracy: 0.6562\n",
            "Epoch 130: saving model to model/keypoint_classifier/keypoint_classifier.hdf5\n",
            "43/43 [==============================] - 0s 2ms/step - loss: 0.8371 - accuracy: 0.6946 - val_loss: 0.4140 - val_accuracy: 0.9271\n",
            "Epoch 131/1000\n",
            " 1/43 [..............................] - ETA: 0s - loss: 0.8799 - accuracy: 0.6406\n",
            "Epoch 131: saving model to model/keypoint_classifier/keypoint_classifier.hdf5\n",
            "43/43 [==============================] - 0s 2ms/step - loss: 0.8316 - accuracy: 0.6967 - val_loss: 0.4073 - val_accuracy: 0.9271\n",
            "Epoch 132/1000\n",
            " 1/43 [..............................] - ETA: 0s - loss: 0.8583 - accuracy: 0.6953\n",
            "Epoch 132: saving model to model/keypoint_classifier/keypoint_classifier.hdf5\n",
            "43/43 [==============================] - 0s 2ms/step - loss: 0.8282 - accuracy: 0.7091 - val_loss: 0.4251 - val_accuracy: 0.9254\n",
            "Epoch 133/1000\n",
            " 1/43 [..............................] - ETA: 0s - loss: 0.9055 - accuracy: 0.6875\n",
            "Epoch 133: saving model to model/keypoint_classifier/keypoint_classifier.hdf5\n",
            "43/43 [==============================] - 0s 2ms/step - loss: 0.8279 - accuracy: 0.7039 - val_loss: 0.4012 - val_accuracy: 0.9299\n",
            "Epoch 134/1000\n",
            " 1/43 [..............................] - ETA: 0s - loss: 0.8966 - accuracy: 0.6875\n",
            "Epoch 134: saving model to model/keypoint_classifier/keypoint_classifier.hdf5\n",
            "43/43 [==============================] - 0s 1ms/step - loss: 0.8536 - accuracy: 0.6892 - val_loss: 0.3996 - val_accuracy: 0.9271\n",
            "Epoch 135/1000\n",
            "39/43 [==========================>...] - ETA: 0s - loss: 0.8443 - accuracy: 0.6969\n",
            "Epoch 135: saving model to model/keypoint_classifier/keypoint_classifier.hdf5\n",
            "43/43 [==============================] - 0s 2ms/step - loss: 0.8434 - accuracy: 0.6978 - val_loss: 0.4227 - val_accuracy: 0.9277\n",
            "Epoch 136/1000\n",
            " 1/43 [..............................] - ETA: 0s - loss: 0.7894 - accuracy: 0.7031\n",
            "Epoch 136: saving model to model/keypoint_classifier/keypoint_classifier.hdf5\n",
            "43/43 [==============================] - 0s 2ms/step - loss: 0.8484 - accuracy: 0.6968 - val_loss: 0.4159 - val_accuracy: 0.9271\n",
            "Epoch 137/1000\n",
            " 1/43 [..............................] - ETA: 0s - loss: 0.8552 - accuracy: 0.6875\n",
            "Epoch 137: saving model to model/keypoint_classifier/keypoint_classifier.hdf5\n",
            "43/43 [==============================] - 0s 1ms/step - loss: 0.8443 - accuracy: 0.6961 - val_loss: 0.4047 - val_accuracy: 0.9288\n",
            "Epoch 138/1000\n",
            " 1/43 [..............................] - ETA: 0s - loss: 0.7839 - accuracy: 0.6953\n",
            "Epoch 138: saving model to model/keypoint_classifier/keypoint_classifier.hdf5\n",
            "43/43 [==============================] - 0s 2ms/step - loss: 0.8263 - accuracy: 0.7080 - val_loss: 0.4070 - val_accuracy: 0.9293\n",
            "Epoch 139/1000\n",
            " 1/43 [..............................] - ETA: 0s - loss: 0.9567 - accuracy: 0.6719\n",
            "Epoch 139: saving model to model/keypoint_classifier/keypoint_classifier.hdf5\n",
            "43/43 [==============================] - 0s 2ms/step - loss: 0.8381 - accuracy: 0.7013 - val_loss: 0.4078 - val_accuracy: 0.9321\n",
            "Epoch 140/1000\n",
            " 1/43 [..............................] - ETA: 0s - loss: 0.7667 - accuracy: 0.7031\n",
            "Epoch 140: saving model to model/keypoint_classifier/keypoint_classifier.hdf5\n",
            "43/43 [==============================] - 0s 2ms/step - loss: 0.8148 - accuracy: 0.7076 - val_loss: 0.4027 - val_accuracy: 0.9271\n",
            "Epoch 141/1000\n",
            " 1/43 [..............................] - ETA: 0s - loss: 0.7929 - accuracy: 0.7266\n",
            "Epoch 141: saving model to model/keypoint_classifier/keypoint_classifier.hdf5\n",
            "43/43 [==============================] - 0s 1ms/step - loss: 0.8316 - accuracy: 0.6978 - val_loss: 0.4101 - val_accuracy: 0.9238\n",
            "Epoch 142/1000\n",
            " 1/43 [..............................] - ETA: 0s - loss: 0.6444 - accuracy: 0.7500\n",
            "Epoch 142: saving model to model/keypoint_classifier/keypoint_classifier.hdf5\n",
            "43/43 [==============================] - 0s 1ms/step - loss: 0.8383 - accuracy: 0.7007 - val_loss: 0.4047 - val_accuracy: 0.9316\n",
            "Epoch 143/1000\n",
            " 1/43 [..............................] - ETA: 0s - loss: 0.7717 - accuracy: 0.7109\n",
            "Epoch 143: saving model to model/keypoint_classifier/keypoint_classifier.hdf5\n",
            "43/43 [==============================] - 0s 2ms/step - loss: 0.8186 - accuracy: 0.7037 - val_loss: 0.4074 - val_accuracy: 0.9332\n",
            "Epoch 144/1000\n",
            " 1/43 [..............................] - ETA: 0s - loss: 0.8345 - accuracy: 0.7188\n",
            "Epoch 144: saving model to model/keypoint_classifier/keypoint_classifier.hdf5\n",
            "43/43 [==============================] - 0s 2ms/step - loss: 0.8324 - accuracy: 0.6941 - val_loss: 0.4126 - val_accuracy: 0.9299\n",
            "Epoch 145/1000\n",
            " 1/43 [..............................] - ETA: 0s - loss: 0.7169 - accuracy: 0.7500\n",
            "Epoch 145: saving model to model/keypoint_classifier/keypoint_classifier.hdf5\n",
            "43/43 [==============================] - 0s 2ms/step - loss: 0.8305 - accuracy: 0.6998 - val_loss: 0.4029 - val_accuracy: 0.9293\n",
            "Epoch 146/1000\n",
            " 1/43 [..............................] - ETA: 0s - loss: 0.7893 - accuracy: 0.7344\n",
            "Epoch 146: saving model to model/keypoint_classifier/keypoint_classifier.hdf5\n",
            "43/43 [==============================] - 0s 1ms/step - loss: 0.8236 - accuracy: 0.7080 - val_loss: 0.4116 - val_accuracy: 0.9282\n",
            "Epoch 147/1000\n",
            " 1/43 [..............................] - ETA: 0s - loss: 0.8224 - accuracy: 0.6797\n",
            "Epoch 147: saving model to model/keypoint_classifier/keypoint_classifier.hdf5\n",
            "43/43 [==============================] - 0s 1ms/step - loss: 0.8240 - accuracy: 0.7052 - val_loss: 0.4038 - val_accuracy: 0.9260\n",
            "Epoch 148/1000\n",
            " 1/43 [..............................] - ETA: 0s - loss: 0.9001 - accuracy: 0.6484\n",
            "Epoch 148: saving model to model/keypoint_classifier/keypoint_classifier.hdf5\n",
            "43/43 [==============================] - 0s 2ms/step - loss: 0.8339 - accuracy: 0.7104 - val_loss: 0.4245 - val_accuracy: 0.9215\n",
            "Epoch 149/1000\n",
            " 1/43 [..............................] - ETA: 0s - loss: 0.9793 - accuracy: 0.6719\n",
            "Epoch 149: saving model to model/keypoint_classifier/keypoint_classifier.hdf5\n",
            "43/43 [==============================] - 0s 2ms/step - loss: 0.8149 - accuracy: 0.7063 - val_loss: 0.4001 - val_accuracy: 0.9288\n",
            "Epoch 150/1000\n",
            " 1/43 [..............................] - ETA: 0s - loss: 0.9083 - accuracy: 0.6875\n",
            "Epoch 150: saving model to model/keypoint_classifier/keypoint_classifier.hdf5\n",
            "43/43 [==============================] - 0s 2ms/step - loss: 0.8285 - accuracy: 0.7043 - val_loss: 0.4060 - val_accuracy: 0.9293\n",
            "Epoch 151/1000\n",
            " 1/43 [..............................] - ETA: 0s - loss: 0.8398 - accuracy: 0.6797\n",
            "Epoch 151: saving model to model/keypoint_classifier/keypoint_classifier.hdf5\n",
            "43/43 [==============================] - 0s 1ms/step - loss: 0.8299 - accuracy: 0.7004 - val_loss: 0.4156 - val_accuracy: 0.9271\n",
            "Epoch 152/1000\n",
            " 1/43 [..............................] - ETA: 0s - loss: 0.8550 - accuracy: 0.6562\n",
            "Epoch 152: saving model to model/keypoint_classifier/keypoint_classifier.hdf5\n",
            "43/43 [==============================] - 0s 2ms/step - loss: 0.8065 - accuracy: 0.7030 - val_loss: 0.4006 - val_accuracy: 0.9288\n",
            "Epoch 153/1000\n",
            " 1/43 [..............................] - ETA: 0s - loss: 0.8033 - accuracy: 0.7188\n",
            "Epoch 153: saving model to model/keypoint_classifier/keypoint_classifier.hdf5\n",
            "43/43 [==============================] - 0s 2ms/step - loss: 0.8290 - accuracy: 0.6942 - val_loss: 0.4011 - val_accuracy: 0.9299\n",
            "Epoch 154/1000\n",
            " 1/43 [..............................] - ETA: 0s - loss: 0.9682 - accuracy: 0.6172\n",
            "Epoch 154: saving model to model/keypoint_classifier/keypoint_classifier.hdf5\n",
            "43/43 [==============================] - 0s 2ms/step - loss: 0.8420 - accuracy: 0.6991 - val_loss: 0.4089 - val_accuracy: 0.9254\n",
            "Epoch 154: early stopping\n"
          ]
        },
        {
          "data": {
            "text/plain": [
              "<keras.callbacks.History at 0x7f0f50752590>"
            ]
          },
          "execution_count": 55,
          "metadata": {},
          "output_type": "execute_result"
        }
      ],
      "source": [
        "model.fit(\n",
        "    X_train,\n",
        "    y_train,\n",
        "    epochs=1000,\n",
        "    batch_size=128,\n",
        "    validation_data=(X_test, y_test),\n",
        "    callbacks=[cp_callback, es_callback]\n",
        ")"
      ]
    },
    {
      "cell_type": "code",
      "execution_count": 56,
      "metadata": {
        "colab": {
          "base_uri": "https://localhost:8080/"
        },
        "id": "pxvb2Y299hE3",
        "outputId": "59eb3185-2e37-4b9e-bc9d-ab1b8ac29b7f"
      },
      "outputs": [
        {
          "name": "stdout",
          "output_type": "stream",
          "text": [
            "15/15 [==============================] - 0s 670us/step - loss: 0.4089 - accuracy: 0.9254\n"
          ]
        }
      ],
      "source": [
        "# Model evaluation\n",
        "val_loss, val_acc = model.evaluate(X_test, y_test, batch_size=128)"
      ]
    },
    {
      "cell_type": "code",
      "execution_count": 57,
      "metadata": {
        "id": "RBkmDeUW9hE4"
      },
      "outputs": [],
      "source": [
        "# Loading the saved model\n",
        "model = tf.keras.models.load_model(model_save_path)"
      ]
    },
    {
      "cell_type": "code",
      "execution_count": 58,
      "metadata": {
        "colab": {
          "base_uri": "https://localhost:8080/"
        },
        "id": "tFz9Tb0I9hE4",
        "outputId": "1c3b3528-54ae-4ee2-ab04-77429211cbef"
      },
      "outputs": [
        {
          "name": "stdout",
          "output_type": "stream",
          "text": [
            "1/1 [==============================] - 0s 32ms/step\n",
            "[5.8293067e-02 1.2006941e-02 9.2725581e-01 1.5073706e-05 2.1824182e-03\n",
            " 6.9368707e-06 5.5688395e-07 2.3921550e-04]\n",
            "2\n"
          ]
        }
      ],
      "source": [
        "# Inference test\n",
        "predict_result = model.predict(np.array([X_test[0]]))\n",
        "print(np.squeeze(predict_result))\n",
        "print(np.argmax(np.squeeze(predict_result)))"
      ]
    },
    {
      "cell_type": "markdown",
      "metadata": {
        "id": "S3U4yNWx9hE4"
      },
      "source": [
        "# Confusion matrix"
      ]
    },
    {
      "cell_type": "code",
      "execution_count": 59,
      "metadata": {
        "colab": {
          "base_uri": "https://localhost:8080/",
          "height": 582
        },
        "id": "AP1V6SCk9hE5",
        "outputId": "08e41a80-7a4a-4619-8125-ecc371368d19"
      },
      "outputs": [
        {
          "name": "stdout",
          "output_type": "stream",
          "text": [
            "57/57 [==============================] - 0s 482us/step\n"
          ]
        },
        {
          "data": {
            "image/png": "[encoded data removed]",
            "text/plain": [
              "<Figure size 700x600 with 2 Axes>"
            ]
          },
          "metadata": {},
          "output_type": "display_data"
        },
        {
          "name": "stdout",
          "output_type": "stream",
          "text": [
            "Classification Report\n",
            "              precision    recall  f1-score   support\n",
            "\n",
            "           0       0.96      0.95      0.96       441\n",
            "           1       0.95      0.88      0.92       434\n",
            "           2       0.89      0.94      0.91       327\n",
            "           3       0.93      0.94      0.94       193\n",
            "           4       0.97      0.82      0.89       135\n",
            "           5       0.87      0.95      0.91        77\n",
            "           6       0.77      0.99      0.87       112\n",
            "           7       0.99      0.99      0.99        78\n",
            "\n",
            "    accuracy                           0.93      1797\n",
            "   macro avg       0.92      0.93      0.92      1797\n",
            "weighted avg       0.93      0.93      0.93      1797\n",
            "\n"
          ]
        }
      ],
      "source": [
        "import pandas as pd\n",
        "import seaborn as sns\n",
        "import matplotlib.pyplot as plt\n",
        "from sklearn.metrics import confusion_matrix, classification_report\n",
        "\n",
        "def print_confusion_matrix(y_true, y_pred, report=True):\n",
        "    labels = sorted(list(set(y_true)))\n",
        "    cmx_data = confusion_matrix(y_true, y_pred, labels=labels)\n",
        "    \n",
        "    df_cmx = pd.DataFrame(cmx_data, index=labels, columns=labels)\n",
        " \n",
        "    fig, ax = plt.subplots(figsize=(7, 6))\n",
        "    sns.heatmap(df_cmx, annot=True, fmt='g' ,square=False)\n",
        "    ax.set_ylim(len(set(y_true)), 0)\n",
        "    plt.show()\n",
        "    \n",
        "    if report:\n",
        "        print('Classification Report')\n",
        "        print(classification_report(y_test, y_pred))\n",
        "\n",
        "Y_pred = model.predict(X_test)\n",
        "y_pred = np.argmax(Y_pred, axis=1)\n",
        "\n",
        "print_confusion_matrix(y_test, y_pred)"
      ]
    },
    {
      "cell_type": "markdown",
      "metadata": {
        "id": "FNP6aqzc9hE5"
      },
      "source": [
        "# Convert to model for Tensorflow-Lite"
      ]
    },
    {
      "cell_type": "code",
      "execution_count": 60,
      "metadata": {
        "id": "ODjnYyld9hE6"
      },
      "outputs": [],
      "source": [
        "# Save as a model dedicated to inference\n",
        "model.save(model_save_path, include_optimizer=False)"
      ]
    },
    {
      "cell_type": "code",
      "execution_count": 61,
      "metadata": {
        "colab": {
          "base_uri": "https://localhost:8080/"
        },
        "id": "zRfuK8Y59hE6",
        "outputId": "a4ca585c-b5d5-4244-8291-8674063209bb"
      },
      "outputs": [
        {
          "name": "stderr",
          "output_type": "stream",
          "text": [
            "WARNING:absl:Found untraced functions such as _update_step_xla while saving (showing 1 of 1). These functions will not be directly callable after loading.\n"
          ]
        },
        {
          "name": "stdout",
          "output_type": "stream",
          "text": [
            "INFO:tensorflow:Assets written to: /tmp/tmps_i0co90/assets\n"
          ]
        },
        {
          "name": "stderr",
          "output_type": "stream",
          "text": [
            "INFO:tensorflow:Assets written to: /tmp/tmps_i0co90/assets\n",
            "2023-01-23 13:13:06.586859: W tensorflow/compiler/mlir/lite/python/tf_tfl_flatbuffer_helpers.cc:362] Ignored output_format.\n",
            "2023-01-23 13:13:06.586882: W tensorflow/compiler/mlir/lite/python/tf_tfl_flatbuffer_helpers.cc:365] Ignored drop_control_dependency.\n",
            "2023-01-23 13:13:06.586998: I tensorflow/cc/saved_model/reader.cc:45] Reading SavedModel from: /tmp/tmps_i0co90\n",
            "2023-01-23 13:13:06.587925: I tensorflow/cc/saved_model/reader.cc:89] Reading meta graph with tags { serve }\n",
            "2023-01-23 13:13:06.587942: I tensorflow/cc/saved_model/reader.cc:130] Reading SavedModel debug info (if present) from: /tmp/tmps_i0co90\n",
            "2023-01-23 13:13:06.590756: I tensorflow/cc/saved_model/loader.cc:229] Restoring SavedModel bundle.\n",
            "2023-01-23 13:13:06.617228: I tensorflow/cc/saved_model/loader.cc:213] Running initialization op on SavedModel bundle at path: /tmp/tmps_i0co90\n",
            "2023-01-23 13:13:06.624180: I tensorflow/cc/saved_model/loader.cc:305] SavedModel load for tags { serve }; Status: success: OK. Took 37180 microseconds.\n"
          ]
        },
        {
          "data": {
            "text/plain": [
              "6748"
            ]
          },
          "execution_count": 61,
          "metadata": {},
          "output_type": "execute_result"
        }
      ],
      "source": [
        "# Transform model (quantization)\n",
        "\n",
        "converter = tf.lite.TFLiteConverter.from_keras_model(model)\n",
        "converter.optimizations = [tf.lite.Optimize.DEFAULT]\n",
        "tflite_quantized_model = converter.convert()\n",
        "\n",
        "open(tflite_save_path, 'wb').write(tflite_quantized_model)"
      ]
    },
    {
      "cell_type": "markdown",
      "metadata": {
        "id": "CHBPBXdx9hE6"
      },
      "source": [
        "# Inference test"
      ]
    },
    {
      "cell_type": "code",
      "execution_count": 62,
      "metadata": {
        "id": "mGAzLocO9hE7"
      },
      "outputs": [],
      "source": [
        "interpreter = tf.lite.Interpreter(model_path=tflite_save_path)\n",
        "interpreter.allocate_tensors()"
      ]
    },
    {
      "cell_type": "code",
      "execution_count": 63,
      "metadata": {
        "id": "oQuDK8YS9hE7"
      },
      "outputs": [],
      "source": [
        "# Get I / O tensor\n",
        "input_details = interpreter.get_input_details()\n",
        "output_details = interpreter.get_output_details()"
      ]
    },
    {
      "cell_type": "code",
      "execution_count": 64,
      "metadata": {
        "id": "2_ixAf_l9hE7"
      },
      "outputs": [],
      "source": [
        "interpreter.set_tensor(input_details[0]['index'], np.array([X_test[0]]))"
      ]
    },
    {
      "cell_type": "code",
      "execution_count": 65,
      "metadata": {
        "colab": {
          "base_uri": "https://localhost:8080/"
        },
        "id": "s4FoAnuc9hE7",
        "outputId": "91f18257-8d8b-4ef3-c558-e9b5f94fabbf",
        "scrolled": true
      },
      "outputs": [
        {
          "name": "stdout",
          "output_type": "stream",
          "text": [
            "CPU times: user 32 µs, sys: 2 µs, total: 34 µs\n",
            "Wall time: 35.5 µs\n"
          ]
        }
      ],
      "source": [
        "%%time\n",
        "# Inference implementation\n",
        "interpreter.invoke()\n",
        "tflite_results = interpreter.get_tensor(output_details[0]['index'])"
      ]
    },
    {
      "cell_type": "code",
      "execution_count": 66,
      "metadata": {
        "colab": {
          "base_uri": "https://localhost:8080/"
        },
        "id": "vONjp19J9hE8",
        "outputId": "77205e24-fd00-42c4-f7b6-e06e527c2cba"
      },
      "outputs": [
        {
          "name": "stdout",
          "output_type": "stream",
          "text": [
            "[5.8293052e-02 1.2006929e-02 9.2725581e-01 1.5073677e-05 2.1824162e-03\n",
            " 6.9368507e-06 5.5688292e-07 2.3921525e-04]\n",
            "2\n"
          ]
        }
      ],
      "source": [
        "print(np.squeeze(tflite_results))\n",
        "print(np.argmax(np.squeeze(tflite_results)))"
      ]
    }
  ],
  "metadata": {
    "accelerator": "GPU",
    "colab": {
      "collapsed_sections": [],
      "name": "keypoint_classification_EN.ipynb",
      "provenance": [],
      "toc_visible": true
    },
    "kernelspec": {
      "display_name": "Python 3",
      "language": "python",
      "name": "python3"
    },
    "language_info": {
      "codemirror_mode": {
        "name": "ipython",
        "version": 3
      },
      "file_extension": ".py",
      "mimetype": "text/x-python",
      "name": "python",
      "nbconvert_exporter": "python",
      "pygments_lexer": "ipython3",
      "version": "3.10.6"
    },
    "vscode": {
      "interpreter": {
        "hash": "916dbcbb3f70747c44a77c7bcd40155683ae19c65e1c03b4aa3499c5328201f1"
      }
    }
  },
  "nbformat": 4,
  "nbformat_minor": 0
}
